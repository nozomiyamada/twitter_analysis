{
 "cells": [
  {
   "cell_type": "markdown",
   "metadata": {},
   "source": [
    "# import"
   ]
  },
  {
   "cell_type": "code",
   "execution_count": 1,
   "metadata": {},
   "outputs": [],
   "source": [
    "import pandas as pd\n",
    "import json\n",
    "from tqdm import tqdm\n",
    "from glob import glob\n",
    "\n",
    "import matplotlib.font_manager as fm\n",
    "import matplotlib.pyplot as plt\n",
    "plt.style.use('ggplot')\n",
    "font_path = '/Users/Nozomi/Library/Fonts/THSarabunNew.ttf'\n",
    "fp = fm.FontProperties(fname=font_path)"
   ]
  },
  {
   "cell_type": "code",
   "execution_count": 2,
   "metadata": {},
   "outputs": [
    {
     "output_type": "stream",
     "name": "stdout",
     "text": [
      "0 tweets/#กูสั่งให้มึงอยู่ใต้รัฐธรรมนูญ.json\n1 tweets/#16ตุลาไปแยกปทุมวัน.json\n2 tweets/#saveวันเฉลิม.json\n3 tweets/#ธรรมศาสตร์และการชุมนุม.json\n4 tweets/#เกียมอุดมไม่ก้มหัวให้เผด็จการ.json\n5 tweets/#25พฤศจิกาไปSCB.json\n6 tweets/#ม็อบ25พฤศจิกาทวงคืนสมบัติชาติ.json\n7 tweets/#ม็อบ2ธันวา.json\n"
     ]
    }
   ],
   "source": [
    "jsons = glob('tweets/*.json')\n",
    "for i, f in enumerate(jsons):\n",
    "    print(i,f)"
   ]
  },
  {
   "cell_type": "markdown",
   "metadata": {},
   "source": [
    "# open file"
   ]
  },
  {
   "cell_type": "code",
   "execution_count": 4,
   "metadata": {},
   "outputs": [],
   "source": [
    "df0 = pd.read_json(jsons[0], lines=True)\n",
    "df1 = pd.read_json(jsons[1], lines=True)\n",
    "df2 = pd.read_json(jsons[2], lines=True)\n",
    "df3 = pd.read_json(jsons[3], lines=True)\n",
    "df4 = pd.read_json(jsons[4], lines=True)\n",
    "df5 = pd.read_json(jsons[5], lines=True)\n",
    "df6 = pd.read_json(jsons[6], lines=True)\n",
    "\n",
    "dfs = [df0,df1,df2,df3,df4,df5,df6]"
   ]
  },
  {
   "cell_type": "code",
   "execution_count": 10,
   "metadata": {},
   "outputs": [
    {
     "data": {
      "text/plain": [
       "id                                               1381195923112353800\n",
       "conversation_id                                  1381195923112353792\n",
       "created_at                                 2021-04-11 17:42:24+07:00\n",
       "date                                             2021-04-11 00:00:00\n",
       "time                                                        17:42:24\n",
       "timezone                                                         700\n",
       "user_id                                                    220213059\n",
       "username                                                   lerdnarit\n",
       "name                                                          x-face\n",
       "place                                                               \n",
       "tweet              รดด้วยเยี่ยวสิ #โควิด19 #โควิด19วันนี้ #Thaila...\n",
       "language                                                          th\n",
       "mentions                                                          []\n",
       "urls                                                              []\n",
       "photos                                                            []\n",
       "replies_count                                                      0\n",
       "retweets_count                                                     0\n",
       "likes_count                                                        0\n",
       "hashtags           [โควิด19, โควิด19วันนี้, thailand, กูสั่งให้มึ...\n",
       "cashtags                                                          []\n",
       "link               https://twitter.com/lerdnarit/status/138119592...\n",
       "retweet                                                        False\n",
       "quote_url          https://twitter.com/BenjamasAor/status/1381065...\n",
       "video                                                              0\n",
       "thumbnail                                                           \n",
       "near                                                                \n",
       "geo                                                                 \n",
       "source                                                              \n",
       "user_rt_id                                                          \n",
       "user_rt                                                             \n",
       "retweet_id                                                          \n",
       "reply_to                                                          []\n",
       "retweet_date                                                        \n",
       "translate                                                           \n",
       "trans_src                                                           \n",
       "trans_dest                                                          \n",
       "Name: 3, dtype: object"
      ]
     },
     "execution_count": 10,
     "metadata": {},
     "output_type": "execute_result"
    }
   ],
   "source": [
    "df0.iloc[3]"
   ]
  },
  {
   "cell_type": "markdown",
   "metadata": {},
   "source": [
    "# time series plot"
   ]
  },
  {
   "cell_type": "code",
   "execution_count": 3,
   "metadata": {},
   "outputs": [
    {
     "output_type": "error",
     "ename": "NameError",
     "evalue": "name 'dfs' is not defined",
     "traceback": [
      "\u001b[0;31m---------------------------------------------------------------------------\u001b[0m",
      "\u001b[0;31mNameError\u001b[0m                                 Traceback (most recent call last)",
      "\u001b[0;32m<ipython-input-3-8b4362401c8a>\u001b[0m in \u001b[0;36m<module>\u001b[0;34m\u001b[0m\n\u001b[0;32m----> 1\u001b[0;31m \u001b[0;32mfor\u001b[0m \u001b[0m_\u001b[0m\u001b[0;34m,\u001b[0m \u001b[0mdf\u001b[0m \u001b[0;32min\u001b[0m \u001b[0menumerate\u001b[0m\u001b[0;34m(\u001b[0m\u001b[0mdfs\u001b[0m\u001b[0;34m)\u001b[0m\u001b[0;34m:\u001b[0m\u001b[0;34m\u001b[0m\u001b[0;34m\u001b[0m\u001b[0m\n\u001b[0m\u001b[1;32m      2\u001b[0m     \u001b[0mhashtag\u001b[0m \u001b[0;34m=\u001b[0m \u001b[0mjsons\u001b[0m\u001b[0;34m[\u001b[0m\u001b[0mi\u001b[0m\u001b[0;34m]\u001b[0m\u001b[0;34m.\u001b[0m\u001b[0msplit\u001b[0m\u001b[0;34m(\u001b[0m\u001b[0;34m'/'\u001b[0m\u001b[0;34m)\u001b[0m\u001b[0;34m[\u001b[0m\u001b[0;36m1\u001b[0m\u001b[0;34m]\u001b[0m\u001b[0;34m.\u001b[0m\u001b[0mreplace\u001b[0m\u001b[0;34m(\u001b[0m\u001b[0;34m'.json'\u001b[0m\u001b[0;34m,\u001b[0m\u001b[0;34m''\u001b[0m\u001b[0;34m)\u001b[0m\u001b[0;34m\u001b[0m\u001b[0;34m\u001b[0m\u001b[0m\n\u001b[1;32m      3\u001b[0m     \u001b[0mprint\u001b[0m\u001b[0;34m(\u001b[0m\u001b[0mhashtag\u001b[0m\u001b[0;34m)\u001b[0m\u001b[0;34m\u001b[0m\u001b[0;34m\u001b[0m\u001b[0m\n\u001b[1;32m      4\u001b[0m     \u001b[0mdf\u001b[0m\u001b[0;34m.\u001b[0m\u001b[0mgroupby\u001b[0m\u001b[0;34m(\u001b[0m\u001b[0mdf\u001b[0m\u001b[0;34m[\u001b[0m\u001b[0;34m\"date\"\u001b[0m\u001b[0;34m]\u001b[0m\u001b[0;34m)\u001b[0m\u001b[0;34m.\u001b[0m\u001b[0mcount\u001b[0m\u001b[0;34m(\u001b[0m\u001b[0;34m)\u001b[0m\u001b[0;34m[\u001b[0m\u001b[0;34m'id'\u001b[0m\u001b[0;34m]\u001b[0m\u001b[0;34m.\u001b[0m\u001b[0mplot\u001b[0m\u001b[0;34m(\u001b[0m\u001b[0;34m)\u001b[0m\u001b[0;34m\u001b[0m\u001b[0;34m\u001b[0m\u001b[0m\n\u001b[1;32m      5\u001b[0m     \u001b[0mplt\u001b[0m\u001b[0;34m.\u001b[0m\u001b[0mtitle\u001b[0m\u001b[0;34m(\u001b[0m\u001b[0mhashtag\u001b[0m\u001b[0;34m,\u001b[0m \u001b[0mfontproperties\u001b[0m\u001b[0;34m=\u001b[0m\u001b[0mfp\u001b[0m\u001b[0;34m)\u001b[0m\u001b[0;34m\u001b[0m\u001b[0;34m\u001b[0m\u001b[0m\n",
      "\u001b[0;31mNameError\u001b[0m: name 'dfs' is not defined"
     ]
    }
   ],
   "source": [
    "for i, df in enumerate(dfs):\n",
    "    hashtag = jsons[i].split('/')[1].replace('.json','')\n",
    "    print(hashtag)\n",
    "    df.groupby(df[\"date\"]).count()['id'].plot()\n",
    "    plt.title(hashtag, fontproperties=fp)\n",
    "    plt.show()"
   ]
  },
  {
   "cell_type": "code",
   "execution_count": 8,
   "metadata": {},
   "outputs": [
    {
     "output_type": "stream",
     "name": "stdout",
     "text": [
      "#กูสั่งให้มึงอยู่ใต้รัฐธรรมนูญ\n"
     ]
    },
    {
     "output_type": "display_data",
     "data": {
      "text/plain": "<Figure size 432x288 with 1 Axes>",
      "image/svg+xml": "<?xml version=\"1.0\" encoding=\"utf-8\" standalone=\"no\"?>\n<!DOCTYPE svg PUBLIC \"-//W3C//DTD SVG 1.1//EN\"\n  \"http://www.w3.org/Graphics/SVG/1.1/DTD/svg11.dtd\">\n<!-- Created with matplotlib (https://matplotlib.org/) -->\n<svg height=\"300.886875pt\" version=\"1.1\" viewBox=\"0 0 394.375 300.886875\" width=\"394.375pt\" xmlns=\"http://www.w3.org/2000/svg\" xmlns:xlink=\"http://www.w3.org/1999/xlink\">\n <defs>\n  <style type=\"text/css\">\n*{stroke-linecap:butt;stroke-linejoin:round;}\n  </style>\n </defs>\n <g id=\"figure_1\">\n  <g id=\"patch_1\">\n   <path d=\"M 0 300.886875 \nL 394.375 300.886875 \nL 394.375 0 \nL 0 0 \nz\n\" style=\"fill:#ffffff;\"/>\n  </g>\n  <g id=\"axes_1\">\n   <g id=\"patch_2\">\n    <path d=\"M 46.0125 238.999375 \nL 380.8125 238.999375 \nL 380.8125 21.559375 \nL 46.0125 21.559375 \nz\n\" style=\"fill:#e5e5e5;\"/>\n   </g>\n   <g id=\"matplotlib.axis_1\">\n    <g id=\"xtick_1\">\n     <g id=\"line2d_1\">\n      <path clip-path=\"url(#pd15ecfd1d3)\" d=\"M 46.0125 238.999375 \nL 46.0125 21.559375 \n\" style=\"fill:none;stroke:#ffffff;stroke-linecap:square;stroke-width:0.8;\"/>\n     </g>\n     <g id=\"line2d_2\">\n      <defs>\n       <path d=\"M 0 0 \nL 0 3.5 \n\" id=\"mf7b03ccc24\" style=\"stroke:#555555;stroke-width:0.8;\"/>\n      </defs>\n      <g>\n       <use style=\"fill:#555555;stroke:#555555;stroke-width:0.8;\" x=\"46.0125\" xlink:href=\"#mf7b03ccc24\" y=\"238.999375\"/>\n      </g>\n     </g>\n     <g id=\"text_1\">\n      <!-- 17 -->\n      <defs>\n       <path d=\"M 12.40625 8.296875 \nL 28.515625 8.296875 \nL 28.515625 63.921875 \nL 10.984375 60.40625 \nL 10.984375 69.390625 \nL 28.421875 72.90625 \nL 38.28125 72.90625 \nL 38.28125 8.296875 \nL 54.390625 8.296875 \nL 54.390625 0 \nL 12.40625 0 \nz\n\" id=\"DejaVuSans-49\"/>\n       <path d=\"M 8.203125 72.90625 \nL 55.078125 72.90625 \nL 55.078125 68.703125 \nL 28.609375 0 \nL 18.3125 0 \nL 43.21875 64.59375 \nL 8.203125 64.59375 \nz\n\" id=\"DejaVuSans-55\"/>\n      </defs>\n      <g style=\"fill:#555555;\" transform=\"translate(39.65 253.597812)scale(0.1 -0.1)\">\n       <use xlink:href=\"#DejaVuSans-49\"/>\n       <use x=\"63.623047\" xlink:href=\"#DejaVuSans-55\"/>\n      </g>\n      <!-- Nov -->\n      <defs>\n       <path d=\"M 9.8125 72.90625 \nL 23.09375 72.90625 \nL 55.421875 11.921875 \nL 55.421875 72.90625 \nL 64.984375 72.90625 \nL 64.984375 0 \nL 51.703125 0 \nL 19.390625 60.984375 \nL 19.390625 0 \nL 9.8125 0 \nz\n\" id=\"DejaVuSans-78\"/>\n       <path d=\"M 30.609375 48.390625 \nQ 23.390625 48.390625 19.1875 42.75 \nQ 14.984375 37.109375 14.984375 27.296875 \nQ 14.984375 17.484375 19.15625 11.84375 \nQ 23.34375 6.203125 30.609375 6.203125 \nQ 37.796875 6.203125 41.984375 11.859375 \nQ 46.1875 17.53125 46.1875 27.296875 \nQ 46.1875 37.015625 41.984375 42.703125 \nQ 37.796875 48.390625 30.609375 48.390625 \nz\nM 30.609375 56 \nQ 42.328125 56 49.015625 48.375 \nQ 55.71875 40.765625 55.71875 27.296875 \nQ 55.71875 13.875 49.015625 6.21875 \nQ 42.328125 -1.421875 30.609375 -1.421875 \nQ 18.84375 -1.421875 12.171875 6.21875 \nQ 5.515625 13.875 5.515625 27.296875 \nQ 5.515625 40.765625 12.171875 48.375 \nQ 18.84375 56 30.609375 56 \nz\n\" id=\"DejaVuSans-111\"/>\n       <path d=\"M 2.984375 54.6875 \nL 12.5 54.6875 \nL 29.59375 8.796875 \nL 46.6875 54.6875 \nL 56.203125 54.6875 \nL 35.6875 0 \nL 23.484375 0 \nz\n\" id=\"DejaVuSans-118\"/>\n      </defs>\n      <g style=\"fill:#555555;\" transform=\"translate(36.253125 264.795625)scale(0.1 -0.1)\">\n       <use xlink:href=\"#DejaVuSans-78\"/>\n       <use x=\"74.804688\" xlink:href=\"#DejaVuSans-111\"/>\n       <use x=\"135.986328\" xlink:href=\"#DejaVuSans-118\"/>\n      </g>\n      <!-- 2020 -->\n      <defs>\n       <path d=\"M 19.1875 8.296875 \nL 53.609375 8.296875 \nL 53.609375 0 \nL 7.328125 0 \nL 7.328125 8.296875 \nQ 12.9375 14.109375 22.625 23.890625 \nQ 32.328125 33.6875 34.8125 36.53125 \nQ 39.546875 41.84375 41.421875 45.53125 \nQ 43.3125 49.21875 43.3125 52.78125 \nQ 43.3125 58.59375 39.234375 62.25 \nQ 35.15625 65.921875 28.609375 65.921875 \nQ 23.96875 65.921875 18.8125 64.3125 \nQ 13.671875 62.703125 7.8125 59.421875 \nL 7.8125 69.390625 \nQ 13.765625 71.78125 18.9375 73 \nQ 24.125 74.21875 28.421875 74.21875 \nQ 39.75 74.21875 46.484375 68.546875 \nQ 53.21875 62.890625 53.21875 53.421875 \nQ 53.21875 48.921875 51.53125 44.890625 \nQ 49.859375 40.875 45.40625 35.40625 \nQ 44.1875 33.984375 37.640625 27.21875 \nQ 31.109375 20.453125 19.1875 8.296875 \nz\n\" id=\"DejaVuSans-50\"/>\n       <path d=\"M 31.78125 66.40625 \nQ 24.171875 66.40625 20.328125 58.90625 \nQ 16.5 51.421875 16.5 36.375 \nQ 16.5 21.390625 20.328125 13.890625 \nQ 24.171875 6.390625 31.78125 6.390625 \nQ 39.453125 6.390625 43.28125 13.890625 \nQ 47.125 21.390625 47.125 36.375 \nQ 47.125 51.421875 43.28125 58.90625 \nQ 39.453125 66.40625 31.78125 66.40625 \nz\nM 31.78125 74.21875 \nQ 44.046875 74.21875 50.515625 64.515625 \nQ 56.984375 54.828125 56.984375 36.375 \nQ 56.984375 17.96875 50.515625 8.265625 \nQ 44.046875 -1.421875 31.78125 -1.421875 \nQ 19.53125 -1.421875 13.0625 8.265625 \nQ 6.59375 17.96875 6.59375 36.375 \nQ 6.59375 54.828125 13.0625 64.515625 \nQ 19.53125 74.21875 31.78125 74.21875 \nz\n\" id=\"DejaVuSans-48\"/>\n      </defs>\n      <g style=\"fill:#555555;\" transform=\"translate(33.2875 275.993437)scale(0.1 -0.1)\">\n       <use xlink:href=\"#DejaVuSans-50\"/>\n       <use x=\"63.623047\" xlink:href=\"#DejaVuSans-48\"/>\n       <use x=\"127.246094\" xlink:href=\"#DejaVuSans-50\"/>\n       <use x=\"190.869141\" xlink:href=\"#DejaVuSans-48\"/>\n      </g>\n     </g>\n    </g>\n    <g id=\"xtick_2\">\n     <g id=\"line2d_3\">\n      <path clip-path=\"url(#pd15ecfd1d3)\" d=\"M 380.8125 238.999375 \nL 380.8125 21.559375 \n\" style=\"fill:none;stroke:#ffffff;stroke-linecap:square;stroke-width:0.8;\"/>\n     </g>\n     <g id=\"line2d_4\">\n      <g>\n       <use style=\"fill:#555555;stroke:#555555;stroke-width:0.8;\" x=\"380.8125\" xlink:href=\"#mf7b03ccc24\" y=\"238.999375\"/>\n      </g>\n     </g>\n     <g id=\"text_2\">\n      <!-- 24 -->\n      <defs>\n       <path d=\"M 37.796875 64.3125 \nL 12.890625 25.390625 \nL 37.796875 25.390625 \nz\nM 35.203125 72.90625 \nL 47.609375 72.90625 \nL 47.609375 25.390625 \nL 58.015625 25.390625 \nL 58.015625 17.1875 \nL 47.609375 17.1875 \nL 47.609375 0 \nL 37.796875 0 \nL 37.796875 17.1875 \nL 4.890625 17.1875 \nL 4.890625 26.703125 \nz\n\" id=\"DejaVuSans-52\"/>\n      </defs>\n      <g style=\"fill:#555555;\" transform=\"translate(374.45 253.597812)scale(0.1 -0.1)\">\n       <use xlink:href=\"#DejaVuSans-50\"/>\n       <use x=\"63.623047\" xlink:href=\"#DejaVuSans-52\"/>\n      </g>\n     </g>\n    </g>\n    <g id=\"xtick_3\">\n     <g id=\"line2d_5\">\n      <defs>\n       <path d=\"M 0 0 \nL 0 2 \n\" id=\"mee2c7673b4\" style=\"stroke:#555555;stroke-width:0.6;\"/>\n      </defs>\n      <g>\n       <use style=\"fill:#555555;stroke:#555555;stroke-width:0.6;\" x=\"93.841071\" xlink:href=\"#mee2c7673b4\" y=\"238.999375\"/>\n      </g>\n     </g>\n     <g id=\"text_3\">\n      <!-- 18 -->\n      <defs>\n       <path d=\"M 31.78125 34.625 \nQ 24.75 34.625 20.71875 30.859375 \nQ 16.703125 27.09375 16.703125 20.515625 \nQ 16.703125 13.921875 20.71875 10.15625 \nQ 24.75 6.390625 31.78125 6.390625 \nQ 38.8125 6.390625 42.859375 10.171875 \nQ 46.921875 13.96875 46.921875 20.515625 \nQ 46.921875 27.09375 42.890625 30.859375 \nQ 38.875 34.625 31.78125 34.625 \nz\nM 21.921875 38.8125 \nQ 15.578125 40.375 12.03125 44.71875 \nQ 8.5 49.078125 8.5 55.328125 \nQ 8.5 64.0625 14.71875 69.140625 \nQ 20.953125 74.21875 31.78125 74.21875 \nQ 42.671875 74.21875 48.875 69.140625 \nQ 55.078125 64.0625 55.078125 55.328125 \nQ 55.078125 49.078125 51.53125 44.71875 \nQ 48 40.375 41.703125 38.8125 \nQ 48.828125 37.15625 52.796875 32.3125 \nQ 56.78125 27.484375 56.78125 20.515625 \nQ 56.78125 9.90625 50.3125 4.234375 \nQ 43.84375 -1.421875 31.78125 -1.421875 \nQ 19.734375 -1.421875 13.25 4.234375 \nQ 6.78125 9.90625 6.78125 20.515625 \nQ 6.78125 27.484375 10.78125 32.3125 \nQ 14.796875 37.15625 21.921875 38.8125 \nz\nM 18.3125 54.390625 \nQ 18.3125 48.734375 21.84375 45.5625 \nQ 25.390625 42.390625 31.78125 42.390625 \nQ 38.140625 42.390625 41.71875 45.5625 \nQ 45.3125 48.734375 45.3125 54.390625 \nQ 45.3125 60.0625 41.71875 63.234375 \nQ 38.140625 66.40625 31.78125 66.40625 \nQ 25.390625 66.40625 21.84375 63.234375 \nQ 18.3125 60.0625 18.3125 54.390625 \nz\n\" id=\"DejaVuSans-56\"/>\n      </defs>\n      <g style=\"fill:#555555;\" transform=\"translate(87.478571 251.997812)scale(0.1 -0.1)\">\n       <use xlink:href=\"#DejaVuSans-49\"/>\n       <use x=\"63.623047\" xlink:href=\"#DejaVuSans-56\"/>\n      </g>\n     </g>\n    </g>\n    <g id=\"xtick_4\">\n     <g id=\"line2d_6\">\n      <g>\n       <use style=\"fill:#555555;stroke:#555555;stroke-width:0.6;\" x=\"141.669643\" xlink:href=\"#mee2c7673b4\" y=\"238.999375\"/>\n      </g>\n     </g>\n     <g id=\"text_4\">\n      <!-- 19 -->\n      <defs>\n       <path d=\"M 10.984375 1.515625 \nL 10.984375 10.5 \nQ 14.703125 8.734375 18.5 7.8125 \nQ 22.3125 6.890625 25.984375 6.890625 \nQ 35.75 6.890625 40.890625 13.453125 \nQ 46.046875 20.015625 46.78125 33.40625 \nQ 43.953125 29.203125 39.59375 26.953125 \nQ 35.25 24.703125 29.984375 24.703125 \nQ 19.046875 24.703125 12.671875 31.3125 \nQ 6.296875 37.9375 6.296875 49.421875 \nQ 6.296875 60.640625 12.9375 67.421875 \nQ 19.578125 74.21875 30.609375 74.21875 \nQ 43.265625 74.21875 49.921875 64.515625 \nQ 56.59375 54.828125 56.59375 36.375 \nQ 56.59375 19.140625 48.40625 8.859375 \nQ 40.234375 -1.421875 26.421875 -1.421875 \nQ 22.703125 -1.421875 18.890625 -0.6875 \nQ 15.09375 0.046875 10.984375 1.515625 \nz\nM 30.609375 32.421875 \nQ 37.25 32.421875 41.125 36.953125 \nQ 45.015625 41.5 45.015625 49.421875 \nQ 45.015625 57.28125 41.125 61.84375 \nQ 37.25 66.40625 30.609375 66.40625 \nQ 23.96875 66.40625 20.09375 61.84375 \nQ 16.21875 57.28125 16.21875 49.421875 \nQ 16.21875 41.5 20.09375 36.953125 \nQ 23.96875 32.421875 30.609375 32.421875 \nz\n\" id=\"DejaVuSans-57\"/>\n      </defs>\n      <g style=\"fill:#555555;\" transform=\"translate(135.307143 251.997812)scale(0.1 -0.1)\">\n       <use xlink:href=\"#DejaVuSans-49\"/>\n       <use x=\"63.623047\" xlink:href=\"#DejaVuSans-57\"/>\n      </g>\n     </g>\n    </g>\n    <g id=\"xtick_5\">\n     <g id=\"line2d_7\">\n      <g>\n       <use style=\"fill:#555555;stroke:#555555;stroke-width:0.6;\" x=\"189.498214\" xlink:href=\"#mee2c7673b4\" y=\"238.999375\"/>\n      </g>\n     </g>\n     <g id=\"text_5\">\n      <!-- 20 -->\n      <g style=\"fill:#555555;\" transform=\"translate(183.135714 251.997812)scale(0.1 -0.1)\">\n       <use xlink:href=\"#DejaVuSans-50\"/>\n       <use x=\"63.623047\" xlink:href=\"#DejaVuSans-48\"/>\n      </g>\n     </g>\n    </g>\n    <g id=\"xtick_6\">\n     <g id=\"line2d_8\">\n      <g>\n       <use style=\"fill:#555555;stroke:#555555;stroke-width:0.6;\" x=\"237.326786\" xlink:href=\"#mee2c7673b4\" y=\"238.999375\"/>\n      </g>\n     </g>\n     <g id=\"text_6\">\n      <!-- 21 -->\n      <g style=\"fill:#555555;\" transform=\"translate(230.964286 251.997812)scale(0.1 -0.1)\">\n       <use xlink:href=\"#DejaVuSans-50\"/>\n       <use x=\"63.623047\" xlink:href=\"#DejaVuSans-49\"/>\n      </g>\n     </g>\n    </g>\n    <g id=\"xtick_7\">\n     <g id=\"line2d_9\">\n      <g>\n       <use style=\"fill:#555555;stroke:#555555;stroke-width:0.6;\" x=\"285.155357\" xlink:href=\"#mee2c7673b4\" y=\"238.999375\"/>\n      </g>\n     </g>\n     <g id=\"text_7\">\n      <!-- 22 -->\n      <g style=\"fill:#555555;\" transform=\"translate(278.792857 251.997812)scale(0.1 -0.1)\">\n       <use xlink:href=\"#DejaVuSans-50\"/>\n       <use x=\"63.623047\" xlink:href=\"#DejaVuSans-50\"/>\n      </g>\n     </g>\n    </g>\n    <g id=\"xtick_8\">\n     <g id=\"line2d_10\">\n      <g>\n       <use style=\"fill:#555555;stroke:#555555;stroke-width:0.6;\" x=\"332.983929\" xlink:href=\"#mee2c7673b4\" y=\"238.999375\"/>\n      </g>\n     </g>\n     <g id=\"text_8\">\n      <!-- 23 -->\n      <defs>\n       <path d=\"M 40.578125 39.3125 \nQ 47.65625 37.796875 51.625 33 \nQ 55.609375 28.21875 55.609375 21.1875 \nQ 55.609375 10.40625 48.1875 4.484375 \nQ 40.765625 -1.421875 27.09375 -1.421875 \nQ 22.515625 -1.421875 17.65625 -0.515625 \nQ 12.796875 0.390625 7.625 2.203125 \nL 7.625 11.71875 \nQ 11.71875 9.328125 16.59375 8.109375 \nQ 21.484375 6.890625 26.8125 6.890625 \nQ 36.078125 6.890625 40.9375 10.546875 \nQ 45.796875 14.203125 45.796875 21.1875 \nQ 45.796875 27.640625 41.28125 31.265625 \nQ 36.765625 34.90625 28.71875 34.90625 \nL 20.21875 34.90625 \nL 20.21875 43.015625 \nL 29.109375 43.015625 \nQ 36.375 43.015625 40.234375 45.921875 \nQ 44.09375 48.828125 44.09375 54.296875 \nQ 44.09375 59.90625 40.109375 62.90625 \nQ 36.140625 65.921875 28.71875 65.921875 \nQ 24.65625 65.921875 20.015625 65.03125 \nQ 15.375 64.15625 9.8125 62.3125 \nL 9.8125 71.09375 \nQ 15.4375 72.65625 20.34375 73.4375 \nQ 25.25 74.21875 29.59375 74.21875 \nQ 40.828125 74.21875 47.359375 69.109375 \nQ 53.90625 64.015625 53.90625 55.328125 \nQ 53.90625 49.265625 50.4375 45.09375 \nQ 46.96875 40.921875 40.578125 39.3125 \nz\n\" id=\"DejaVuSans-51\"/>\n      </defs>\n      <g style=\"fill:#555555;\" transform=\"translate(326.621429 251.997812)scale(0.1 -0.1)\">\n       <use xlink:href=\"#DejaVuSans-50\"/>\n       <use x=\"63.623047\" xlink:href=\"#DejaVuSans-51\"/>\n      </g>\n     </g>\n    </g>\n    <g id=\"text_9\">\n     <!-- date -->\n     <defs>\n      <path d=\"M 45.40625 46.390625 \nL 45.40625 75.984375 \nL 54.390625 75.984375 \nL 54.390625 0 \nL 45.40625 0 \nL 45.40625 8.203125 \nQ 42.578125 3.328125 38.25 0.953125 \nQ 33.9375 -1.421875 27.875 -1.421875 \nQ 17.96875 -1.421875 11.734375 6.484375 \nQ 5.515625 14.40625 5.515625 27.296875 \nQ 5.515625 40.1875 11.734375 48.09375 \nQ 17.96875 56 27.875 56 \nQ 33.9375 56 38.25 53.625 \nQ 42.578125 51.265625 45.40625 46.390625 \nz\nM 14.796875 27.296875 \nQ 14.796875 17.390625 18.875 11.75 \nQ 22.953125 6.109375 30.078125 6.109375 \nQ 37.203125 6.109375 41.296875 11.75 \nQ 45.40625 17.390625 45.40625 27.296875 \nQ 45.40625 37.203125 41.296875 42.84375 \nQ 37.203125 48.484375 30.078125 48.484375 \nQ 22.953125 48.484375 18.875 42.84375 \nQ 14.796875 37.203125 14.796875 27.296875 \nz\n\" id=\"DejaVuSans-100\"/>\n      <path d=\"M 34.28125 27.484375 \nQ 23.390625 27.484375 19.1875 25 \nQ 14.984375 22.515625 14.984375 16.5 \nQ 14.984375 11.71875 18.140625 8.90625 \nQ 21.296875 6.109375 26.703125 6.109375 \nQ 34.1875 6.109375 38.703125 11.40625 \nQ 43.21875 16.703125 43.21875 25.484375 \nL 43.21875 27.484375 \nz\nM 52.203125 31.203125 \nL 52.203125 0 \nL 43.21875 0 \nL 43.21875 8.296875 \nQ 40.140625 3.328125 35.546875 0.953125 \nQ 30.953125 -1.421875 24.3125 -1.421875 \nQ 15.921875 -1.421875 10.953125 3.296875 \nQ 6 8.015625 6 15.921875 \nQ 6 25.140625 12.171875 29.828125 \nQ 18.359375 34.515625 30.609375 34.515625 \nL 43.21875 34.515625 \nL 43.21875 35.40625 \nQ 43.21875 41.609375 39.140625 45 \nQ 35.0625 48.390625 27.6875 48.390625 \nQ 23 48.390625 18.546875 47.265625 \nQ 14.109375 46.140625 10.015625 43.890625 \nL 10.015625 52.203125 \nQ 14.9375 54.109375 19.578125 55.046875 \nQ 24.21875 56 28.609375 56 \nQ 40.484375 56 46.34375 49.84375 \nQ 52.203125 43.703125 52.203125 31.203125 \nz\n\" id=\"DejaVuSans-97\"/>\n      <path d=\"M 18.3125 70.21875 \nL 18.3125 54.6875 \nL 36.8125 54.6875 \nL 36.8125 47.703125 \nL 18.3125 47.703125 \nL 18.3125 18.015625 \nQ 18.3125 11.328125 20.140625 9.421875 \nQ 21.96875 7.515625 27.59375 7.515625 \nL 36.8125 7.515625 \nL 36.8125 0 \nL 27.59375 0 \nQ 17.1875 0 13.234375 3.875 \nQ 9.28125 7.765625 9.28125 18.015625 \nL 9.28125 47.703125 \nL 2.6875 47.703125 \nL 2.6875 54.6875 \nL 9.28125 54.6875 \nL 9.28125 70.21875 \nz\n\" id=\"DejaVuSans-116\"/>\n      <path d=\"M 56.203125 29.59375 \nL 56.203125 25.203125 \nL 14.890625 25.203125 \nQ 15.484375 15.921875 20.484375 11.0625 \nQ 25.484375 6.203125 34.421875 6.203125 \nQ 39.59375 6.203125 44.453125 7.46875 \nQ 49.3125 8.734375 54.109375 11.28125 \nL 54.109375 2.78125 \nQ 49.265625 0.734375 44.1875 -0.34375 \nQ 39.109375 -1.421875 33.890625 -1.421875 \nQ 20.796875 -1.421875 13.15625 6.1875 \nQ 5.515625 13.8125 5.515625 26.8125 \nQ 5.515625 40.234375 12.765625 48.109375 \nQ 20.015625 56 32.328125 56 \nQ 43.359375 56 49.78125 48.890625 \nQ 56.203125 41.796875 56.203125 29.59375 \nz\nM 47.21875 32.234375 \nQ 47.125 39.59375 43.09375 43.984375 \nQ 39.0625 48.390625 32.421875 48.390625 \nQ 24.90625 48.390625 20.390625 44.140625 \nQ 15.875 39.890625 15.1875 32.171875 \nz\n\" id=\"DejaVuSans-101\"/>\n     </defs>\n     <g style=\"fill:#555555;\" transform=\"translate(199.8825 291.19125)scale(0.12 -0.12)\">\n      <use xlink:href=\"#DejaVuSans-100\"/>\n      <use x=\"63.476562\" xlink:href=\"#DejaVuSans-97\"/>\n      <use x=\"124.755859\" xlink:href=\"#DejaVuSans-116\"/>\n      <use x=\"163.964844\" xlink:href=\"#DejaVuSans-101\"/>\n     </g>\n    </g>\n   </g>\n   <g id=\"matplotlib.axis_2\">\n    <g id=\"ytick_1\">\n     <g id=\"line2d_11\">\n      <path clip-path=\"url(#pd15ecfd1d3)\" d=\"M 46.0125 229.476933 \nL 380.8125 229.476933 \n\" style=\"fill:none;stroke:#ffffff;stroke-linecap:square;stroke-width:0.8;\"/>\n     </g>\n     <g id=\"line2d_12\">\n      <defs>\n       <path d=\"M 0 0 \nL -3.5 0 \n\" id=\"m2341cbfc1a\" style=\"stroke:#555555;stroke-width:0.8;\"/>\n      </defs>\n      <g>\n       <use style=\"fill:#555555;stroke:#555555;stroke-width:0.8;\" x=\"46.0125\" xlink:href=\"#m2341cbfc1a\" y=\"229.476933\"/>\n      </g>\n     </g>\n     <g id=\"text_10\">\n      <!-- 0 -->\n      <g style=\"fill:#555555;\" transform=\"translate(32.65 233.276151)scale(0.1 -0.1)\">\n       <use xlink:href=\"#DejaVuSans-48\"/>\n      </g>\n     </g>\n    </g>\n    <g id=\"ytick_2\">\n     <g id=\"line2d_13\">\n      <path clip-path=\"url(#pd15ecfd1d3)\" d=\"M 46.0125 204.567005 \nL 380.8125 204.567005 \n\" style=\"fill:none;stroke:#ffffff;stroke-linecap:square;stroke-width:0.8;\"/>\n     </g>\n     <g id=\"line2d_14\">\n      <g>\n       <use style=\"fill:#555555;stroke:#555555;stroke-width:0.8;\" x=\"46.0125\" xlink:href=\"#m2341cbfc1a\" y=\"204.567005\"/>\n      </g>\n     </g>\n     <g id=\"text_11\">\n      <!-- 2000 -->\n      <g style=\"fill:#555555;\" transform=\"translate(13.5625 208.366224)scale(0.1 -0.1)\">\n       <use xlink:href=\"#DejaVuSans-50\"/>\n       <use x=\"63.623047\" xlink:href=\"#DejaVuSans-48\"/>\n       <use x=\"127.246094\" xlink:href=\"#DejaVuSans-48\"/>\n       <use x=\"190.869141\" xlink:href=\"#DejaVuSans-48\"/>\n      </g>\n     </g>\n    </g>\n    <g id=\"ytick_3\">\n     <g id=\"line2d_15\">\n      <path clip-path=\"url(#pd15ecfd1d3)\" d=\"M 46.0125 179.657078 \nL 380.8125 179.657078 \n\" style=\"fill:none;stroke:#ffffff;stroke-linecap:square;stroke-width:0.8;\"/>\n     </g>\n     <g id=\"line2d_16\">\n      <g>\n       <use style=\"fill:#555555;stroke:#555555;stroke-width:0.8;\" x=\"46.0125\" xlink:href=\"#m2341cbfc1a\" y=\"179.657078\"/>\n      </g>\n     </g>\n     <g id=\"text_12\">\n      <!-- 4000 -->\n      <g style=\"fill:#555555;\" transform=\"translate(13.5625 183.456297)scale(0.1 -0.1)\">\n       <use xlink:href=\"#DejaVuSans-52\"/>\n       <use x=\"63.623047\" xlink:href=\"#DejaVuSans-48\"/>\n       <use x=\"127.246094\" xlink:href=\"#DejaVuSans-48\"/>\n       <use x=\"190.869141\" xlink:href=\"#DejaVuSans-48\"/>\n      </g>\n     </g>\n    </g>\n    <g id=\"ytick_4\">\n     <g id=\"line2d_17\">\n      <path clip-path=\"url(#pd15ecfd1d3)\" d=\"M 46.0125 154.747151 \nL 380.8125 154.747151 \n\" style=\"fill:none;stroke:#ffffff;stroke-linecap:square;stroke-width:0.8;\"/>\n     </g>\n     <g id=\"line2d_18\">\n      <g>\n       <use style=\"fill:#555555;stroke:#555555;stroke-width:0.8;\" x=\"46.0125\" xlink:href=\"#m2341cbfc1a\" y=\"154.747151\"/>\n      </g>\n     </g>\n     <g id=\"text_13\">\n      <!-- 6000 -->\n      <defs>\n       <path d=\"M 33.015625 40.375 \nQ 26.375 40.375 22.484375 35.828125 \nQ 18.609375 31.296875 18.609375 23.390625 \nQ 18.609375 15.53125 22.484375 10.953125 \nQ 26.375 6.390625 33.015625 6.390625 \nQ 39.65625 6.390625 43.53125 10.953125 \nQ 47.40625 15.53125 47.40625 23.390625 \nQ 47.40625 31.296875 43.53125 35.828125 \nQ 39.65625 40.375 33.015625 40.375 \nz\nM 52.59375 71.296875 \nL 52.59375 62.3125 \nQ 48.875 64.0625 45.09375 64.984375 \nQ 41.3125 65.921875 37.59375 65.921875 \nQ 27.828125 65.921875 22.671875 59.328125 \nQ 17.53125 52.734375 16.796875 39.40625 \nQ 19.671875 43.65625 24.015625 45.921875 \nQ 28.375 48.1875 33.59375 48.1875 \nQ 44.578125 48.1875 50.953125 41.515625 \nQ 57.328125 34.859375 57.328125 23.390625 \nQ 57.328125 12.15625 50.6875 5.359375 \nQ 44.046875 -1.421875 33.015625 -1.421875 \nQ 20.359375 -1.421875 13.671875 8.265625 \nQ 6.984375 17.96875 6.984375 36.375 \nQ 6.984375 53.65625 15.1875 63.9375 \nQ 23.390625 74.21875 37.203125 74.21875 \nQ 40.921875 74.21875 44.703125 73.484375 \nQ 48.484375 72.75 52.59375 71.296875 \nz\n\" id=\"DejaVuSans-54\"/>\n      </defs>\n      <g style=\"fill:#555555;\" transform=\"translate(13.5625 158.54637)scale(0.1 -0.1)\">\n       <use xlink:href=\"#DejaVuSans-54\"/>\n       <use x=\"63.623047\" xlink:href=\"#DejaVuSans-48\"/>\n       <use x=\"127.246094\" xlink:href=\"#DejaVuSans-48\"/>\n       <use x=\"190.869141\" xlink:href=\"#DejaVuSans-48\"/>\n      </g>\n     </g>\n    </g>\n    <g id=\"ytick_5\">\n     <g id=\"line2d_19\">\n      <path clip-path=\"url(#pd15ecfd1d3)\" d=\"M 46.0125 129.837224 \nL 380.8125 129.837224 \n\" style=\"fill:none;stroke:#ffffff;stroke-linecap:square;stroke-width:0.8;\"/>\n     </g>\n     <g id=\"line2d_20\">\n      <g>\n       <use style=\"fill:#555555;stroke:#555555;stroke-width:0.8;\" x=\"46.0125\" xlink:href=\"#m2341cbfc1a\" y=\"129.837224\"/>\n      </g>\n     </g>\n     <g id=\"text_14\">\n      <!-- 8000 -->\n      <g style=\"fill:#555555;\" transform=\"translate(13.5625 133.636443)scale(0.1 -0.1)\">\n       <use xlink:href=\"#DejaVuSans-56\"/>\n       <use x=\"63.623047\" xlink:href=\"#DejaVuSans-48\"/>\n       <use x=\"127.246094\" xlink:href=\"#DejaVuSans-48\"/>\n       <use x=\"190.869141\" xlink:href=\"#DejaVuSans-48\"/>\n      </g>\n     </g>\n    </g>\n    <g id=\"ytick_6\">\n     <g id=\"line2d_21\">\n      <path clip-path=\"url(#pd15ecfd1d3)\" d=\"M 46.0125 104.927297 \nL 380.8125 104.927297 \n\" style=\"fill:none;stroke:#ffffff;stroke-linecap:square;stroke-width:0.8;\"/>\n     </g>\n     <g id=\"line2d_22\">\n      <g>\n       <use style=\"fill:#555555;stroke:#555555;stroke-width:0.8;\" x=\"46.0125\" xlink:href=\"#m2341cbfc1a\" y=\"104.927297\"/>\n      </g>\n     </g>\n     <g id=\"text_15\">\n      <!-- 10000 -->\n      <g style=\"fill:#555555;\" transform=\"translate(7.2 108.726515)scale(0.1 -0.1)\">\n       <use xlink:href=\"#DejaVuSans-49\"/>\n       <use x=\"63.623047\" xlink:href=\"#DejaVuSans-48\"/>\n       <use x=\"127.246094\" xlink:href=\"#DejaVuSans-48\"/>\n       <use x=\"190.869141\" xlink:href=\"#DejaVuSans-48\"/>\n       <use x=\"254.492188\" xlink:href=\"#DejaVuSans-48\"/>\n      </g>\n     </g>\n    </g>\n    <g id=\"ytick_7\">\n     <g id=\"line2d_23\">\n      <path clip-path=\"url(#pd15ecfd1d3)\" d=\"M 46.0125 80.017369 \nL 380.8125 80.017369 \n\" style=\"fill:none;stroke:#ffffff;stroke-linecap:square;stroke-width:0.8;\"/>\n     </g>\n     <g id=\"line2d_24\">\n      <g>\n       <use style=\"fill:#555555;stroke:#555555;stroke-width:0.8;\" x=\"46.0125\" xlink:href=\"#m2341cbfc1a\" y=\"80.017369\"/>\n      </g>\n     </g>\n     <g id=\"text_16\">\n      <!-- 12000 -->\n      <g style=\"fill:#555555;\" transform=\"translate(7.2 83.816588)scale(0.1 -0.1)\">\n       <use xlink:href=\"#DejaVuSans-49\"/>\n       <use x=\"63.623047\" xlink:href=\"#DejaVuSans-50\"/>\n       <use x=\"127.246094\" xlink:href=\"#DejaVuSans-48\"/>\n       <use x=\"190.869141\" xlink:href=\"#DejaVuSans-48\"/>\n       <use x=\"254.492188\" xlink:href=\"#DejaVuSans-48\"/>\n      </g>\n     </g>\n    </g>\n    <g id=\"ytick_8\">\n     <g id=\"line2d_25\">\n      <path clip-path=\"url(#pd15ecfd1d3)\" d=\"M 46.0125 55.107442 \nL 380.8125 55.107442 \n\" style=\"fill:none;stroke:#ffffff;stroke-linecap:square;stroke-width:0.8;\"/>\n     </g>\n     <g id=\"line2d_26\">\n      <g>\n       <use style=\"fill:#555555;stroke:#555555;stroke-width:0.8;\" x=\"46.0125\" xlink:href=\"#m2341cbfc1a\" y=\"55.107442\"/>\n      </g>\n     </g>\n     <g id=\"text_17\">\n      <!-- 14000 -->\n      <g style=\"fill:#555555;\" transform=\"translate(7.2 58.906661)scale(0.1 -0.1)\">\n       <use xlink:href=\"#DejaVuSans-49\"/>\n       <use x=\"63.623047\" xlink:href=\"#DejaVuSans-52\"/>\n       <use x=\"127.246094\" xlink:href=\"#DejaVuSans-48\"/>\n       <use x=\"190.869141\" xlink:href=\"#DejaVuSans-48\"/>\n       <use x=\"254.492188\" xlink:href=\"#DejaVuSans-48\"/>\n      </g>\n     </g>\n    </g>\n    <g id=\"ytick_9\">\n     <g id=\"line2d_27\">\n      <path clip-path=\"url(#pd15ecfd1d3)\" d=\"M 46.0125 30.197515 \nL 380.8125 30.197515 \n\" style=\"fill:none;stroke:#ffffff;stroke-linecap:square;stroke-width:0.8;\"/>\n     </g>\n     <g id=\"line2d_28\">\n      <g>\n       <use style=\"fill:#555555;stroke:#555555;stroke-width:0.8;\" x=\"46.0125\" xlink:href=\"#m2341cbfc1a\" y=\"30.197515\"/>\n      </g>\n     </g>\n     <g id=\"text_18\">\n      <!-- 16000 -->\n      <g style=\"fill:#555555;\" transform=\"translate(7.2 33.996734)scale(0.1 -0.1)\">\n       <use xlink:href=\"#DejaVuSans-49\"/>\n       <use x=\"63.623047\" xlink:href=\"#DejaVuSans-54\"/>\n       <use x=\"127.246094\" xlink:href=\"#DejaVuSans-48\"/>\n       <use x=\"190.869141\" xlink:href=\"#DejaVuSans-48\"/>\n       <use x=\"254.492188\" xlink:href=\"#DejaVuSans-48\"/>\n      </g>\n     </g>\n    </g>\n   </g>\n   <g id=\"line2d_29\">\n    <path clip-path=\"url(#pd15ecfd1d3)\" d=\"M 46.0125 31.443011 \nL 93.841071 198.202519 \nL 141.669643 226.98594 \nL 189.498214 228.580175 \nL 237.326786 228.991189 \nL 285.155357 229.078374 \nL 332.983929 229.115739 \nL 380.8125 228.928914 \n\" style=\"fill:none;stroke:#e24a33;stroke-linecap:square;stroke-width:1.5;\"/>\n   </g>\n   <g id=\"patch_3\">\n    <path d=\"M 46.0125 238.999375 \nL 46.0125 21.559375 \n\" style=\"fill:none;stroke:#ffffff;stroke-linecap:square;stroke-linejoin:miter;\"/>\n   </g>\n   <g id=\"patch_4\">\n    <path d=\"M 380.8125 238.999375 \nL 380.8125 21.559375 \n\" style=\"fill:none;stroke:#ffffff;stroke-linecap:square;stroke-linejoin:miter;\"/>\n   </g>\n   <g id=\"patch_5\">\n    <path d=\"M 46.0125 238.999375 \nL 380.8125 238.999375 \n\" style=\"fill:none;stroke:#ffffff;stroke-linecap:square;stroke-linejoin:miter;\"/>\n   </g>\n   <g id=\"patch_6\">\n    <path d=\"M 46.0125 21.559375 \nL 380.8125 21.559375 \n\" style=\"fill:none;stroke:#ffffff;stroke-linecap:square;stroke-linejoin:miter;\"/>\n   </g>\n   <g id=\"text_19\">\n    <!-- #กูสั่งให้มึงอยู่ใต้รัฐธรรมนูญ -->\n    <defs>\n     <path d=\"M 36.5 13.703125 \nL 27.296875 13.703125 \nL 24.5 0.40625 \nL 21.59375 0.40625 \nL 24.5 13.703125 \nL 11.90625 13.703125 \nL 9 0.40625 \nL 6.09375 0.40625 \nL 9 13.703125 \nL 3.40625 13.703125 \nL 3.40625 16.703125 \nL 9.5 16.703125 \nL 12.09375 29.40625 \nL 3.40625 29.40625 \nL 3.40625 32.40625 \nL 12.703125 32.40625 \nL 15.5 45.796875 \nL 18.5 45.796875 \nL 15.703125 32.40625 \nL 28.09375 32.40625 \nL 31 45.796875 \nL 34.09375 45.796875 \nL 31.296875 32.40625 \nL 36.5 32.40625 \nL 36.5 29.40625 \nL 30.703125 29.40625 \nL 28.09375 16.703125 \nL 36.5 16.703125 \nz\nM 27.59375 29.40625 \nL 15.09375 29.40625 \nL 12.40625 16.703125 \nL 25 16.703125 \nz\n\" id=\"THSarabunNew-35\"/>\n     <path d=\"M 33 0 \nL 29.40625 0 \nL 29.40625 26.09375 \nQ 29.40625 31 26.34375 33.890625 \nQ 23.296875 36.796875 18.5 36.796875 \nQ 15.09375 36.796875 11.890625 34.890625 \nQ 8.703125 33 7.5 30 \nQ 13.40625 29.5 15.59375 25.59375 \nQ 13.203125 25.09375 11.390625 22.9375 \nQ 9.59375 20.796875 9.59375 18.203125 \nL 9.59375 0 \nL 6 0 \nL 6 18.09375 \nQ 6 24 11.203125 26.09375 \nQ 7.90625 27.703125 3.59375 27.203125 \nQ 4.40625 32.796875 8.65625 36.390625 \nQ 12.90625 40 18.703125 40 \nQ 25.203125 40 29.09375 36.390625 \nQ 33 32.796875 33 26.5 \nz\n\" id=\"THSarabunNew-3585\"/>\n     <path d=\"M -5.59375 -18.296875 \nQ -5.59375 -24.5 -12.796875 -24.5 \nQ -19.59375 -24.5 -19.59375 -18.5 \nL -19.59375 -15.09375 \nQ -20.40625 -15.40625 -21.40625 -15.40625 \nQ -23.59375 -15.40625 -25.140625 -13.84375 \nQ -26.703125 -12.296875 -26.703125 -10.09375 \nQ -26.703125 -7.90625 -25.140625 -6.34375 \nQ -23.59375 -4.796875 -21.40625 -4.796875 \nQ -19.203125 -4.796875 -17.640625 -6.34375 \nQ -16.09375 -7.90625 -16.09375 -10.09375 \nL -16.09375 -19.09375 \nQ -16.09375 -21.40625 -12.59375 -21.40625 \nQ -9.203125 -21.40625 -9.203125 -19.09375 \nL -9.203125 -5.203125 \nL -5.59375 -5.203125 \nz\nM -18.796875 -10 \nQ -18.796875 -8.90625 -19.546875 -8.15625 \nQ -20.296875 -7.40625 -21.40625 -7.40625 \nQ -22.5 -7.40625 -23.25 -8.15625 \nQ -24 -8.90625 -24 -10 \nQ -24 -11.09375 -23.25 -11.84375 \nQ -22.5 -12.59375 -21.40625 -12.59375 \nQ -20.296875 -12.59375 -19.546875 -11.84375 \nQ -18.796875 -11.09375 -18.796875 -10 \nz\n\" id=\"THSarabunNew-3641\"/>\n     <path d=\"M 32.5 0 \nL 28.90625 0 \nL 28.90625 16.296875 \nQ 28.90625 19.796875 25.203125 21.90625 \nQ 22.09375 23.59375 18 23.59375 \nQ 14 23.59375 11.203125 21.4375 \nQ 8.40625 19.296875 8.40625 15.90625 \nL 8.40625 11.703125 \nQ 9.796875 12.40625 11.703125 12.40625 \nQ 14.5 12.40625 16.390625 10.453125 \nQ 18.296875 8.5 18.296875 5.796875 \nQ 18.296875 3.09375 16.390625 1.140625 \nQ 14.5 -0.796875 11.703125 -0.796875 \nQ 8.59375 -0.796875 6.6875 1.203125 \nQ 4.796875 3.203125 4.796875 5.90625 \nL 4.796875 15.90625 \nQ 4.796875 20.90625 8.796875 24.09375 \nQ 12.5 27.09375 17.703125 27.09375 \nL 18.296875 27.09375 \nQ 22.796875 30.796875 25.90625 34.296875 \nQ 22.203125 36.796875 17.796875 36.796875 \nQ 13.59375 36.796875 10.203125 35 \nQ 6.5 33 5.59375 29.59375 \nL 2.09375 29.59375 \nQ 2.796875 34.203125 7.5 37.203125 \nQ 11.90625 40 17.59375 40 \nQ 23.296875 40 27.90625 37.09375 \nQ 30 39.5 30.59375 42.703125 \nL 34.203125 42.703125 \nQ 33.5 38.703125 30.40625 34.796875 \nQ 32.5 32.09375 32.5 28.59375 \nz\nM 28.90625 23.09375 \nL 28.90625 28.796875 \nQ 28.90625 30.203125 28 32 \nQ 25.203125 29 22 26.59375 \nQ 26.203125 25.59375 28.90625 23.09375 \nz\nM 15 5.703125 \nQ 15 7.09375 14 8.09375 \nQ 13 9.09375 11.59375 9.09375 \nQ 10.203125 9.09375 9.25 8.09375 \nQ 8.296875 7.09375 8.296875 5.703125 \nQ 8.296875 4.296875 9.25 3.34375 \nQ 10.203125 2.40625 11.59375 2.40625 \nQ 13 2.40625 14 3.34375 \nQ 15 4.296875 15 5.703125 \nz\n\" id=\"THSarabunNew-3626\"/>\n     <path d=\"M 4.90625 61.90625 \nQ 4.796875 55.09375 0.390625 50.75 \nQ -4 46.40625 -10.703125 46.40625 \nQ -16.5 46.40625 -20 48.796875 \nQ -23.5 51.203125 -23.5 55.09375 \nQ -23.5 57.703125 -21.59375 59.59375 \nQ -19.703125 61.5 -17.09375 61.5 \nQ -14.5 61.5 -12.59375 59.640625 \nQ -10.703125 57.796875 -10.703125 55.203125 \nQ -10.703125 51.796875 -13.703125 49.796875 \nQ -12.296875 49.5 -10 49.5 \nQ -5.09375 49.59375 -1.90625 53.40625 \nQ 0.90625 56.90625 1.09375 61.90625 \nz\nM -13.90625 55.296875 \nQ -13.90625 56.703125 -14.84375 57.640625 \nQ -15.796875 58.59375 -17.09375 58.59375 \nQ -18.40625 58.59375 -19.40625 57.640625 \nQ -20.40625 56.703125 -20.40625 55.296875 \nQ -20.40625 53.90625 -19.40625 53 \nQ -18.40625 52.09375 -17.09375 52.09375 \nQ -15.796875 52.09375 -14.84375 53 \nQ -13.90625 53.90625 -13.90625 55.296875 \nz\n\" id=\"THSarabunNew-3633\"/>\n     <path d=\"M -5.59375 68 \nL -8.90625 68 \nL -8.90625 79.09375 \nL -5.59375 79.09375 \nz\n\" id=\"THSarabunNew-3656\"/>\n     <path d=\"M 23.796875 0 \nL 20.203125 0 \nL 1.59375 20.796875 \nL 3.59375 23.09375 \nL 20.203125 5.09375 \nL 20.203125 27.5 \nQ 18.796875 26.796875 17.09375 26.796875 \nQ 14.40625 26.796875 12.453125 28.75 \nQ 10.5 30.703125 10.5 33.296875 \nQ 10.5 36.203125 12.390625 38.09375 \nQ 14.296875 40 17.09375 40 \nQ 20.296875 40 22.203125 37.90625 \nQ 23.796875 36 23.796875 33.296875 \nz\nM 20.5 33.5 \nQ 20.5 34.90625 19.5 35.90625 \nQ 18.5 36.90625 17.09375 36.90625 \nQ 15.703125 36.90625 14.703125 35.90625 \nQ 13.703125 34.90625 13.703125 33.5 \nQ 13.703125 32.09375 14.703125 31.09375 \nQ 15.703125 30.09375 17.09375 30.09375 \nQ 18.5 30.09375 19.5 31.09375 \nQ 20.5 32.09375 20.5 33.5 \nz\n\" id=\"THSarabunNew-3591\"/>\n     <path d=\"M 22.703125 6 \nQ 22.703125 3.203125 20.703125 1.203125 \nQ 18.703125 -0.796875 16 -0.796875 \nQ 12.796875 -0.796875 10.796875 1.40625 \nQ 9.09375 3.296875 9.09375 6 \nL 9.09375 46.90625 \nQ 9.09375 48.59375 10 50.796875 \nQ 12.09375 55.90625 12.09375 57.09375 \nQ 12.09375 59.59375 10.390625 61.1875 \nQ 8.703125 62.796875 6.203125 62.796875 \nQ 2.5 62.796875 0.5 60.5 \nQ 3.203125 60.90625 5 59.296875 \nQ 6.796875 57.703125 6.796875 55.09375 \nQ 6.796875 52.796875 5.1875 51.1875 \nQ 3.59375 49.59375 1.40625 49.59375 \nQ -0.796875 49.59375 -2.5 51.1875 \nQ -4.203125 52.796875 -4.203125 56 \nQ -4.203125 60.09375 -1.296875 62.890625 \nQ 1.59375 65.703125 6.5 65.703125 \nQ 10.09375 65.703125 12.9375 63.453125 \nQ 15.796875 61.203125 15.796875 57.703125 \nQ 15.796875 55.59375 14.25 51.890625 \nQ 12.703125 48.203125 12.703125 46.203125 \nL 12.703125 11.90625 \nQ 14.09375 12.703125 16 12.703125 \nQ 18.703125 12.703125 20.703125 10.75 \nQ 22.703125 8.796875 22.703125 6 \nz\nM 19.40625 6 \nQ 19.40625 7.40625 18.34375 8.40625 \nQ 17.296875 9.40625 15.90625 9.40625 \nQ 14.59375 9.40625 13.59375 8.40625 \nQ 12.59375 7.40625 12.59375 6 \nQ 12.59375 4.59375 13.546875 3.59375 \nQ 14.5 2.59375 15.90625 2.59375 \nQ 17.296875 2.59375 18.34375 3.59375 \nQ 19.40625 4.59375 19.40625 6 \nz\nM 4.09375 55.09375 \nQ 4.09375 56.203125 3.34375 57.046875 \nQ 2.59375 57.90625 1.296875 57.90625 \nQ 0 57.90625 -0.75 57.046875 \nQ -1.5 56.203125 -1.5 55.09375 \nQ -1.5 54 -0.75 53.140625 \nQ 0 52.296875 1.296875 52.296875 \nQ 2.59375 52.296875 3.34375 53.140625 \nQ 4.09375 54 4.09375 55.09375 \nz\n\" id=\"THSarabunNew-3651\"/>\n     <path d=\"M 37.09375 0 \nL 33.5 0 \nL 33.5 21.59375 \nQ 33.5 26.203125 31.09375 26.203125 \nQ 29.59375 26.203125 27.5 22.703125 \nL 14.59375 0 \nL 11.296875 0 \nL 11.296875 27.5 \nQ 10 26.796875 8.296875 26.796875 \nQ 5.59375 26.796875 3.640625 28.75 \nQ 1.703125 30.703125 1.703125 33.40625 \nQ 1.703125 36.09375 3.640625 38.046875 \nQ 5.59375 40 8.296875 40 \nQ 11 40 12.953125 38.046875 \nQ 14.90625 36.09375 14.90625 33.40625 \nL 14.90625 11.703125 \nQ 14.90625 10.796875 14.40625 5.5 \nQ 15.59375 8 16.59375 9.90625 \nL 24.703125 24.796875 \nQ 26.09375 27.296875 28 28.296875 \nQ 25.59375 30.203125 25.59375 33.40625 \nQ 25.59375 36.09375 27.546875 38.046875 \nQ 29.5 40 32.203125 40 \nQ 34.90625 40 36.84375 38.046875 \nQ 38.796875 36.09375 38.796875 33.40625 \nQ 38.796875 29.59375 35.5 27.703125 \nQ 37.09375 26 37.09375 21.59375 \nz\nM 11.703125 33.40625 \nQ 11.703125 34.796875 10.703125 35.796875 \nQ 9.703125 36.796875 8.296875 36.796875 \nQ 6.90625 36.796875 5.90625 35.796875 \nQ 4.90625 34.796875 4.90625 33.40625 \nQ 4.90625 32 5.90625 31 \nQ 6.90625 30 8.296875 30 \nQ 9.703125 30 10.703125 31 \nQ 11.703125 32 11.703125 33.40625 \nz\nM 35.59375 33.40625 \nQ 35.59375 34.796875 34.59375 35.796875 \nQ 33.59375 36.796875 32.203125 36.796875 \nQ 30.796875 36.796875 29.796875 35.796875 \nQ 28.796875 34.796875 28.796875 33.40625 \nQ 28.796875 32 29.796875 31 \nQ 30.796875 30 32.203125 30 \nQ 33.59375 30 34.59375 31 \nQ 35.59375 32 35.59375 33.40625 \nz\n\" id=\"THSarabunNew-3627\"/>\n     <path d=\"M 4.203125 82.59375 \nQ 2.796875 74 -3.203125 70.5 \nQ -8 67.703125 -16.5 67.703125 \nL -18.296875 67.703125 \nL -18.296875 69.59375 \nQ -15 71 -13.59375 73.5 \nQ -15.59375 73.5 -17.09375 74.953125 \nQ -18.59375 76.40625 -18.59375 78.5 \nQ -18.59375 80.59375 -17.09375 82.09375 \nQ -15.59375 83.59375 -13.5 83.59375 \nQ -11.5 83.59375 -10.09375 82.1875 \nQ -8.703125 80.796875 -8.5 78.5 \nQ -8.5 73.5 -13 70.296875 \nQ -1.09375 71.296875 0.5 82.59375 \nz\nM -11.296875 78.5 \nQ -11.296875 79.5 -11.9375 80.203125 \nQ -12.59375 80.90625 -13.59375 80.90625 \nQ -14.59375 80.90625 -15.296875 80.203125 \nQ -16 79.5 -16 78.5 \nQ -16 77.5 -15.296875 76.84375 \nQ -14.59375 76.203125 -13.59375 76.203125 \nQ -12.59375 76.203125 -11.9375 76.84375 \nQ -11.296875 77.5 -11.296875 78.5 \nz\n\" id=\"THSarabunNew-3657\"/>\n     <path d=\"M 34.40625 0 \nL 30.5 0 \nQ 22.703125 6 15.90625 7.90625 \nQ 16.203125 7 16.203125 6.09375 \nQ 16.203125 3.203125 14.140625 1.203125 \nQ 12.09375 -0.796875 9.203125 -0.796875 \nQ 6.296875 -0.796875 4.296875 1.203125 \nQ 2.296875 3.203125 2.296875 6.09375 \nQ 2.296875 9 4.296875 11.046875 \nQ 6.296875 13.09375 9.203125 13.09375 \nQ 10.296875 13.09375 11.296875 12.796875 \nL 11.296875 27.5 \nQ 10 26.796875 8.296875 26.796875 \nQ 5.59375 26.796875 3.640625 28.75 \nQ 1.703125 30.703125 1.703125 33.40625 \nQ 1.703125 36.09375 3.640625 38.046875 \nQ 5.59375 40 8.296875 40 \nQ 11 40 12.953125 38.046875 \nQ 14.90625 36.09375 14.90625 33.40625 \nL 14.90625 11.796875 \nQ 24.796875 8.296875 30.796875 3.703125 \nL 30.796875 39.203125 \nL 34.40625 39.203125 \nz\nM 12.90625 6.203125 \nQ 12.90625 7.703125 11.796875 8.796875 \nQ 10.703125 9.90625 9.203125 9.90625 \nQ 7.703125 9.90625 6.59375 8.796875 \nQ 5.5 7.703125 5.5 6.203125 \nQ 5.5 4.703125 6.59375 3.59375 \nQ 7.703125 2.5 9.203125 2.5 \nQ 10.703125 2.5 11.796875 3.59375 \nQ 12.90625 4.703125 12.90625 6.203125 \nz\nM 11.703125 33.40625 \nQ 11.703125 34.796875 10.703125 35.796875 \nQ 9.703125 36.796875 8.296875 36.796875 \nQ 6.90625 36.796875 5.90625 35.796875 \nQ 4.90625 34.796875 4.90625 33.40625 \nQ 4.90625 32 5.90625 31 \nQ 6.90625 30 8.296875 30 \nQ 9.703125 30 10.703125 31 \nQ 11.703125 32 11.703125 33.40625 \nz\n\" id=\"THSarabunNew-3617\"/>\n     <path d=\"M -5 45.5 \nQ -16.5 49.59375 -26.59375 49.59375 \nQ -30.203125 49.59375 -34.5 49 \nQ -34.40625 54.203125 -30.203125 57.40625 \nQ -26.40625 60.296875 -21.09375 60.296875 \nQ -15.703125 60.296875 -11.796875 57.703125 \nQ -12.09375 58.5 -12.09375 59.296875 \nQ -12.09375 61.296875 -10.640625 62.75 \nQ -9.203125 64.203125 -7.203125 64.203125 \nQ -5.203125 64.203125 -3.75 62.75 \nQ -2.296875 61.296875 -2.296875 59.296875 \nQ -2.296875 57.296875 -3.75 55.84375 \nQ -5.203125 54.40625 -7.203125 54.40625 \nQ -7.703125 54.40625 -8.5 54.59375 \nQ -6 51.09375 -5 45.5 \nz\nM -8.90625 49.296875 \nQ -13.296875 57.40625 -21 57.40625 \nQ -28 57.40625 -30.40625 52.09375 \nQ -28.296875 52.40625 -25.703125 52.40625 \nQ -16.09375 52.40625 -8.90625 49.296875 \nz\nM -4.59375 59.296875 \nQ -4.59375 60.40625 -5.34375 61.15625 \nQ -6.09375 61.90625 -7.203125 61.90625 \nQ -8.296875 61.90625 -9.046875 61.15625 \nQ -9.796875 60.40625 -9.796875 59.296875 \nQ -9.796875 58.203125 -9.046875 57.453125 \nQ -8.296875 56.703125 -7.203125 56.703125 \nQ -6.09375 56.703125 -5.34375 57.453125 \nQ -4.59375 58.203125 -4.59375 59.296875 \nz\n\" id=\"THSarabunNew-3638\"/>\n     <path d=\"M 16.5 20.796875 \nQ 16.5 22.203125 15.5 23.203125 \nQ 14.5 24.203125 13.09375 24.203125 \nQ 11.703125 24.203125 10.703125 23.203125 \nQ 9.703125 22.203125 9.703125 20.796875 \nQ 9.703125 19.40625 10.703125 18.40625 \nQ 11.703125 17.40625 13.09375 17.40625 \nQ 14.5 17.40625 15.5 18.40625 \nQ 16.5 19.40625 16.5 20.796875 \nz\nM 33.09375 8.5 \nQ 32.90625 -0.796875 19.703125 -0.796875 \nQ 6.5 -0.796875 6.5 8.5 \nL 6.5 20.796875 \nQ 6.5 23.5 8.453125 25.453125 \nQ 10.40625 27.40625 13.09375 27.40625 \nQ 15.796875 27.40625 17.75 25.453125 \nQ 19.703125 23.5 19.703125 20.796875 \nQ 19.703125 18.09375 17.890625 16.140625 \nQ 16.09375 14.203125 13.09375 14.203125 \nQ 11.40625 14.203125 10.09375 14.90625 \nL 10.09375 9.296875 \nQ 10.09375 2.5 19.90625 2.5 \nQ 29.5 2.5 29.5 9.296875 \nL 29.5 27.90625 \nQ 29.5 32.09375 26 34.59375 \nQ 22.796875 36.796875 18.09375 36.796875 \nQ 14 36.796875 10.59375 34.90625 \nQ 6.90625 32.796875 6.203125 29.59375 \nL 2.59375 29.59375 \nQ 3.59375 34.296875 7.84375 37.140625 \nQ 12.09375 40 18.296875 40 \nQ 24.203125 40 28.296875 37.203125 \nQ 33.09375 34 33.09375 28.5 \nz\n\" id=\"THSarabunNew-3629\"/>\n     <path d=\"M 31.90625 8.90625 \nQ 31.90625 -0.796875 18.40625 -0.796875 \nQ 4.796875 -0.796875 4.796875 8.90625 \nL 4.796875 14 \nQ 4.796875 16.296875 6.140625 18.390625 \nQ 7.5 20.5 9.5 21.296875 \nQ 4.203125 23.59375 4.203125 31.203125 \nQ 4.203125 35.09375 6.453125 37.546875 \nQ 8.703125 40 12.703125 40 \nQ 15.203125 40 16.796875 38.296875 \nQ 18.40625 36.59375 18.40625 34.296875 \nQ 18.40625 32 16.90625 30.34375 \nQ 15.40625 28.703125 12.703125 28.703125 \nQ 9 28.703125 7.5 32 \nQ 7.40625 31.703125 7.40625 30.40625 \nQ 7.40625 27.59375 9.15625 25.296875 \nQ 10.90625 23 13.703125 23 \nL 19.40625 23 \nL 19.40625 19.59375 \nL 13.59375 19.59375 \nQ 11.40625 19.59375 9.90625 18 \nQ 8.40625 16.40625 8.40625 13.796875 \nL 8.40625 9.203125 \nQ 8.40625 2.5 18.40625 2.5 \nQ 28.296875 2.5 28.296875 9.203125 \nL 28.296875 39.203125 \nL 31.90625 39.203125 \nz\nM 15.796875 34.296875 \nQ 15.796875 35.703125 14.890625 36.59375 \nQ 14 37.5 12.59375 37.5 \nQ 11.203125 37.5 10.34375 36.59375 \nQ 9.5 35.703125 9.5 34.296875 \nQ 9.5 31.203125 12.59375 31.203125 \nQ 14 31.203125 14.890625 32.046875 \nQ 15.796875 32.90625 15.796875 34.296875 \nz\n\" id=\"THSarabunNew-3618\"/>\n     <path d=\"M 33.5 0 \nL 29.90625 0 \nL 29.90625 26 \nQ 29.90625 33.40625 25.09375 36.296875 \nL 18.703125 30.40625 \nL 11.90625 36.296875 \nQ 6.90625 33.09375 6.90625 25.90625 \nQ 6.90625 22.796875 8.5 17.34375 \nQ 10.09375 11.90625 10.09375 7.90625 \nQ 11.09375 9.90625 14.140625 12.40625 \nQ 17.203125 14.90625 18.203125 16.40625 \nQ 15.90625 16.59375 14.34375 18.1875 \nQ 12.796875 19.796875 12.796875 22.203125 \nQ 12.796875 24.703125 14.4375 26.390625 \nQ 16.09375 28.09375 18.59375 28.09375 \nQ 21.09375 28.09375 22.796875 26.390625 \nQ 24.5 24.703125 24.5 22.203125 \nQ 24.5 17.59375 17.5 11.1875 \nQ 10.5 4.796875 10.203125 0 \nL 6.59375 0 \nL 6.59375 9 \nQ 6.59375 11.90625 4.890625 17.25 \nQ 3.203125 22.59375 3.203125 25.40625 \nQ 3.203125 30.296875 5.40625 34.296875 \nQ 8 38.796875 12.5 40 \nL 18.703125 34.5 \nL 24.40625 40 \nQ 28.796875 39.203125 31.296875 34.90625 \nQ 33.5 31.203125 33.5 26.5 \nz\nM 21.90625 22.296875 \nQ 21.90625 23.59375 21 24.5 \nQ 20.09375 25.40625 18.796875 25.40625 \nQ 17.5 25.40625 16.59375 24.5 \nQ 15.703125 23.59375 15.703125 22.296875 \nQ 15.703125 21 16.59375 20.09375 \nQ 17.5 19.203125 18.796875 19.203125 \nQ 20.09375 19.203125 21 20.09375 \nQ 21.90625 21 21.90625 22.296875 \nz\n\" id=\"THSarabunNew-3605\"/>\n     <path d=\"M 25.40625 5.796875 \nQ 25.40625 3.09375 23.59375 1.140625 \nQ 21.796875 -0.796875 18.796875 -0.796875 \nQ 16.09375 -0.796875 14.140625 1.140625 \nQ 12.203125 3.09375 12.203125 5.796875 \nQ 12.203125 8.5 14.140625 10.453125 \nQ 16.09375 12.40625 18.796875 12.40625 \nQ 20.5 12.40625 21.796875 11.703125 \nL 21.796875 22.203125 \nQ 21.796875 26.296875 2.5 29.40625 \nQ 3.09375 40 12.203125 40 \nQ 14.296875 40 18.140625 38.953125 \nQ 22 37.90625 23.703125 37.90625 \nQ 24.703125 37.90625 25.59375 40.203125 \nL 28.703125 39.40625 \nQ 27.203125 34.59375 23.59375 34.59375 \nQ 21.5 34.59375 17.546875 35.6875 \nQ 13.59375 36.796875 11.59375 36.796875 \nQ 9.796875 36.796875 8.25 35.25 \nQ 6.703125 33.703125 6.59375 32.09375 \nQ 13 31 19.203125 28.796875 \nQ 25.40625 26.59375 25.40625 22.5 \nz\nM 22.203125 5.796875 \nQ 22.203125 7.203125 21.203125 8.203125 \nQ 20.203125 9.203125 18.796875 9.203125 \nQ 17.40625 9.203125 16.40625 8.203125 \nQ 15.40625 7.203125 15.40625 5.796875 \nQ 15.40625 4.40625 16.40625 3.40625 \nQ 17.40625 2.40625 18.796875 2.40625 \nQ 20.203125 2.40625 21.203125 3.40625 \nQ 22.203125 4.40625 22.203125 5.796875 \nz\n\" id=\"THSarabunNew-3619\"/>\n     <path d=\"M 28.296875 7.90625 \nQ 28.296875 -0.90625 20.296875 -0.90625 \nQ 12.40625 -0.90625 12.40625 7.90625 \nL 12.40625 13 \nQ 11.296875 12.59375 9.90625 12.59375 \nQ 7.40625 12.59375 5.703125 14.25 \nQ 4 15.90625 4 18.40625 \nQ 4 21 5.703125 22.75 \nQ 7.40625 24.5 9.90625 24.5 \nQ 12.5 24.5 14.25 22.953125 \nQ 16 21.40625 16 18.59375 \nL 16 7.59375 \nQ 16 2.40625 20.296875 2.40625 \nQ 24.703125 2.40625 24.703125 7.59375 \nL 24.703125 22.09375 \nQ 24.703125 24.5 15 26.90625 \nQ 9.203125 28.40625 2.59375 29.296875 \nQ 2.90625 33.90625 6.09375 36.953125 \nQ 9.296875 40 14.59375 40 \nQ 16.703125 40 20.25 38.890625 \nQ 23.796875 37.796875 25.703125 37.796875 \nQ 28.09375 37.796875 28.59375 40 \nL 31.703125 39.296875 \nQ 30.09375 34.09375 25.90625 34.09375 \nQ 23.703125 34.09375 19.84375 35.296875 \nQ 16 36.5 14 36.5 \nQ 11.703125 36.5 9.546875 35.140625 \nQ 7.40625 33.796875 7.203125 32 \nQ 17.203125 30 21.40625 28.40625 \nQ 28.296875 25.90625 28.296875 22.40625 \nz\nM 28.59375 -21.59375 \nL 24.703125 -21.59375 \nL 20.40625 -18.90625 \nL 16 -21.5 \nL 11.5 -16 \nQ 11.40625 -18.796875 9.5 -20.390625 \nQ 7.59375 -22 5 -22 \nQ -1.40625 -21.90625 -1.40625 -16.296875 \nQ -1.40625 -13.90625 0.59375 -12.59375 \nQ 2.59375 -11.296875 5.296875 -11.296875 \nQ 7.59375 -11.296875 8.796875 -11.796875 \nQ 9.40625 -7.703125 13.203125 -5.703125 \nL 15.90625 -7.203125 \nQ 11.796875 -9.203125 11.703125 -13.09375 \nL 16.09375 -18.203125 \nL 20.40625 -16 \nL 25.203125 -19 \nL 25.203125 -14.5 \nQ 24.703125 -14.59375 23.59375 -14.59375 \nQ 21.5 -14.59375 20 -13.25 \nQ 18.5 -11.90625 18.5 -10 \nQ 18.5 -8.09375 20 -6.75 \nQ 21.5 -5.40625 23.59375 -5.40625 \nQ 25.59375 -5.40625 27.09375 -6.65625 \nQ 28.59375 -7.90625 28.59375 -10 \nz\nM 8.40625 -14.703125 \nQ 7.40625 -14 5 -14 \nQ 1.703125 -14.203125 1.703125 -16.59375 \nQ 1.703125 -19.203125 4.796875 -19.203125 \nQ 8.59375 -19.203125 8.59375 -16 \nQ 8.59375 -15.5 8.40625 -14.703125 \nz\nM 26 -10 \nQ 26 -7.796875 23.59375 -7.796875 \nQ 21.203125 -7.796875 21.203125 -10 \nQ 21.203125 -12.296875 23.59375 -12.296875 \nQ 26 -12.296875 26 -10 \nz\nM 12.59375 18.5 \nQ 12.59375 19.59375 11.796875 20.390625 \nQ 11 21.203125 9.90625 21.203125 \nQ 8.796875 21.203125 8.046875 20.390625 \nQ 7.296875 19.59375 7.296875 18.5 \nQ 7.296875 17.40625 8.046875 16.65625 \nQ 8.796875 15.90625 9.90625 15.90625 \nQ 11 15.90625 11.796875 16.65625 \nQ 12.59375 17.40625 12.59375 18.5 \nz\n\" id=\"THSarabunNew-3600\"/>\n     <path d=\"M 27.703125 7.59375 \nQ 27.703125 -0.703125 16.703125 -0.703125 \nQ 5.703125 -0.703125 5.703125 7.59375 \nL 5.703125 23.203125 \nL 9.296875 23.203125 \nL 9.296875 7.40625 \nQ 9.296875 2.5 16.703125 2.5 \nQ 24.09375 2.5 24.09375 7.40625 \nL 24.09375 22.203125 \nQ 24.09375 24.59375 14.40625 27 \nQ 8.5 28.5 2 29.40625 \nQ 2.296875 33.90625 5.25 36.953125 \nQ 8.203125 40 13.296875 40 \nQ 15.59375 40 19.296875 38.890625 \nQ 23 37.796875 24.796875 37.796875 \nQ 27.203125 37.796875 27.59375 40.09375 \nL 30.703125 39.40625 \nQ 29.203125 34.5 25 34.5 \nQ 22.796875 34.5 18.9375 35.640625 \nQ 15.09375 36.796875 13.09375 36.796875 \nQ 11 36.796875 8.953125 35.390625 \nQ 6.90625 34 6.59375 32.09375 \nQ 17.40625 29.90625 19.90625 29.09375 \nQ 27.703125 26.5 27.703125 22.5 \nz\n\" id=\"THSarabunNew-3608\"/>\n     <path d=\"M 38.40625 5.703125 \nQ 38.40625 3 36.453125 1.09375 \nQ 34.5 -0.796875 31.796875 -0.796875 \nQ 29.09375 -0.796875 27.1875 1.09375 \nQ 25.296875 3 25.296875 5.703125 \nL 25.296875 6.40625 \nQ 19.09375 3.90625 15.703125 0 \nL 11.296875 0 \nL 11.296875 27.5 \nQ 10 26.796875 8.296875 26.796875 \nQ 5.59375 26.796875 3.640625 28.75 \nQ 1.703125 30.703125 1.703125 33.40625 \nQ 1.703125 36.09375 3.640625 38.046875 \nQ 5.59375 40 8.296875 40 \nQ 11 40 12.953125 38.046875 \nQ 14.90625 36.09375 14.90625 33.40625 \nL 14.90625 3.90625 \nQ 16.90625 6.09375 22 8.40625 \nQ 27.703125 11 29.40625 12.40625 \nQ 32.796875 15.09375 32.796875 19.296875 \nL 32.796875 39.203125 \nL 36.40625 39.203125 \nL 36.40625 18.796875 \nQ 36.40625 14 34.203125 11.796875 \nQ 38.40625 10.09375 38.40625 5.703125 \nz\nM 11.703125 33.40625 \nQ 11.703125 34.796875 10.703125 35.796875 \nQ 9.703125 36.796875 8.296875 36.796875 \nQ 6.90625 36.796875 5.90625 35.796875 \nQ 4.90625 34.796875 4.90625 33.40625 \nQ 4.90625 32 5.90625 31 \nQ 6.90625 30 8.296875 30 \nQ 9.703125 30 10.703125 31 \nQ 11.703125 32 11.703125 33.40625 \nz\nM 35.203125 5.796875 \nQ 35.203125 7.203125 34.203125 8.203125 \nQ 33.203125 9.203125 31.796875 9.203125 \nQ 30.40625 9.203125 29.40625 8.203125 \nQ 28.40625 7.203125 28.40625 5.796875 \nQ 28.40625 4.40625 29.40625 3.40625 \nQ 30.40625 2.40625 31.796875 2.40625 \nQ 33.203125 2.40625 34.203125 3.40625 \nQ 35.203125 4.40625 35.203125 5.796875 \nz\n\" id=\"THSarabunNew-3609\"/>\n     <path d=\"M 47.796875 -3.40625 \nQ 47.59375 -9.40625 44.640625 -13.25 \nQ 41.703125 -17.09375 35.40625 -17.09375 \nQ 31.40625 -17.09375 28.203125 -14.59375 \nQ 25 -12.09375 25 -8.40625 \nQ 25 -6.203125 26.59375 -4.59375 \nQ 28.203125 -3 30.40625 -3 \nQ 32.703125 -3 34.296875 -4.59375 \nQ 35.90625 -6.203125 35.90625 -8.40625 \nQ 35.90625 -12.09375 32.40625 -13.5 \nQ 33.59375 -14.203125 35.296875 -14.203125 \nQ 43.90625 -14.203125 44.09375 -3.40625 \nz\nM 33.203125 -8.40625 \nQ 33.203125 -7.296875 32.390625 -6.5 \nQ 31.59375 -5.703125 30.5 -5.703125 \nQ 29.40625 -5.703125 28.59375 -6.5 \nQ 27.796875 -7.296875 27.796875 -8.40625 \nQ 27.796875 -9.5 28.59375 -10.296875 \nQ 29.40625 -11.09375 30.5 -11.09375 \nQ 31.59375 -11.09375 32.390625 -10.296875 \nQ 33.203125 -9.5 33.203125 -8.40625 \nz\nM 15.703125 5.703125 \nQ 15.703125 7.09375 14.703125 8.09375 \nQ 13.703125 9.09375 12.296875 9.09375 \nQ 10.90625 9.09375 9.953125 8.09375 \nQ 9 7.09375 9 5.703125 \nQ 9 4.296875 9.953125 3.34375 \nQ 10.90625 2.40625 12.296875 2.40625 \nQ 13.703125 2.40625 14.703125 3.34375 \nQ 15.703125 4.296875 15.703125 5.703125 \nz\nM 46.296875 8.203125 \nQ 46.296875 -0.796875 36.5 -0.796875 \nQ 26.796875 -0.796875 26.796875 8.296875 \nL 26.796875 26.5 \nQ 26.796875 36.796875 17.09375 36.796875 \nQ 13.90625 36.796875 11.15625 34.890625 \nQ 8.40625 33 7.296875 29.90625 \nQ 12.90625 29.5 15.296875 25.5 \nQ 12.90625 25 11.09375 22.890625 \nQ 9.296875 20.796875 9.296875 18.203125 \nL 9.296875 11.703125 \nQ 10.59375 12.296875 12.296875 12.296875 \nQ 15.09375 12.296875 17 10.390625 \nQ 18.90625 8.5 18.90625 5.796875 \nQ 18.90625 3.09375 17.34375 1.09375 \nQ 15.796875 -0.90625 12.296875 -0.90625 \nQ 9.40625 -0.90625 7.546875 0.9375 \nQ 5.703125 2.796875 5.703125 5.90625 \nL 5.703125 18.09375 \nQ 5.703125 23.5 10.90625 26 \nQ 7.09375 27.5 3 27.09375 \nQ 3.90625 32.703125 7.84375 36.34375 \nQ 11.796875 40 17.296875 40 \nQ 23.5 40 26.953125 36.59375 \nQ 30.40625 33.203125 30.40625 26.90625 \nL 30.40625 8 \nQ 30.40625 2.40625 36.59375 2.40625 \nQ 42.703125 2.40625 42.703125 8 \nL 42.703125 39.203125 \nL 46.296875 39.203125 \nz\n\" id=\"THSarabunNew-3597\"/>\n    </defs>\n    <g transform=\"translate(177.386719 15.559375)scale(0.1 -0.1)\">\n     <use xlink:href=\"#THSarabunNew-35\"/>\n     <use x=\"40.299988\" xlink:href=\"#THSarabunNew-3585\"/>\n     <use x=\"78.899979\" xlink:href=\"#THSarabunNew-3641\"/>\n     <use x=\"78.899979\" xlink:href=\"#THSarabunNew-3626\"/>\n     <use x=\"116.999969\" xlink:href=\"#THSarabunNew-3633\"/>\n     <use x=\"116.999969\" xlink:href=\"#THSarabunNew-3656\"/>\n     <use x=\"116.999969\" xlink:href=\"#THSarabunNew-3591\"/>\n     <use x=\"146.399963\" xlink:href=\"#THSarabunNew-3651\"/>\n     <use x=\"170.59996\" xlink:href=\"#THSarabunNew-3627\"/>\n     <use x=\"213.299957\" xlink:href=\"#THSarabunNew-3657\"/>\n     <use x=\"213.299957\" xlink:href=\"#THSarabunNew-3617\"/>\n     <use x=\"253.299942\" xlink:href=\"#THSarabunNew-3638\"/>\n     <use x=\"253.299942\" xlink:href=\"#THSarabunNew-3591\"/>\n     <use x=\"282.699936\" xlink:href=\"#THSarabunNew-3629\"/>\n     <use x=\"321.399933\" xlink:href=\"#THSarabunNew-3618\"/>\n     <use x=\"358.899918\" xlink:href=\"#THSarabunNew-3641\"/>\n     <use x=\"358.899918\" xlink:href=\"#THSarabunNew-3656\"/>\n     <use x=\"358.899918\" xlink:href=\"#THSarabunNew-3651\"/>\n     <use x=\"383.099915\" xlink:href=\"#THSarabunNew-3605\"/>\n     <use x=\"422.199905\" xlink:href=\"#THSarabunNew-3657\"/>\n     <use x=\"422.199905\" xlink:href=\"#THSarabunNew-3619\"/>\n     <use x=\"454.399902\" xlink:href=\"#THSarabunNew-3633\"/>\n     <use x=\"454.399902\" xlink:href=\"#THSarabunNew-3600\"/>\n     <use x=\"488.69989\" xlink:href=\"#THSarabunNew-3608\"/>\n     <use x=\"522.199875\" xlink:href=\"#THSarabunNew-3619\"/>\n     <use x=\"554.399872\" xlink:href=\"#THSarabunNew-3619\"/>\n     <use x=\"586.599869\" xlink:href=\"#THSarabunNew-3617\"/>\n     <use x=\"626.599854\" xlink:href=\"#THSarabunNew-3609\"/>\n     <use x=\"668.599838\" xlink:href=\"#THSarabunNew-3641\"/>\n     <use x=\"668.599838\" xlink:href=\"#THSarabunNew-3597\"/>\n    </g>\n   </g>\n  </g>\n </g>\n <defs>\n  <clipPath id=\"pd15ecfd1d3\">\n   <rect height=\"217.44\" width=\"334.8\" x=\"46.0125\" y=\"21.559375\"/>\n  </clipPath>\n </defs>\n</svg>\n",
      "image/png": "[encoded data removed]"
     },
     "metadata": {}
    }
   ],
   "source": [
    "i = 0\n",
    "df = dfs[i][dfs[i].date < '2020-11-25']\n",
    "\n",
    "hashtag = jsons[i].split('/')[1].replace('.json','')\n",
    "print(hashtag)\n",
    "df.groupby(df[\"date\"]).count()['id'].plot()\n",
    "plt.title(hashtag, fontproperties=fp)\n",
    "plt.show()"
   ]
  },
  {
   "cell_type": "code",
   "execution_count": null,
   "metadata": {},
   "outputs": [],
   "source": []
  },
  {
   "cell_type": "code",
   "execution_count": 74,
   "metadata": {},
   "outputs": [
    {
     "name": "stdout",
     "output_type": "stream",
     "text": [
      "8286 people\n",
      "|1|5604|\n",
      "|2|1202|\n",
      "|3|493|\n",
      "|4|269|\n",
      "|5|157|\n",
      "|6|92|\n",
      "|7|90|\n",
      "|8|53|\n",
      "|9|49|\n",
      "|10|41|\n",
      "|11|32|\n",
      "|12|24|\n",
      "|13|17|\n",
      "|14|16|\n",
      "|15|13|\n",
      "|16|18|\n",
      "|17|17|\n",
      "|18|10|\n",
      "|19|11|\n",
      "|20|8|\n",
      "|21|9|\n",
      "|22|3|\n",
      "|23|8|\n",
      "|24|1|\n",
      "|25|3|\n",
      "|26|4|\n",
      "|27|2|\n",
      "|29|1|\n",
      "|30|2|\n",
      "|31|1|\n",
      "|32|1|\n",
      "|33|2|\n",
      "|34|1|\n",
      "|35|3|\n",
      "|36|3|\n",
      "|37|1|\n",
      "|38|1|\n",
      "|39|2|\n",
      "|40|3|\n",
      "|41|2|\n",
      "|42|1|\n",
      "|44|1|\n",
      "|45|2|\n",
      "|47|2|\n",
      "|48|1|\n",
      "|49|2|\n",
      "|56|1|\n",
      "|59|1|\n",
      "|62|1|\n",
      "|68|2|\n",
      "|118|1|\n",
      "|136|1|\n",
      "|355|1|\n"
     ]
    }
   ],
   "source": [
    "print(len(df.groupby('username').count()['id']), 'people')\n",
    "\n",
    "for i, v in df.groupby('username').count()['id'].sort_values(ascending=False).value_counts().sort_index().iteritems():\n",
    "    print(f\"|{i}|{v}|\")"
   ]
  },
  {
   "cell_type": "code",
   "execution_count": null,
   "metadata": {},
   "outputs": [],
   "source": [
    "df.place !"
   ]
  },
  {
   "cell_type": "markdown",
   "metadata": {},
   "source": [
    "# oldest tweets"
   ]
  },
  {
   "cell_type": "code",
   "execution_count": 69,
   "metadata": {},
   "outputs": [
    {
     "data": {
      "text/html": [
       "<div>\n",
       "<style scoped>\n",
       "    .dataframe tbody tr th:only-of-type {\n",
       "        vertical-align: middle;\n",
       "    }\n",
       "\n",
       "    .dataframe tbody tr th {\n",
       "        vertical-align: top;\n",
       "    }\n",
       "\n",
       "    .dataframe thead th {\n",
       "        text-align: right;\n",
       "    }\n",
       "</style>\n",
       "<table border=\"1\" class=\"dataframe\">\n",
       "  <thead>\n",
       "    <tr style=\"text-align: right;\">\n",
       "      <th></th>\n",
       "      <th>created_at</th>\n",
       "      <th>username</th>\n",
       "      <th>tweet</th>\n",
       "      <th>retweets_count</th>\n",
       "    </tr>\n",
       "  </thead>\n",
       "  <tbody>\n",
       "    <tr>\n",
       "      <th>278311</th>\n",
       "      <td>2020-10-16 16:10:02+07:00</td>\n",
       "      <td>uauajutatip</td>\n",
       "      <td>ย้ายมาแยกปทุมวัน เวลาเดิม ลงถนน! #16ตุลาไปราชป...</td>\n",
       "      <td>37582</td>\n",
       "    </tr>\n",
       "    <tr>\n",
       "      <th>278310</th>\n",
       "      <td>2020-10-16 16:11:37+07:00</td>\n",
       "      <td>humancanspeak</td>\n",
       "      <td>ไปปทุมวันกันหรอ #15ตุลาไปราชประสงค์ #16ตุลาไปร...</td>\n",
       "      <td>31</td>\n",
       "    </tr>\n",
       "    <tr>\n",
       "      <th>278309</th>\n",
       "      <td>2020-10-16 16:11:46+07:00</td>\n",
       "      <td>mybabytenten</td>\n",
       "      <td>ย้ายที่ค่ะ #16ตุลาไปแยกปทุมวัน</td>\n",
       "      <td>569</td>\n",
       "    </tr>\n",
       "    <tr>\n",
       "      <th>278308</th>\n",
       "      <td>2020-10-16 16:12:02+07:00</td>\n",
       "      <td>yg24894395</td>\n",
       "      <td>#16ตุลาไปราชประสงค์ #16ตุลาไปแยกปทุมวัน</td>\n",
       "      <td>13</td>\n",
       "    </tr>\n",
       "    <tr>\n",
       "      <th>278307</th>\n",
       "      <td>2020-10-16 16:12:08+07:00</td>\n",
       "      <td>originality_man</td>\n",
       "      <td>#16ตุลาไปแยกปทุมวัน</td>\n",
       "      <td>8</td>\n",
       "    </tr>\n",
       "    <tr>\n",
       "      <th>278306</th>\n",
       "      <td>2020-10-16 16:12:37+07:00</td>\n",
       "      <td>lycanz14</td>\n",
       "      <td>#16ตุลาไปแยกปทุมวัน</td>\n",
       "      <td>0</td>\n",
       "    </tr>\n",
       "    <tr>\n",
       "      <th>278305</th>\n",
       "      <td>2020-10-16 16:12:38+07:00</td>\n",
       "      <td>onedaywellc</td>\n",
       "      <td>#16ตุลาไปราชประสงค์ #16ตุลาไปแยกปทุมวัน</td>\n",
       "      <td>1</td>\n",
       "    </tr>\n",
       "    <tr>\n",
       "      <th>278304</th>\n",
       "      <td>2020-10-16 16:12:58+07:00</td>\n",
       "      <td>iam_jiw</td>\n",
       "      <td>แยกปทุมวันครับทุกคน!!  #16ตุลาไปแยกปทุมวัน</td>\n",
       "      <td>165</td>\n",
       "    </tr>\n",
       "    <tr>\n",
       "      <th>278303</th>\n",
       "      <td>2020-10-16 16:13:00+07:00</td>\n",
       "      <td>warncc</td>\n",
       "      <td>แยกปทุมวัน ไปๆๆๆๆ #16ตุลาไปแยกปทุมวัน</td>\n",
       "      <td>2</td>\n",
       "    </tr>\n",
       "    <tr>\n",
       "      <th>278302</th>\n",
       "      <td>2020-10-16 16:13:03+07:00</td>\n",
       "      <td>originality_man</td>\n",
       "      <td>#16ตุลาไปแยกปทุมวัน</td>\n",
       "      <td>9</td>\n",
       "    </tr>\n",
       "  </tbody>\n",
       "</table>\n",
       "</div>"
      ],
      "text/plain": [
       "                      created_at         username  \\\n",
       "278311 2020-10-16 16:10:02+07:00      uauajutatip   \n",
       "278310 2020-10-16 16:11:37+07:00    humancanspeak   \n",
       "278309 2020-10-16 16:11:46+07:00     mybabytenten   \n",
       "278308 2020-10-16 16:12:02+07:00       yg24894395   \n",
       "278307 2020-10-16 16:12:08+07:00  originality_man   \n",
       "278306 2020-10-16 16:12:37+07:00         lycanz14   \n",
       "278305 2020-10-16 16:12:38+07:00      onedaywellc   \n",
       "278304 2020-10-16 16:12:58+07:00          iam_jiw   \n",
       "278303 2020-10-16 16:13:00+07:00           warncc   \n",
       "278302 2020-10-16 16:13:03+07:00  originality_man   \n",
       "\n",
       "                                                    tweet  retweets_count  \n",
       "278311  ย้ายมาแยกปทุมวัน เวลาเดิม ลงถนน! #16ตุลาไปราชป...           37582  \n",
       "278310  ไปปทุมวันกันหรอ #15ตุลาไปราชประสงค์ #16ตุลาไปร...              31  \n",
       "278309                     ย้ายที่ค่ะ #16ตุลาไปแยกปทุมวัน             569  \n",
       "278308            #16ตุลาไปราชประสงค์ #16ตุลาไปแยกปทุมวัน              13  \n",
       "278307                                #16ตุลาไปแยกปทุมวัน               8  \n",
       "278306                                #16ตุลาไปแยกปทุมวัน               0  \n",
       "278305            #16ตุลาไปราชประสงค์ #16ตุลาไปแยกปทุมวัน               1  \n",
       "278304         แยกปทุมวันครับทุกคน!!  #16ตุลาไปแยกปทุมวัน             165  \n",
       "278303              แยกปทุมวัน ไปๆๆๆๆ #16ตุลาไปแยกปทุมวัน               2  \n",
       "278302                                #16ตุลาไปแยกปทุมวัน               9  "
      ]
     },
     "execution_count": 69,
     "metadata": {},
     "output_type": "execute_result"
    }
   ],
   "source": [
    "df.tail(10)[['created_at','username','tweet','retweets_count']].sort_values(['created_at'])"
   ]
  },
  {
   "cell_type": "code",
   "execution_count": 70,
   "metadata": {},
   "outputs": [
    {
     "name": "stdout",
     "output_type": "stream",
     "text": [
      "|2020-10-16 16:10:02|uauajutatip|ย้ายมาแยกปทุมวัน เวลาเดิม ลงถนน! #16ตุลาไปราชประสงค์ #16ตุลาไปแยกปทุมวัน|37582|[link](https://twitter.com/uauajutatip/status/1317030029579087872)|\n",
      "|2020-10-16 16:11:37|humancanspeak|ไปปทุมวันกันหรอ #15ตุลาไปราชประสงค์ #16ตุลาไปราชประสงค์ #16ตุลาไปแยกปทุมวัน|31|[link](https://twitter.com/humancanspeak/status/1317030425886294018)|\n",
      "|2020-10-16 16:11:46|mybabytenten|ย้ายที่ค่ะ #16ตุลาไปแยกปทุมวัน|569|[link](https://twitter.com/mybabytenten/status/1317030464104800257)|\n",
      "|2020-10-16 16:12:02|yg24894395|#16ตุลาไปราชประสงค์ #16ตุลาไปแยกปทุมวัน|13|[link](https://twitter.com/YG24894395/status/1317030529137455105)|\n",
      "|2020-10-16 16:12:08|originality_man|#16ตุลาไปแยกปทุมวัน|8|[link](https://twitter.com/originality_man/status/1317030554500362240)|\n",
      "|2020-10-16 16:12:37|lycanz14|#16ตุลาไปแยกปทุมวัน|0|[link](https://twitter.com/Lycanz14/status/1317030679033491456)|\n",
      "|2020-10-16 16:12:38|onedaywellc|#16ตุลาไปราชประสงค์ #16ตุลาไปแยกปทุมวัน|1|[link](https://twitter.com/onedaywellc/status/1317030684091838466)|\n",
      "|2020-10-16 16:12:58|iam_jiw|แยกปทุมวันครับทุกคน!!  #16ตุลาไปแยกปทุมวัน|165|[link](https://twitter.com/iam_jiw/status/1317030767810076683)|\n",
      "|2020-10-16 16:13:00|warncc|แยกปทุมวัน ไปๆๆๆๆ #16ตุลาไปแยกปทุมวัน|2|[link](https://twitter.com/WARNCC/status/1317030774038691841)|\n",
      "|2020-10-16 16:13:03|originality_man|#16ตุลาไปแยกปทุมวัน|9|[link](https://twitter.com/originality_man/status/1317030787502415872)|\n"
     ]
    }
   ],
   "source": [
    "for i, row in df.tail(10)[['created_at','username','tweet','retweets_count','link']].sort_values(['created_at']).iterrows():\n",
    "    row['created_at'] = str(row['created_at']).split('+')[0]\n",
    "    row['retweets_count'] = str(row['retweets_count'])\n",
    "    row['link'] = f\"[link]({row['link']})\"\n",
    "    print('|'+\"|\".join(row)+\"|\")"
   ]
  },
  {
   "cell_type": "markdown",
   "metadata": {},
   "source": [
    "# most frequently retweeted "
   ]
  },
  {
   "cell_type": "code",
   "execution_count": 46,
   "metadata": {},
   "outputs": [
    {
     "data": {
      "text/html": [
       "<div>\n",
       "<style scoped>\n",
       "    .dataframe tbody tr th:only-of-type {\n",
       "        vertical-align: middle;\n",
       "    }\n",
       "\n",
       "    .dataframe tbody tr th {\n",
       "        vertical-align: top;\n",
       "    }\n",
       "\n",
       "    .dataframe thead th {\n",
       "        text-align: right;\n",
       "    }\n",
       "</style>\n",
       "<table border=\"1\" class=\"dataframe\">\n",
       "  <thead>\n",
       "    <tr style=\"text-align: right;\">\n",
       "      <th></th>\n",
       "      <th>created_at</th>\n",
       "      <th>username</th>\n",
       "      <th>tweet</th>\n",
       "      <th>retweets_count</th>\n",
       "    </tr>\n",
       "  </thead>\n",
       "  <tbody>\n",
       "    <tr>\n",
       "      <th>195409</th>\n",
       "      <td>2020-10-16 19:24:30+07:00</td>\n",
       "      <td>violettewautier</td>\n",
       "      <td>การชุมนุมต่อสู้เพื่อความยุติธรรม เพื่อประชาธิป...</td>\n",
       "      <td>151500</td>\n",
       "    </tr>\n",
       "    <tr>\n",
       "      <th>238826</th>\n",
       "      <td>2020-10-16 18:59:31+07:00</td>\n",
       "      <td>tptourpab</td>\n",
       "      <td>คุณเห็นความแตกต่างของ 2 กลุ่มนี้ไหม คุณเอะใจ ม...</td>\n",
       "      <td>107177</td>\n",
       "    </tr>\n",
       "    <tr>\n",
       "      <th>131489</th>\n",
       "      <td>2020-10-16 20:15:42+07:00</td>\n",
       "      <td>thebattz</td>\n",
       "      <td>อห โคตรสุดเลยภาพนี้ มือเปล่าๆประจันหน้ากับรถฉี...</td>\n",
       "      <td>94728</td>\n",
       "    </tr>\n",
       "    <tr>\n",
       "      <th>205938</th>\n",
       "      <td>2020-10-16 19:18:22+07:00</td>\n",
       "      <td>ud_awat</td>\n",
       "      <td>พวกคุณใช้ความรุนแรงแบบนี้กับประชาชนมือเปล่า รั...</td>\n",
       "      <td>91899</td>\n",
       "    </tr>\n",
       "    <tr>\n",
       "      <th>241401</th>\n",
       "      <td>2020-10-16 18:58:02+07:00</td>\n",
       "      <td>25novemm</td>\n",
       "      <td>เหี้ยมาก น้ำสีฟ้าที่มันฉีดใส่ เป็นเคมีฟิสิกส์ ...</td>\n",
       "      <td>87483</td>\n",
       "    </tr>\n",
       "    <tr>\n",
       "      <th>32665</th>\n",
       "      <td>2020-10-16 23:25:11+07:00</td>\n",
       "      <td>angangopilan</td>\n",
       "      <td>ล่าสุดหนูพึ่งได้ให้สัมภาษณ์กับสื่อแคนาดา (CBC ...</td>\n",
       "      <td>86561</td>\n",
       "    </tr>\n",
       "    <tr>\n",
       "      <th>219509</th>\n",
       "      <td>2020-10-16 19:10:18+07:00</td>\n",
       "      <td>jankzinn</td>\n",
       "      <td>มึงอันนี้เหี้ยมากอะ หลวงพี่เข้าไปไหว้คนขับรถฉี...</td>\n",
       "      <td>85091</td>\n",
       "    </tr>\n",
       "    <tr>\n",
       "      <th>199810</th>\n",
       "      <td>2020-10-16 19:21:50+07:00</td>\n",
       "      <td>8laryn</td>\n",
       "      <td>เซพพี่คนนี้เค้สด้วยนะคะ เห็นเค้ายืนขวางรถให้มา...</td>\n",
       "      <td>84489</td>\n",
       "    </tr>\n",
       "    <tr>\n",
       "      <th>194318</th>\n",
       "      <td>2020-10-16 19:25:12+07:00</td>\n",
       "      <td>vousjay2</td>\n",
       "      <td>ทุกคนอย่าให้คลิปนี้หายไป ขอร้อง ช่วยรีกันไปเยอ...</td>\n",
       "      <td>83345</td>\n",
       "    </tr>\n",
       "    <tr>\n",
       "      <th>173004</th>\n",
       "      <td>2020-10-16 19:42:08+07:00</td>\n",
       "      <td>liszukung</td>\n",
       "      <td>เชี่ยเอ๊ย คุณฐาปนีย์แม่งแนวหน้ามาก มีเสียงแว่ว...</td>\n",
       "      <td>83260</td>\n",
       "    </tr>\n",
       "  </tbody>\n",
       "</table>\n",
       "</div>"
      ],
      "text/plain": [
       "                      created_at         username  \\\n",
       "195409 2020-10-16 19:24:30+07:00  violettewautier   \n",
       "238826 2020-10-16 18:59:31+07:00        tptourpab   \n",
       "131489 2020-10-16 20:15:42+07:00         thebattz   \n",
       "205938 2020-10-16 19:18:22+07:00          ud_awat   \n",
       "241401 2020-10-16 18:58:02+07:00         25novemm   \n",
       "32665  2020-10-16 23:25:11+07:00     angangopilan   \n",
       "219509 2020-10-16 19:10:18+07:00         jankzinn   \n",
       "199810 2020-10-16 19:21:50+07:00           8laryn   \n",
       "194318 2020-10-16 19:25:12+07:00         vousjay2   \n",
       "173004 2020-10-16 19:42:08+07:00        liszukung   \n",
       "\n",
       "                                                    tweet  retweets_count  \n",
       "195409  การชุมนุมต่อสู้เพื่อความยุติธรรม เพื่อประชาธิป...          151500  \n",
       "238826  คุณเห็นความแตกต่างของ 2 กลุ่มนี้ไหม คุณเอะใจ ม...          107177  \n",
       "131489  อห โคตรสุดเลยภาพนี้ มือเปล่าๆประจันหน้ากับรถฉี...           94728  \n",
       "205938  พวกคุณใช้ความรุนแรงแบบนี้กับประชาชนมือเปล่า รั...           91899  \n",
       "241401  เหี้ยมาก น้ำสีฟ้าที่มันฉีดใส่ เป็นเคมีฟิสิกส์ ...           87483  \n",
       "32665   ล่าสุดหนูพึ่งได้ให้สัมภาษณ์กับสื่อแคนาดา (CBC ...           86561  \n",
       "219509  มึงอันนี้เหี้ยมากอะ หลวงพี่เข้าไปไหว้คนขับรถฉี...           85091  \n",
       "199810  เซพพี่คนนี้เค้สด้วยนะคะ เห็นเค้ายืนขวางรถให้มา...           84489  \n",
       "194318  ทุกคนอย่าให้คลิปนี้หายไป ขอร้อง ช่วยรีกันไปเยอ...           83345  \n",
       "173004  เชี่ยเอ๊ย คุณฐาปนีย์แม่งแนวหน้ามาก มีเสียงแว่ว...           83260  "
      ]
     },
     "execution_count": 46,
     "metadata": {},
     "output_type": "execute_result"
    }
   ],
   "source": [
    "df.sort_values([\"retweets_count\"], ascending=False)[['created_at','username','tweet','retweets_count']].head(10)"
   ]
  },
  {
   "cell_type": "code",
   "execution_count": 55,
   "metadata": {},
   "outputs": [
    {
     "name": "stdout",
     "output_type": "stream",
     "text": [
      "|2020-09-11 16:42:07|malykh_jj|หลายคนก่อนเข้ามาประกวดบอกอยากเป็นกระบอกเสียง อยากใช้ Platformเวทีนางงามในการแก้ปัญหา แต่พอถึงเวลามีปัญหาจริงละเงียบกริบ คือไรคุณพี่ สงสารมารีญามากที่แบกวงการนางงามอยู่ขอบคุณมารีญามากเป็นกระบอกเสียงที่ดีและมีจุดยืน #มารีญา #คัดค้านนําเข้าเศษพลาสติก #ธรรมศาสตร์และการชุมนุม  https://t.co/Eb3FV8TWjT|81673|[link](https://twitter.com/malykh_jj/status/1304354526401495040)|\n",
      "|2020-02-26 18:12:52|beenobeeta|เมิงงง มธ ประกาศ จะนำ นศ ไปราชดำเนิน  ยังไงดี น้องเค้าเปิดแล้วนะ #ธรรมศาสตร์และการชุมนุม|63250|[link](https://twitter.com/beenobeeta/status/1232624568348495872)|\n",
      "|2020-02-26 19:03:58|xiaozaoput|\"หนังสือก็ต้องอ่าน รัฐบาลก็ต้องด่า\" มันส์สุดทีน55555   #ธรรมศาสตร์และการชุมนุม  https://t.co/eZwgrW1Hty|62298|[link](https://twitter.com/Xiaozaoput/status/1232637427203706880)|\n",
      "|2020-09-19 19:09:30|nnoophilaa|แม่เจ้า หนึ่งทุ่ม คนเต็มท้องสนามหลวงเลย มันแบบ... กุว่ามันจะจบที่รุ่นเราจริงๆแหละทุกคน ความหวังมันมากขึ้นไปเรื่อยๆ 😭🙏🏻 #19กันยาทวงอํานาจคืนราษฏร #ธรรมศาสตร์และการชุมนุม #ม็อบ19กันยา  https://t.co/MEQWh6UBCx|62037|[link](https://twitter.com/nnoophilaa/status/1307290721309741057)|\n",
      "|2020-02-26 18:03:50|chennietckjd|อย่างชอบ5555555555555  #ธรรมศาสตร์และการชุมนุม  https://t.co/GNLkXK4ipR|50168|[link](https://twitter.com/chennietckjd/status/1232622292984745984)|\n",
      "|2020-09-11 16:40:11|annabeeannabell|ตอนนี้ตำรวจกำลังซ้อมปาแก๊สน้ำตาที่ชลบุรี เราไม่รู้ว่าจะติดแท๊กไหน #ธรรมศาสตร์และการชุมนุม  https://t.co/yCqGG34blk|50045|[link](https://twitter.com/annabeeannabell/status/1304354041795719169)|\n",
      "|2020-02-26 21:40:21|pine_js852|น้องคนนี้จังหวะโบ๊บ๊ะมาก ชอบตอนแม่ห้าม  แม่ : แชมป์อย่าไปนะลูก! ช : ได้แม่.. ตอนนี้แม่น้องเค้ารู้ยัง 555555555555 #ธรรมศาสตร์และการชุมนุม  https://t.co/IHcRA3X1Na|46506|[link](https://twitter.com/Pine_js852/status/1232676781519278080)|\n",
      "|2020-02-26 19:55:02|volleyship|\"ตัดมาจากวีดีโอของน้อง  ช่วงท่อนฮุค\" น้องๆเฉียบมาก👍🏻 #ไม่ทนไม่ถอยไม่ยอม #ราชมงคลจะไม่ทนอีกต่อไป #ธรรมศาสตร์และการชุมนุม #อภิปรายไม่ใว้วางใจรัฐบาล cr: fb Sumatee Kaongam  https://t.co/b2FG4nGn3H|43683|[link](https://twitter.com/volleyship/status/1232650278941286401)|\n",
      "|2020-02-26 20:33:17|june16425|ขอพื้นที่ขำก่อนค่ะ555555 #ธรรมศาสตร์และการชุมนุม  https://t.co/bQd1awz6XH|42421|[link](https://twitter.com/june16425/status/1232659904751497216)|\n",
      "|2020-02-26 21:16:25|realnameismynx|ที่สงสัยคือธรรมศาสตร์เขาทำได้ไงวะ อุดมการณ์ที่แรงชิบหายเพื่อประชาธิปไตย หล่อหลอมนักศึกษาทุกคนเป็นหมื่นๆให้รับใช้ความถูกต้องได้ขนาดนี้อ่ะ 47ปีที่แล้วกับตอนนี้คือไม่เปลี่ยนเลย กูโครตยอมการปลูกฝังจิตสำนึกของสถาบันเขา ยาแรงไม่หยุด #ธรรมศาสตร์และการชุมนุม|40989|[link](https://twitter.com/realnameismynx/status/1232670757899001857)|\n"
     ]
    }
   ],
   "source": [
    "for i, row in df.sort_values([\"retweets_count\"], ascending=False)[['created_at','username','tweet','retweets_count','link']].head(10).iterrows():\n",
    "    row['created_at'] = str(row['created_at']).split('+')[0]\n",
    "    row['retweets_count'] = str(row['retweets_count'])\n",
    "    row['link'] = f\"[link]({row['link']})\"\n",
    "    print('|'+\"|\".join(row)+\"|\")"
   ]
  },
  {
   "cell_type": "code",
   "execution_count": null,
   "metadata": {},
   "outputs": [],
   "source": []
  }
 ],
 "metadata": {
  "kernelspec": {
   "name": "python37564bit72de44cd76184052b9457c2863c13ac2",
   "display_name": "Python 3.7.5 64-bit ('3.7')"
  },
  "language_info": {
   "codemirror_mode": {
    "name": "ipython",
    "version": 3
   },
   "file_extension": ".py",
   "mimetype": "text/x-python",
   "name": "python",
   "nbconvert_exporter": "python",
   "pygments_lexer": "ipython3",
   "version": "3.7.5"
  },
  "metadata": {
   "interpreter": {
    "hash": "e534e48711db4d1e1c48977d0d14ff85b1f16d41bcc4fdfd88268a329b3c9d66"
   }
  }
 },
 "nbformat": 4,
 "nbformat_minor": 4
}