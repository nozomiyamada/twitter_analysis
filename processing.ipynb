{
 "cells": [
  {
   "cell_type": "markdown",
   "metadata": {},
   "source": [
    "# import"
   ]
  },
  {
   "cell_type": "code",
   "execution_count": 108,
   "metadata": {},
   "outputs": [],
   "source": [
    "import pandas as pd\n",
    "import json\n",
    "from tqdm import tqdm\n",
    "from glob import glob\n",
    "from collections import Counter\n",
    "\n",
    "import matplotlib.font_manager as fm\n",
    "import matplotlib.pyplot as plt\n",
    "plt.style.use('ggplot')\n",
    "font_path = '/Users/Nozomi/Library/Fonts/THSarabunNew.ttf'\n",
    "fp = fm.FontProperties(fname=font_path)"
   ]
  },
  {
   "cell_type": "code",
   "execution_count": 2,
   "metadata": {},
   "outputs": [
    {
     "name": "stdout",
     "output_type": "stream",
     "text": [
      "0 tweets/#กูสั่งให้มึงอยู่ใต้รัฐธรรมนูญ.json\n",
      "1 tweets/#16ตุลาไปแยกปทุมวัน.json\n",
      "2 tweets/#saveวันเฉลิม.json\n",
      "3 tweets/#ธรรมศาสตร์และการชุมนุม.json\n",
      "4 tweets/#เกียมอุดมไม่ก้มหัวให้เผด็จการ.json\n",
      "5 tweets/#25พฤศจิกาไปSCB.json\n",
      "6 tweets/#ม็อบ25พฤศจิกาทวงคืนสมบัติชาติ.json\n",
      "7 tweets/#ม็อบ2ธันวา.json\n"
     ]
    }
   ],
   "source": [
    "jsons = glob('tweets/*.json')\n",
    "for i, f in enumerate(jsons):\n",
    "    print(i,f)"
   ]
  },
  {
   "cell_type": "markdown",
   "metadata": {},
   "source": [
    "# open file"
   ]
  },
  {
   "cell_type": "code",
   "execution_count": 3,
   "metadata": {},
   "outputs": [],
   "source": [
    "df0 = pd.read_json(jsons[0], lines=True)\n",
    "df1 = pd.read_json(jsons[1], lines=True)\n",
    "df2 = pd.read_json(jsons[2], lines=True)\n",
    "df3 = pd.read_json(jsons[3], lines=True)\n",
    "df4 = pd.read_json(jsons[4], lines=True)\n",
    "df5 = pd.read_json(jsons[5], lines=True)\n",
    "df6 = pd.read_json(jsons[6], lines=True)\n",
    "\n",
    "dfs = [df0,df1,df2,df3,df4,df5,df6]"
   ]
  },
  {
   "cell_type": "code",
   "execution_count": 4,
   "metadata": {},
   "outputs": [
    {
     "data": {
      "text/plain": [
       "id                                               1381195923112353800\n",
       "conversation_id                                  1381195923112353792\n",
       "created_at                                 2021-04-11 17:42:24+07:00\n",
       "date                                             2021-04-11 00:00:00\n",
       "time                                                        17:42:24\n",
       "timezone                                                         700\n",
       "user_id                                                    220213059\n",
       "username                                                   lerdnarit\n",
       "name                                                          x-face\n",
       "place                                                               \n",
       "tweet              รดด้วยเยี่ยวสิ #โควิด19 #โควิด19วันนี้ #Thaila...\n",
       "language                                                          th\n",
       "mentions                                                          []\n",
       "urls                                                              []\n",
       "photos                                                            []\n",
       "replies_count                                                      0\n",
       "retweets_count                                                     0\n",
       "likes_count                                                        0\n",
       "hashtags           [โควิด19, โควิด19วันนี้, thailand, กูสั่งให้มึ...\n",
       "cashtags                                                          []\n",
       "link               https://twitter.com/lerdnarit/status/138119592...\n",
       "retweet                                                        False\n",
       "quote_url          https://twitter.com/BenjamasAor/status/1381065...\n",
       "video                                                              0\n",
       "thumbnail                                                           \n",
       "near                                                                \n",
       "geo                                                                 \n",
       "source                                                              \n",
       "user_rt_id                                                          \n",
       "user_rt                                                             \n",
       "retweet_id                                                          \n",
       "reply_to                                                          []\n",
       "retweet_date                                                        \n",
       "translate                                                           \n",
       "trans_src                                                           \n",
       "trans_dest                                                          \n",
       "Name: 3, dtype: object"
      ]
     },
     "execution_count": 4,
     "metadata": {},
     "output_type": "execute_result"
    }
   ],
   "source": [
    "df0.iloc[3]"
   ]
  },
  {
   "cell_type": "code",
   "execution_count": 31,
   "metadata": {},
   "outputs": [
    {
     "data": {
      "text/plain": [
       "0          2021-5-8-9\n",
       "1        2021-4-19-21\n",
       "2         2021-4-13-7\n",
       "3        2021-4-11-17\n",
       "4         2021-4-6-10\n",
       "             ...     \n",
       "19060    2020-11-17-0\n",
       "19061    2020-11-17-0\n",
       "19062    2020-11-17-0\n",
       "19063    2020-11-17-0\n",
       "19064    2020-11-17-0\n",
       "Name: created_at, Length: 19065, dtype: object"
      ]
     },
     "execution_count": 31,
     "metadata": {},
     "output_type": "execute_result"
    }
   ],
   "source": [
    "df0['created_at'].apply(lambda x: f\"{x.year}-{x.month}-{x.day}-{x.hour}\")"
   ]
  },
  {
   "cell_type": "markdown",
   "metadata": {},
   "source": [
    "# overview"
   ]
  },
  {
   "cell_type": "code",
   "execution_count": 67,
   "metadata": {},
   "outputs": [
    {
     "data": {
      "text/plain": [
       "'\\nfor i, df in enumerate(dfs):\\n    fig = plt.figure(figsize=(10,8))\\n    hashtag = jsons[i].split(\\'/\\')[1].replace(\\'.json\\',\\'\\')\\n    print(hashtag)\\n    df.groupby(df[\"date\"]).count()[\\'id\\'].plot()\\n    plt.title(hashtag, fontproperties=fp, fontsize=30)\\n    plt.show()\\n'"
      ]
     },
     "execution_count": 67,
     "metadata": {},
     "output_type": "execute_result"
    }
   ],
   "source": [
    "\"\"\"\n",
    "for i, df in enumerate(dfs):\n",
    "    fig = plt.figure(figsize=(10,8))\n",
    "    hashtag = jsons[i].split('/')[1].replace('.json','')\n",
    "    print(hashtag)\n",
    "    df.groupby(df[\"date\"]).count()['id'].plot()\n",
    "    plt.title(hashtag, fontproperties=fp, fontsize=30)\n",
    "    plt.show()\n",
    "\"\"\""
   ]
  },
  {
   "cell_type": "code",
   "execution_count": 74,
   "metadata": {},
   "outputs": [
    {
     "name": "stdout",
     "output_type": "stream",
     "text": [
      "#ธรรมศาสตร์และการชุมนุม\n"
     ]
    },
    {
     "data": {
      "image/png": "[encoded data removed]",
      "text/plain": [
       "<Figure size 720x576 with 1 Axes>"
      ]
     },
     "metadata": {},
     "output_type": "display_data"
    }
   ],
   "source": [
    "fig = plt.figure(figsize=(10,8))\n",
    "\n",
    "i = 3\n",
    "df = dfs[i]\n",
    "df = dfs[i][dfs[i].date <= '2020-3-1']\n",
    "df = dfs[i][(dfs[i].date >= '2020-9-14') & (dfs[i].date <= '2020-9-30')]\n",
    "\n",
    "hashtag = jsons[i].split('/')[1].replace('.json','')\n",
    "print(hashtag)\n",
    "df.groupby(df[\"date\"]).count()['id'].plot()\n",
    "plt.title(hashtag, fontproperties=fp, fontsize=30)\n",
    "plt.show()"
   ]
  },
  {
   "cell_type": "markdown",
   "metadata": {},
   "source": [
    "# overview2"
   ]
  },
  {
   "cell_type": "code",
   "execution_count": 75,
   "metadata": {},
   "outputs": [
    {
     "name": "stdout",
     "output_type": "stream",
     "text": [
      "total 17656\n",
      "people 8087\n"
     ]
    }
   ],
   "source": [
    "i = 0\n",
    "df = dfs[i]\n",
    "hashtag = jsons[i].split('/')[1].replace('.json','')\n",
    "\n",
    "print('total', len(df))\n",
    "print('people', len(df.groupby('username').count()['id']))"
   ]
  },
  {
   "cell_type": "code",
   "execution_count": 74,
   "metadata": {},
   "outputs": [
    {
     "name": "stdout",
     "output_type": "stream",
     "text": [
      "8286 people\n",
      "|1|5604|\n",
      "|2|1202|\n",
      "|3|493|\n",
      "|4|269|\n",
      "|5|157|\n",
      "|6|92|\n",
      "|7|90|\n",
      "|8|53|\n",
      "|9|49|\n",
      "|10|41|\n",
      "|11|32|\n",
      "|12|24|\n",
      "|13|17|\n",
      "|14|16|\n",
      "|15|13|\n",
      "|16|18|\n",
      "|17|17|\n",
      "|18|10|\n",
      "|19|11|\n",
      "|20|8|\n",
      "|21|9|\n",
      "|22|3|\n",
      "|23|8|\n",
      "|24|1|\n",
      "|25|3|\n",
      "|26|4|\n",
      "|27|2|\n",
      "|29|1|\n",
      "|30|2|\n",
      "|31|1|\n",
      "|32|1|\n",
      "|33|2|\n",
      "|34|1|\n",
      "|35|3|\n",
      "|36|3|\n",
      "|37|1|\n",
      "|38|1|\n",
      "|39|2|\n",
      "|40|3|\n",
      "|41|2|\n",
      "|42|1|\n",
      "|44|1|\n",
      "|45|2|\n",
      "|47|2|\n",
      "|48|1|\n",
      "|49|2|\n",
      "|56|1|\n",
      "|59|1|\n",
      "|62|1|\n",
      "|68|2|\n",
      "|118|1|\n",
      "|136|1|\n",
      "|355|1|\n"
     ]
    }
   ],
   "source": [
    "for i, v in df.groupby('username').count()['id'].sort_values(ascending=False).value_counts().sort_index().iteritems():\n",
    "    print(f\"|{i}|{v}|\")"
   ]
  },
  {
   "cell_type": "markdown",
   "metadata": {},
   "source": [
    "# active users & influential # associated hashtags"
   ]
  },
  {
   "cell_type": "code",
   "execution_count": 106,
   "metadata": {},
   "outputs": [
    {
     "name": "stdout",
     "output_type": "stream",
     "text": [
      "#ธรรมศาสตร์และการชุมนุม\n",
      "\n",
      "- total tweets : 5813\n",
      "- distinct users : 3732\n",
      "\n",
      "|num of posts (per person)|num of people|\n",
      "|:-:|:-:|\n",
      "|1|2831|\n",
      "|2|469|\n",
      "|3|198|\n",
      "|4|98|\n",
      "|5|43|\n",
      "|6|29|\n",
      "|7|20|\n",
      "|8|11|\n",
      "|9|10|\n",
      "|10|4|\n",
      "|11|3|\n",
      "|12|1|\n",
      "|13|2|\n",
      "|14|5|\n",
      "|15|1|\n",
      "|16|1|\n",
      "|17|4|\n",
      "|18|1|\n",
      "|53|1|\n"
     ]
    }
   ],
   "source": [
    "i = 3\n",
    "df = dfs[i]\n",
    "hashtag = jsons[i].split('/')[1].replace('.json','')\n",
    "\n",
    "# define duration \n",
    "\n",
    "df = df[(df.date >= '2020-02-24') & (df.date <= '2020-02-28')]\n",
    "#df = df[(df.date >= '2020-08-08') & (df.date <= '2020-08-12')]\n",
    "print(hashtag)\n",
    "print('\\n- total tweets :', len(df))\n",
    "print('- distinct users :', len(df.groupby('username').count()['id']))\n",
    "print()\n",
    "\n",
    "# active user posts\n",
    "print(\"|num of posts (per person)|num of people|\\n|:-:|:-:|\")\n",
    "for i, v in df.groupby('username').count()['id'].sort_values(ascending=False).value_counts().sort_index().iteritems():\n",
    "    print(f\"|{i}|{v}|\")"
   ]
  },
  {
   "cell_type": "code",
   "execution_count": 96,
   "metadata": {},
   "outputs": [
    {
     "data": {
      "text/html": [
       "<div>\n",
       "<style scoped>\n",
       "    .dataframe tbody tr th:only-of-type {\n",
       "        vertical-align: middle;\n",
       "    }\n",
       "\n",
       "    .dataframe tbody tr th {\n",
       "        vertical-align: top;\n",
       "    }\n",
       "\n",
       "    .dataframe thead th {\n",
       "        text-align: right;\n",
       "    }\n",
       "</style>\n",
       "<table border=\"1\" class=\"dataframe\">\n",
       "  <thead>\n",
       "    <tr style=\"text-align: right;\">\n",
       "      <th></th>\n",
       "      <th>created_at</th>\n",
       "      <th>username</th>\n",
       "      <th>tweet</th>\n",
       "      <th>retweets_count</th>\n",
       "    </tr>\n",
       "  </thead>\n",
       "  <tbody>\n",
       "    <tr>\n",
       "      <th>9867</th>\n",
       "      <td>2020-08-10 22:42:44+07:00</td>\n",
       "      <td>james_talatron</td>\n",
       "      <td>อีกหนึ่งคน ที่เราควรSave และให้กำลังใจ คือท่าน...</td>\n",
       "      <td>31476</td>\n",
       "    </tr>\n",
       "    <tr>\n",
       "      <th>11175</th>\n",
       "      <td>2020-08-10 19:16:27+07:00</td>\n",
       "      <td>tanawatofficial</td>\n",
       "      <td>ปังมาก Staff แจ้งว่ายอดผู้ชุมนุมทะลุหมื่นแล้วค...</td>\n",
       "      <td>25345</td>\n",
       "    </tr>\n",
       "    <tr>\n",
       "      <th>10135</th>\n",
       "      <td>2020-08-10 22:00:46+07:00</td>\n",
       "      <td>inkaewo</td>\n",
       "      <td>สรุป 10 ข้อเรียกร้อง แก้ปัญหาสถาบันพระมหากษัตร...</td>\n",
       "      <td>25297</td>\n",
       "    </tr>\n",
       "    <tr>\n",
       "      <th>10849</th>\n",
       "      <td>2020-08-10 20:15:10+07:00</td>\n",
       "      <td>nomzrim</td>\n",
       "      <td>ปรีดีย์ตอนนั่งดูม็อบมธ.จากสวรรค์ #ธรรมศาสตร์จะ...</td>\n",
       "      <td>22542</td>\n",
       "    </tr>\n",
       "    <tr>\n",
       "      <th>11559</th>\n",
       "      <td>2020-08-10 15:45:45+07:00</td>\n",
       "      <td>charoenpura</td>\n",
       "      <td>ใครทำป้าย!! ใครคะะะะะ เดี๋ยวตีเลย 555555555555...</td>\n",
       "      <td>21170</td>\n",
       "    </tr>\n",
       "    <tr>\n",
       "      <th>11158</th>\n",
       "      <td>2020-08-10 19:24:47+07:00</td>\n",
       "      <td>tlhr2014</td>\n",
       "      <td>19.15 ศรีไพร นนทรีย์ นักสหภาพแรงงานประกาศนำแรง...</td>\n",
       "      <td>20248</td>\n",
       "    </tr>\n",
       "    <tr>\n",
       "      <th>11430</th>\n",
       "      <td>2020-08-10 17:37:53+07:00</td>\n",
       "      <td>choxwarz</td>\n",
       "      <td>\"คุณทำให้ใจกลางกรุงเทพฯกลายเป็นทุ่งสังหาร\"  #ธ...</td>\n",
       "      <td>16026</td>\n",
       "    </tr>\n",
       "    <tr>\n",
       "      <th>11386</th>\n",
       "      <td>2020-08-10 17:51:27+07:00</td>\n",
       "      <td>tanawatofficial</td>\n",
       "      <td>ถึง ส.ส. ที่บอกให้หนูไปล้างจานก่อนออกมาชุมนุม ...</td>\n",
       "      <td>15577</td>\n",
       "    </tr>\n",
       "    <tr>\n",
       "      <th>9489</th>\n",
       "      <td>2020-08-10 23:53:18+07:00</td>\n",
       "      <td>lukkultee</td>\n",
       "      <td>ความคิดที่น่ากลัวของโลกคู่ขนาน //แอดมินบอกให้อ...</td>\n",
       "      <td>13638</td>\n",
       "    </tr>\n",
       "    <tr>\n",
       "      <th>11075</th>\n",
       "      <td>2020-08-10 19:56:39+07:00</td>\n",
       "      <td>parisjpt</td>\n",
       "      <td>“วันนี้เราจะมาพูดเรื่องสถาบันกษัตริย์อย่างตรงไ...</td>\n",
       "      <td>13003</td>\n",
       "    </tr>\n",
       "  </tbody>\n",
       "</table>\n",
       "</div>"
      ],
      "text/plain": [
       "                     created_at         username  \\\n",
       "9867  2020-08-10 22:42:44+07:00   james_talatron   \n",
       "11175 2020-08-10 19:16:27+07:00  tanawatofficial   \n",
       "10135 2020-08-10 22:00:46+07:00          inkaewo   \n",
       "10849 2020-08-10 20:15:10+07:00          nomzrim   \n",
       "11559 2020-08-10 15:45:45+07:00      charoenpura   \n",
       "11158 2020-08-10 19:24:47+07:00         tlhr2014   \n",
       "11430 2020-08-10 17:37:53+07:00         choxwarz   \n",
       "11386 2020-08-10 17:51:27+07:00  tanawatofficial   \n",
       "9489  2020-08-10 23:53:18+07:00        lukkultee   \n",
       "11075 2020-08-10 19:56:39+07:00         parisjpt   \n",
       "\n",
       "                                                   tweet  retweets_count  \n",
       "9867   อีกหนึ่งคน ที่เราควรSave และให้กำลังใจ คือท่าน...           31476  \n",
       "11175  ปังมาก Staff แจ้งว่ายอดผู้ชุมนุมทะลุหมื่นแล้วค...           25345  \n",
       "10135  สรุป 10 ข้อเรียกร้อง แก้ปัญหาสถาบันพระมหากษัตร...           25297  \n",
       "10849  ปรีดีย์ตอนนั่งดูม็อบมธ.จากสวรรค์ #ธรรมศาสตร์จะ...           22542  \n",
       "11559  ใครทำป้าย!! ใครคะะะะะ เดี๋ยวตีเลย 555555555555...           21170  \n",
       "11158  19.15 ศรีไพร นนทรีย์ นักสหภาพแรงงานประกาศนำแรง...           20248  \n",
       "11430  \"คุณทำให้ใจกลางกรุงเทพฯกลายเป็นทุ่งสังหาร\"  #ธ...           16026  \n",
       "11386  ถึง ส.ส. ที่บอกให้หนูไปล้างจานก่อนออกมาชุมนุม ...           15577  \n",
       "9489   ความคิดที่น่ากลัวของโลกคู่ขนาน //แอดมินบอกให้อ...           13638  \n",
       "11075  “วันนี้เราจะมาพูดเรื่องสถาบันกษัตริย์อย่างตรงไ...           13003  "
      ]
     },
     "execution_count": 96,
     "metadata": {},
     "output_type": "execute_result"
    }
   ],
   "source": [
    "# influential tweets\n",
    "df.sort_values([\"retweets_count\"], ascending=False)[['created_at','username','tweet','retweets_count']].head(10)"
   ]
  },
  {
   "cell_type": "code",
   "execution_count": 98,
   "metadata": {},
   "outputs": [
    {
     "name": "stdout",
     "output_type": "stream",
     "text": [
      "|datetime|username|tweet|retweet|url|\n",
      "|:-:|:-:|:-:|:-:|:-:|\n",
      "|2020-08-10 22:42:44|james_talatron|อีกหนึ่งคน ที่เราควรSave และให้กำลังใจ คือท่านอธิการบดี เกศินี วิฑูรชาติ (หรือฮองเฮาของชาวมธ.) ที่ท่านใจกว้าง ไม่ปิดกั้นการชุมนุม แถมไม่รู้ว่าท่านจะโดนอะไรหลังจากนี้ไหม เป็นกำลังใจให้อาจารย์เกศินี และผู้บริหารทุกท่านครับ  #ธรรมศาสตร์จะไม่ทน #ธรรมศาสตร์และการชุมนุม  https://t.co/0gxNo2u3Fq|31476|[link](https://twitter.com/James_Talatron/status/1292848868720181249)|\n",
      "|2020-08-10 19:16:27|tanawatofficial|ปังมาก Staff แจ้งว่ายอดผู้ชุมนุมทะลุหมื่นแล้วครับ   #ธรรมศาสตร์จะไม่ทน #ธรรมศาสตร์และการชุมนุม  https://t.co/DfEeWvwMs4|25345|[link](https://twitter.com/tanawatofficial/status/1292796954653556738)|\n",
      "|2020-08-10 22:00:46|inkaewo|สรุป 10 ข้อเรียกร้อง แก้ปัญหาสถาบันพระมหากษัตริย์ โดยแนวร่วม #ธรรมศาสตร์และการชุมนุม  1. ยกเลิก ม.6 ของ รธน. ที่ว่าผู้ใดจะกล่าวหาฟ้องร้องกษัตริย์มิได้ แล้วเพิ่มบทบัญญัติให้สภาผู้แทนราษฎรสามารถพิจารณาความผิดของกษัตริย์ได้ เช่นเดียวกับที่เคยบัญญัติไว้ใน รธน. ฉบับคณะราษฎร|25297|[link](https://twitter.com/InkaewO/status/1292838305952706563)|\n",
      "|2020-08-10 20:15:10|nomzrim|ปรีดีย์ตอนนั่งดูม็อบมธ.จากสวรรค์ #ธรรมศาสตร์จะไม่ทน #ธรรมศาสตร์และการชุมนุม|22542|[link](https://twitter.com/nomzrim/status/1292811730188288000)|\n",
      "|2020-08-10 15:45:45|charoenpura|ใครทำป้าย!! ใครคะะะะะ เดี๋ยวตีเลย 55555555555555555 #ธรรมศาสตร์จะไม่ทน #ธรรมศาสตร์และการชุมนุม ตูนไปถึงพร้อมไอติมแปดถังแล้วค่า ^^  https://t.co/5Oe2TaIPNB|21170|[link](https://twitter.com/charoenpura/status/1292743931042476032)|\n",
      "|2020-08-10 19:24:47|tlhr2014|19.15 ศรีไพร นนทรีย์ นักสหภาพแรงงานประกาศนำแรงงานเข้าร่วมชุมนุมวันที่ 16 สิงหาคม ที่ถนนราชดำเนิน ขณะนี้ลานพญานาคมีผู้เข้าร่วมกิจกรรมเต็มพื้นที่และล้นไปถึงด้านนอก #ธรรมศาสตร์จะไม่ทน #ธรรมศาสตร์และการชุมนุม  https://t.co/mdizVWiYSO|20248|[link](https://twitter.com/TLHR2014/status/1292799052585684992)|\n",
      "|2020-08-10 17:37:53|choxwarz|\"คุณทำให้ใจกลางกรุงเทพฯกลายเป็นทุ่งสังหาร\"  #ธรรมศาสตร์จะไม่ทน  #ธรรมศาสตร์และการชุมนุม  https://t.co/8pIDwHl1Bn|16026|[link](https://twitter.com/choxwarz/status/1292772148612751361)|\n",
      "|2020-08-10 17:51:27|tanawatofficial|ถึง ส.ส. ที่บอกให้หนูไปล้างจานก่อนออกมาชุมนุม หนูล้างจานก่อนออกมาแล้ว และถ้าการเมืองดี แม่หนูมีเครื่องล้างจานไปนานแล้ว  ปังมาก 55555   #ธรรมศาสตร์จะไม่ทน  #ธรรมศาสตร์และการชุมนุม  https://t.co/aIxNjqr5uN|15577|[link](https://twitter.com/tanawatofficial/status/1292775564038701056)|\n",
      "|2020-08-10 23:53:18|lukkultee|ความคิดที่น่ากลัวของโลกคู่ขนาน //แอดมินบอกให้อดทนรอ? // แต่ลูกเพจหลายคนน่ากลัวมาก //ยังคงเห็นวันที่ 6 ตุลา คือเรื่องถูกต้อง #ธรรมศาสตร์จะไม่ทน #ธรรมศาสตร์และการชุมนุม  https://t.co/sA810pvD5q|13638|[link](https://twitter.com/lukkultee/status/1292866627461976066)|\n",
      "|2020-08-10 19:56:39|parisjpt|“วันนี้เราจะมาพูดเรื่องสถาบันกษัตริย์อย่างตรงไปตรงมาค่ะ” . รุ้ง ปนัสยา สหภาพนักเรียนนิสิตนักศึกษาแห่งประเทศไทย กล่าวบนเวทีกิจกรรม #ธรรมศาสตร์จะไม่ทน #ธรรมศาสตร์และการชุมนุม ก่อนเริ่มปราศรัยถึงความเท่าเทียมของมนุษย์ทุกคน “ไม่มีใครในโลกนี้เกิดมาพร้อมเลือดสีน้ำเงิน”  https://t.co/6nx0GW8vym|13003|[link](https://twitter.com/parisjpt/status/1292807071369314304)|\n"
     ]
    }
   ],
   "source": [
    "print(\"|datetime|username|tweet|retweet|url|\\n|:-:|:-:|:-:|:-:|:-:|\")\n",
    "for i, row in df.sort_values([\"retweets_count\"], ascending=False)[['created_at','username','tweet','retweets_count','link']].head(10).iterrows():\n",
    "    row['created_at'] = str(row['created_at']).split('+')[0]\n",
    "    row['retweets_count'] = str(row['retweets_count'])\n",
    "    row['link'] = f\"[link]({row['link']})\"\n",
    "    print('|'+\"|\".join(row)+\"|\")"
   ]
  },
  {
   "cell_type": "code",
   "execution_count": 114,
   "metadata": {},
   "outputs": [
    {
     "name": "stdout",
     "output_type": "stream",
     "text": [
      "|hashtag|count|\n",
      "|:-:|:-:|\n",
      "|อภิปรายไม่ใว้วางใจรัฐบาล|745|\n",
      "|มขพอกันที|268|\n",
      "|อภิปรายไม่ไว้วางใจรัฐบาล|237|\n",
      "|มศวขอมีจุดยืน|186|\n",
      "|ที่ยุบอนาคตใหม่พี่มหาลัยกูทั้งนั้น|132|\n",
      "|ธรรมนัส|116|\n",
      "|อภิปรายไม่ใว้วางใจ|116|\n",
      "|ศิลปากรขอมีซีน|113|\n",
      "|สวที่อยู่ข้างประชาธิปไตย|89|\n",
      "|เสาหลักจะไม่หักอีกต่อไป|83|\n",
      "|เกียมอุดมไม่ก้มหัวให้เผด็จการ|79|\n",
      "|โรงเรียนเจ้าห้าวมากไม่ได้|79|\n",
      "|อภิปรายไม่ไว้วางใจ|78|\n",
      "|รู้ทันio|69|\n"
     ]
    }
   ],
   "source": [
    "counter = Counter()\n",
    "for lst in df.hashtags:\n",
    "    counter.update(lst)\n",
    "    \n",
    "\n",
    "print(\"|hashtag|count|\\n|:-:|:-:|\")\n",
    "for tag, c, in counter.most_common(15)[1:16]:\n",
    "    print(f\"|{tag}|{c}|\")"
   ]
  },
  {
   "cell_type": "markdown",
   "metadata": {},
   "source": [
    "# oldest tweets"
   ]
  },
  {
   "cell_type": "code",
   "execution_count": 69,
   "metadata": {},
   "outputs": [
    {
     "data": {
      "text/html": [
       "<div>\n",
       "<style scoped>\n",
       "    .dataframe tbody tr th:only-of-type {\n",
       "        vertical-align: middle;\n",
       "    }\n",
       "\n",
       "    .dataframe tbody tr th {\n",
       "        vertical-align: top;\n",
       "    }\n",
       "\n",
       "    .dataframe thead th {\n",
       "        text-align: right;\n",
       "    }\n",
       "</style>\n",
       "<table border=\"1\" class=\"dataframe\">\n",
       "  <thead>\n",
       "    <tr style=\"text-align: right;\">\n",
       "      <th></th>\n",
       "      <th>created_at</th>\n",
       "      <th>username</th>\n",
       "      <th>tweet</th>\n",
       "      <th>retweets_count</th>\n",
       "    </tr>\n",
       "  </thead>\n",
       "  <tbody>\n",
       "    <tr>\n",
       "      <th>278311</th>\n",
       "      <td>2020-10-16 16:10:02+07:00</td>\n",
       "      <td>uauajutatip</td>\n",
       "      <td>ย้ายมาแยกปทุมวัน เวลาเดิม ลงถนน! #16ตุลาไปราชป...</td>\n",
       "      <td>37582</td>\n",
       "    </tr>\n",
       "    <tr>\n",
       "      <th>278310</th>\n",
       "      <td>2020-10-16 16:11:37+07:00</td>\n",
       "      <td>humancanspeak</td>\n",
       "      <td>ไปปทุมวันกันหรอ #15ตุลาไปราชประสงค์ #16ตุลาไปร...</td>\n",
       "      <td>31</td>\n",
       "    </tr>\n",
       "    <tr>\n",
       "      <th>278309</th>\n",
       "      <td>2020-10-16 16:11:46+07:00</td>\n",
       "      <td>mybabytenten</td>\n",
       "      <td>ย้ายที่ค่ะ #16ตุลาไปแยกปทุมวัน</td>\n",
       "      <td>569</td>\n",
       "    </tr>\n",
       "    <tr>\n",
       "      <th>278308</th>\n",
       "      <td>2020-10-16 16:12:02+07:00</td>\n",
       "      <td>yg24894395</td>\n",
       "      <td>#16ตุลาไปราชประสงค์ #16ตุลาไปแยกปทุมวัน</td>\n",
       "      <td>13</td>\n",
       "    </tr>\n",
       "    <tr>\n",
       "      <th>278307</th>\n",
       "      <td>2020-10-16 16:12:08+07:00</td>\n",
       "      <td>originality_man</td>\n",
       "      <td>#16ตุลาไปแยกปทุมวัน</td>\n",
       "      <td>8</td>\n",
       "    </tr>\n",
       "    <tr>\n",
       "      <th>278306</th>\n",
       "      <td>2020-10-16 16:12:37+07:00</td>\n",
       "      <td>lycanz14</td>\n",
       "      <td>#16ตุลาไปแยกปทุมวัน</td>\n",
       "      <td>0</td>\n",
       "    </tr>\n",
       "    <tr>\n",
       "      <th>278305</th>\n",
       "      <td>2020-10-16 16:12:38+07:00</td>\n",
       "      <td>onedaywellc</td>\n",
       "      <td>#16ตุลาไปราชประสงค์ #16ตุลาไปแยกปทุมวัน</td>\n",
       "      <td>1</td>\n",
       "    </tr>\n",
       "    <tr>\n",
       "      <th>278304</th>\n",
       "      <td>2020-10-16 16:12:58+07:00</td>\n",
       "      <td>iam_jiw</td>\n",
       "      <td>แยกปทุมวันครับทุกคน!!  #16ตุลาไปแยกปทุมวัน</td>\n",
       "      <td>165</td>\n",
       "    </tr>\n",
       "    <tr>\n",
       "      <th>278303</th>\n",
       "      <td>2020-10-16 16:13:00+07:00</td>\n",
       "      <td>warncc</td>\n",
       "      <td>แยกปทุมวัน ไปๆๆๆๆ #16ตุลาไปแยกปทุมวัน</td>\n",
       "      <td>2</td>\n",
       "    </tr>\n",
       "    <tr>\n",
       "      <th>278302</th>\n",
       "      <td>2020-10-16 16:13:03+07:00</td>\n",
       "      <td>originality_man</td>\n",
       "      <td>#16ตุลาไปแยกปทุมวัน</td>\n",
       "      <td>9</td>\n",
       "    </tr>\n",
       "  </tbody>\n",
       "</table>\n",
       "</div>"
      ],
      "text/plain": [
       "                      created_at         username  \\\n",
       "278311 2020-10-16 16:10:02+07:00      uauajutatip   \n",
       "278310 2020-10-16 16:11:37+07:00    humancanspeak   \n",
       "278309 2020-10-16 16:11:46+07:00     mybabytenten   \n",
       "278308 2020-10-16 16:12:02+07:00       yg24894395   \n",
       "278307 2020-10-16 16:12:08+07:00  originality_man   \n",
       "278306 2020-10-16 16:12:37+07:00         lycanz14   \n",
       "278305 2020-10-16 16:12:38+07:00      onedaywellc   \n",
       "278304 2020-10-16 16:12:58+07:00          iam_jiw   \n",
       "278303 2020-10-16 16:13:00+07:00           warncc   \n",
       "278302 2020-10-16 16:13:03+07:00  originality_man   \n",
       "\n",
       "                                                    tweet  retweets_count  \n",
       "278311  ย้ายมาแยกปทุมวัน เวลาเดิม ลงถนน! #16ตุลาไปราชป...           37582  \n",
       "278310  ไปปทุมวันกันหรอ #15ตุลาไปราชประสงค์ #16ตุลาไปร...              31  \n",
       "278309                     ย้ายที่ค่ะ #16ตุลาไปแยกปทุมวัน             569  \n",
       "278308            #16ตุลาไปราชประสงค์ #16ตุลาไปแยกปทุมวัน              13  \n",
       "278307                                #16ตุลาไปแยกปทุมวัน               8  \n",
       "278306                                #16ตุลาไปแยกปทุมวัน               0  \n",
       "278305            #16ตุลาไปราชประสงค์ #16ตุลาไปแยกปทุมวัน               1  \n",
       "278304         แยกปทุมวันครับทุกคน!!  #16ตุลาไปแยกปทุมวัน             165  \n",
       "278303              แยกปทุมวัน ไปๆๆๆๆ #16ตุลาไปแยกปทุมวัน               2  \n",
       "278302                                #16ตุลาไปแยกปทุมวัน               9  "
      ]
     },
     "execution_count": 69,
     "metadata": {},
     "output_type": "execute_result"
    }
   ],
   "source": [
    "df.tail(10)[['created_at','username','tweet','retweets_count']].sort_values(['created_at'])"
   ]
  },
  {
   "cell_type": "code",
   "execution_count": 102,
   "metadata": {},
   "outputs": [
    {
     "name": "stdout",
     "output_type": "stream",
     "text": [
      "|datetime|username|tweet|retweet|url|\n",
      "|:-:|:-:|:-:|:-:|:-:|\n",
      "|2020-08-08 13:26:20|nine9005|#ธรรมศาสตร์และการชุมนุม|1|[link](https://twitter.com/Nine9005/status/1291984068087701504)|\n",
      "|2020-08-08 15:40:51|benjarrrrr|ขอพื้นที่ประชาสัมพันธ์งาน #ธรรมศาสตร์จะไม่ทน วันจันทร์ที่จะถึงนี้  โดยงานชุมนุมครั้งนี้ ทีมท่าพระจันทร์จะยกพลมาร่วมกับทีมรังสิตด้วยค่ะ เดือดปุดปุดยิ่งขึ้นกว่าเดิมแน่นอน!!!  (ได้ยินเสียงลือเสียงเล่าอ้างมาว่างานนี้จัดหนักจัดเต็ม ไม่มีกั๊ก) #ธรรมศาสตร์และการชุมนุม  https://t.co/AsJPSd0nmA|1163|[link](https://twitter.com/benjarrrrr/status/1292017920592080896)|\n",
      "|2020-08-09 13:01:41|sixinthemn|10 สค. ไปกันคับ สถานที่ ธรรมศาสตร์ศูนย์รังสิต ณ ลานพญานาค #ธรรมศาสตร์และการชุมนุม #ธรรมศาสตร์จะไม่ทน  https://t.co/UYkJl1gUC5|2|[link](https://twitter.com/sixinthemn/status/1292340251713613826)|\n",
      "|2020-08-09 14:19:52|charliethame|As admin &amp; teachers at unis &amp; schools across Thailand pressure students to avoid protests, my faculty puts this out to help students exercise their rights to free expression &amp; assembly safely 💖☺️ #ธรรมศาสตร์จะไม่ทน #ธรรมศาสตร์และการชุมนุม  https://t.co/3KEj0ZOs4C|885|[link](https://twitter.com/charliethame/status/1292359927680335878)|\n",
      "|2020-08-09 15:32:14|kerietx|คาดหวังอะไรในงานนี้กันคะ #ธรรมศาสตร์จะไม่ทน #ธรรมศาสตร์และการชุมนุม #เยาวชนปลดเเอก|0|[link](https://twitter.com/kerietx/status/1292378141592186880)|\n"
     ]
    }
   ],
   "source": [
    "print(\"|datetime|username|tweet|retweet|url|\\n|:-:|:-:|:-:|:-:|:-:|\")\n",
    "for i, row in df.tail(5)[['created_at','username','tweet','retweets_count','link']].sort_values(['created_at']).iterrows():\n",
    "    row['created_at'] = str(row['created_at']).split('+')[0]\n",
    "    row['retweets_count'] = str(row['retweets_count'])\n",
    "    row['link'] = f\"[link]({row['link']})\"\n",
    "    print('|'+\"|\".join(row)+\"|\")"
   ]
  },
  {
   "cell_type": "markdown",
   "metadata": {},
   "source": [
    "# most frequently retweeted "
   ]
  },
  {
   "cell_type": "code",
   "execution_count": 46,
   "metadata": {},
   "outputs": [
    {
     "data": {
      "text/html": [
       "<div>\n",
       "<style scoped>\n",
       "    .dataframe tbody tr th:only-of-type {\n",
       "        vertical-align: middle;\n",
       "    }\n",
       "\n",
       "    .dataframe tbody tr th {\n",
       "        vertical-align: top;\n",
       "    }\n",
       "\n",
       "    .dataframe thead th {\n",
       "        text-align: right;\n",
       "    }\n",
       "</style>\n",
       "<table border=\"1\" class=\"dataframe\">\n",
       "  <thead>\n",
       "    <tr style=\"text-align: right;\">\n",
       "      <th></th>\n",
       "      <th>created_at</th>\n",
       "      <th>username</th>\n",
       "      <th>tweet</th>\n",
       "      <th>retweets_count</th>\n",
       "    </tr>\n",
       "  </thead>\n",
       "  <tbody>\n",
       "    <tr>\n",
       "      <th>195409</th>\n",
       "      <td>2020-10-16 19:24:30+07:00</td>\n",
       "      <td>violettewautier</td>\n",
       "      <td>การชุมนุมต่อสู้เพื่อความยุติธรรม เพื่อประชาธิป...</td>\n",
       "      <td>151500</td>\n",
       "    </tr>\n",
       "    <tr>\n",
       "      <th>238826</th>\n",
       "      <td>2020-10-16 18:59:31+07:00</td>\n",
       "      <td>tptourpab</td>\n",
       "      <td>คุณเห็นความแตกต่างของ 2 กลุ่มนี้ไหม คุณเอะใจ ม...</td>\n",
       "      <td>107177</td>\n",
       "    </tr>\n",
       "    <tr>\n",
       "      <th>131489</th>\n",
       "      <td>2020-10-16 20:15:42+07:00</td>\n",
       "      <td>thebattz</td>\n",
       "      <td>อห โคตรสุดเลยภาพนี้ มือเปล่าๆประจันหน้ากับรถฉี...</td>\n",
       "      <td>94728</td>\n",
       "    </tr>\n",
       "    <tr>\n",
       "      <th>205938</th>\n",
       "      <td>2020-10-16 19:18:22+07:00</td>\n",
       "      <td>ud_awat</td>\n",
       "      <td>พวกคุณใช้ความรุนแรงแบบนี้กับประชาชนมือเปล่า รั...</td>\n",
       "      <td>91899</td>\n",
       "    </tr>\n",
       "    <tr>\n",
       "      <th>241401</th>\n",
       "      <td>2020-10-16 18:58:02+07:00</td>\n",
       "      <td>25novemm</td>\n",
       "      <td>เหี้ยมาก น้ำสีฟ้าที่มันฉีดใส่ เป็นเคมีฟิสิกส์ ...</td>\n",
       "      <td>87483</td>\n",
       "    </tr>\n",
       "    <tr>\n",
       "      <th>32665</th>\n",
       "      <td>2020-10-16 23:25:11+07:00</td>\n",
       "      <td>angangopilan</td>\n",
       "      <td>ล่าสุดหนูพึ่งได้ให้สัมภาษณ์กับสื่อแคนาดา (CBC ...</td>\n",
       "      <td>86561</td>\n",
       "    </tr>\n",
       "    <tr>\n",
       "      <th>219509</th>\n",
       "      <td>2020-10-16 19:10:18+07:00</td>\n",
       "      <td>jankzinn</td>\n",
       "      <td>มึงอันนี้เหี้ยมากอะ หลวงพี่เข้าไปไหว้คนขับรถฉี...</td>\n",
       "      <td>85091</td>\n",
       "    </tr>\n",
       "    <tr>\n",
       "      <th>199810</th>\n",
       "      <td>2020-10-16 19:21:50+07:00</td>\n",
       "      <td>8laryn</td>\n",
       "      <td>เซพพี่คนนี้เค้สด้วยนะคะ เห็นเค้ายืนขวางรถให้มา...</td>\n",
       "      <td>84489</td>\n",
       "    </tr>\n",
       "    <tr>\n",
       "      <th>194318</th>\n",
       "      <td>2020-10-16 19:25:12+07:00</td>\n",
       "      <td>vousjay2</td>\n",
       "      <td>ทุกคนอย่าให้คลิปนี้หายไป ขอร้อง ช่วยรีกันไปเยอ...</td>\n",
       "      <td>83345</td>\n",
       "    </tr>\n",
       "    <tr>\n",
       "      <th>173004</th>\n",
       "      <td>2020-10-16 19:42:08+07:00</td>\n",
       "      <td>liszukung</td>\n",
       "      <td>เชี่ยเอ๊ย คุณฐาปนีย์แม่งแนวหน้ามาก มีเสียงแว่ว...</td>\n",
       "      <td>83260</td>\n",
       "    </tr>\n",
       "  </tbody>\n",
       "</table>\n",
       "</div>"
      ],
      "text/plain": [
       "                      created_at         username  \\\n",
       "195409 2020-10-16 19:24:30+07:00  violettewautier   \n",
       "238826 2020-10-16 18:59:31+07:00        tptourpab   \n",
       "131489 2020-10-16 20:15:42+07:00         thebattz   \n",
       "205938 2020-10-16 19:18:22+07:00          ud_awat   \n",
       "241401 2020-10-16 18:58:02+07:00         25novemm   \n",
       "32665  2020-10-16 23:25:11+07:00     angangopilan   \n",
       "219509 2020-10-16 19:10:18+07:00         jankzinn   \n",
       "199810 2020-10-16 19:21:50+07:00           8laryn   \n",
       "194318 2020-10-16 19:25:12+07:00         vousjay2   \n",
       "173004 2020-10-16 19:42:08+07:00        liszukung   \n",
       "\n",
       "                                                    tweet  retweets_count  \n",
       "195409  การชุมนุมต่อสู้เพื่อความยุติธรรม เพื่อประชาธิป...          151500  \n",
       "238826  คุณเห็นความแตกต่างของ 2 กลุ่มนี้ไหม คุณเอะใจ ม...          107177  \n",
       "131489  อห โคตรสุดเลยภาพนี้ มือเปล่าๆประจันหน้ากับรถฉี...           94728  \n",
       "205938  พวกคุณใช้ความรุนแรงแบบนี้กับประชาชนมือเปล่า รั...           91899  \n",
       "241401  เหี้ยมาก น้ำสีฟ้าที่มันฉีดใส่ เป็นเคมีฟิสิกส์ ...           87483  \n",
       "32665   ล่าสุดหนูพึ่งได้ให้สัมภาษณ์กับสื่อแคนาดา (CBC ...           86561  \n",
       "219509  มึงอันนี้เหี้ยมากอะ หลวงพี่เข้าไปไหว้คนขับรถฉี...           85091  \n",
       "199810  เซพพี่คนนี้เค้สด้วยนะคะ เห็นเค้ายืนขวางรถให้มา...           84489  \n",
       "194318  ทุกคนอย่าให้คลิปนี้หายไป ขอร้อง ช่วยรีกันไปเยอ...           83345  \n",
       "173004  เชี่ยเอ๊ย คุณฐาปนีย์แม่งแนวหน้ามาก มีเสียงแว่ว...           83260  "
      ]
     },
     "execution_count": 46,
     "metadata": {},
     "output_type": "execute_result"
    }
   ],
   "source": [
    "df.sort_values([\"retweets_count\"], ascending=False)[['created_at','username','tweet','retweets_count']].head(10)"
   ]
  },
  {
   "cell_type": "code",
   "execution_count": 55,
   "metadata": {},
   "outputs": [
    {
     "name": "stdout",
     "output_type": "stream",
     "text": [
      "|2020-09-11 16:42:07|malykh_jj|หลายคนก่อนเข้ามาประกวดบอกอยากเป็นกระบอกเสียง อยากใช้ Platformเวทีนางงามในการแก้ปัญหา แต่พอถึงเวลามีปัญหาจริงละเงียบกริบ คือไรคุณพี่ สงสารมารีญามากที่แบกวงการนางงามอยู่ขอบคุณมารีญามากเป็นกระบอกเสียงที่ดีและมีจุดยืน #มารีญา #คัดค้านนําเข้าเศษพลาสติก #ธรรมศาสตร์และการชุมนุม  https://t.co/Eb3FV8TWjT|81673|[link](https://twitter.com/malykh_jj/status/1304354526401495040)|\n",
      "|2020-02-26 18:12:52|beenobeeta|เมิงงง มธ ประกาศ จะนำ นศ ไปราชดำเนิน  ยังไงดี น้องเค้าเปิดแล้วนะ #ธรรมศาสตร์และการชุมนุม|63250|[link](https://twitter.com/beenobeeta/status/1232624568348495872)|\n",
      "|2020-02-26 19:03:58|xiaozaoput|\"หนังสือก็ต้องอ่าน รัฐบาลก็ต้องด่า\" มันส์สุดทีน55555   #ธรรมศาสตร์และการชุมนุม  https://t.co/eZwgrW1Hty|62298|[link](https://twitter.com/Xiaozaoput/status/1232637427203706880)|\n",
      "|2020-09-19 19:09:30|nnoophilaa|แม่เจ้า หนึ่งทุ่ม คนเต็มท้องสนามหลวงเลย มันแบบ... กุว่ามันจะจบที่รุ่นเราจริงๆแหละทุกคน ความหวังมันมากขึ้นไปเรื่อยๆ 😭🙏🏻 #19กันยาทวงอํานาจคืนราษฏร #ธรรมศาสตร์และการชุมนุม #ม็อบ19กันยา  https://t.co/MEQWh6UBCx|62037|[link](https://twitter.com/nnoophilaa/status/1307290721309741057)|\n",
      "|2020-02-26 18:03:50|chennietckjd|อย่างชอบ5555555555555  #ธรรมศาสตร์และการชุมนุม  https://t.co/GNLkXK4ipR|50168|[link](https://twitter.com/chennietckjd/status/1232622292984745984)|\n",
      "|2020-09-11 16:40:11|annabeeannabell|ตอนนี้ตำรวจกำลังซ้อมปาแก๊สน้ำตาที่ชลบุรี เราไม่รู้ว่าจะติดแท๊กไหน #ธรรมศาสตร์และการชุมนุม  https://t.co/yCqGG34blk|50045|[link](https://twitter.com/annabeeannabell/status/1304354041795719169)|\n",
      "|2020-02-26 21:40:21|pine_js852|น้องคนนี้จังหวะโบ๊บ๊ะมาก ชอบตอนแม่ห้าม  แม่ : แชมป์อย่าไปนะลูก! ช : ได้แม่.. ตอนนี้แม่น้องเค้ารู้ยัง 555555555555 #ธรรมศาสตร์และการชุมนุม  https://t.co/IHcRA3X1Na|46506|[link](https://twitter.com/Pine_js852/status/1232676781519278080)|\n",
      "|2020-02-26 19:55:02|volleyship|\"ตัดมาจากวีดีโอของน้อง  ช่วงท่อนฮุค\" น้องๆเฉียบมาก👍🏻 #ไม่ทนไม่ถอยไม่ยอม #ราชมงคลจะไม่ทนอีกต่อไป #ธรรมศาสตร์และการชุมนุม #อภิปรายไม่ใว้วางใจรัฐบาล cr: fb Sumatee Kaongam  https://t.co/b2FG4nGn3H|43683|[link](https://twitter.com/volleyship/status/1232650278941286401)|\n",
      "|2020-02-26 20:33:17|june16425|ขอพื้นที่ขำก่อนค่ะ555555 #ธรรมศาสตร์และการชุมนุม  https://t.co/bQd1awz6XH|42421|[link](https://twitter.com/june16425/status/1232659904751497216)|\n",
      "|2020-02-26 21:16:25|realnameismynx|ที่สงสัยคือธรรมศาสตร์เขาทำได้ไงวะ อุดมการณ์ที่แรงชิบหายเพื่อประชาธิปไตย หล่อหลอมนักศึกษาทุกคนเป็นหมื่นๆให้รับใช้ความถูกต้องได้ขนาดนี้อ่ะ 47ปีที่แล้วกับตอนนี้คือไม่เปลี่ยนเลย กูโครตยอมการปลูกฝังจิตสำนึกของสถาบันเขา ยาแรงไม่หยุด #ธรรมศาสตร์และการชุมนุม|40989|[link](https://twitter.com/realnameismynx/status/1232670757899001857)|\n"
     ]
    }
   ],
   "source": [
    "for i, row in df.sort_values([\"retweets_count\"], ascending=False)[['created_at','username','tweet','retweets_count','link']].head(10).iterrows():\n",
    "    row['created_at'] = str(row['created_at']).split('+')[0]\n",
    "    row['retweets_count'] = str(row['retweets_count'])\n",
    "    row['link'] = f\"[link]({row['link']})\"\n",
    "    print('|'+\"|\".join(row)+\"|\")"
   ]
  },
  {
   "cell_type": "code",
   "execution_count": null,
   "metadata": {},
   "outputs": [],
   "source": []
  }
 ],
 "metadata": {
  "kernelspec": {
   "display_name": "Python 3.7.5 64-bit",
   "language": "python",
   "name": "python37564bit72de44cd76184052b9457c2863c13ac2"
  },
  "language_info": {
   "codemirror_mode": {
    "name": "ipython",
    "version": 3
   },
   "file_extension": ".py",
   "mimetype": "text/x-python",
   "name": "python",
   "nbconvert_exporter": "python",
   "pygments_lexer": "ipython3",
   "version": "3.7.5"
  },
  "metadata": {
   "interpreter": {
    "hash": "e534e48711db4d1e1c48977d0d14ff85b1f16d41bcc4fdfd88268a329b3c9d66"
   }
  }
 },
 "nbformat": 4,
 "nbformat_minor": 4
}
