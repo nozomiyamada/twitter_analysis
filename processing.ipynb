{
 "cells": [
  {
   "cell_type": "markdown",
   "metadata": {},
   "source": [
    "# import"
   ]
  },
  {
   "cell_type": "code",
   "execution_count": 1,
   "metadata": {},
   "outputs": [],
   "source": [
    "import pandas as pd\n",
    "import json\n",
    "from tqdm import tqdm\n",
    "from glob import glob\n",
    "\n",
    "import matplotlib.font_manager as fm\n",
    "import matplotlib.pyplot as plt\n",
    "plt.style.use('ggplot')\n",
    "font_path = '/Users/Nozomi/Library/Fonts/THSarabunNew.ttf'\n",
    "fp = fm.FontProperties(fname=font_path)"
   ]
  },
  {
   "cell_type": "code",
   "execution_count": 6,
   "metadata": {},
   "outputs": [
    {
     "name": "stdout",
     "output_type": "stream",
     "text": [
      "0 tweets/#กูสั่งให้มึงอยู่ใต้รัฐธรรมนูญ.json\n",
      "1 tweets/#16ตุลาไปแยกปทุมวัน.json\n",
      "2 tweets/#saveวันเฉลิม.json\n",
      "3 tweets/#ธรรมศาสตร์และการชุมนุม.json\n",
      "4 tweets/#เกียมอุดมไม่ก้มหัวให้เผด็จการ.json\n",
      "5 tweets/#25พฤศจิกาไปSCB.json\n",
      "6 tweets/#ม็อบ25พฤศจิกาทวงคืนสมบัติชาติ.json\n",
      "7 tweets/#ม็อบ2ธันวา.json\n"
     ]
    }
   ],
   "source": [
    "jsons = glob('tweets/*.json')\n",
    "for i, f in enumerate(jsons):\n",
    "    print(i,f)"
   ]
  },
  {
   "cell_type": "markdown",
   "metadata": {},
   "source": [
    "# open file"
   ]
  },
  {
   "cell_type": "code",
   "execution_count": 9,
   "metadata": {},
   "outputs": [],
   "source": [
    "df0 = pd.read_json(jsons[0], lines=True)\n",
    "df1 = pd.read_json(jsons[1], lines=True)\n",
    "df2 = pd.read_json(jsons[2], lines=True)\n",
    "df3 = pd.read_json(jsons[3], lines=True)\n",
    "df4 = pd.read_json(jsons[4], lines=True)\n",
    "df5 = pd.read_json(jsons[5], lines=True)\n",
    "df6 = pd.read_json(jsons[6], lines=True)\n",
    "\n",
    "dfs = [df0,df1,df2,df3,df4,df5,df6]"
   ]
  },
  {
   "cell_type": "code",
   "execution_count": 10,
   "metadata": {},
   "outputs": [
    {
     "data": {
      "text/plain": [
       "id                                               1381195923112353800\n",
       "conversation_id                                  1381195923112353792\n",
       "created_at                                 2021-04-11 17:42:24+07:00\n",
       "date                                             2021-04-11 00:00:00\n",
       "time                                                        17:42:24\n",
       "timezone                                                         700\n",
       "user_id                                                    220213059\n",
       "username                                                   lerdnarit\n",
       "name                                                          x-face\n",
       "place                                                               \n",
       "tweet              รดด้วยเยี่ยวสิ #โควิด19 #โควิด19วันนี้ #Thaila...\n",
       "language                                                          th\n",
       "mentions                                                          []\n",
       "urls                                                              []\n",
       "photos                                                            []\n",
       "replies_count                                                      0\n",
       "retweets_count                                                     0\n",
       "likes_count                                                        0\n",
       "hashtags           [โควิด19, โควิด19วันนี้, thailand, กูสั่งให้มึ...\n",
       "cashtags                                                          []\n",
       "link               https://twitter.com/lerdnarit/status/138119592...\n",
       "retweet                                                        False\n",
       "quote_url          https://twitter.com/BenjamasAor/status/1381065...\n",
       "video                                                              0\n",
       "thumbnail                                                           \n",
       "near                                                                \n",
       "geo                                                                 \n",
       "source                                                              \n",
       "user_rt_id                                                          \n",
       "user_rt                                                             \n",
       "retweet_id                                                          \n",
       "reply_to                                                          []\n",
       "retweet_date                                                        \n",
       "translate                                                           \n",
       "trans_src                                                           \n",
       "trans_dest                                                          \n",
       "Name: 3, dtype: object"
      ]
     },
     "execution_count": 10,
     "metadata": {},
     "output_type": "execute_result"
    }
   ],
   "source": [
    "df0.iloc[3]"
   ]
  },
  {
   "cell_type": "markdown",
   "metadata": {},
   "source": [
    "# EDA"
   ]
  },
  {
   "cell_type": "code",
   "execution_count": 27,
   "metadata": {},
   "outputs": [
    {
     "name": "stdout",
     "output_type": "stream",
     "text": [
      "#กูสั่งให้มึงอยู่ใต้รัฐธรรมนูญ\n"
     ]
    },
    {
     "data": {
      "image/png": "[encoded data removed]",
      "text/plain": [
       "<Figure size 432x288 with 1 Axes>"
      ]
     },
     "metadata": {},
     "output_type": "display_data"
    },
    {
     "name": "stdout",
     "output_type": "stream",
     "text": [
      "#16ตุลาไปแยกปทุมวัน\n"
     ]
    },
    {
     "data": {
      "image/png": "[encoded data removed]",
      "text/plain": [
       "<Figure size 432x288 with 1 Axes>"
      ]
     },
     "metadata": {},
     "output_type": "display_data"
    },
    {
     "name": "stdout",
     "output_type": "stream",
     "text": [
      "#saveวันเฉลิม\n"
     ]
    },
    {
     "data": {
      "image/png": "[encoded data removed]",
      "text/plain": [
       "<Figure size 432x288 with 1 Axes>"
      ]
     },
     "metadata": {},
     "output_type": "display_data"
    },
    {
     "name": "stdout",
     "output_type": "stream",
     "text": [
      "#ธรรมศาสตร์และการชุมนุม\n"
     ]
    },
    {
     "data": {
      "image/png": "[encoded data removed]",
      "text/plain": [
       "<Figure size 432x288 with 1 Axes>"
      ]
     },
     "metadata": {},
     "output_type": "display_data"
    },
    {
     "name": "stdout",
     "output_type": "stream",
     "text": [
      "#เกียมอุดมไม่ก้มหัวให้เผด็จการ\n"
     ]
    },
    {
     "data": {
      "image/png": "[encoded data removed]",
      "text/plain": [
       "<Figure size 432x288 with 1 Axes>"
      ]
     },
     "metadata": {},
     "output_type": "display_data"
    },
    {
     "name": "stdout",
     "output_type": "stream",
     "text": [
      "#25พฤศจิกาไปSCB\n"
     ]
    },
    {
     "data": {
      "image/png": "[encoded data removed]",
      "text/plain": [
       "<Figure size 432x288 with 1 Axes>"
      ]
     },
     "metadata": {},
     "output_type": "display_data"
    },
    {
     "name": "stdout",
     "output_type": "stream",
     "text": [
      "#ม็อบ25พฤศจิกาทวงคืนสมบัติชาติ\n"
     ]
    },
    {
     "data": {
      "image/png": "[encoded data removed]",
      "text/plain": [
       "<Figure size 432x288 with 1 Axes>"
      ]
     },
     "metadata": {},
     "output_type": "display_data"
    }
   ],
   "source": [
    "for i, df in enumerate(dfs):\n",
    "    hashtag = jsons[i].split('/')[1].replace('.json','')\n",
    "    print(hashtag)\n",
    "    df.groupby(df[\"date\"]).count()['id'].plot()\n",
    "    plt.title(hashtag, fontproperties=fp)\n",
    "    plt.show()"
   ]
  },
  {
   "cell_type": "code",
   "execution_count": 74,
   "metadata": {},
   "outputs": [
    {
     "name": "stdout",
     "output_type": "stream",
     "text": [
      "8286 people\n",
      "|1|5604|\n",
      "|2|1202|\n",
      "|3|493|\n",
      "|4|269|\n",
      "|5|157|\n",
      "|6|92|\n",
      "|7|90|\n",
      "|8|53|\n",
      "|9|49|\n",
      "|10|41|\n",
      "|11|32|\n",
      "|12|24|\n",
      "|13|17|\n",
      "|14|16|\n",
      "|15|13|\n",
      "|16|18|\n",
      "|17|17|\n",
      "|18|10|\n",
      "|19|11|\n",
      "|20|8|\n",
      "|21|9|\n",
      "|22|3|\n",
      "|23|8|\n",
      "|24|1|\n",
      "|25|3|\n",
      "|26|4|\n",
      "|27|2|\n",
      "|29|1|\n",
      "|30|2|\n",
      "|31|1|\n",
      "|32|1|\n",
      "|33|2|\n",
      "|34|1|\n",
      "|35|3|\n",
      "|36|3|\n",
      "|37|1|\n",
      "|38|1|\n",
      "|39|2|\n",
      "|40|3|\n",
      "|41|2|\n",
      "|42|1|\n",
      "|44|1|\n",
      "|45|2|\n",
      "|47|2|\n",
      "|48|1|\n",
      "|49|2|\n",
      "|56|1|\n",
      "|59|1|\n",
      "|62|1|\n",
      "|68|2|\n",
      "|118|1|\n",
      "|136|1|\n",
      "|355|1|\n"
     ]
    }
   ],
   "source": [
    "print(len(df.groupby('username').count()['id']), 'people')\n",
    "\n",
    "for i, v in df.groupby('username').count()['id'].sort_values(ascending=False).value_counts().sort_index().iteritems():\n",
    "    print(f\"|{i}|{v}|\")"
   ]
  },
  {
   "cell_type": "code",
   "execution_count": null,
   "metadata": {},
   "outputs": [],
   "source": [
    "df.place !"
   ]
  },
  {
   "cell_type": "markdown",
   "metadata": {},
   "source": [
    "# oldest tweets"
   ]
  },
  {
   "cell_type": "code",
   "execution_count": 69,
   "metadata": {},
   "outputs": [
    {
     "data": {
      "text/html": [
       "<div>\n",
       "<style scoped>\n",
       "    .dataframe tbody tr th:only-of-type {\n",
       "        vertical-align: middle;\n",
       "    }\n",
       "\n",
       "    .dataframe tbody tr th {\n",
       "        vertical-align: top;\n",
       "    }\n",
       "\n",
       "    .dataframe thead th {\n",
       "        text-align: right;\n",
       "    }\n",
       "</style>\n",
       "<table border=\"1\" class=\"dataframe\">\n",
       "  <thead>\n",
       "    <tr style=\"text-align: right;\">\n",
       "      <th></th>\n",
       "      <th>created_at</th>\n",
       "      <th>username</th>\n",
       "      <th>tweet</th>\n",
       "      <th>retweets_count</th>\n",
       "    </tr>\n",
       "  </thead>\n",
       "  <tbody>\n",
       "    <tr>\n",
       "      <th>278311</th>\n",
       "      <td>2020-10-16 16:10:02+07:00</td>\n",
       "      <td>uauajutatip</td>\n",
       "      <td>ย้ายมาแยกปทุมวัน เวลาเดิม ลงถนน! #16ตุลาไปราชป...</td>\n",
       "      <td>37582</td>\n",
       "    </tr>\n",
       "    <tr>\n",
       "      <th>278310</th>\n",
       "      <td>2020-10-16 16:11:37+07:00</td>\n",
       "      <td>humancanspeak</td>\n",
       "      <td>ไปปทุมวันกันหรอ #15ตุลาไปราชประสงค์ #16ตุลาไปร...</td>\n",
       "      <td>31</td>\n",
       "    </tr>\n",
       "    <tr>\n",
       "      <th>278309</th>\n",
       "      <td>2020-10-16 16:11:46+07:00</td>\n",
       "      <td>mybabytenten</td>\n",
       "      <td>ย้ายที่ค่ะ #16ตุลาไปแยกปทุมวัน</td>\n",
       "      <td>569</td>\n",
       "    </tr>\n",
       "    <tr>\n",
       "      <th>278308</th>\n",
       "      <td>2020-10-16 16:12:02+07:00</td>\n",
       "      <td>yg24894395</td>\n",
       "      <td>#16ตุลาไปราชประสงค์ #16ตุลาไปแยกปทุมวัน</td>\n",
       "      <td>13</td>\n",
       "    </tr>\n",
       "    <tr>\n",
       "      <th>278307</th>\n",
       "      <td>2020-10-16 16:12:08+07:00</td>\n",
       "      <td>originality_man</td>\n",
       "      <td>#16ตุลาไปแยกปทุมวัน</td>\n",
       "      <td>8</td>\n",
       "    </tr>\n",
       "    <tr>\n",
       "      <th>278306</th>\n",
       "      <td>2020-10-16 16:12:37+07:00</td>\n",
       "      <td>lycanz14</td>\n",
       "      <td>#16ตุลาไปแยกปทุมวัน</td>\n",
       "      <td>0</td>\n",
       "    </tr>\n",
       "    <tr>\n",
       "      <th>278305</th>\n",
       "      <td>2020-10-16 16:12:38+07:00</td>\n",
       "      <td>onedaywellc</td>\n",
       "      <td>#16ตุลาไปราชประสงค์ #16ตุลาไปแยกปทุมวัน</td>\n",
       "      <td>1</td>\n",
       "    </tr>\n",
       "    <tr>\n",
       "      <th>278304</th>\n",
       "      <td>2020-10-16 16:12:58+07:00</td>\n",
       "      <td>iam_jiw</td>\n",
       "      <td>แยกปทุมวันครับทุกคน!!  #16ตุลาไปแยกปทุมวัน</td>\n",
       "      <td>165</td>\n",
       "    </tr>\n",
       "    <tr>\n",
       "      <th>278303</th>\n",
       "      <td>2020-10-16 16:13:00+07:00</td>\n",
       "      <td>warncc</td>\n",
       "      <td>แยกปทุมวัน ไปๆๆๆๆ #16ตุลาไปแยกปทุมวัน</td>\n",
       "      <td>2</td>\n",
       "    </tr>\n",
       "    <tr>\n",
       "      <th>278302</th>\n",
       "      <td>2020-10-16 16:13:03+07:00</td>\n",
       "      <td>originality_man</td>\n",
       "      <td>#16ตุลาไปแยกปทุมวัน</td>\n",
       "      <td>9</td>\n",
       "    </tr>\n",
       "  </tbody>\n",
       "</table>\n",
       "</div>"
      ],
      "text/plain": [
       "                      created_at         username  \\\n",
       "278311 2020-10-16 16:10:02+07:00      uauajutatip   \n",
       "278310 2020-10-16 16:11:37+07:00    humancanspeak   \n",
       "278309 2020-10-16 16:11:46+07:00     mybabytenten   \n",
       "278308 2020-10-16 16:12:02+07:00       yg24894395   \n",
       "278307 2020-10-16 16:12:08+07:00  originality_man   \n",
       "278306 2020-10-16 16:12:37+07:00         lycanz14   \n",
       "278305 2020-10-16 16:12:38+07:00      onedaywellc   \n",
       "278304 2020-10-16 16:12:58+07:00          iam_jiw   \n",
       "278303 2020-10-16 16:13:00+07:00           warncc   \n",
       "278302 2020-10-16 16:13:03+07:00  originality_man   \n",
       "\n",
       "                                                    tweet  retweets_count  \n",
       "278311  ย้ายมาแยกปทุมวัน เวลาเดิม ลงถนน! #16ตุลาไปราชป...           37582  \n",
       "278310  ไปปทุมวันกันหรอ #15ตุลาไปราชประสงค์ #16ตุลาไปร...              31  \n",
       "278309                     ย้ายที่ค่ะ #16ตุลาไปแยกปทุมวัน             569  \n",
       "278308            #16ตุลาไปราชประสงค์ #16ตุลาไปแยกปทุมวัน              13  \n",
       "278307                                #16ตุลาไปแยกปทุมวัน               8  \n",
       "278306                                #16ตุลาไปแยกปทุมวัน               0  \n",
       "278305            #16ตุลาไปราชประสงค์ #16ตุลาไปแยกปทุมวัน               1  \n",
       "278304         แยกปทุมวันครับทุกคน!!  #16ตุลาไปแยกปทุมวัน             165  \n",
       "278303              แยกปทุมวัน ไปๆๆๆๆ #16ตุลาไปแยกปทุมวัน               2  \n",
       "278302                                #16ตุลาไปแยกปทุมวัน               9  "
      ]
     },
     "execution_count": 69,
     "metadata": {},
     "output_type": "execute_result"
    }
   ],
   "source": [
    "df.tail(10)[['created_at','username','tweet','retweets_count']].sort_values(['created_at'])"
   ]
  },
  {
   "cell_type": "code",
   "execution_count": 70,
   "metadata": {},
   "outputs": [
    {
     "name": "stdout",
     "output_type": "stream",
     "text": [
      "|2020-10-16 16:10:02|uauajutatip|ย้ายมาแยกปทุมวัน เวลาเดิม ลงถนน! #16ตุลาไปราชประสงค์ #16ตุลาไปแยกปทุมวัน|37582|[link](https://twitter.com/uauajutatip/status/1317030029579087872)|\n",
      "|2020-10-16 16:11:37|humancanspeak|ไปปทุมวันกันหรอ #15ตุลาไปราชประสงค์ #16ตุลาไปราชประสงค์ #16ตุลาไปแยกปทุมวัน|31|[link](https://twitter.com/humancanspeak/status/1317030425886294018)|\n",
      "|2020-10-16 16:11:46|mybabytenten|ย้ายที่ค่ะ #16ตุลาไปแยกปทุมวัน|569|[link](https://twitter.com/mybabytenten/status/1317030464104800257)|\n",
      "|2020-10-16 16:12:02|yg24894395|#16ตุลาไปราชประสงค์ #16ตุลาไปแยกปทุมวัน|13|[link](https://twitter.com/YG24894395/status/1317030529137455105)|\n",
      "|2020-10-16 16:12:08|originality_man|#16ตุลาไปแยกปทุมวัน|8|[link](https://twitter.com/originality_man/status/1317030554500362240)|\n",
      "|2020-10-16 16:12:37|lycanz14|#16ตุลาไปแยกปทุมวัน|0|[link](https://twitter.com/Lycanz14/status/1317030679033491456)|\n",
      "|2020-10-16 16:12:38|onedaywellc|#16ตุลาไปราชประสงค์ #16ตุลาไปแยกปทุมวัน|1|[link](https://twitter.com/onedaywellc/status/1317030684091838466)|\n",
      "|2020-10-16 16:12:58|iam_jiw|แยกปทุมวันครับทุกคน!!  #16ตุลาไปแยกปทุมวัน|165|[link](https://twitter.com/iam_jiw/status/1317030767810076683)|\n",
      "|2020-10-16 16:13:00|warncc|แยกปทุมวัน ไปๆๆๆๆ #16ตุลาไปแยกปทุมวัน|2|[link](https://twitter.com/WARNCC/status/1317030774038691841)|\n",
      "|2020-10-16 16:13:03|originality_man|#16ตุลาไปแยกปทุมวัน|9|[link](https://twitter.com/originality_man/status/1317030787502415872)|\n"
     ]
    }
   ],
   "source": [
    "for i, row in df.tail(10)[['created_at','username','tweet','retweets_count','link']].sort_values(['created_at']).iterrows():\n",
    "    row['created_at'] = str(row['created_at']).split('+')[0]\n",
    "    row['retweets_count'] = str(row['retweets_count'])\n",
    "    row['link'] = f\"[link]({row['link']})\"\n",
    "    print('|'+\"|\".join(row)+\"|\")"
   ]
  },
  {
   "cell_type": "markdown",
   "metadata": {},
   "source": [
    "# most frequently retweeted "
   ]
  },
  {
   "cell_type": "code",
   "execution_count": 46,
   "metadata": {},
   "outputs": [
    {
     "data": {
      "text/html": [
       "<div>\n",
       "<style scoped>\n",
       "    .dataframe tbody tr th:only-of-type {\n",
       "        vertical-align: middle;\n",
       "    }\n",
       "\n",
       "    .dataframe tbody tr th {\n",
       "        vertical-align: top;\n",
       "    }\n",
       "\n",
       "    .dataframe thead th {\n",
       "        text-align: right;\n",
       "    }\n",
       "</style>\n",
       "<table border=\"1\" class=\"dataframe\">\n",
       "  <thead>\n",
       "    <tr style=\"text-align: right;\">\n",
       "      <th></th>\n",
       "      <th>created_at</th>\n",
       "      <th>username</th>\n",
       "      <th>tweet</th>\n",
       "      <th>retweets_count</th>\n",
       "    </tr>\n",
       "  </thead>\n",
       "  <tbody>\n",
       "    <tr>\n",
       "      <th>195409</th>\n",
       "      <td>2020-10-16 19:24:30+07:00</td>\n",
       "      <td>violettewautier</td>\n",
       "      <td>การชุมนุมต่อสู้เพื่อความยุติธรรม เพื่อประชาธิป...</td>\n",
       "      <td>151500</td>\n",
       "    </tr>\n",
       "    <tr>\n",
       "      <th>238826</th>\n",
       "      <td>2020-10-16 18:59:31+07:00</td>\n",
       "      <td>tptourpab</td>\n",
       "      <td>คุณเห็นความแตกต่างของ 2 กลุ่มนี้ไหม คุณเอะใจ ม...</td>\n",
       "      <td>107177</td>\n",
       "    </tr>\n",
       "    <tr>\n",
       "      <th>131489</th>\n",
       "      <td>2020-10-16 20:15:42+07:00</td>\n",
       "      <td>thebattz</td>\n",
       "      <td>อห โคตรสุดเลยภาพนี้ มือเปล่าๆประจันหน้ากับรถฉี...</td>\n",
       "      <td>94728</td>\n",
       "    </tr>\n",
       "    <tr>\n",
       "      <th>205938</th>\n",
       "      <td>2020-10-16 19:18:22+07:00</td>\n",
       "      <td>ud_awat</td>\n",
       "      <td>พวกคุณใช้ความรุนแรงแบบนี้กับประชาชนมือเปล่า รั...</td>\n",
       "      <td>91899</td>\n",
       "    </tr>\n",
       "    <tr>\n",
       "      <th>241401</th>\n",
       "      <td>2020-10-16 18:58:02+07:00</td>\n",
       "      <td>25novemm</td>\n",
       "      <td>เหี้ยมาก น้ำสีฟ้าที่มันฉีดใส่ เป็นเคมีฟิสิกส์ ...</td>\n",
       "      <td>87483</td>\n",
       "    </tr>\n",
       "    <tr>\n",
       "      <th>32665</th>\n",
       "      <td>2020-10-16 23:25:11+07:00</td>\n",
       "      <td>angangopilan</td>\n",
       "      <td>ล่าสุดหนูพึ่งได้ให้สัมภาษณ์กับสื่อแคนาดา (CBC ...</td>\n",
       "      <td>86561</td>\n",
       "    </tr>\n",
       "    <tr>\n",
       "      <th>219509</th>\n",
       "      <td>2020-10-16 19:10:18+07:00</td>\n",
       "      <td>jankzinn</td>\n",
       "      <td>มึงอันนี้เหี้ยมากอะ หลวงพี่เข้าไปไหว้คนขับรถฉี...</td>\n",
       "      <td>85091</td>\n",
       "    </tr>\n",
       "    <tr>\n",
       "      <th>199810</th>\n",
       "      <td>2020-10-16 19:21:50+07:00</td>\n",
       "      <td>8laryn</td>\n",
       "      <td>เซพพี่คนนี้เค้สด้วยนะคะ เห็นเค้ายืนขวางรถให้มา...</td>\n",
       "      <td>84489</td>\n",
       "    </tr>\n",
       "    <tr>\n",
       "      <th>194318</th>\n",
       "      <td>2020-10-16 19:25:12+07:00</td>\n",
       "      <td>vousjay2</td>\n",
       "      <td>ทุกคนอย่าให้คลิปนี้หายไป ขอร้อง ช่วยรีกันไปเยอ...</td>\n",
       "      <td>83345</td>\n",
       "    </tr>\n",
       "    <tr>\n",
       "      <th>173004</th>\n",
       "      <td>2020-10-16 19:42:08+07:00</td>\n",
       "      <td>liszukung</td>\n",
       "      <td>เชี่ยเอ๊ย คุณฐาปนีย์แม่งแนวหน้ามาก มีเสียงแว่ว...</td>\n",
       "      <td>83260</td>\n",
       "    </tr>\n",
       "  </tbody>\n",
       "</table>\n",
       "</div>"
      ],
      "text/plain": [
       "                      created_at         username  \\\n",
       "195409 2020-10-16 19:24:30+07:00  violettewautier   \n",
       "238826 2020-10-16 18:59:31+07:00        tptourpab   \n",
       "131489 2020-10-16 20:15:42+07:00         thebattz   \n",
       "205938 2020-10-16 19:18:22+07:00          ud_awat   \n",
       "241401 2020-10-16 18:58:02+07:00         25novemm   \n",
       "32665  2020-10-16 23:25:11+07:00     angangopilan   \n",
       "219509 2020-10-16 19:10:18+07:00         jankzinn   \n",
       "199810 2020-10-16 19:21:50+07:00           8laryn   \n",
       "194318 2020-10-16 19:25:12+07:00         vousjay2   \n",
       "173004 2020-10-16 19:42:08+07:00        liszukung   \n",
       "\n",
       "                                                    tweet  retweets_count  \n",
       "195409  การชุมนุมต่อสู้เพื่อความยุติธรรม เพื่อประชาธิป...          151500  \n",
       "238826  คุณเห็นความแตกต่างของ 2 กลุ่มนี้ไหม คุณเอะใจ ม...          107177  \n",
       "131489  อห โคตรสุดเลยภาพนี้ มือเปล่าๆประจันหน้ากับรถฉี...           94728  \n",
       "205938  พวกคุณใช้ความรุนแรงแบบนี้กับประชาชนมือเปล่า รั...           91899  \n",
       "241401  เหี้ยมาก น้ำสีฟ้าที่มันฉีดใส่ เป็นเคมีฟิสิกส์ ...           87483  \n",
       "32665   ล่าสุดหนูพึ่งได้ให้สัมภาษณ์กับสื่อแคนาดา (CBC ...           86561  \n",
       "219509  มึงอันนี้เหี้ยมากอะ หลวงพี่เข้าไปไหว้คนขับรถฉี...           85091  \n",
       "199810  เซพพี่คนนี้เค้สด้วยนะคะ เห็นเค้ายืนขวางรถให้มา...           84489  \n",
       "194318  ทุกคนอย่าให้คลิปนี้หายไป ขอร้อง ช่วยรีกันไปเยอ...           83345  \n",
       "173004  เชี่ยเอ๊ย คุณฐาปนีย์แม่งแนวหน้ามาก มีเสียงแว่ว...           83260  "
      ]
     },
     "execution_count": 46,
     "metadata": {},
     "output_type": "execute_result"
    }
   ],
   "source": [
    "df.sort_values([\"retweets_count\"], ascending=False)[['created_at','username','tweet','retweets_count']].head(10)"
   ]
  },
  {
   "cell_type": "code",
   "execution_count": 55,
   "metadata": {},
   "outputs": [
    {
     "name": "stdout",
     "output_type": "stream",
     "text": [
      "|2020-09-11 16:42:07|malykh_jj|หลายคนก่อนเข้ามาประกวดบอกอยากเป็นกระบอกเสียง อยากใช้ Platformเวทีนางงามในการแก้ปัญหา แต่พอถึงเวลามีปัญหาจริงละเงียบกริบ คือไรคุณพี่ สงสารมารีญามากที่แบกวงการนางงามอยู่ขอบคุณมารีญามากเป็นกระบอกเสียงที่ดีและมีจุดยืน #มารีญา #คัดค้านนําเข้าเศษพลาสติก #ธรรมศาสตร์และการชุมนุม  https://t.co/Eb3FV8TWjT|81673|[link](https://twitter.com/malykh_jj/status/1304354526401495040)|\n",
      "|2020-02-26 18:12:52|beenobeeta|เมิงงง มธ ประกาศ จะนำ นศ ไปราชดำเนิน  ยังไงดี น้องเค้าเปิดแล้วนะ #ธรรมศาสตร์และการชุมนุม|63250|[link](https://twitter.com/beenobeeta/status/1232624568348495872)|\n",
      "|2020-02-26 19:03:58|xiaozaoput|\"หนังสือก็ต้องอ่าน รัฐบาลก็ต้องด่า\" มันส์สุดทีน55555   #ธรรมศาสตร์และการชุมนุม  https://t.co/eZwgrW1Hty|62298|[link](https://twitter.com/Xiaozaoput/status/1232637427203706880)|\n",
      "|2020-09-19 19:09:30|nnoophilaa|แม่เจ้า หนึ่งทุ่ม คนเต็มท้องสนามหลวงเลย มันแบบ... กุว่ามันจะจบที่รุ่นเราจริงๆแหละทุกคน ความหวังมันมากขึ้นไปเรื่อยๆ 😭🙏🏻 #19กันยาทวงอํานาจคืนราษฏร #ธรรมศาสตร์และการชุมนุม #ม็อบ19กันยา  https://t.co/MEQWh6UBCx|62037|[link](https://twitter.com/nnoophilaa/status/1307290721309741057)|\n",
      "|2020-02-26 18:03:50|chennietckjd|อย่างชอบ5555555555555  #ธรรมศาสตร์และการชุมนุม  https://t.co/GNLkXK4ipR|50168|[link](https://twitter.com/chennietckjd/status/1232622292984745984)|\n",
      "|2020-09-11 16:40:11|annabeeannabell|ตอนนี้ตำรวจกำลังซ้อมปาแก๊สน้ำตาที่ชลบุรี เราไม่รู้ว่าจะติดแท๊กไหน #ธรรมศาสตร์และการชุมนุม  https://t.co/yCqGG34blk|50045|[link](https://twitter.com/annabeeannabell/status/1304354041795719169)|\n",
      "|2020-02-26 21:40:21|pine_js852|น้องคนนี้จังหวะโบ๊บ๊ะมาก ชอบตอนแม่ห้าม  แม่ : แชมป์อย่าไปนะลูก! ช : ได้แม่.. ตอนนี้แม่น้องเค้ารู้ยัง 555555555555 #ธรรมศาสตร์และการชุมนุม  https://t.co/IHcRA3X1Na|46506|[link](https://twitter.com/Pine_js852/status/1232676781519278080)|\n",
      "|2020-02-26 19:55:02|volleyship|\"ตัดมาจากวีดีโอของน้อง  ช่วงท่อนฮุค\" น้องๆเฉียบมาก👍🏻 #ไม่ทนไม่ถอยไม่ยอม #ราชมงคลจะไม่ทนอีกต่อไป #ธรรมศาสตร์และการชุมนุม #อภิปรายไม่ใว้วางใจรัฐบาล cr: fb Sumatee Kaongam  https://t.co/b2FG4nGn3H|43683|[link](https://twitter.com/volleyship/status/1232650278941286401)|\n",
      "|2020-02-26 20:33:17|june16425|ขอพื้นที่ขำก่อนค่ะ555555 #ธรรมศาสตร์และการชุมนุม  https://t.co/bQd1awz6XH|42421|[link](https://twitter.com/june16425/status/1232659904751497216)|\n",
      "|2020-02-26 21:16:25|realnameismynx|ที่สงสัยคือธรรมศาสตร์เขาทำได้ไงวะ อุดมการณ์ที่แรงชิบหายเพื่อประชาธิปไตย หล่อหลอมนักศึกษาทุกคนเป็นหมื่นๆให้รับใช้ความถูกต้องได้ขนาดนี้อ่ะ 47ปีที่แล้วกับตอนนี้คือไม่เปลี่ยนเลย กูโครตยอมการปลูกฝังจิตสำนึกของสถาบันเขา ยาแรงไม่หยุด #ธรรมศาสตร์และการชุมนุม|40989|[link](https://twitter.com/realnameismynx/status/1232670757899001857)|\n"
     ]
    }
   ],
   "source": [
    "for i, row in df.sort_values([\"retweets_count\"], ascending=False)[['created_at','username','tweet','retweets_count','link']].head(10).iterrows():\n",
    "    row['created_at'] = str(row['created_at']).split('+')[0]\n",
    "    row['retweets_count'] = str(row['retweets_count'])\n",
    "    row['link'] = f\"[link]({row['link']})\"\n",
    "    print('|'+\"|\".join(row)+\"|\")"
   ]
  },
  {
   "cell_type": "code",
   "execution_count": null,
   "metadata": {},
   "outputs": [],
   "source": []
  }
 ],
 "metadata": {
  "kernelspec": {
   "display_name": "Python 3",
   "language": "python",
   "name": "python3"
  },
  "language_info": {
   "codemirror_mode": {
    "name": "ipython",
    "version": 3
   },
   "file_extension": ".py",
   "mimetype": "text/x-python",
   "name": "python",
   "nbconvert_exporter": "python",
   "pygments_lexer": "ipython3",
   "version": "3.7.5"
  }
 },
 "nbformat": 4,
 "nbformat_minor": 4
}
