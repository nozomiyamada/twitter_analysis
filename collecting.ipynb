{
 "cells": [
  {
   "cell_type": "code",
   "execution_count": 16,
   "source": [
    "from datetime import timedelta\n",
    "from tqdm import tqdm\n",
    "import pandas as pd\n",
    "import os, time"
   ],
   "outputs": [],
   "metadata": {}
  },
  {
   "cell_type": "code",
   "execution_count": 30,
   "source": [
    "filepath = '@thanawatofficial_tweet2.json'\n",
    "username = 'tanawatofficial'"
   ],
   "outputs": [],
   "metadata": {}
  },
  {
   "cell_type": "code",
   "execution_count": 34,
   "source": [
    "pd.read_json(filepath, lines=True)"
   ],
   "outputs": [
    {
     "output_type": "execute_result",
     "data": {
      "text/html": [
       "<div>\n",
       "<style scoped>\n",
       "    .dataframe tbody tr th:only-of-type {\n",
       "        vertical-align: middle;\n",
       "    }\n",
       "\n",
       "    .dataframe tbody tr th {\n",
       "        vertical-align: top;\n",
       "    }\n",
       "\n",
       "    .dataframe thead th {\n",
       "        text-align: right;\n",
       "    }\n",
       "</style>\n",
       "<table border=\"1\" class=\"dataframe\">\n",
       "  <thead>\n",
       "    <tr style=\"text-align: right;\">\n",
       "      <th></th>\n",
       "      <th>id</th>\n",
       "      <th>conversation_id</th>\n",
       "      <th>created_at</th>\n",
       "      <th>date</th>\n",
       "      <th>time</th>\n",
       "      <th>timezone</th>\n",
       "      <th>user_id</th>\n",
       "      <th>username</th>\n",
       "      <th>name</th>\n",
       "      <th>place</th>\n",
       "      <th>...</th>\n",
       "      <th>geo</th>\n",
       "      <th>source</th>\n",
       "      <th>user_rt_id</th>\n",
       "      <th>user_rt</th>\n",
       "      <th>retweet_id</th>\n",
       "      <th>reply_to</th>\n",
       "      <th>retweet_date</th>\n",
       "      <th>translate</th>\n",
       "      <th>trans_src</th>\n",
       "      <th>trans_dest</th>\n",
       "    </tr>\n",
       "  </thead>\n",
       "  <tbody>\n",
       "    <tr>\n",
       "      <th>0</th>\n",
       "      <td>1344570649285513216</td>\n",
       "      <td>1344570649285513216</td>\n",
       "      <td>2020-12-31 16:06:38+07:00</td>\n",
       "      <td>2020-12-31</td>\n",
       "      <td>16:06:38</td>\n",
       "      <td>700</td>\n",
       "      <td>1121682547652513792</td>\n",
       "      <td>tanawatofficial</td>\n",
       "      <td>บอล ธนวัฒน์ วงค์ไชย</td>\n",
       "      <td></td>\n",
       "      <td>...</td>\n",
       "      <td></td>\n",
       "      <td></td>\n",
       "      <td></td>\n",
       "      <td></td>\n",
       "      <td></td>\n",
       "      <td>[]</td>\n",
       "      <td></td>\n",
       "      <td></td>\n",
       "      <td></td>\n",
       "      <td></td>\n",
       "    </tr>\n",
       "    <tr>\n",
       "      <th>1</th>\n",
       "      <td>1344534659166736384</td>\n",
       "      <td>1344534659166736384</td>\n",
       "      <td>2020-12-31 13:43:37+07:00</td>\n",
       "      <td>2020-12-31</td>\n",
       "      <td>13:43:37</td>\n",
       "      <td>700</td>\n",
       "      <td>1121682547652513792</td>\n",
       "      <td>tanawatofficial</td>\n",
       "      <td>บอล ธนวัฒน์ วงค์ไชย</td>\n",
       "      <td></td>\n",
       "      <td>...</td>\n",
       "      <td></td>\n",
       "      <td></td>\n",
       "      <td></td>\n",
       "      <td></td>\n",
       "      <td></td>\n",
       "      <td>[]</td>\n",
       "      <td></td>\n",
       "      <td></td>\n",
       "      <td></td>\n",
       "      <td></td>\n",
       "    </tr>\n",
       "    <tr>\n",
       "      <th>2</th>\n",
       "      <td>1344030052791382016</td>\n",
       "      <td>1344030052791382016</td>\n",
       "      <td>2020-12-30 04:18:30+07:00</td>\n",
       "      <td>2020-12-30</td>\n",
       "      <td>04:18:30</td>\n",
       "      <td>700</td>\n",
       "      <td>1121682547652513792</td>\n",
       "      <td>tanawatofficial</td>\n",
       "      <td>บอล ธนวัฒน์ วงค์ไชย</td>\n",
       "      <td></td>\n",
       "      <td>...</td>\n",
       "      <td></td>\n",
       "      <td></td>\n",
       "      <td></td>\n",
       "      <td></td>\n",
       "      <td></td>\n",
       "      <td>[]</td>\n",
       "      <td></td>\n",
       "      <td></td>\n",
       "      <td></td>\n",
       "      <td></td>\n",
       "    </tr>\n",
       "    <tr>\n",
       "      <th>3</th>\n",
       "      <td>1343957154542149632</td>\n",
       "      <td>1343957154542149632</td>\n",
       "      <td>2020-12-29 23:28:49+07:00</td>\n",
       "      <td>2020-12-29</td>\n",
       "      <td>23:28:49</td>\n",
       "      <td>700</td>\n",
       "      <td>1121682547652513792</td>\n",
       "      <td>tanawatofficial</td>\n",
       "      <td>บอล ธนวัฒน์ วงค์ไชย</td>\n",
       "      <td></td>\n",
       "      <td>...</td>\n",
       "      <td></td>\n",
       "      <td></td>\n",
       "      <td></td>\n",
       "      <td></td>\n",
       "      <td></td>\n",
       "      <td>[]</td>\n",
       "      <td></td>\n",
       "      <td></td>\n",
       "      <td></td>\n",
       "      <td></td>\n",
       "    </tr>\n",
       "    <tr>\n",
       "      <th>4</th>\n",
       "      <td>1342529224377204737</td>\n",
       "      <td>1342529224377204736</td>\n",
       "      <td>2020-12-26 00:54:44+07:00</td>\n",
       "      <td>2020-12-26</td>\n",
       "      <td>00:54:44</td>\n",
       "      <td>700</td>\n",
       "      <td>1121682547652513792</td>\n",
       "      <td>tanawatofficial</td>\n",
       "      <td>บอล ธนวัฒน์ วงค์ไชย</td>\n",
       "      <td></td>\n",
       "      <td>...</td>\n",
       "      <td></td>\n",
       "      <td></td>\n",
       "      <td></td>\n",
       "      <td></td>\n",
       "      <td></td>\n",
       "      <td>[]</td>\n",
       "      <td></td>\n",
       "      <td></td>\n",
       "      <td></td>\n",
       "      <td></td>\n",
       "    </tr>\n",
       "    <tr>\n",
       "      <th>...</th>\n",
       "      <td>...</td>\n",
       "      <td>...</td>\n",
       "      <td>...</td>\n",
       "      <td>...</td>\n",
       "      <td>...</td>\n",
       "      <td>...</td>\n",
       "      <td>...</td>\n",
       "      <td>...</td>\n",
       "      <td>...</td>\n",
       "      <td>...</td>\n",
       "      <td>...</td>\n",
       "      <td>...</td>\n",
       "      <td>...</td>\n",
       "      <td>...</td>\n",
       "      <td>...</td>\n",
       "      <td>...</td>\n",
       "      <td>...</td>\n",
       "      <td>...</td>\n",
       "      <td>...</td>\n",
       "      <td>...</td>\n",
       "      <td>...</td>\n",
       "    </tr>\n",
       "    <tr>\n",
       "      <th>611</th>\n",
       "      <td>1318121200762023936</td>\n",
       "      <td>1318121200762023936</td>\n",
       "      <td>2020-10-19 16:25:58+07:00</td>\n",
       "      <td>2020-10-19</td>\n",
       "      <td>16:25:58</td>\n",
       "      <td>700</td>\n",
       "      <td>1121682547652513792</td>\n",
       "      <td>tanawatofficial</td>\n",
       "      <td>บอล ธนวัฒน์ วงค์ไชย</td>\n",
       "      <td></td>\n",
       "      <td>...</td>\n",
       "      <td></td>\n",
       "      <td></td>\n",
       "      <td></td>\n",
       "      <td></td>\n",
       "      <td></td>\n",
       "      <td>[]</td>\n",
       "      <td></td>\n",
       "      <td></td>\n",
       "      <td></td>\n",
       "      <td></td>\n",
       "    </tr>\n",
       "    <tr>\n",
       "      <th>612</th>\n",
       "      <td>1318118488964091904</td>\n",
       "      <td>1318113108808802304</td>\n",
       "      <td>2020-10-19 16:15:11+07:00</td>\n",
       "      <td>2020-10-19</td>\n",
       "      <td>16:15:11</td>\n",
       "      <td>700</td>\n",
       "      <td>1121682547652513792</td>\n",
       "      <td>tanawatofficial</td>\n",
       "      <td>บอล ธนวัฒน์ วงค์ไชย</td>\n",
       "      <td></td>\n",
       "      <td>...</td>\n",
       "      <td></td>\n",
       "      <td></td>\n",
       "      <td></td>\n",
       "      <td></td>\n",
       "      <td></td>\n",
       "      <td>[{'screen_name': 'JHoungsub', 'name': 'จิรายุ ...</td>\n",
       "      <td></td>\n",
       "      <td></td>\n",
       "      <td></td>\n",
       "      <td></td>\n",
       "    </tr>\n",
       "    <tr>\n",
       "      <th>613</th>\n",
       "      <td>1318118116921012226</td>\n",
       "      <td>1318111105797873664</td>\n",
       "      <td>2020-10-19 16:13:43+07:00</td>\n",
       "      <td>2020-10-19</td>\n",
       "      <td>16:13:43</td>\n",
       "      <td>700</td>\n",
       "      <td>1121682547652513792</td>\n",
       "      <td>tanawatofficial</td>\n",
       "      <td>บอล ธนวัฒน์ วงค์ไชย</td>\n",
       "      <td></td>\n",
       "      <td>...</td>\n",
       "      <td></td>\n",
       "      <td></td>\n",
       "      <td></td>\n",
       "      <td></td>\n",
       "      <td></td>\n",
       "      <td>[]</td>\n",
       "      <td></td>\n",
       "      <td></td>\n",
       "      <td></td>\n",
       "      <td></td>\n",
       "    </tr>\n",
       "    <tr>\n",
       "      <th>614</th>\n",
       "      <td>1318117548341161985</td>\n",
       "      <td>1318111105797873664</td>\n",
       "      <td>2020-10-19 16:11:27+07:00</td>\n",
       "      <td>2020-10-19</td>\n",
       "      <td>16:11:27</td>\n",
       "      <td>700</td>\n",
       "      <td>1121682547652513792</td>\n",
       "      <td>tanawatofficial</td>\n",
       "      <td>บอล ธนวัฒน์ วงค์ไชย</td>\n",
       "      <td></td>\n",
       "      <td>...</td>\n",
       "      <td></td>\n",
       "      <td></td>\n",
       "      <td></td>\n",
       "      <td></td>\n",
       "      <td></td>\n",
       "      <td>[]</td>\n",
       "      <td></td>\n",
       "      <td></td>\n",
       "      <td></td>\n",
       "      <td></td>\n",
       "    </tr>\n",
       "    <tr>\n",
       "      <th>615</th>\n",
       "      <td>1318117208136970241</td>\n",
       "      <td>1318111105797873664</td>\n",
       "      <td>2020-10-19 16:10:06+07:00</td>\n",
       "      <td>2020-10-19</td>\n",
       "      <td>16:10:06</td>\n",
       "      <td>700</td>\n",
       "      <td>1121682547652513792</td>\n",
       "      <td>tanawatofficial</td>\n",
       "      <td>บอล ธนวัฒน์ วงค์ไชย</td>\n",
       "      <td></td>\n",
       "      <td>...</td>\n",
       "      <td></td>\n",
       "      <td></td>\n",
       "      <td></td>\n",
       "      <td></td>\n",
       "      <td></td>\n",
       "      <td>[]</td>\n",
       "      <td></td>\n",
       "      <td></td>\n",
       "      <td></td>\n",
       "      <td></td>\n",
       "    </tr>\n",
       "  </tbody>\n",
       "</table>\n",
       "<p>616 rows × 36 columns</p>\n",
       "</div>"
      ],
      "text/plain": [
       "                      id      conversation_id                created_at  \\\n",
       "0    1344570649285513216  1344570649285513216 2020-12-31 16:06:38+07:00   \n",
       "1    1344534659166736384  1344534659166736384 2020-12-31 13:43:37+07:00   \n",
       "2    1344030052791382016  1344030052791382016 2020-12-30 04:18:30+07:00   \n",
       "3    1343957154542149632  1343957154542149632 2020-12-29 23:28:49+07:00   \n",
       "4    1342529224377204737  1342529224377204736 2020-12-26 00:54:44+07:00   \n",
       "..                   ...                  ...                       ...   \n",
       "611  1318121200762023936  1318121200762023936 2020-10-19 16:25:58+07:00   \n",
       "612  1318118488964091904  1318113108808802304 2020-10-19 16:15:11+07:00   \n",
       "613  1318118116921012226  1318111105797873664 2020-10-19 16:13:43+07:00   \n",
       "614  1318117548341161985  1318111105797873664 2020-10-19 16:11:27+07:00   \n",
       "615  1318117208136970241  1318111105797873664 2020-10-19 16:10:06+07:00   \n",
       "\n",
       "          date      time  timezone              user_id         username  \\\n",
       "0   2020-12-31  16:06:38       700  1121682547652513792  tanawatofficial   \n",
       "1   2020-12-31  13:43:37       700  1121682547652513792  tanawatofficial   \n",
       "2   2020-12-30  04:18:30       700  1121682547652513792  tanawatofficial   \n",
       "3   2020-12-29  23:28:49       700  1121682547652513792  tanawatofficial   \n",
       "4   2020-12-26  00:54:44       700  1121682547652513792  tanawatofficial   \n",
       "..         ...       ...       ...                  ...              ...   \n",
       "611 2020-10-19  16:25:58       700  1121682547652513792  tanawatofficial   \n",
       "612 2020-10-19  16:15:11       700  1121682547652513792  tanawatofficial   \n",
       "613 2020-10-19  16:13:43       700  1121682547652513792  tanawatofficial   \n",
       "614 2020-10-19  16:11:27       700  1121682547652513792  tanawatofficial   \n",
       "615 2020-10-19  16:10:06       700  1121682547652513792  tanawatofficial   \n",
       "\n",
       "                    name place  ... geo source user_rt_id user_rt retweet_id  \\\n",
       "0    บอล ธนวัฒน์ วงค์ไชย        ...                                            \n",
       "1    บอล ธนวัฒน์ วงค์ไชย        ...                                            \n",
       "2    บอล ธนวัฒน์ วงค์ไชย        ...                                            \n",
       "3    บอล ธนวัฒน์ วงค์ไชย        ...                                            \n",
       "4    บอล ธนวัฒน์ วงค์ไชย        ...                                            \n",
       "..                   ...   ...  ...  ..    ...        ...     ...        ...   \n",
       "611  บอล ธนวัฒน์ วงค์ไชย        ...                                            \n",
       "612  บอล ธนวัฒน์ วงค์ไชย        ...                                            \n",
       "613  บอล ธนวัฒน์ วงค์ไชย        ...                                            \n",
       "614  บอล ธนวัฒน์ วงค์ไชย        ...                                            \n",
       "615  บอล ธนวัฒน์ วงค์ไชย        ...                                            \n",
       "\n",
       "                                              reply_to  retweet_date  \\\n",
       "0                                                   []                 \n",
       "1                                                   []                 \n",
       "2                                                   []                 \n",
       "3                                                   []                 \n",
       "4                                                   []                 \n",
       "..                                                 ...           ...   \n",
       "611                                                 []                 \n",
       "612  [{'screen_name': 'JHoungsub', 'name': 'จิรายุ ...                 \n",
       "613                                                 []                 \n",
       "614                                                 []                 \n",
       "615                                                 []                 \n",
       "\n",
       "     translate trans_src trans_dest  \n",
       "0                                    \n",
       "1                                    \n",
       "2                                    \n",
       "3                                    \n",
       "4                                    \n",
       "..         ...       ...        ...  \n",
       "611                                  \n",
       "612                                  \n",
       "613                                  \n",
       "614                                  \n",
       "615                                  \n",
       "\n",
       "[616 rows x 36 columns]"
      ]
     },
     "metadata": {},
     "execution_count": 34
    }
   ],
   "metadata": {}
  },
  {
   "cell_type": "code",
   "execution_count": 37,
   "source": [
    "for i in tqdm(range(20)):\n",
    "    df = pd.read_json(filepath, lines=True)\n",
    "    untilday = str(df.iloc[-1].date + timedelta(days=1)).split()[0]\n",
    "    print(untilday)\n",
    "\n",
    "    os.system(f'twint -u tanawatofficial --until {untilday} -o @thanawatofficial_tweet2.json --json')\n",
    "    time.sleep(60)"
   ],
   "outputs": [
    {
     "output_type": "stream",
     "name": "stderr",
     "text": [
      "  0%|          | 0/20 [00:00<?, ?it/s]"
     ]
    },
    {
     "output_type": "stream",
     "name": "stdout",
     "text": [
      "2020-08-18\n"
     ]
    },
    {
     "output_type": "stream",
     "name": "stderr",
     "text": [
      "  5%|▌         | 1/20 [00:43<13:46, 43.49s/it]"
     ]
    },
    {
     "output_type": "stream",
     "name": "stdout",
     "text": [
      "2020-08-18\n"
     ]
    },
    {
     "output_type": "stream",
     "name": "stderr",
     "text": [
      " 10%|█         | 2/20 [01:27<13:04, 43.56s/it]"
     ]
    },
    {
     "output_type": "stream",
     "name": "stdout",
     "text": [
      "2020-08-18\n"
     ]
    },
    {
     "output_type": "stream",
     "name": "stderr",
     "text": [
      " 15%|█▌        | 3/20 [02:12<12:28, 44.01s/it]"
     ]
    },
    {
     "output_type": "stream",
     "name": "stdout",
     "text": [
      "2020-08-15\n"
     ]
    },
    {
     "output_type": "stream",
     "name": "stderr",
     "text": [
      " 20%|██        | 4/20 [02:55<11:41, 43.82s/it]"
     ]
    },
    {
     "output_type": "stream",
     "name": "stdout",
     "text": [
      "2020-08-15\n"
     ]
    },
    {
     "output_type": "stream",
     "name": "stderr",
     "text": [
      " 25%|██▌       | 5/20 [03:39<10:56, 43.77s/it]"
     ]
    },
    {
     "output_type": "stream",
     "name": "stdout",
     "text": [
      "2020-08-15\n"
     ]
    },
    {
     "output_type": "stream",
     "name": "stderr",
     "text": [
      " 30%|███       | 6/20 [04:22<10:08, 43.47s/it]"
     ]
    },
    {
     "output_type": "stream",
     "name": "stdout",
     "text": [
      "2020-08-15\n"
     ]
    },
    {
     "output_type": "stream",
     "name": "stderr",
     "text": [
      " 35%|███▌      | 7/20 [05:05<09:23, 43.32s/it]"
     ]
    },
    {
     "output_type": "stream",
     "name": "stdout",
     "text": [
      "2020-08-15\n"
     ]
    },
    {
     "output_type": "stream",
     "name": "stderr",
     "text": [
      " 40%|████      | 8/20 [05:48<08:39, 43.25s/it]"
     ]
    },
    {
     "output_type": "stream",
     "name": "stdout",
     "text": [
      "2020-08-15\n"
     ]
    },
    {
     "output_type": "stream",
     "name": "stderr",
     "text": [
      " 45%|████▌     | 9/20 [06:32<07:59, 43.59s/it]"
     ]
    },
    {
     "output_type": "stream",
     "name": "stdout",
     "text": [
      "2020-08-13\n"
     ]
    },
    {
     "output_type": "stream",
     "name": "stderr",
     "text": [
      " 50%|█████     | 10/20 [07:15<07:13, 43.34s/it]"
     ]
    },
    {
     "output_type": "stream",
     "name": "stdout",
     "text": [
      "2020-08-13\n"
     ]
    },
    {
     "output_type": "stream",
     "name": "stderr",
     "text": [
      " 55%|█████▌    | 11/20 [07:59<06:33, 43.74s/it]"
     ]
    },
    {
     "output_type": "stream",
     "name": "stdout",
     "text": [
      "2020-08-12\n"
     ]
    },
    {
     "output_type": "stream",
     "name": "stderr",
     "text": [
      " 60%|██████    | 12/20 [08:43<05:49, 43.67s/it]"
     ]
    },
    {
     "output_type": "stream",
     "name": "stdout",
     "text": [
      "2020-08-11\n"
     ]
    },
    {
     "output_type": "stream",
     "name": "stderr",
     "text": [
      " 65%|██████▌   | 13/20 [09:28<05:09, 44.18s/it]"
     ]
    },
    {
     "output_type": "stream",
     "name": "stdout",
     "text": [
      "2020-08-05\n"
     ]
    },
    {
     "output_type": "stream",
     "name": "stderr",
     "text": [
      " 70%|███████   | 14/20 [10:13<04:25, 44.25s/it]"
     ]
    },
    {
     "output_type": "stream",
     "name": "stdout",
     "text": [
      "2020-07-25\n"
     ]
    },
    {
     "output_type": "stream",
     "name": "stderr",
     "text": [
      " 75%|███████▌  | 15/20 [10:56<03:39, 43.89s/it]"
     ]
    },
    {
     "output_type": "stream",
     "name": "stdout",
     "text": [
      "2020-07-25\n"
     ]
    },
    {
     "output_type": "stream",
     "name": "stderr",
     "text": [
      " 80%|████████  | 16/20 [11:40<02:55, 43.89s/it]"
     ]
    },
    {
     "output_type": "stream",
     "name": "stdout",
     "text": [
      "2020-07-24\n"
     ]
    },
    {
     "output_type": "stream",
     "name": "stderr",
     "text": [
      " 85%|████████▌ | 17/20 [12:25<02:12, 44.21s/it]"
     ]
    },
    {
     "output_type": "stream",
     "name": "stdout",
     "text": [
      "2020-07-21\n"
     ]
    },
    {
     "output_type": "stream",
     "name": "stderr",
     "text": [
      " 90%|█████████ | 18/20 [13:09<01:28, 44.39s/it]"
     ]
    },
    {
     "output_type": "stream",
     "name": "stdout",
     "text": [
      "2020-07-19\n"
     ]
    },
    {
     "output_type": "stream",
     "name": "stderr",
     "text": [
      " 95%|█████████▌| 19/20 [13:53<00:44, 44.10s/it]"
     ]
    },
    {
     "output_type": "stream",
     "name": "stdout",
     "text": [
      "2020-07-19\n"
     ]
    },
    {
     "output_type": "stream",
     "name": "stderr",
     "text": [
      "100%|██████████| 20/20 [14:36<00:00, 43.84s/it]\n"
     ]
    }
   ],
   "metadata": {}
  },
  {
   "cell_type": "code",
   "execution_count": 18,
   "source": [
    "df.iloc[-1].time"
   ],
   "outputs": [
    {
     "output_type": "execute_result",
     "data": {
      "text/plain": [
       "'18:37:53'"
      ]
     },
     "metadata": {},
     "execution_count": 18
    }
   ],
   "metadata": {}
  },
  {
   "cell_type": "code",
   "execution_count": null,
   "source": [],
   "outputs": [],
   "metadata": {}
  }
 ],
 "metadata": {
  "kernelspec": {
   "name": "python3",
   "display_name": "Python 3.7.5 64-bit"
  },
  "language_info": {
   "codemirror_mode": {
    "name": "ipython",
    "version": 3
   },
   "file_extension": ".py",
   "mimetype": "text/x-python",
   "name": "python",
   "nbconvert_exporter": "python",
   "pygments_lexer": "ipython3",
   "version": "3.7.5"
  },
  "interpreter": {
   "hash": "e534e48711db4d1e1c48977d0d14ff85b1f16d41bcc4fdfd88268a329b3c9d66"
  }
 },
 "nbformat": 4,
 "nbformat_minor": 5
}