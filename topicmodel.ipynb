{
 "cells": [
  {
   "cell_type": "code",
   "execution_count": 5,
   "id": "c7535bb8-fec1-44c9-92a8-a502768393b7",
   "metadata": {},
   "outputs": [],
   "source": [
    "from pythainlp import word_tokenize\n",
    "from pythainlp.corpus import thai_stopwords\n",
    "STOPWORDS = thai_stopwords()\n",
    "from glob import glob\n",
    "from tqdm import tqdm\n",
    "from collections import Counter\n",
    "import json, html, re\n",
    "import numpy as np\n",
    "import pandas as pd\n",
    "    \n",
    "def clean(text, hashtag):\n",
    "    text = text.replace(hashtag, '')\n",
    "    text = html.unescape(text)\n",
    "    text = re.sub(r'http.+?(?:\\\\s|$)', '', text) # URL link\n",
    "    text = re.sub(r'[“”„]', '\"', text) # convert double quotations into \"\n",
    "    text = re.sub(r'[‘’′′′′`]', \"'\", text) # convert single quotations into '\n",
    "    text = re.sub(r'[ \\u00a0\\xa0\\u3000\\u2002-\\u200a\\t\\n#]+', ' ', text) # shrink whitespaces e.g. good  boy -> good boy\n",
    "    text = re.sub(r'[\\r\\u200b\\ufeff]+', '', text) # remove non-breaking space\n",
    "    text = re.sub(r'ํา','ำ', text) # am\n",
    "    return text.strip()\n",
    "\n",
    "def tokenize(text, hashtag):\n",
    "    tokens = word_tokenize(clean(text, hashtag), keep_whitespace='False')\n",
    "    tokens = [token for token in tokens if token not in STOPWORDS and re.match(r'[ก-๙][ก-๙\\\\.\\\\-]+$', token)]\n",
    "    return tokens"
   ]
  },
  {
   "cell_type": "code",
   "execution_count": 6,
   "id": "3ca83fee-8968-4559-b397-e2328bfe1d30",
   "metadata": {},
   "outputs": [
    {
     "name": "stdout",
     "output_type": "stream",
     "text": [
      "0 tweets/#กูสั่งให้มึงอยู่ใต้รัฐธรรมนูญ.json\n",
      "1 tweets/#ธรรมศาสตร์และการชุมนุม.json\n",
      "2 tweets/#เกียมอุดมไม่ก้มหัวให้เผด็จการ.json\n",
      "3 tweets/#25พฤศจิกาไปSCB.json\n",
      "4 tweets/#ม็อบ25พฤศจิกาทวงคืนสมบัติชาติ.json\n",
      "5 tweets/#ม็อบ2ธันวา.json\n"
     ]
    }
   ],
   "source": [
    "jsons = glob('tweets/*.json')\n",
    "for i, f in enumerate(jsons):\n",
    "    print(i,f)"
   ]
  },
  {
   "cell_type": "code",
   "execution_count": 4,
   "id": "422faa26-7263-472d-9e4e-270ff7f2ca4c",
   "metadata": {},
   "outputs": [
    {
     "name": "stdout",
     "output_type": "stream",
     "text": [
      "CPU times: user 2.99 s, sys: 502 ms, total: 3.49 s\n",
      "Wall time: 3.73 s\n"
     ]
    },
    {
     "data": {
      "text/plain": [
       "Series([], Name: tokens, dtype: object)"
      ]
     },
     "execution_count": 4,
     "metadata": {},
     "output_type": "execute_result"
    }
   ],
   "source": [
    "%%time\n",
    "\n",
    "### select data ###\n",
    "i = 3\n",
    "hashtag = \"#ธรรมศาสตร์และการชุมนุม\"\n",
    "df = pd.read_json(jsons[i], lines=True)\n",
    "\n",
    "### define duration ###\n",
    "df = df[(df.date >= '2020-2-24') & (df.date <= '2020-2-28')]\n",
    "\n",
    "### tokenize ###\n",
    "df['tokens'] = df.tweet.apply(lambda x: tokenize(x, hashtag))\n",
    "\n",
    "df.tokens"
   ]
  },
  {
   "cell_type": "code",
   "execution_count": 3,
   "id": "fcd80091-612c-4035-b4a8-6a342fee5aa4",
   "metadata": {},
   "outputs": [
    {
     "ename": "NameError",
     "evalue": "name 'df' is not defined",
     "output_type": "error",
     "traceback": [
      "\u001b[0;31m---------------------------------------------------------------------------\u001b[0m",
      "\u001b[0;31mNameError\u001b[0m                                 Traceback (most recent call last)",
      "\u001b[0;32m<ipython-input-3-ca2d919f8f3a>\u001b[0m in \u001b[0;36m<module>\u001b[0;34m\u001b[0m\n\u001b[0;32m----> 1\u001b[0;31m \u001b[0mdf\u001b[0m\u001b[0;34m.\u001b[0m\u001b[0mreply\u001b[0m\u001b[0;34m\u001b[0m\u001b[0;34m\u001b[0m\u001b[0m\n\u001b[0m",
      "\u001b[0;31mNameError\u001b[0m: name 'df' is not defined"
     ]
    }
   ],
   "source": [
    "df.reply"
   ]
  },
  {
   "cell_type": "markdown",
   "id": "5d6add9c-e1b1-4cd7-b3ac-26d45c762738",
   "metadata": {},
   "source": [
    "# associated words"
   ]
  },
  {
   "cell_type": "code",
   "execution_count": 20,
   "id": "a464af65-2ac6-4877-9f6f-bd4f37c7a281",
   "metadata": {},
   "outputs": [],
   "source": [
    "### get most frequent hashtags ###\n",
    "count = Counter()\n",
    "for lst in df.hashtags:\n",
    "    count.update(lst)\n",
    "hashtags = {x[0]:Counter() for x in count.most_common(16)[1:]}\n",
    "\n",
    "for i, row in df.iterrows():\n",
    "    for hashtag in row['hashtags']:\n",
    "        if hashtag in hashtags:\n",
    "            hashtags[hashtag].update(row['tokens'])"
   ]
  },
  {
   "cell_type": "code",
   "execution_count": 25,
   "id": "aa28d45a-723d-4a24-9165-5e6097a4612a",
   "metadata": {},
   "outputs": [
    {
     "name": "stdout",
     "output_type": "stream",
     "text": [
      "อภิปรายไม่ใว้วางใจรัฐบาล\n",
      "รัฐบาล(831),อภิปราย(824),ใว้(747),วางใจ(747),มข(107),พอกันที(106),เผด็จการ(105),คน(100),สลิ่ม(82),มศวขอ(77),\n",
      "\n",
      "มขพอกันที\n",
      "มข(258),พอกันที(253),อภิปราย(158),รัฐบาล(146),ใว้(118),วางใจ(118),เผด็จการ(117),จุดยืน(100),มศวขอ(99),สลิ่ม(89),\n",
      "\n",
      "อภิปรายไม่ไว้วางใจรัฐบาล\n",
      "อภิปราย(302),รัฐบาล(298),ไว้วางใจ(250),ใว้(50),วางใจ(50),ทำ(31),คน(28),ประชาชน(27),เผด็จการ(26),สลิ่ม(25),\n",
      "\n",
      "มศวขอมีจุดยืน\n",
      "มศวขอ(186),จุดยืน(186),อภิปราย(108),รัฐบาล(103),มข(97),พอกันที(97),ใว้(82),วางใจ(82),เผด็จการ(66),ซีน(56),\n",
      "\n",
      "ที่ยุบอนาคตใหม่พี่มหาลัยกูทั้งนั้น\n",
      "พี่(143),อนาคต(140),ยุบ(139),มหาลัย(138),เผด็จการ(36),สลิ่ม(36),ลูก(32),อภิปราย(26),รับใช้(26),รัฐบาล(25),\n",
      "\n",
      "ธรรมนัส\n",
      "ธรรม(136),นัส(127),อภิปราย(117),รัฐบาล(75),ใว้(69),วางใจ(69),ไว้วางใจ(46),เผด็จการ(37),ประยุทธ์(21),คน(21),\n",
      "\n",
      "อภิปรายไม่ใว้วางใจ\n",
      "อภิปราย(150),ใว้(135),วางใจ(135),เผด็จการ(59),รัฐบาล(47),ธรรม(26),นัส(26),ดำ(19),ไว้วางใจ(19),ประชาธิปไตย(19),\n",
      "\n",
      "ศิลปากรขอมีซีน\n",
      "ศิลปากร(109),ซีน(109),มข(64),พอกันที(63),มศวขอ(58),จุดยืน(55),อภิปราย(55),รัฐบาล(52),สลิ่ม(43),เผด็จการ(41),\n",
      "\n",
      "สวที่อยู่ข้างประชาธิปไตย\n",
      "ประชาธิปไตย(99),สว(88),ที่อยู่(88),อภิปราย(68),เผด็จการ(55),ใว้(50),วางใจ(50),รัฐบาล(44),สลิ่ม(28),ลูก(26),\n",
      "\n",
      "เสาหลักจะไม่หักอีกต่อไป\n",
      "อีกต่อไป(89),เสาหลัก(80),หัก(80),เผด็จการ(43),อภิปราย(41),ขนมหวาน(29),ใว้(28),วางใจ(28),ราด(27),กะทิ(27),\n",
      "\n",
      "เกียมอุดมไม่ก้มหัวให้เผด็จการ\n",
      "เผด็จการ(118),อุดม(79),เกีย(74),ก้มหัว(74),อภิปราย(42),ลูก(35),ใว้(34),วางใจ(34),รัฐบาล(32),มข(28),\n",
      "\n",
      "โรงเรียนเจ้าห้าวมากไม่ได้\n",
      "ห้าว(67),โรงเรียน(66),เจ้า(66),อภิปราย(45),ใว้(38),วางใจ(38),รัฐบาล(37),มข(31),พอกันที(31),เผด็จการ(23),\n",
      "\n",
      "อภิปรายไม่ไว้วางใจ\n",
      "อภิปราย(111),ไว้วางใจ(86),ธรรม(39),นัส(39),รัฐบาล(37),ใว้(24),วางใจ(24),เผด็จการ(19),คน(18),โป๊ะแตก(17),\n",
      "\n",
      "รู้ทันio\n",
      "รู้ทัน(70),อภิปราย(64),รัฐบาล(55),ใว้(46),วางใจ(46),ไว้วางใจ(21),เผด็จการ(21),ประชาชน(19),ประชาธิปไตย(18),กระชาก(18),\n",
      "\n",
      "เสื้อดําจะยําเผด็จการ\n",
      "เผด็จการ(92),เสื้อ(68),ดำ(66),ยำ(62),อภิปราย(54),รัฐบาล(44),ใว้(43),วางใจ(43),อีกต่อไป(12),มข(12),\n",
      "\n"
     ]
    }
   ],
   "source": [
    "for k, v in hashtags.items():\n",
    "    print(k)\n",
    "    for w, c in v.most_common(10):\n",
    "        print(f\"{w}({c})\", end=',')\n",
    "    print('\\n')"
   ]
  },
  {
   "cell_type": "code",
   "execution_count": null,
   "id": "dac158c7-64d8-44b4-9678-9530b2287324",
   "metadata": {},
   "outputs": [],
   "source": []
  },
  {
   "cell_type": "markdown",
   "id": "309cf9ce-fdd5-49fb-9998-4fcbba54a704",
   "metadata": {},
   "source": [
    "# LDA"
   ]
  },
  {
   "cell_type": "code",
   "execution_count": 56,
   "id": "f07718be-c52e-4519-8bde-6b7d1d7c6495",
   "metadata": {},
   "outputs": [
    {
     "name": "stderr",
     "output_type": "stream",
     "text": [
      "100%|██████████| 49050/49050 [00:00<00:00, 63046.94it/s]\n"
     ]
    }
   ],
   "source": [
    "from gensim.models import LdaModel\n",
    "from gensim.corpora.dictionary import Dictionary\n",
    "\n",
    "corpus_dictionary = Dictionary(df.tokens)\n",
    "corpus = []\n",
    "for tokens_list in tqdm(df.tokens):\n",
    "    corpus.append(corpus_dictionary.doc2bow(tokens_list))\n",
    "lda = LdaModel(corpus, num_topics=5, id2word=corpus_dictionary, passes=10)"
   ]
  },
  {
   "cell_type": "code",
   "execution_count": 57,
   "id": "3aa606a3-97d6-46b6-a249-667d02fefe88",
   "metadata": {},
   "outputs": [
    {
     "name": "stdout",
     "output_type": "stream",
     "text": [
      "|1|ทำ|0.029|ชุมนุม|0.019|นะคะ|0.049|ม็อบ|0.148|ตำรวจ|0.034|\n",
      "|2|อี|0.023|ข่าว|0.017|คน|0.040|พฤศจิกา|0.101|ประชาชน|0.027|\n",
      "|3|ตำรวจ|0.023|ราษฎร|0.017|อย่า|0.029|รัฐประหาร|0.023|ประเทศ|0.022|\n",
      "|4|คน|0.022|ประกาศ|0.016|แกง|0.028|ต่อต้าน|0.019|ไทย|0.018|\n",
      "|5|ขนาด|0.018|ทรัพย์สิน|0.014|โดน|0.020|รถติด|0.016|สำนักงานใหญ่|0.016|\n",
      "|6|เหี้ย|0.016|แกง|0.013|ทำ|0.011|ชุมนุม|0.015|ทหาร|0.016|\n",
      "|7|กลัว|0.016|แท็ก|0.013|ขอให้|0.010|ตู้|0.010|หัว|0.015|\n",
      "|8|อ่ะ|0.014|พรุ่งนี้|0.012|สู้|0.009|ถนน|0.010|เกรียน|0.012|\n",
      "|9|แม่|0.014|ยกเลิก|0.011|ใส่|0.009|คอนเทนเนอร์|0.008|ภาษี|0.010|\n",
      "|10|หรอ|0.014|รัฐ|0.010|ดี|0.009|พฤศจิกายน|0.007|ฟ้อง|0.009|\n"
     ]
    }
   ],
   "source": [
    "for i in range(10):\n",
    "    print(f'|{i+1}', end='')\n",
    "    for j in range(5):\n",
    "        word, score = lda.show_topic(j)[i]\n",
    "        print(f\"|{word}|{score:.3f}\",end=\"\")\n",
    "    print('|')"
   ]
  },
  {
   "cell_type": "markdown",
   "id": "6a937656-f2b0-48e2-9621-578274312d5f",
   "metadata": {},
   "source": [
    "# TF-IDF vectorization + SVD + K-means"
   ]
  },
  {
   "cell_type": "code",
   "execution_count": 14,
   "id": "97a0c106-c1e5-4f6b-8115-65ea74df049b",
   "metadata": {},
   "outputs": [
    {
     "name": "stdout",
     "output_type": "stream",
     "text": [
      "(49050, 20000)\n"
     ]
    }
   ],
   "source": [
    "from sklearn.feature_extraction.text import TfidfVectorizer\n",
    "from sklearn.decomposition import TruncatedSVD\n",
    "from sklearn.cluster import KMeans\n",
    "\n",
    "### prepare data : list of sentences (delimitered by space) -> TF-IDF vectorization\n",
    "corpus = df.tokens.apply(lambda x: ' '.join(x))\n",
    "vectorizer = TfidfVectorizer(max_features=20000, ngram_range=(1,2))\n",
    "X = vectorizer.fit_transform(corpus)\n",
    "print(X.shape)\n",
    "\n",
    "### singular value decomposition & normalize\n",
    "dim = 50\n",
    "\n",
    "svd = TruncatedSVD(n_components=dim, n_iter=7, random_state=42)\n",
    "X = svd.fit_transform(X)\n",
    "normalized = [vec/np.linalg.norm(vec) if np.linalg.norm(vec) != 0 else np.zeros(dim) for vec in X ]"
   ]
  },
  {
   "cell_type": "code",
   "execution_count": 15,
   "id": "f86264cd-3ed3-44fa-b5f8-226b498821e2",
   "metadata": {},
   "outputs": [],
   "source": [
    "### clustering \n",
    "num = 5\n",
    "\n",
    "result = KMeans(n_clusters=num).fit_predict(normalized)"
   ]
  },
  {
   "cell_type": "code",
   "execution_count": 16,
   "id": "ad578972-919b-4342-8dfb-f85fb1ef4df0",
   "metadata": {},
   "outputs": [
    {
     "name": "stdout",
     "output_type": "stream",
     "text": [
      "|tweet|topic|\n",
      "|:-:|:-:|\n",
      "|ทุกคนใครไม่เกี่ยวรีบกลับบ้านเลยนะ เดี๋ยวพวกมันสร้างสถานะการณ์อีก #25พฤศจิกาไปSCB|4|\n",
      "|ตร.จ่อหมายจับอาชีวะมือปืนป่วนม็อบ ยันยิงกันเอง-ปมเรื่องส่วนตัวไม่เกี่ยวชุมนุม  https://t.co/jG6TIc1t4T #25พฤศจิกาไปSCB #ทําในสิ่งที่ดีทําในสิ่งที่ถูก #ประชุมสภา #ม็อบ26พฤศจิกา #มือลั่นเหมือนพ่อมึงเลย #กูสั่งให้มึงอยู่ใต้รัฐธรรมนูญ #ส่งต่อคสอ #ตลาดนัดtreasure #ตํารวจไทยขยะสังคม|3|\n",
      "|LIVE! การชุมนุมบริเวณอาคาร SCB รัชโยธิน #25พฤศจิกาไปSCB  https://t.co/SjnWPQQaQP ผ่าน @YouTube|3|\n",
      "|ลุ้นให้ย้ายสถานที่อีกค่ะ แกงมันอีก สนุกดี #25พฤศจิกาไปSCB|4|\n",
      "|CHILD IN MOB ในม็อบมีเด็ก #ม็อบ25พฤศจิกา #25พฤศจิกาไปSCB  https://t.co/X9RRwobovs|2|\n",
      "|ตึกข้างบนก็มีทะเลดาวด้วยกัน5555555 พวกเราสู้ไปด้วยกันนะคะ #25พฤศจิกาไปSCB  https://t.co/vs33L00y3g|5|\n",
      "|เสนอเล่นๆนะ ตอนนี้กำลังส่วนใหญ่อยู่ในกรุงเทพ ทั้งจนท ทั้งคนที่เกณฑ์ไป ถ้ามองเกมแล้วคือกะว่ายังไงต้องให้เกิดความรุนแรงแน่ๆ ถ้าวันนี้ยกเลิกม็อบ SCB กะทันหันก็ดีนะ แล้วเปลี่ยนเป็นม็อบตามเมืองใหญ่ต่างจังหวัด ประกาศซักตอน11โมงงี้ เราว่ามันอิมแพคเยอะอยู่นะ #25พฤศจิกาไปSCB|3|\n",
      "|เซอร์ไพรส์!!!!! #ม็อบ25พฤศจิกา #25พฤศจิกาไปSCB #เกาะติดชุมนุม63  #WhatsHappeninglnThailand|2|\n",
      "|ไหวหน่อย อุส่าห์จ้างมาตั้งนาน ปัดโถ่! #ภูมิใจที่ได้รับเสด็จ #รถติด  #25พฤศจิกาไปSCB  https://t.co/ChEZThCMFi|4|\n",
      "|ยิงหรอ หมาลอบกัดไอ้สัส #25พฤศจิกาไปSCB|4|\n",
      "|ถ้าวันนี้ประกาศยกเลิกม็อบ จะเป็นยังไงนะ?  #25พฤศจิกาไปSCB|2|\n",
      "|คร่าวๆ จากไลฟ์นี้ คือปาระเบิดปิงปองลงกลางวงเด็กอาชีวะ คนปาใส่หมวกกันน็อคสีขาวไม่แสดงออกว่ามาจากสถาบันไหน(จากไลฟ์ของ the standard) และคนเยอะก็เลยจับได้ และมีคนเจ็บทั้งโดนระเบิดและคนโดนยิง  #25พฤศจิกาไปSCB  https://t.co/xca2pDfSLZ|4|\n",
      "|โง่ ก็ยอมรับว่าโง่เหอะ 555555 #25พฤศจิกาไปSCB|3|\n",
      "|การจัดม๊อบครั้งนี้ยังขาดงบในการจัดอีกมาก สามารถ ร่วมเป็นท่อน้ำเลี้ยงให้กับเราได้ที่  เลขบัญชี 077-1-22857-7 (กสิกรไทย) ชื่อบัญชี น.ส.ณัฐกุล น้อยอินทร์ และ น.ส.นารีรัตน์ เดือนฉาย ขอบพระคุณทุกท่านที่ช่วยเหลือครับ #25พฤศจิกาไปSCB  #ม็อบ25พฤศจิกา @charoenpura  https://t.co/bFYEVpMUZB|2|\n",
      "|ปกป้องคนๆเดียวถึงกับทำงี้เลยหรอ โอยพวกขี้ข้า ผู้พิษักสันติราษฏร์วงการติ๊กต๊อก #ม็อบ25พฤศจิกา #25พฤศจิกาไปSCB|2|\n",
      "|เด็กมันเก่งกันจริงๆว่ะ #25พฤศจิกาไปSCB|4|\n",
      "|อยากให้ทุกคนช่วยกันเสนอความคิดเห็นว่าทำยังไงเราถึงจะสามารถยกระดับการชุมนุมและกดดันรัฐบาลได้มากกว่าแค่กวนตีน   - ที่เราคิดนะ นัดกันหยุดงานในส่วนของภาคแรงงาน แบบตามนิคมต่างๆ ถ้าสามารถทำให้กระทบนายทุนได้ &gt; มันจะมีผลกระทบในส่วนของมหภาค /1   #25พฤศจิกาไปSCB #หมดเวลาปัญญาชน|4|\n",
      "|ปกป้องตัวเองและพี่น้อง ด้วยขั้นตอน ง่ายๆ  เบอลรูปภาพ เบลอหน้าก่อนนะ  เพื่อความปลอดภัย เดี่ยวหมากัด #25พฤศจิกาไปSCB #เกาะติดชุมนุม63 #ม็อบ25พฤศจิกา|2|\n",
      "|ฝากรีรันอีกครั้งค่ะ #25พฤศจิกาไปSCB|5|\n",
      "|รัฐบาลมึงยิ่งทำแบบนี้ ประชาชนก้จะลุกฮือมากกว่าเดิม เดี๋ยวมาดูกันว่ามึงจะเก่งกับประชาชนซักแค่ไหน วันนี้ขอให้พวกเราออกมากันเยอะๆ แล้วเจอกันพ้องเพื่อน  #25พฤศจิกาไปSCB|3|\n",
      "|ใครเปงคงทัมมมม #25พฤศจิกาไปSCB  https://t.co/9ADLt80Ybg|3|\n",
      "|@pinkypig_lll_ @Thairath_TV ผมว่า เค้ารายงานเหมือน ... รู้มาก่อนว่า ต้องพูดแบบนั้นแบบนี้  คนในม็อบ #25พฤศจิกาไปSCB  ที่ร่วมกันมาไล่ #สลิ่ม #ประยุทธ์ออกไป ทะเลาะกัน มันประหลาด.|3|\n",
      "|จีโน่อย่าดื้อน่ะ! เดี๋ยวพ่อมึงตีแน่  #ม็อบ25พฤศจิกา #25พฤศจิกาไปSCB|2|\n",
      "|ผู้พิทักษ์สันติราช #25พฤศจิกาไปSCB|4|\n",
      "|คุณจะทำไรก็ได้แต่อย่าทำร้ายประชาชน อย่าสร้างสถานการณ์ให้เข้าใจว่าผู้ชุมนุมเป็นคนทำ เพราะนอกเครื่องแบบเยอะมาก #25พฤศจิกาไปSCB|4|\n",
      "|ชาตะ : ไม่รู้ มรณะ :25 พฤศจิกายน 2563 #ม็อบ25พฤศจิกา #25พฤศจิกาไปSCB|2|\n",
      "|😡😡😡 สันขวาน #25พฤศจิกาไปSCB|4|\n",
      "|เอาเวลานี้ไปจับแก๊งกฎจักรวาลและกฎแรงดึงดูดเถอะค่ะ #25พฤศจิกาไปSCB  https://t.co/MirCXgiYGh|3|\n",
      "|@Mushin16 น่าจะโอนไปซัก2บาทนะคะ สงสารตอนเขาเปิดดูยอดเงิน 🤣🤣🤣👏👏👏 #ม็อบ17พฤศจิกา  #25พฤศจิกาไปSCB|2|\n",
      "|ชอบเอเนอจี้ว่ะ #25พฤศจิกาไปSCB|4|\n"
     ]
    }
   ],
   "source": [
    "print(\"|tweet|topic|\\n|:-:|:-:|\")\n",
    "for _ in range(30):\n",
    "    i = np.random.randint(0, len(X))\n",
    "    print(f\"|{df.tweet[i]}|{result[i]+1}|\")"
   ]
  },
  {
   "cell_type": "code",
   "execution_count": null,
   "id": "8c607519-793d-4636-9779-c553200a2dee",
   "metadata": {},
   "outputs": [],
   "source": [
    "for normalized"
   ]
  }
 ],
 "metadata": {
  "kernelspec": {
   "display_name": "Python 3",
   "language": "python",
   "name": "python3"
  },
  "language_info": {
   "codemirror_mode": {
    "name": "ipython",
    "version": 3
   },
   "file_extension": ".py",
   "mimetype": "text/x-python",
   "name": "python",
   "nbconvert_exporter": "python",
   "pygments_lexer": "ipython3",
   "version": "3.7.5"
  }
 },
 "nbformat": 4,
 "nbformat_minor": 5
}
