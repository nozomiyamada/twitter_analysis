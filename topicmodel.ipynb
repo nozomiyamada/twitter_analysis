{
 "cells": [
  {
   "cell_type": "code",
   "execution_count": 1,
   "id": "c7535bb8-fec1-44c9-92a8-a502768393b7",
   "metadata": {},
   "outputs": [],
   "source": [
    "from pythainlp import word_tokenize\n",
    "from pythainlp.corpus import thai_stopwords\n",
    "STOPWORDS = thai_stopwords()\n",
    "from glob import glob\n",
    "from tqdm import tqdm\n",
    "import json, html, re\n",
    "import numpy as np\n",
    "import pandas as pd\n",
    "    \n",
    "def clean(text, hashtag):\n",
    "    text = text.replace(hashtag, '')\n",
    "    text = html.unescape(text)\n",
    "    text = re.sub(r'http.+?(?:\\\\s|$)', '', text) # URL link\n",
    "    text = re.sub(r'[“”„]', '\"', text) # convert double quotations into \"\n",
    "    text = re.sub(r'[‘’′′′′`]', \"'\", text) # convert single quotations into '\n",
    "    text = re.sub(r'[ \\u00a0\\xa0\\u3000\\u2002-\\u200a\\t\\n#]+', ' ', text) # shrink whitespaces e.g. good  boy -> good boy\n",
    "    text = re.sub(r'[\\r\\u200b\\ufeff]+', '', text) # remove non-breaking space\n",
    "    text = re.sub(r'ํา','ำ', text) # am\n",
    "    return text.strip()\n",
    "\n",
    "def tokenize(text, hashtag):\n",
    "    tokens = word_tokenize(clean(text, hashtag), keep_whitespace='False')\n",
    "    tokens = [token for token in tokens if token not in STOPWORDS and re.match(r'[ก-๙][ก-๙\\\\.\\\\-]+$', token)]\n",
    "    return tokens"
   ]
  },
  {
   "cell_type": "code",
   "execution_count": 2,
   "id": "3ca83fee-8968-4559-b397-e2328bfe1d30",
   "metadata": {},
   "outputs": [
    {
     "name": "stdout",
     "output_type": "stream",
     "text": [
      "0 tweets/#กูสั่งให้มึงอยู่ใต้รัฐธรรมนูญ.json\n",
      "1 tweets/#16ตุลาไปแยกปทุมวัน.json\n",
      "2 tweets/#saveวันเฉลิม.json\n",
      "3 tweets/#ธรรมศาสตร์และการชุมนุม.json\n",
      "4 tweets/#เกียมอุดมไม่ก้มหัวให้เผด็จการ.json\n",
      "5 tweets/#25พฤศจิกาไปSCB.json\n",
      "6 tweets/#ม็อบ25พฤศจิกาทวงคืนสมบัติชาติ.json\n",
      "7 tweets/#ม็อบ2ธันวา.json\n"
     ]
    }
   ],
   "source": [
    "jsons = glob('tweets/*.json')\n",
    "for i, f in enumerate(jsons):\n",
    "    print(i,f)"
   ]
  },
  {
   "cell_type": "code",
   "execution_count": 3,
   "id": "422faa26-7263-472d-9e4e-270ff7f2ca4c",
   "metadata": {},
   "outputs": [
    {
     "name": "stdout",
     "output_type": "stream",
     "text": [
      "CPU times: user 25 s, sys: 769 ms, total: 25.8 s\n",
      "Wall time: 26.7 s\n"
     ]
    },
    {
     "data": {
      "text/plain": [
       "0        [ชวน, ทบทวน, ม็อบ, พฤศจิกา, ประเด็น, ทรัพย์สิน...\n",
       "1        [วาน, แอมป์, วรรษ, รับทราบ, ข้อหา, ร้องเพลง, ฉ...\n",
       "2        [วรรษ, เลี้ยง, วัฒนา, บัณฑิต, ม., ศิลปากร, หมา...\n",
       "3                                                       []\n",
       "4                                                       []\n",
       "                               ...                        \n",
       "49045                                                   []\n",
       "49046    [ม็อบ, พฤศจิกา, เปลี่ยนไป, สำนักงานใหญ่, ลด, ก...\n",
       "49047                                                [คับ]\n",
       "49048    [ม็อบ, พฤศจิกา, เปลี่ยนไป, สำนักงานใหญ่, ลด, ก...\n",
       "49049    [ม็อบ, พฤศจิกา, เปลี่ยนไป, สำนักงานใหญ่, ลด, ก...\n",
       "Name: tokens, Length: 49050, dtype: object"
      ]
     },
     "execution_count": 3,
     "metadata": {},
     "output_type": "execute_result"
    }
   ],
   "source": [
    "%%time\n",
    "hashtag = \"#25พฤศจิกาไปSCB\"\n",
    "\n",
    "df = pd.read_json(jsons[5], lines=True)\n",
    "df['tokens'] = df.tweet.apply(lambda x: tokenize(x, hashtag))\n",
    "\n",
    "df.tokens"
   ]
  },
  {
   "cell_type": "code",
   "execution_count": 55,
   "id": "fcd80091-612c-4035-b4a8-6a342fee5aa4",
   "metadata": {},
   "outputs": [
    {
     "data": {
      "text/plain": [
       "8.79480122324159"
      ]
     },
     "execution_count": 55,
     "metadata": {},
     "output_type": "execute_result"
    }
   ],
   "source": [
    "df.tokens.apply(len).mean()"
   ]
  },
  {
   "cell_type": "markdown",
   "id": "309cf9ce-fdd5-49fb-9998-4fcbba54a704",
   "metadata": {},
   "source": [
    "# LDA"
   ]
  },
  {
   "cell_type": "code",
   "execution_count": 56,
   "id": "f07718be-c52e-4519-8bde-6b7d1d7c6495",
   "metadata": {},
   "outputs": [
    {
     "name": "stderr",
     "output_type": "stream",
     "text": [
      "100%|██████████| 49050/49050 [00:00<00:00, 63046.94it/s]\n"
     ]
    }
   ],
   "source": [
    "from gensim.models import LdaModel\n",
    "from gensim.corpora.dictionary import Dictionary\n",
    "\n",
    "corpus_dictionary = Dictionary(df.tokens)\n",
    "corpus = []\n",
    "for tokens_list in tqdm(df.tokens):\n",
    "    corpus.append(corpus_dictionary.doc2bow(tokens_list))\n",
    "lda = LdaModel(corpus, num_topics=5, id2word=corpus_dictionary, passes=10)"
   ]
  },
  {
   "cell_type": "code",
   "execution_count": 57,
   "id": "3aa606a3-97d6-46b6-a249-667d02fefe88",
   "metadata": {},
   "outputs": [
    {
     "name": "stdout",
     "output_type": "stream",
     "text": [
      "|1|ทำ|0.029|ชุมนุม|0.019|นะคะ|0.049|ม็อบ|0.148|ตำรวจ|0.034|\n",
      "|2|อี|0.023|ข่าว|0.017|คน|0.040|พฤศจิกา|0.101|ประชาชน|0.027|\n",
      "|3|ตำรวจ|0.023|ราษฎร|0.017|อย่า|0.029|รัฐประหาร|0.023|ประเทศ|0.022|\n",
      "|4|คน|0.022|ประกาศ|0.016|แกง|0.028|ต่อต้าน|0.019|ไทย|0.018|\n",
      "|5|ขนาด|0.018|ทรัพย์สิน|0.014|โดน|0.020|รถติด|0.016|สำนักงานใหญ่|0.016|\n",
      "|6|เหี้ย|0.016|แกง|0.013|ทำ|0.011|ชุมนุม|0.015|ทหาร|0.016|\n",
      "|7|กลัว|0.016|แท็ก|0.013|ขอให้|0.010|ตู้|0.010|หัว|0.015|\n",
      "|8|อ่ะ|0.014|พรุ่งนี้|0.012|สู้|0.009|ถนน|0.010|เกรียน|0.012|\n",
      "|9|แม่|0.014|ยกเลิก|0.011|ใส่|0.009|คอนเทนเนอร์|0.008|ภาษี|0.010|\n",
      "|10|หรอ|0.014|รัฐ|0.010|ดี|0.009|พฤศจิกายน|0.007|ฟ้อง|0.009|\n"
     ]
    }
   ],
   "source": [
    "for i in range(10):\n",
    "    print(f'|{i+1}', end='')\n",
    "    for j in range(5):\n",
    "        word, score = lda.show_topic(j)[i]\n",
    "        print(f\"|{word}|{score:.3f}\",end=\"\")\n",
    "    print('|')"
   ]
  },
  {
   "cell_type": "markdown",
   "id": "6a937656-f2b0-48e2-9621-578274312d5f",
   "metadata": {},
   "source": [
    "# TF-IDF vectorization + SVD + K-means"
   ]
  },
  {
   "cell_type": "code",
   "execution_count": 14,
   "id": "97a0c106-c1e5-4f6b-8115-65ea74df049b",
   "metadata": {},
   "outputs": [
    {
     "name": "stdout",
     "output_type": "stream",
     "text": [
      "(49050, 20000)\n"
     ]
    }
   ],
   "source": [
    "from sklearn.feature_extraction.text import TfidfVectorizer\n",
    "from sklearn.decomposition import TruncatedSVD\n",
    "from sklearn.cluster import KMeans\n",
    "\n",
    "### prepare data : list of sentences (delimitered by space) -> TF-IDF vectorization\n",
    "corpus = df.tokens.apply(lambda x: ' '.join(x))\n",
    "vectorizer = TfidfVectorizer(max_features=20000, ngram_range=(1,2))\n",
    "X = vectorizer.fit_transform(corpus)\n",
    "print(X.shape)\n",
    "\n",
    "### singular value decomposition & normalize\n",
    "dim = 50\n",
    "\n",
    "svd = TruncatedSVD(n_components=dim, n_iter=7, random_state=42)\n",
    "X = svd.fit_transform(X)\n",
    "normalized = [vec/np.linalg.norm(vec) if np.linalg.norm(vec) != 0 else np.zeros(dim) for vec in X ]"
   ]
  },
  {
   "cell_type": "code",
   "execution_count": 15,
   "id": "f86264cd-3ed3-44fa-b5f8-226b498821e2",
   "metadata": {},
   "outputs": [],
   "source": [
    "### clustering \n",
    "num = 5\n",
    "\n",
    "result = KMeans(n_clusters=num).fit_predict(normalized)"
   ]
  },
  {
   "cell_type": "code",
   "execution_count": 16,
   "id": "ad578972-919b-4342-8dfb-f85fb1ef4df0",
   "metadata": {},
   "outputs": [
    {
     "name": "stdout",
     "output_type": "stream",
     "text": [
      "|tweet|topic|\n",
      "|:-:|:-:|\n",
      "|ทุกคนใครไม่เกี่ยวรีบกลับบ้านเลยนะ เดี๋ยวพวกมันสร้างสถานะการณ์อีก #25พฤศจิกาไปSCB|4|\n",
      "|ตร.จ่อหมายจับอาชีวะมือปืนป่วนม็อบ ยันยิงกันเอง-ปมเรื่องส่วนตัวไม่เกี่ยวชุมนุม  https://t.co/jG6TIc1t4T #25พฤศจิกาไปSCB #ทําในสิ่งที่ดีทําในสิ่งที่ถูก #ประชุมสภา #ม็อบ26พฤศจิกา #มือลั่นเหมือนพ่อมึงเลย #กูสั่งให้มึงอยู่ใต้รัฐธรรมนูญ #ส่งต่อคสอ #ตลาดนัดtreasure #ตํารวจไทยขยะสังคม|3|\n",
      "|LIVE! การชุมนุมบริเวณอาคาร SCB รัชโยธิน #25พฤศจิกาไปSCB  https://t.co/SjnWPQQaQP ผ่าน @YouTube|3|\n",
      "|ลุ้นให้ย้ายสถานที่อีกค่ะ แกงมันอีก สนุกดี #25พฤศจิกาไปSCB|4|\n",
      "|CHILD IN MOB ในม็อบมีเด็ก #ม็อบ25พฤศจิกา #25พฤศจิกาไปSCB  https://t.co/X9RRwobovs|2|\n",
      "|ตึกข้างบนก็มีทะเลดาวด้วยกัน5555555 พวกเราสู้ไปด้วยกันนะคะ #25พฤศจิกาไปSCB  https://t.co/vs33L00y3g|5|\n",
      "|เสนอเล่นๆนะ ตอนนี้กำลังส่วนใหญ่อยู่ในกรุงเทพ ทั้งจนท ทั้งคนที่เกณฑ์ไป ถ้ามองเกมแล้วคือกะว่ายังไงต้องให้เกิดความรุนแรงแน่ๆ ถ้าวันนี้ยกเลิกม็อบ SCB กะทันหันก็ดีนะ แล้วเปลี่ยนเป็นม็อบตามเมืองใหญ่ต่างจังหวัด ประกาศซักตอน11โมงงี้ เราว่ามันอิมแพคเยอะอยู่นะ #25พฤศจิกาไปSCB|3|\n",
      "|เซอร์ไพรส์!!!!! #ม็อบ25พฤศจิกา #25พฤศจิกาไปSCB #เกาะติดชุมนุม63  #WhatsHappeninglnThailand|2|\n",
      "|ไหวหน่อย อุส่าห์จ้างมาตั้งนาน ปัดโถ่! #ภูมิใจที่ได้รับเสด็จ #รถติด  #25พฤศจิกาไปSCB  https://t.co/ChEZThCMFi|4|\n",
      "|ยิงหรอ หมาลอบกัดไอ้สัส #25พฤศจิกาไปSCB|4|\n",
      "|ถ้าวันนี้ประกาศยกเลิกม็อบ จะเป็นยังไงนะ?  #25พฤศจิกาไปSCB|2|\n",
      "|คร่าวๆ จากไลฟ์นี้ คือปาระเบิดปิงปองลงกลางวงเด็กอาชีวะ คนปาใส่หมวกกันน็อคสีขาวไม่แสดงออกว่ามาจากสถาบันไหน(จากไลฟ์ของ the standard) และคนเยอะก็เลยจับได้ และมีคนเจ็บทั้งโดนระเบิดและคนโดนยิง  #25พฤศจิกาไปSCB  https://t.co/xca2pDfSLZ|4|\n",
      "|โง่ ก็ยอมรับว่าโง่เหอะ 555555 #25พฤศจิกาไปSCB|3|\n",
      "|การจัดม๊อบครั้งนี้ยังขาดงบในการจัดอีกมาก สามารถ ร่วมเป็นท่อน้ำเลี้ยงให้กับเราได้ที่  เลขบัญชี 077-1-22857-7 (กสิกรไทย) ชื่อบัญชี น.ส.ณัฐกุล น้อยอินทร์ และ น.ส.นารีรัตน์ เดือนฉาย ขอบพระคุณทุกท่านที่ช่วยเหลือครับ #25พฤศจิกาไปSCB  #ม็อบ25พฤศจิกา @charoenpura  https://t.co/bFYEVpMUZB|2|\n",
      "|ปกป้องคนๆเดียวถึงกับทำงี้เลยหรอ โอยพวกขี้ข้า ผู้พิษักสันติราษฏร์วงการติ๊กต๊อก #ม็อบ25พฤศจิกา #25พฤศจิกาไปSCB|2|\n",
      "|เด็กมันเก่งกันจริงๆว่ะ #25พฤศจิกาไปSCB|4|\n",
      "|อยากให้ทุกคนช่วยกันเสนอความคิดเห็นว่าทำยังไงเราถึงจะสามารถยกระดับการชุมนุมและกดดันรัฐบาลได้มากกว่าแค่กวนตีน   - ที่เราคิดนะ นัดกันหยุดงานในส่วนของภาคแรงงาน แบบตามนิคมต่างๆ ถ้าสามารถทำให้กระทบนายทุนได้ &gt; มันจะมีผลกระทบในส่วนของมหภาค /1   #25พฤศจิกาไปSCB #หมดเวลาปัญญาชน|4|\n",
      "|ปกป้องตัวเองและพี่น้อง ด้วยขั้นตอน ง่ายๆ  เบอลรูปภาพ เบลอหน้าก่อนนะ  เพื่อความปลอดภัย เดี่ยวหมากัด #25พฤศจิกาไปSCB #เกาะติดชุมนุม63 #ม็อบ25พฤศจิกา|2|\n",
      "|ฝากรีรันอีกครั้งค่ะ #25พฤศจิกาไปSCB|5|\n",
      "|รัฐบาลมึงยิ่งทำแบบนี้ ประชาชนก้จะลุกฮือมากกว่าเดิม เดี๋ยวมาดูกันว่ามึงจะเก่งกับประชาชนซักแค่ไหน วันนี้ขอให้พวกเราออกมากันเยอะๆ แล้วเจอกันพ้องเพื่อน  #25พฤศจิกาไปSCB|3|\n",
      "|ใครเปงคงทัมมมม #25พฤศจิกาไปSCB  https://t.co/9ADLt80Ybg|3|\n",
      "|@pinkypig_lll_ @Thairath_TV ผมว่า เค้ารายงานเหมือน ... รู้มาก่อนว่า ต้องพูดแบบนั้นแบบนี้  คนในม็อบ #25พฤศจิกาไปSCB  ที่ร่วมกันมาไล่ #สลิ่ม #ประยุทธ์ออกไป ทะเลาะกัน มันประหลาด.|3|\n",
      "|จีโน่อย่าดื้อน่ะ! เดี๋ยวพ่อมึงตีแน่  #ม็อบ25พฤศจิกา #25พฤศจิกาไปSCB|2|\n",
      "|ผู้พิทักษ์สันติราช #25พฤศจิกาไปSCB|4|\n",
      "|คุณจะทำไรก็ได้แต่อย่าทำร้ายประชาชน อย่าสร้างสถานการณ์ให้เข้าใจว่าผู้ชุมนุมเป็นคนทำ เพราะนอกเครื่องแบบเยอะมาก #25พฤศจิกาไปSCB|4|\n",
      "|ชาตะ : ไม่รู้ มรณะ :25 พฤศจิกายน 2563 #ม็อบ25พฤศจิกา #25พฤศจิกาไปSCB|2|\n",
      "|😡😡😡 สันขวาน #25พฤศจิกาไปSCB|4|\n",
      "|เอาเวลานี้ไปจับแก๊งกฎจักรวาลและกฎแรงดึงดูดเถอะค่ะ #25พฤศจิกาไปSCB  https://t.co/MirCXgiYGh|3|\n",
      "|@Mushin16 น่าจะโอนไปซัก2บาทนะคะ สงสารตอนเขาเปิดดูยอดเงิน 🤣🤣🤣👏👏👏 #ม็อบ17พฤศจิกา  #25พฤศจิกาไปSCB|2|\n",
      "|ชอบเอเนอจี้ว่ะ #25พฤศจิกาไปSCB|4|\n"
     ]
    }
   ],
   "source": [
    "print(\"|tweet|topic|\\n|:-:|:-:|\")\n",
    "for _ in range(30):\n",
    "    i = np.random.randint(0, len(X))\n",
    "    print(f\"|{df.tweet[i]}|{result[i]+1}|\")"
   ]
  },
  {
   "cell_type": "code",
   "execution_count": null,
   "id": "8c607519-793d-4636-9779-c553200a2dee",
   "metadata": {},
   "outputs": [],
   "source": [
    "for normalized"
   ]
  }
 ],
 "metadata": {
  "kernelspec": {
   "display_name": "Python 3",
   "language": "python",
   "name": "python3"
  },
  "language_info": {
   "codemirror_mode": {
    "name": "ipython",
    "version": 3
   },
   "file_extension": ".py",
   "mimetype": "text/x-python",
   "name": "python",
   "nbconvert_exporter": "python",
   "pygments_lexer": "ipython3",
   "version": "3.7.5"
  }
 },
 "nbformat": 4,
 "nbformat_minor": 5
}
