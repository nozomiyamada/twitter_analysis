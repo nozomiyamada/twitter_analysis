{
 "cells": [
  {
   "cell_type": "code",
   "execution_count": 1,
   "id": "c7535bb8-fec1-44c9-92a8-a502768393b7",
   "metadata": {},
   "outputs": [],
   "source": [
    "from pythainlp import word_tokenize\n",
    "from pythainlp.corpus import thai_stopwords\n",
    "STOPWORDS = thai_stopwords()\n",
    "from glob import glob\n",
    "from tqdm import tqdm\n",
    "import json, html, re\n",
    "import numpy as np\n",
    "import pandas as pd\n",
    "    \n",
    "def clean(text, hashtag):\n",
    "    text = text.replace(hashtag, '')\n",
    "    text = html.unescape(text)\n",
    "    text = re.sub(r'http.+?(?:\\\\s|$)', '', text) # URL link\n",
    "    text = re.sub(r'[“”„]', '\"', text) # convert double quotations into \"\n",
    "    text = re.sub(r'[‘’′′′′`]', \"'\", text) # convert single quotations into '\n",
    "    text = re.sub(r'[ \\u00a0\\xa0\\u3000\\u2002-\\u200a\\t\\n#]+', ' ', text) # shrink whitespaces e.g. good  boy -> good boy\n",
    "    text = re.sub(r'[\\r\\u200b\\ufeff]+', '', text) # remove non-breaking space\n",
    "    text = re.sub(r'ํา','ำ', text) # am\n",
    "    return text.strip()\n",
    "\n",
    "def tokenize(text, hashtag):\n",
    "    tokens = word_tokenize(clean(text, hashtag), keep_whitespace='False')\n",
    "    tokens = [token for token in tokens if token not in STOPWORDS and re.match(r'[ก-๙][ก-๙\\\\.\\\\-]+$', token)]\n",
    "    return tokens"
   ]
  },
  {
   "cell_type": "code",
   "execution_count": 2,
   "id": "3ca83fee-8968-4559-b397-e2328bfe1d30",
   "metadata": {},
   "outputs": [
    {
     "name": "stdout",
     "output_type": "stream",
     "text": [
      "0 tweets/#กูสั่งให้มึงอยู่ใต้รัฐธรรมนูญ.json\n",
      "1 tweets/#ธรรมศาสตร์และการชุมนุม.json\n",
      "2 tweets/#เกียมอุดมไม่ก้มหัวให้เผด็จการ.json\n",
      "3 tweets/#25พฤศจิกาไปSCB.json\n",
      "4 tweets/#ม็อบ25พฤศจิกาทวงคืนสมบัติชาติ.json\n",
      "5 tweets/#ม็อบ2ธันวา.json\n"
     ]
    }
   ],
   "source": [
    "jsons = glob('tweets/*.json')\n",
    "for i, f in enumerate(jsons):\n",
    "    print(i,f)"
   ]
  },
  {
   "cell_type": "code",
   "execution_count": 15,
   "id": "422faa26-7263-472d-9e4e-270ff7f2ca4c",
   "metadata": {},
   "outputs": [
    {
     "name": "stdout",
     "output_type": "stream",
     "text": [
      "CPU times: user 9.27 s, sys: 1.2 s, total: 10.5 s\n",
      "Wall time: 12.1 s\n"
     ]
    },
    {
     "data": {
      "text/plain": [
       "0        [ผนงรจตกม, หัว, ขี่, เลื่อย, ปัญญา, บริหาร, ปร...\n",
       "1        [อิสัส, ข้ออ้าง, รัฐประหาร, แบบนี้, จัญไร, ดีก...\n",
       "2        [รัฐ, ทำ, ประชาชน, แบบนี้, สมควร, ไอ้, สลิ่ม, ...\n",
       "3        [รด, เยี่ยว, สิ, โควิด, โควิด, ชักว่าว, ข่าว, ...\n",
       "4            [ขุด, ลึก, เหี้ย, ข้าราชการ, ไทย, บ่อ, บาดาล]\n",
       "                               ...                        \n",
       "19060    [อี, แปล, ปฏิรูป, แฟน, มีต, อี, ไพร่, แปล, ปฏิ...\n",
       "19061      [ไอ้, มือปราบ, หมู, กะทะ, เรือเป็ด, กุ้ง, ย่าง]\n",
       "19062                                                   []\n",
       "19063                                         [แท๊ก, รุ้ง]\n",
       "19064                          [พรุ่งนี้, สภา, ร่าง, รธน.]\n",
       "Name: tokens, Length: 19065, dtype: object"
      ]
     },
     "execution_count": 15,
     "metadata": {},
     "output_type": "execute_result"
    }
   ],
   "source": [
    "%%time\n",
    "hashtag = \"#กูสั่งให้มึงอยู่ใต้รัฐธรรมนูญ\"\n",
    "\n",
    "df = pd.read_json(jsons[0], lines=True)\n",
    "df['tokens'] = df.tweet.apply(lambda x: tokenize(x, hashtag))\n",
    "\n",
    "df.tokens"
   ]
  },
  {
   "cell_type": "code",
   "execution_count": 16,
   "id": "fcd80091-612c-4035-b4a8-6a342fee5aa4",
   "metadata": {},
   "outputs": [
    {
     "data": {
      "text/plain": [
       "8.542669813794912"
      ]
     },
     "execution_count": 16,
     "metadata": {},
     "output_type": "execute_result"
    }
   ],
   "source": [
    "df.tokens.apply(len).mean()"
   ]
  },
  {
   "cell_type": "markdown",
   "id": "309cf9ce-fdd5-49fb-9998-4fcbba54a704",
   "metadata": {},
   "source": [
    "# LDA"
   ]
  },
  {
   "cell_type": "code",
   "execution_count": 17,
   "id": "f07718be-c52e-4519-8bde-6b7d1d7c6495",
   "metadata": {},
   "outputs": [
    {
     "name": "stderr",
     "output_type": "stream",
     "text": [
      "100%|██████████| 19065/19065 [00:00<00:00, 73441.08it/s]\n"
     ]
    },
    {
     "name": "stdout",
     "output_type": "stream",
     "text": [
      "CPU times: user 1min 8s, sys: 525 ms, total: 1min 9s\n",
      "Wall time: 1min 19s\n"
     ]
    }
   ],
   "source": [
    "%%time\n",
    "\n",
    "from gensim.models import LdaModel\n",
    "from gensim.corpora.dictionary import Dictionary\n",
    "\n",
    "corpus_dictionary = Dictionary(df.tokens)\n",
    "corpus = []\n",
    "for tokens_list in tqdm(df.tokens):\n",
    "    corpus.append(corpus_dictionary.doc2bow(tokens_list))\n",
    "lda = LdaModel(corpus, num_topics=5, id2word=corpus_dictionary, passes=10)"
   ]
  },
  {
   "cell_type": "code",
   "execution_count": 18,
   "id": "3aa606a3-97d6-46b6-a249-667d02fefe88",
   "metadata": {},
   "outputs": [
    {
     "name": "stdout",
     "output_type": "stream",
     "text": [
      "|rank|topic 1||topic 2||topic 3||topic 4||topic 5||\n",
      "|:-:|:-:|:-:|:-:|:-:|:-:|:-:|:-:|:-:|:-:|:-:|\n",
      "|1|ม็อบ|0.060|เหี้ย|0.052|ม็อบ|0.224|ม็อบ|0.087|ม็อบ|0.079|\n",
      "|2|พฤศจิกา|0.052|คน|0.031|พฤศจิกา|0.215|พฤศจิกา|0.083|พฤศจิกา|0.077|\n",
      "|3|น้ำ|0.037|ทำ|0.030|ประชาชน|0.068|ทางออก|0.076|นะคะ|0.024|\n",
      "|4|ฉีด|0.029|อี|0.027|หยุด|0.026|ทุ|0.076|รี|0.016|\n",
      "|5|กระสุน|0.024|หรอ|0.016|คุกคาม|0.019|กร่าง|0.076|อย่า|0.015|\n",
      "|6|ยาง|0.022|ไอ้|0.016|เผด็จการ|0.019|สภา|0.057|ช่วยกัน|0.014|\n",
      "|7|ชุมนุม|0.018|พ่อ|0.012|ตำรวจ|0.018|ประชุม|0.052|แบน|0.014|\n",
      "|8|ใส่|0.015|รัก|0.011|ขี้ข้า|0.018|รัฐธรรมนูญ|0.048|ข่าว|0.011|\n",
      "|9|แก๊สน้ำตา|0.013|อ่ะ|0.011|ทำร้าย|0.012|แก้|0.033|อมรินทร์|0.010|\n",
      "|10|ตำรวจ|0.013|ประเทศ|0.011|พฤศจิกายน|0.008|ร่าง|0.007|ประชาธิปไตย|0.009|\n"
     ]
    }
   ],
   "source": [
    "print(\"|rank|topic 1||topic 2||topic 3||topic 4||topic 5||\\n|:-:|:-:|:-:|:-:|:-:|:-:|:-:|:-:|:-:|:-:|:-:|\")\n",
    "for i in range(10):\n",
    "    print(f'|{i+1}', end='')\n",
    "    for j in range(5):\n",
    "        word, score = lda.show_topic(j)[i]\n",
    "        print(f\"|{word}|{score:.3f}\",end=\"\")\n",
    "    print('|')"
   ]
  },
  {
   "cell_type": "markdown",
   "id": "6a937656-f2b0-48e2-9621-578274312d5f",
   "metadata": {},
   "source": [
    "# TF-IDF vectorization + SVD + K-means"
   ]
  },
  {
   "cell_type": "code",
   "execution_count": 19,
   "id": "97a0c106-c1e5-4f6b-8115-65ea74df049b",
   "metadata": {},
   "outputs": [
    {
     "name": "stdout",
     "output_type": "stream",
     "text": [
      "(19065, 20000)\n",
      "CPU times: user 3.22 s, sys: 340 ms, total: 3.56 s\n",
      "Wall time: 2.37 s\n"
     ]
    }
   ],
   "source": [
    "%%time\n",
    "\n",
    "from sklearn.feature_extraction.text import TfidfVectorizer\n",
    "from sklearn.decomposition import TruncatedSVD\n",
    "from sklearn.cluster import KMeans\n",
    "\n",
    "### prepare data : list of sentences (delimitered by space) -> TF-IDF vectorization\n",
    "corpus = df.tokens.apply(lambda x: ' '.join(x))\n",
    "vectorizer = TfidfVectorizer(max_features=20000, ngram_range=(1,2))\n",
    "X = vectorizer.fit_transform(corpus)\n",
    "print(X.shape)\n",
    "\n",
    "### singular value decomposition & normalize\n",
    "dim = 50\n",
    "\n",
    "svd = TruncatedSVD(n_components=dim, n_iter=7, random_state=42)\n",
    "X = svd.fit_transform(X)\n",
    "normalized = [vec/np.linalg.norm(vec) if np.linalg.norm(vec) != 0 else np.zeros(dim) for vec in X ]"
   ]
  },
  {
   "cell_type": "code",
   "execution_count": 21,
   "id": "f86264cd-3ed3-44fa-b5f8-226b498821e2",
   "metadata": {},
   "outputs": [
    {
     "name": "stdout",
     "output_type": "stream",
     "text": [
      "CPU times: user 2.41 s, sys: 516 ms, total: 2.93 s\n",
      "Wall time: 878 ms\n"
     ]
    }
   ],
   "source": [
    "%%time\n",
    "\n",
    "### clustering \n",
    "num = 5\n",
    "\n",
    "result = KMeans(n_clusters=num).fit_predict(normalized)"
   ]
  },
  {
   "cell_type": "code",
   "execution_count": 22,
   "id": "ad578972-919b-4342-8dfb-f85fb1ef4df0",
   "metadata": {},
   "outputs": [
    {
     "name": "stdout",
     "output_type": "stream",
     "text": [
      "|tweet|topic|\n",
      "|:-:|:-:|\n",
      "|ไอพวกเหี้ย ไอพวกเหี้ยยย โมโหมาก ได้เงินเท่าไหร่ห้ะ เค้าจ้างพวกมึงมาเท่าไหร่ #ม็อบ17พฤศจิกา #กูสั่งให้มึงอยู่ใต้รัฐธรรมนูญ|1|\n",
      "|นี้สิ.. คนบนฟ้า​ #ประเทศกูมี #กูสั่งให้มึงอยู่ใต้รัฐธรรมนูญ|5|\n",
      "|เอาอีกแล้ว@amarintvhd กล้าเรียกตัวเองว่าสื่อได้ไงอ่ะ ที่ด่าๆและแท็กไปคือไม่ได้ให้เซรีบรัมในหัวสมองได้ทำงานบ้างเลยหรอ #ม็อบ17พฤศจิกา  #กูสั่งให้มึงอยู่ใต้รัฐธรรมนูญ|5|\n",
      "|#ม็อบ17พฤศจิกา #กูสั่งให้มึงอยู่ใต้รัฐธรรมนูญ #whatishappeninginthailand #รับทุกร่างคือทางออก #แบนอมรินทร์ #เบื่อม็อบมุ้งมิ้ง #แก้รัฐธรรมนูญ|3|\n",
      "|คันปากมาก เห็นคลิปที่บางคนเอาน้ำไปแจกตำรวจ คืออะไร!!! น้ำแม่งยิ่งขาดแคลน กว่าจะส่งเข้าไปได้ หากันอย่างเร่งด่วน อิห่า ทำทำไม เลิกทำเป็นเรื่องโรแมนติกเถอะ จะอ้วก #ม็อบ17พฤศจิกา #สลายการชุมนุม #WhatsHappeningInThailand #กูสั่งให้มึงอยู่ใต้รัฐธรรมนูญ|5|\n",
      "|สส โง่ @pprpthailand #ม็อบ17พฤศจิกา #กูสั่งให้มึงอยู่ใต้รัฐธรรมนูญ #ประชุมสภา|5|\n",
      "|แบ่งพรรคแบ่งพวกชัดเจน... นี่หรือประณีประนอม!!?? #กูสั่งให้มึงอยู่ใต้รัฐธรรมนูญ #รับทุกร่างคือทางออก #กล้ามากเก่งมากขอบใจ #ต้องช่วยเอาความจริงออกมา #ม็อบ17พฤศจิกา #ประยุทธ์ออกไป #สายตาล้มสถาบัน #เยาวชนปลดแอก_Free_YOUTH|3|\n",
      "|#กูสั่งให้มึงอยู่ใต้รัฐธรรมนูญ #ม็อบ17พฤศจิกา|2|\n",
      "|#กูสั่งให้มึงอยู่ใต้รัฐธรรมนูญ|5|\n",
      "|กูบอกให้มึงอย่าละมิ้งประชาชน #กูสั่งให้มึงอยู่ใต้รัฐธรรมนูญ|5|\n",
      "|#ม็อบ17พฤศจิกา #ประชุมสภา #แก้รัฐธรรมนูญ #whatishappeninginthailand #whatshappeninginthailand #กูสั่งให้มึงอยู่ใต้รัฐธรรมนูญ|5|\n",
      "|#ม็อบ17พฤศจิกา #กูสั่งให้มึงอยู่ใต้รัฐธรรมนูญ #whatshappeninginthailand ประชาชนมีแค่น้ำ น้ำผสมนม และน้ำเกลือ เป็นของป้องกันตัว แต่ทางรัฐยิงแก๊สน้ำตา นี้หรอคือที่เรียก compromise!!!  https://t.co/u4vKGHJ6aK|5|\n",
      "|😠 พวกเลว #กูสั่งให้มึงอยู่ใต้รัฐธรรมนูญ|5|\n",
      "|ฝากถึงพวกอิ๊กนอร์พวกที่ไม่อินกับการเมือง โปรดดูรูปนี้มันสื่ออะไรได้หลายๆอย่าง คุณลุงสู้มาก พวกเรามีครบ32 จงออกมาสู้ ไม่สู้เราก็อยู่อย่างไทย 17.40 น. ที่กรมทหารราบที่1  #ม็อบ28กุมภา #กูสั่งให้มึงอยู่ใต้รัฐธรรมนูญ  https://t.co/WdRQIXSnnI|5|\n",
      "|รูปที่ควรมีทุกบ้าน ❤️ ชาติ(ประชาชน) ศาสนา พระมหาเป็ด #WhatsHappeninglnThailand #ตํารวจไทยขยะสังคม #กูสั่งให้มึงอยู่ใต้รัฐธรรมนูญ #ม๊อบ18พฤศจิกา  https://t.co/0qi2p0n1WX|5|\n",
      "|ถ้าไม้เทนนิสแพงไปลองไม้ช็อตยุงนะคะ เลือกอันที่แข็งแรงหน่อยนะคะ  ❌แต่ไม่ต้องชาจไฟไปนะคะ ❌  ✅อย่าลืม off ก่อนใช้นะคะ❗️ #ม็อบ17พฤศจิกา #กูสั่งให้มึงอยู่ใต้รัฐธรรมนูญ #ไม่เอาประยุทธ์ #ประชาธิปไตยจงเจริญ  https://t.co/DEytFsCL1p|5|\n",
      "|#กูสั่งให้มึงอยู่ใต้รัฐธรรมนูญ|5|\n",
      "|#whatshappeninginthailand #กูสั่งให้มึงอยู่ใต้รัฐธรรมนูญ #ม็อบ17พฤศจิกา|2|\n",
      "|#ม็อบ17พฤศจิกา #กูสั่งให้มึงอยู่ใต้รัฐธรรมนูญ #whatishappeninginthailand|2|\n",
      "|กระสุนยางไม่มีอยู่จริง มีแต่กระสุนจริงเท่านั้นที่บรรจุ #ม็อบ17พฤศจิกา #กูสั่งให้มึงอยู่ใต้รัฐธรรมนูญ|5|\n",
      "|ฝุ่น PM2.5 กลับมาหนาอีกแล้ว ผ่านไปแต่ละปี ร้าบานมีความจริงจัง จริงใจในการแก้ปัญหาบ้างมั้ย นอกจากการแก้ผ้าเอาหน้ารอดในแต่ละปีด้วยการเอาน้ำมาฉีด ยังไม่เห็นมีการทำอะไรที่เป็นแบบยั่งยืนเลยอ่ะ ดีเลยช่วงนี้พ่อมึงอยู่ไทย ช่วยกันดมฝุ่น จะได้รีบตายๆไป  #กูสั่งให้มึงอยู่ใต้รัฐธรรมนูญ|5|\n",
      "|อย่าทำร้ายประชาชน #ม็อบ17พฤศจิกา  #กูสั่งให้มึงอยู่ใต้รัฐธรรมนูญ  #WhatsHappeningInThailand  https://t.co/DdF4LYrYx5|5|\n",
      "|ทุกคนอย่าลืมเช็คก่อนรีทวิตหรือแชร์นะคะ เช็คด้วยว่ามีแหล่งที่มาที่น่าเชื่อถือไหม อย่าพึ่งรีทวิตไปถ้ายังไม่มั่นใจเลยค่ะ ทำให้คนอื่นตกใจไปเปล่าๆ;-; #ม็อบ17พฤศจิกา #กูสั่งให้มึงอยู่ใต้รัฐธรรมนูญ #whatishappeninginthailand|5|\n",
      "|#ม็อบ17พฤศจิกา #กูสั่งให้มึงอยู่ใต้รัฐธรรมนูญ #whatishappeninginthailand|2|\n",
      "|ขอให้ทุกคนปลอดภัย #whatishappeninginthailand #กูสั่งให้มึงอยู่ใต้รัฐธรรมนูญ #ม็อบ17พฤศจิกา|5|\n",
      "|ดันค่ะ เอาให้โลกรู้ว่ารัฐบาลนี้มันเหี้ยแค่ไหน #ม็อบ17พฤศจิกา #กูสั่งให้มึงอยู่ใต้รัฐธรรมนูญ|1|\n",
      "|มึงไม่เหมาะจะมาถือโล่หรอก ไปหาเสื้อสีเหลืองมาใส่นะ ดูเหมาะกับมึงมากกว่า อาชีพพวกมึงไม่เหลือเกรียติอะไรให้ปชช.เคารพอีกแล้วโดยเฉพาะพวกแนวหน้าชั้นผู้น้อยที่อ้างแต่นายสั่งๆอย่างมึง #ม็อบ17พฤศจิกา #กูสั่งให้มึงอยู่ใต้รัฐธรรมนูญ #ประชุมสภา #แบนอัมรินทร์ #whatishappeninginthailand|5|\n",
      "|หึหึ ฉีดน้ำใส่ประชาชนยังบอกเป็นยุทธวิธี ถ้างั้นประชาชนไปเผาวังบ้างก็ยังยุทธวิธีแหละเนาะ😒 #กูสั่งให้มึงอยู่ใต้รัฐธรรมนูญ|4|\n",
      "|นี่หรือคือการกระทำของผู้เจริญแล้ว?  #ม็อบ17พฤศจิกา #กูสั่งให้มึงอยู่ใต้รัฐธรรมนูญ|2|\n",
      "|ขอบคุณพี่ๆวินทุกคนที่ช่วยกันกันรถตำรวจที่จะนำกำลังเสริมเข้ามาในม็อบ กล้ามาก กล้ามาก เก่งมาก ขอบใจ #ม็อบ17พฤศจิกา #กูสั่งให้มึงอยู่ใต้รัฐธรรมนูญ   https://t.co/FwHynSkjH7|5|\n"
     ]
    }
   ],
   "source": [
    "print(\"|tweet|topic|\\n|:-:|:-:|\")\n",
    "for _ in range(30):\n",
    "    i = np.random.randint(0, len(X))\n",
    "    print(f\"|{df.tweet[i]}|{result[i]+1}|\")"
   ]
  },
  {
   "cell_type": "code",
   "execution_count": null,
   "id": "1101b3de-394c-4cda-bb0a-1aef36c1dd95",
   "metadata": {},
   "outputs": [],
   "source": []
  },
  {
   "cell_type": "code",
   "execution_count": null,
   "id": "b71993d6-e51f-4c1a-a34a-52306b3dd783",
   "metadata": {},
   "outputs": [],
   "source": []
  }
 ],
 "metadata": {
  "kernelspec": {
   "display_name": "Python 3",
   "language": "python",
   "name": "python3"
  },
  "language_info": {
   "codemirror_mode": {
    "name": "ipython",
    "version": 3
   },
   "file_extension": ".py",
   "mimetype": "text/x-python",
   "name": "python",
   "nbconvert_exporter": "python",
   "pygments_lexer": "ipython3",
   "version": "3.7.7"
  }
 },
 "nbformat": 4,
 "nbformat_minor": 5
}
