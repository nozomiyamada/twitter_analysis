{
 "cells": [
  {
   "cell_type": "code",
   "execution_count": 179,
   "id": "c7535bb8-fec1-44c9-92a8-a502768393b7",
   "metadata": {},
   "outputs": [],
   "source": [
    "from pythainlp import word_tokenize\n",
    "from pythainlp.corpus import thai_stopwords\n",
    "STOPWORDS = thai_stopwords()\n",
    "from glob import glob\n",
    "from tqdm import tqdm\n",
    "from collections import Counter\n",
    "import json, html, re\n",
    "import numpy as np\n",
    "import pandas as pd\n",
    "from gensim.models import LdaModel\n",
    "from gensim.corpora.dictionary import Dictionary\n",
    "from datetime import timedelta, datetime\n",
    "import matplotlib.font_manager as fm\n",
    "import matplotlib.pyplot as plt\n",
    "plt.style.use('ggplot')\n",
    "font_path = '/Users/Nozomi/Library/Fonts/THSarabunNew.ttf'\n",
    "fp = fm.FontProperties(fname=font_path)\n",
    "    \n",
    "def clean(text, hashtag=None):\n",
    "    if hashtag != None:\n",
    "        text = text.replace(hashtag, '')\n",
    "    text = html.unescape(text)\n",
    "    text = re.sub(r'http.+?(?:\\\\s|$)', '', text) # URL link\n",
    "    text = re.sub(r'[“”„]', '\"', text) # convert double quotations into \"\n",
    "    text = re.sub(r'[‘’′′′′`]', \"'\", text) # convert single quotations into '\n",
    "    text = re.sub(r'[ \\u00a0\\xa0\\u3000\\u2002-\\u200a\\t\\n#]+', ' ', text) # shrink whitespaces e.g. good  boy -> good boy\n",
    "    text = re.sub(r'[\\r\\u200b\\ufeff]+', '', text) # remove non-breaking space\n",
    "    text = re.sub(r'ํา','ำ', text) # am\n",
    "    text = re.sub(r'ำ([\\u0e48\\u0e49\\u0e4a\\u0e4b])', r'\\1ำ', text) # am + tone -> tone + am, u0e48 = tone2\n",
    "    return text.strip()\n",
    "\n",
    "def tokenize(text, hashtag=None):\n",
    "    tokens = word_tokenize(clean(text, hashtag), keep_whitespace='False')\n",
    "    tokens = [token for token in tokens if token not in STOPWORDS and re.match(r'[ก-๙][ก-๙\\\\.\\\\-]+$', token)]\n",
    "    return tokens\n",
    "\n",
    "def get_hour(row, string=True):\n",
    "    date = datetime(row.date.year, row.date.month, row.date.day, int(row.time[:2]))\n",
    "    if string:\n",
    "        return str(date)[:-3] # '2021-04-09 22:00'\n",
    "    else:\n",
    "        return date # datetime.datetime(2021, 4, 9, 22, 0)\n",
    "\n",
    "def timerange(df):\n",
    "    oldest = get_hour(df.iloc[len(df)-1], False)\n",
    "    latest = get_hour(df.iloc[0], False)\n",
    "    range_list = [str(oldest)]\n",
    "    while range_list[-1] != str(latest):\n",
    "        oldest = oldest + timedelta(hours=1)\n",
    "        range_list.append(str(oldest))\n",
    "    return pd.DataFrame(range_list, columns=['date'])"
   ]
  },
  {
   "cell_type": "code",
   "execution_count": 2,
   "id": "3ca83fee-8968-4559-b397-e2328bfe1d30",
   "metadata": {},
   "outputs": [
    {
     "name": "stdout",
     "output_type": "stream",
     "text": [
      "0 tweets/#กูสั่งให้มึงอยู่ใต้รัฐธรรมนูญ.json\n",
      "1 tweets/test.json\n",
      "2 tweets/#saveวันเฉลิม.json\n",
      "3 tweets/#ธรรมศาสตร์และการชุมนุม.json\n",
      "4 tweets/#เกียมอุดมไม่ก้มหัวให้เผด็จการ.json\n",
      "5 tweets/#25พฤศจิกาไปSCB.json\n",
      "6 tweets/#ม็อบ25พฤศจิกาทวงคืนสมบัติชาติ.json\n",
      "7 tweets/#ม็อบ2ธันวา.json\n"
     ]
    }
   ],
   "source": [
    "# List of filepath\n",
    "jsons = glob('tweets/*.json')\n",
    "for i, f in enumerate(jsons):\n",
    "    print(i,f)"
   ]
  },
  {
   "cell_type": "code",
   "execution_count": 61,
   "id": "422faa26-7263-472d-9e4e-270ff7f2ca4c",
   "metadata": {},
   "outputs": [
    {
     "name": "stdout",
     "output_type": "stream",
     "text": [
      "tweets 49050\n",
      "avg words 8.795\n"
     ]
    }
   ],
   "source": [
    "### select data ###\n",
    "i = 5\n",
    "hashtag = jsons[i].split('/')[1].split('.json')[0] \n",
    "df = pd.read_json(jsons[i], lines=True)\n",
    "\n",
    "### define duration ###\n",
    "#df = df[(df.date >= '2020-11-24') & (df.date <= '2020-11-26')]\n",
    "\n",
    "### tokenize ###\n",
    "df['tokens'] = df.tweet.apply(lambda x: tokenize(x, hashtag))\n",
    "\n",
    "### print data ###\n",
    "print('tweets', len(df))\n",
    "print('avg words', df.tokens.apply(len).mean().round(3))"
   ]
  },
  {
   "cell_type": "code",
   "execution_count": 6,
   "id": "fcd80091-612c-4035-b4a8-6a342fee5aa4",
   "metadata": {},
   "outputs": [],
   "source": [
    "### save tokenized data ###\n",
    "df.to_csv('tweets_tokenized/1_1.csv', index=False)"
   ]
  },
  {
   "cell_type": "markdown",
   "id": "5d6add9c-e1b1-4cd7-b3ac-26d45c762738",
   "metadata": {},
   "source": [
    "# associated words"
   ]
  },
  {
   "cell_type": "code",
   "execution_count": 20,
   "id": "a464af65-2ac6-4877-9f6f-bd4f37c7a281",
   "metadata": {},
   "outputs": [],
   "source": [
    "### get most frequent hashtags ###\n",
    "count = Counter()\n",
    "for lst in df.hashtags:\n",
    "    count.update(lst)\n",
    "hashtags = {x[0]:Counter() for x in count.most_common(16)[1:]}\n",
    "\n",
    "for i, row in df.iterrows():\n",
    "    for hashtag in row['hashtags']:\n",
    "        if hashtag in hashtags:\n",
    "            hashtags[hashtag].update(row['tokens'])"
   ]
  },
  {
   "cell_type": "code",
   "execution_count": 25,
   "id": "aa28d45a-723d-4a24-9165-5e6097a4612a",
   "metadata": {},
   "outputs": [
    {
     "name": "stdout",
     "output_type": "stream",
     "text": [
      "อภิปรายไม่ใว้วางใจรัฐบาล\n",
      "รัฐบาล(831),อภิปราย(824),ใว้(747),วางใจ(747),มข(107),พอกันที(106),เผด็จการ(105),คน(100),สลิ่ม(82),มศวขอ(77),\n",
      "\n",
      "มขพอกันที\n",
      "มข(258),พอกันที(253),อภิปราย(158),รัฐบาล(146),ใว้(118),วางใจ(118),เผด็จการ(117),จุดยืน(100),มศวขอ(99),สลิ่ม(89),\n",
      "\n",
      "อภิปรายไม่ไว้วางใจรัฐบาล\n",
      "อภิปราย(302),รัฐบาล(298),ไว้วางใจ(250),ใว้(50),วางใจ(50),ทำ(31),คน(28),ประชาชน(27),เผด็จการ(26),สลิ่ม(25),\n",
      "\n",
      "มศวขอมีจุดยืน\n",
      "มศวขอ(186),จุดยืน(186),อภิปราย(108),รัฐบาล(103),มข(97),พอกันที(97),ใว้(82),วางใจ(82),เผด็จการ(66),ซีน(56),\n",
      "\n",
      "ที่ยุบอนาคตใหม่พี่มหาลัยกูทั้งนั้น\n",
      "พี่(143),อนาคต(140),ยุบ(139),มหาลัย(138),เผด็จการ(36),สลิ่ม(36),ลูก(32),อภิปราย(26),รับใช้(26),รัฐบาล(25),\n",
      "\n",
      "ธรรมนัส\n",
      "ธรรม(136),นัส(127),อภิปราย(117),รัฐบาล(75),ใว้(69),วางใจ(69),ไว้วางใจ(46),เผด็จการ(37),ประยุทธ์(21),คน(21),\n",
      "\n",
      "อภิปรายไม่ใว้วางใจ\n",
      "อภิปราย(150),ใว้(135),วางใจ(135),เผด็จการ(59),รัฐบาล(47),ธรรม(26),นัส(26),ดำ(19),ไว้วางใจ(19),ประชาธิปไตย(19),\n",
      "\n",
      "ศิลปากรขอมีซีน\n",
      "ศิลปากร(109),ซีน(109),มข(64),พอกันที(63),มศวขอ(58),จุดยืน(55),อภิปราย(55),รัฐบาล(52),สลิ่ม(43),เผด็จการ(41),\n",
      "\n",
      "สวที่อยู่ข้างประชาธิปไตย\n",
      "ประชาธิปไตย(99),สว(88),ที่อยู่(88),อภิปราย(68),เผด็จการ(55),ใว้(50),วางใจ(50),รัฐบาล(44),สลิ่ม(28),ลูก(26),\n",
      "\n",
      "เสาหลักจะไม่หักอีกต่อไป\n",
      "อีกต่อไป(89),เสาหลัก(80),หัก(80),เผด็จการ(43),อภิปราย(41),ขนมหวาน(29),ใว้(28),วางใจ(28),ราด(27),กะทิ(27),\n",
      "\n",
      "เกียมอุดมไม่ก้มหัวให้เผด็จการ\n",
      "เผด็จการ(118),อุดม(79),เกีย(74),ก้มหัว(74),อภิปราย(42),ลูก(35),ใว้(34),วางใจ(34),รัฐบาล(32),มข(28),\n",
      "\n",
      "โรงเรียนเจ้าห้าวมากไม่ได้\n",
      "ห้าว(67),โรงเรียน(66),เจ้า(66),อภิปราย(45),ใว้(38),วางใจ(38),รัฐบาล(37),มข(31),พอกันที(31),เผด็จการ(23),\n",
      "\n",
      "อภิปรายไม่ไว้วางใจ\n",
      "อภิปราย(111),ไว้วางใจ(86),ธรรม(39),นัส(39),รัฐบาล(37),ใว้(24),วางใจ(24),เผด็จการ(19),คน(18),โป๊ะแตก(17),\n",
      "\n",
      "รู้ทันio\n",
      "รู้ทัน(70),อภิปราย(64),รัฐบาล(55),ใว้(46),วางใจ(46),ไว้วางใจ(21),เผด็จการ(21),ประชาชน(19),ประชาธิปไตย(18),กระชาก(18),\n",
      "\n",
      "เสื้อดําจะยําเผด็จการ\n",
      "เผด็จการ(92),เสื้อ(68),ดำ(66),ยำ(62),อภิปราย(54),รัฐบาล(44),ใว้(43),วางใจ(43),อีกต่อไป(12),มข(12),\n",
      "\n"
     ]
    }
   ],
   "source": [
    "for k, v in hashtags.items():\n",
    "    print(k)\n",
    "    for w, c in v.most_common(10):\n",
    "        print(f\"{w}({c})\", end=',')\n",
    "    print('\\n')"
   ]
  },
  {
   "cell_type": "markdown",
   "id": "309cf9ce-fdd5-49fb-9998-4fcbba54a704",
   "metadata": {},
   "source": [
    "# LDA"
   ]
  },
  {
   "cell_type": "code",
   "execution_count": 67,
   "id": "f07718be-c52e-4519-8bde-6b7d1d7c6495",
   "metadata": {},
   "outputs": [
    {
     "name": "stderr",
     "output_type": "stream",
     "text": [
      "100%|██████████| 49050/49050 [00:01<00:00, 47390.72it/s]\n"
     ]
    },
    {
     "name": "stdout",
     "output_type": "stream",
     "text": [
      "CPU times: user 3min 11s, sys: 1.15 s, total: 3min 12s\n",
      "Wall time: 3min 13s\n"
     ]
    }
   ],
   "source": [
    "%%time\n",
    "\n",
    "num_topic = 5\n",
    "\n",
    "corpus_dictionary = Dictionary(df.tokens)\n",
    "corpus = []\n",
    "for tokens_list in tqdm(df.tokens):\n",
    "    corpus.append(corpus_dictionary.doc2bow(tokens_list))\n",
    "lda = LdaModel(corpus, num_topics=num_topic, id2word=corpus_dictionary, passes=10)"
   ]
  },
  {
   "cell_type": "code",
   "execution_count": 69,
   "id": "3aa606a3-97d6-46b6-a249-667d02fefe88",
   "metadata": {},
   "outputs": [
    {
     "name": "stdout",
     "output_type": "stream",
     "text": [
      "|1|คน|0.028|ตำรวจ|0.033|ค่า|0.015|นะคะ|0.060|ม็อบ|0.154|\n",
      "|2|ประชาชน|0.028|อี|0.020|สลิ่ม|0.013|อย่า|0.035|พฤศจิกา|0.105|\n",
      "|3|ทำ|0.021|คน|0.020|ข่าว|0.011|ใส่|0.015|ชุมนุม|0.025|\n",
      "|4|ประเทศ|0.016|ทำ|0.017|ปั่น|0.009|ช่วยกัน|0.015|รัฐประหาร|0.024|\n",
      "|5|กก|0.013|ทหาร|0.014|ถอนเงิน|0.009|คน|0.012|แกง|0.023|\n",
      "|6|เค้า|0.011|ตู้|0.013|แท็ก|0.009|ขอให้|0.012|ต่อต้าน|0.020|\n",
      "|7|ดี|0.009|เหี้ย|0.013|เท|0.009|พรุ่งนี้|0.012|รถติด|0.017|\n",
      "|8|เก่ง|0.009|ขนาด|0.013|เปลี่ยนไป|0.009|รถ|0.012|ราษฎร|0.008|\n",
      "|9|รัฐ|0.009|โดน|0.012|รัก|0.008|น้ำ|0.010|ประกาศ|0.008|\n",
      "|10|รัฐบาล|0.009|หรอ|0.012|เนียน|0.008|เดิน|0.010|พฤศจิกายน|0.008|\n"
     ]
    }
   ],
   "source": [
    "### print result of keywords ###\n",
    "\n",
    "for i in range(10):\n",
    "    print(f'|{i+1}', end='')\n",
    "    for j in range(5):\n",
    "        word, score = lda.show_topic(j)[i]\n",
    "        print(f\"|{word}|{score:.3f}\",end=\"\")\n",
    "    print('|')"
   ]
  },
  {
   "cell_type": "code",
   "execution_count": 71,
   "id": "8703d95c-1f53-40f7-a548-3147800807e1",
   "metadata": {},
   "outputs": [
    {
     "name": "stdout",
     "output_type": "stream",
     "text": [
      "[(0, 0.020014377), (1, 0.021266755), (2, 0.19692326), (3, 0.02001398), (4, 0.74178165)]\n",
      "[(0, 0.35685754), (4, 0.620358)]\n",
      "[(0, 0.07800621), (1, 0.05571648), (2, 0.09555941), (4, 0.76324445)]\n",
      "[(0, 0.2), (1, 0.2), (2, 0.2), (3, 0.2), (4, 0.2)]\n",
      "[(0, 0.2), (1, 0.2), (2, 0.2), (3, 0.2), (4, 0.2)]\n",
      "[(0, 0.012932692), (1, 0.013016472), (2, 0.012942784), (3, 0.3773968), (4, 0.58371127)]\n",
      "[(1, 0.034211487), (2, 0.06848257), (3, 0.23418112), (4, 0.6567834)]\n",
      "[(1, 0.034211274), (2, 0.06848258), (3, 0.23418128), (4, 0.65678346)]\n",
      "[(3, 0.25341743), (4, 0.72272396)]\n",
      "[(0, 0.15983209), (1, 0.15770169), (2, 0.011181534), (3, 0.01154832), (4, 0.6597364)]\n"
     ]
    }
   ],
   "source": [
    "### print distribution ###\n",
    "\n",
    "for i in lda.get_document_topics(corpus[:10]):\n",
    "    print(i)"
   ]
  },
  {
   "cell_type": "code",
   "execution_count": 174,
   "id": "6c60dfb9-0da8-4747-8252-f6ac1966be80",
   "metadata": {},
   "outputs": [],
   "source": [
    "### prediction - argmax ###\n",
    "\n",
    "n = len(df)\n",
    "\n",
    "result_matrix = np.zeros((n, num_topic))\n",
    "for row, dist in enumerate(lda.get_document_topics(corpus[:n])):\n",
    "    for tpl in dist:\n",
    "        col = tpl[0]\n",
    "        result_matrix[row,col] = tpl[1]\n",
    "        \n",
    "result_df = pd.DataFrame(result_matrix)\n",
    "result_df['topic'] = result_df.apply(lambda row: np.argmax(row), axis=1)\n",
    "result_df['tweet'] = df.tweet[:n]\n",
    "result_df['date'] = df.apply(lambda row: get_hour(row), axis=1)\n",
    "\n",
    "result_df"
   ]
  },
  {
   "cell_type": "code",
   "execution_count": 126,
   "id": "e067cfd7-6b00-4e20-a402-1240a5bbaa24",
   "metadata": {},
   "outputs": [
    {
     "data": {
      "text/plain": [
       "Timestamp('2021-04-09 22:21:18+0700', tz='pytz.FixedOffset(420)')"
      ]
     },
     "execution_count": 126,
     "metadata": {},
     "output_type": "execute_result"
    }
   ],
   "source": [
    "### print prediction ###\n",
    "\n",
    "print('|tweet|topic|prob of 1|2|3|4|5|\\n|:-:|:-:|:-:|:-:|:-:|:-:|:-:|')\n",
    "for i, row in result_df[['tweet','topic',0,1,2,3,4]].iterrows():\n",
    "    if round(row[0],2) == 0.20:\n",
    "        continue\n",
    "    print(f'|{row.tweet}|{row.topic+1}|{row[0]:.3f}|{row[1]:.3f}|{row[2]:.3f}|{row[3]:.3f}|{row[4]:.3f}|')"
   ]
  },
  {
   "cell_type": "code",
   "execution_count": 195,
   "id": "d4180ac4-4db4-4691-a67e-931882759f3a",
   "metadata": {},
   "outputs": [
    {
     "data": {
      "text/plain": [
       "<Figure size 1440x1080 with 0 Axes>"
      ]
     },
     "metadata": {},
     "output_type": "display_data"
    },
    {
     "data": {
      "image/png": "[encoded data removed]",
      "text/plain": [
       "<Figure size 432x288 with 1 Axes>"
      ]
     },
     "metadata": {},
     "output_type": "display_data"
    }
   ],
   "source": [
    "fig = plt.figure(figsize=(20,15))\n",
    "\n",
    "tempdf = timerange(df[df.date < '2020-11-28'])\n",
    "for t in range(5):\n",
    "    tempdf[t+1] = tempdf.date.apply(lambda x: sum((result_df.date <= x) & (result_df.topic==t)))\n",
    "    \n",
    "tempdf.plot(x='date')\n",
    "plt.title(hashtag, fontproperties=fp, fontsize=30)\n",
    "plt.legend()\n",
    "plt.ylabel('cumulative')\n",
    "plt.xticks(rotation=40)\n",
    "plt.show()"
   ]
  },
  {
   "cell_type": "code",
   "execution_count": 186,
   "id": "6ce6d4f5-7635-4e9a-bc9b-ef4906dd439b",
   "metadata": {},
   "outputs": [
    {
     "data": {
      "text/html": [
       "<div>\n",
       "<style scoped>\n",
       "    .dataframe tbody tr th:only-of-type {\n",
       "        vertical-align: middle;\n",
       "    }\n",
       "\n",
       "    .dataframe tbody tr th {\n",
       "        vertical-align: top;\n",
       "    }\n",
       "\n",
       "    .dataframe thead th {\n",
       "        text-align: right;\n",
       "    }\n",
       "</style>\n",
       "<table border=\"1\" class=\"dataframe\">\n",
       "  <thead>\n",
       "    <tr style=\"text-align: right;\">\n",
       "      <th></th>\n",
       "      <th>id</th>\n",
       "      <th>conversation_id</th>\n",
       "      <th>created_at</th>\n",
       "      <th>date</th>\n",
       "      <th>time</th>\n",
       "      <th>timezone</th>\n",
       "      <th>user_id</th>\n",
       "      <th>username</th>\n",
       "      <th>name</th>\n",
       "      <th>place</th>\n",
       "      <th>...</th>\n",
       "      <th>source</th>\n",
       "      <th>user_rt_id</th>\n",
       "      <th>user_rt</th>\n",
       "      <th>retweet_id</th>\n",
       "      <th>reply_to</th>\n",
       "      <th>retweet_date</th>\n",
       "      <th>translate</th>\n",
       "      <th>trans_src</th>\n",
       "      <th>trans_dest</th>\n",
       "      <th>tokens</th>\n",
       "    </tr>\n",
       "  </thead>\n",
       "  <tbody>\n",
       "    <tr>\n",
       "      <th>80</th>\n",
       "      <td>1332367973059751937</td>\n",
       "      <td>1332367741601288192</td>\n",
       "      <td>2020-11-27 23:57:33+07:00</td>\n",
       "      <td>2020-11-27</td>\n",
       "      <td>23:57:33</td>\n",
       "      <td>700</td>\n",
       "      <td>14213571</td>\n",
       "      <td>phichai</td>\n",
       "      <td>phichai</td>\n",
       "      <td></td>\n",
       "      <td>...</td>\n",
       "      <td></td>\n",
       "      <td></td>\n",
       "      <td></td>\n",
       "      <td></td>\n",
       "      <td>[]</td>\n",
       "      <td></td>\n",
       "      <td></td>\n",
       "      <td></td>\n",
       "      <td></td>\n",
       "      <td>[ป.ล., ส่งสาร, ดีใจ, รู้จัก, ดีใจ, เป็นเพื่อน,...</td>\n",
       "    </tr>\n",
       "    <tr>\n",
       "      <th>81</th>\n",
       "      <td>1332346673029287937</td>\n",
       "      <td>1332346673029287936</td>\n",
       "      <td>2020-11-27 22:32:55+07:00</td>\n",
       "      <td>2020-11-27</td>\n",
       "      <td>22:32:55</td>\n",
       "      <td>700</td>\n",
       "      <td>1317360572522921986</td>\n",
       "      <td>pentodd1933</td>\n",
       "      <td>เป็นต็อด</td>\n",
       "      <td></td>\n",
       "      <td>...</td>\n",
       "      <td></td>\n",
       "      <td></td>\n",
       "      <td></td>\n",
       "      <td></td>\n",
       "      <td>[]</td>\n",
       "      <td></td>\n",
       "      <td></td>\n",
       "      <td></td>\n",
       "      <td></td>\n",
       "      <td>[ชอบ, เอ, เนอ, จี้, ตามหา, หลักฐาน, น้องๆ, ตอน...</td>\n",
       "    </tr>\n",
       "    <tr>\n",
       "      <th>82</th>\n",
       "      <td>1332339073659281409</td>\n",
       "      <td>1332339073659281408</td>\n",
       "      <td>2020-11-27 22:02:43+07:00</td>\n",
       "      <td>2020-11-27</td>\n",
       "      <td>22:02:43</td>\n",
       "      <td>700</td>\n",
       "      <td>3098117634</td>\n",
       "      <td>teeraplus</td>\n",
       "      <td>Pls.</td>\n",
       "      <td></td>\n",
       "      <td>...</td>\n",
       "      <td></td>\n",
       "      <td></td>\n",
       "      <td></td>\n",
       "      <td></td>\n",
       "      <td>[]</td>\n",
       "      <td></td>\n",
       "      <td></td>\n",
       "      <td></td>\n",
       "      <td></td>\n",
       "      <td>[อี, มือ, ยิง, ทะเลาะ, น้อง, ยิง, เฟซ, เรื่อง,...</td>\n",
       "    </tr>\n",
       "    <tr>\n",
       "      <th>83</th>\n",
       "      <td>1332335642492092417</td>\n",
       "      <td>1332335642492092416</td>\n",
       "      <td>2020-11-27 21:49:05+07:00</td>\n",
       "      <td>2020-11-27</td>\n",
       "      <td>21:49:05</td>\n",
       "      <td>700</td>\n",
       "      <td>1092024576</td>\n",
       "      <td>barbienista</td>\n",
       "      <td>🧡🍀𝒜𝓎𝓊𝓂𝒾 🍀🧡</td>\n",
       "      <td></td>\n",
       "      <td>...</td>\n",
       "      <td></td>\n",
       "      <td></td>\n",
       "      <td></td>\n",
       "      <td></td>\n",
       "      <td>[]</td>\n",
       "      <td></td>\n",
       "      <td></td>\n",
       "      <td></td>\n",
       "      <td></td>\n",
       "      <td>[ทีม, ปั่น, ท่อ, น้ำเลี้ยง, พฤศจิกา, ห้า, แยก,...</td>\n",
       "    </tr>\n",
       "    <tr>\n",
       "      <th>84</th>\n",
       "      <td>1332330979260731393</td>\n",
       "      <td>1332330979260731392</td>\n",
       "      <td>2020-11-27 21:30:33+07:00</td>\n",
       "      <td>2020-11-27</td>\n",
       "      <td>21:30:33</td>\n",
       "      <td>700</td>\n",
       "      <td>2283738841</td>\n",
       "      <td>jjjingji</td>\n",
       "      <td>ตะมุตะมิ อุอุอิอิ</td>\n",
       "      <td></td>\n",
       "      <td>...</td>\n",
       "      <td></td>\n",
       "      <td></td>\n",
       "      <td></td>\n",
       "      <td></td>\n",
       "      <td>[]</td>\n",
       "      <td></td>\n",
       "      <td></td>\n",
       "      <td></td>\n",
       "      <td></td>\n",
       "      <td>[อย่า, ปั่น, แม็ก, พฤศจิกา, ห้า, แยก, ลาดพร้าว...</td>\n",
       "    </tr>\n",
       "    <tr>\n",
       "      <th>...</th>\n",
       "      <td>...</td>\n",
       "      <td>...</td>\n",
       "      <td>...</td>\n",
       "      <td>...</td>\n",
       "      <td>...</td>\n",
       "      <td>...</td>\n",
       "      <td>...</td>\n",
       "      <td>...</td>\n",
       "      <td>...</td>\n",
       "      <td>...</td>\n",
       "      <td>...</td>\n",
       "      <td>...</td>\n",
       "      <td>...</td>\n",
       "      <td>...</td>\n",
       "      <td>...</td>\n",
       "      <td>...</td>\n",
       "      <td>...</td>\n",
       "      <td>...</td>\n",
       "      <td>...</td>\n",
       "      <td>...</td>\n",
       "      <td>...</td>\n",
       "    </tr>\n",
       "    <tr>\n",
       "      <th>49045</th>\n",
       "      <td>1331257841672327170</td>\n",
       "      <td>1331257841672327168</td>\n",
       "      <td>2020-11-24 22:26:17+07:00</td>\n",
       "      <td>2020-11-24</td>\n",
       "      <td>22:26:17</td>\n",
       "      <td>700</td>\n",
       "      <td>1295445651472306176</td>\n",
       "      <td>commonpeoplex</td>\n",
       "      <td>CIIIP #ยกเลิก112</td>\n",
       "      <td></td>\n",
       "      <td>...</td>\n",
       "      <td></td>\n",
       "      <td></td>\n",
       "      <td></td>\n",
       "      <td></td>\n",
       "      <td>[]</td>\n",
       "      <td></td>\n",
       "      <td></td>\n",
       "      <td></td>\n",
       "      <td></td>\n",
       "      <td>[]</td>\n",
       "    </tr>\n",
       "    <tr>\n",
       "      <th>49046</th>\n",
       "      <td>1331257789386113025</td>\n",
       "      <td>1331257789386113024</td>\n",
       "      <td>2020-11-24 22:26:05+07:00</td>\n",
       "      <td>2020-11-24</td>\n",
       "      <td>22:26:05</td>\n",
       "      <td>700</td>\n",
       "      <td>948448013210431488</td>\n",
       "      <td>drgroupth</td>\n",
       "      <td>กลุ่มฟื้นฟูประชาธิปไตย | DRG</td>\n",
       "      <td></td>\n",
       "      <td>...</td>\n",
       "      <td></td>\n",
       "      <td></td>\n",
       "      <td></td>\n",
       "      <td></td>\n",
       "      <td>[]</td>\n",
       "      <td></td>\n",
       "      <td></td>\n",
       "      <td></td>\n",
       "      <td></td>\n",
       "      <td>[ม็อบ, พฤศจิกา, เปลี่ยนไป, สำนักงานใหญ่, ลด, ก...</td>\n",
       "    </tr>\n",
       "    <tr>\n",
       "      <th>49047</th>\n",
       "      <td>1331257775968505856</td>\n",
       "      <td>1331257775968505856</td>\n",
       "      <td>2020-11-24 22:26:02+07:00</td>\n",
       "      <td>2020-11-24</td>\n",
       "      <td>22:26:02</td>\n",
       "      <td>700</td>\n",
       "      <td>1230027384482603008</td>\n",
       "      <td>pxcyg</td>\n",
       "      <td>your moon</td>\n",
       "      <td></td>\n",
       "      <td>...</td>\n",
       "      <td></td>\n",
       "      <td></td>\n",
       "      <td></td>\n",
       "      <td></td>\n",
       "      <td>[]</td>\n",
       "      <td></td>\n",
       "      <td></td>\n",
       "      <td></td>\n",
       "      <td></td>\n",
       "      <td>[คับ]</td>\n",
       "    </tr>\n",
       "    <tr>\n",
       "      <th>49048</th>\n",
       "      <td>1331257700747862018</td>\n",
       "      <td>1331257700747862016</td>\n",
       "      <td>2020-11-24 22:25:44+07:00</td>\n",
       "      <td>2020-11-24</td>\n",
       "      <td>22:25:44</td>\n",
       "      <td>700</td>\n",
       "      <td>1296005753103212544</td>\n",
       "      <td>thammasatuftd</td>\n",
       "      <td>แนวร่วมธรรมศาสตร์และการชุมนุม</td>\n",
       "      <td></td>\n",
       "      <td>...</td>\n",
       "      <td></td>\n",
       "      <td></td>\n",
       "      <td></td>\n",
       "      <td></td>\n",
       "      <td>[]</td>\n",
       "      <td></td>\n",
       "      <td></td>\n",
       "      <td></td>\n",
       "      <td></td>\n",
       "      <td>[ม็อบ, พฤศจิกา, เปลี่ยนไป, สำนักงานใหญ่, ลด, ก...</td>\n",
       "    </tr>\n",
       "    <tr>\n",
       "      <th>49049</th>\n",
       "      <td>1331257573060829189</td>\n",
       "      <td>1331257573060829184</td>\n",
       "      <td>2020-11-24 22:25:13+07:00</td>\n",
       "      <td>2020-11-24</td>\n",
       "      <td>22:25:13</td>\n",
       "      <td>700</td>\n",
       "      <td>1214182673641422848</td>\n",
       "      <td>freeyouthth</td>\n",
       "      <td>FreeYOUTH</td>\n",
       "      <td></td>\n",
       "      <td>...</td>\n",
       "      <td></td>\n",
       "      <td></td>\n",
       "      <td></td>\n",
       "      <td></td>\n",
       "      <td>[]</td>\n",
       "      <td></td>\n",
       "      <td></td>\n",
       "      <td></td>\n",
       "      <td></td>\n",
       "      <td>[ม็อบ, พฤศจิกา, เปลี่ยนไป, สำนักงานใหญ่, ลด, ก...</td>\n",
       "    </tr>\n",
       "  </tbody>\n",
       "</table>\n",
       "<p>48970 rows × 37 columns</p>\n",
       "</div>"
      ],
      "text/plain": [
       "                        id      conversation_id                created_at  \\\n",
       "80     1332367973059751937  1332367741601288192 2020-11-27 23:57:33+07:00   \n",
       "81     1332346673029287937  1332346673029287936 2020-11-27 22:32:55+07:00   \n",
       "82     1332339073659281409  1332339073659281408 2020-11-27 22:02:43+07:00   \n",
       "83     1332335642492092417  1332335642492092416 2020-11-27 21:49:05+07:00   \n",
       "84     1332330979260731393  1332330979260731392 2020-11-27 21:30:33+07:00   \n",
       "...                    ...                  ...                       ...   \n",
       "49045  1331257841672327170  1331257841672327168 2020-11-24 22:26:17+07:00   \n",
       "49046  1331257789386113025  1331257789386113024 2020-11-24 22:26:05+07:00   \n",
       "49047  1331257775968505856  1331257775968505856 2020-11-24 22:26:02+07:00   \n",
       "49048  1331257700747862018  1331257700747862016 2020-11-24 22:25:44+07:00   \n",
       "49049  1331257573060829189  1331257573060829184 2020-11-24 22:25:13+07:00   \n",
       "\n",
       "            date      time  timezone              user_id       username  \\\n",
       "80    2020-11-27  23:57:33       700             14213571        phichai   \n",
       "81    2020-11-27  22:32:55       700  1317360572522921986    pentodd1933   \n",
       "82    2020-11-27  22:02:43       700           3098117634      teeraplus   \n",
       "83    2020-11-27  21:49:05       700           1092024576    barbienista   \n",
       "84    2020-11-27  21:30:33       700           2283738841       jjjingji   \n",
       "...          ...       ...       ...                  ...            ...   \n",
       "49045 2020-11-24  22:26:17       700  1295445651472306176  commonpeoplex   \n",
       "49046 2020-11-24  22:26:05       700   948448013210431488      drgroupth   \n",
       "49047 2020-11-24  22:26:02       700  1230027384482603008          pxcyg   \n",
       "49048 2020-11-24  22:25:44       700  1296005753103212544  thammasatuftd   \n",
       "49049 2020-11-24  22:25:13       700  1214182673641422848    freeyouthth   \n",
       "\n",
       "                                name place  ... source user_rt_id user_rt  \\\n",
       "80                           phichai        ...                             \n",
       "81                          เป็นต็อด        ...                             \n",
       "82                              Pls.        ...                             \n",
       "83                        🧡🍀𝒜𝓎𝓊𝓂𝒾 🍀🧡        ...                             \n",
       "84                 ตะมุตะมิ อุอุอิอิ        ...                             \n",
       "...                              ...   ...  ...    ...        ...     ...   \n",
       "49045               CIIIP #ยกเลิก112        ...                             \n",
       "49046   กลุ่มฟื้นฟูประชาธิปไตย | DRG        ...                             \n",
       "49047                      your moon        ...                             \n",
       "49048  แนวร่วมธรรมศาสตร์และการชุมนุม        ...                             \n",
       "49049                      FreeYOUTH        ...                             \n",
       "\n",
       "      retweet_id reply_to  retweet_date  translate  trans_src trans_dest  \\\n",
       "80                     []                                                  \n",
       "81                     []                                                  \n",
       "82                     []                                                  \n",
       "83                     []                                                  \n",
       "84                     []                                                  \n",
       "...          ...      ...           ...        ...        ...        ...   \n",
       "49045                  []                                                  \n",
       "49046                  []                                                  \n",
       "49047                  []                                                  \n",
       "49048                  []                                                  \n",
       "49049                  []                                                  \n",
       "\n",
       "                                                  tokens  \n",
       "80     [ป.ล., ส่งสาร, ดีใจ, รู้จัก, ดีใจ, เป็นเพื่อน,...  \n",
       "81     [ชอบ, เอ, เนอ, จี้, ตามหา, หลักฐาน, น้องๆ, ตอน...  \n",
       "82     [อี, มือ, ยิง, ทะเลาะ, น้อง, ยิง, เฟซ, เรื่อง,...  \n",
       "83     [ทีม, ปั่น, ท่อ, น้ำเลี้ยง, พฤศจิกา, ห้า, แยก,...  \n",
       "84     [อย่า, ปั่น, แม็ก, พฤศจิกา, ห้า, แยก, ลาดพร้าว...  \n",
       "...                                                  ...  \n",
       "49045                                                 []  \n",
       "49046  [ม็อบ, พฤศจิกา, เปลี่ยนไป, สำนักงานใหญ่, ลด, ก...  \n",
       "49047                                              [คับ]  \n",
       "49048  [ม็อบ, พฤศจิกา, เปลี่ยนไป, สำนักงานใหญ่, ลด, ก...  \n",
       "49049  [ม็อบ, พฤศจิกา, เปลี่ยนไป, สำนักงานใหญ่, ลด, ก...  \n",
       "\n",
       "[48970 rows x 37 columns]"
      ]
     },
     "execution_count": 186,
     "metadata": {},
     "output_type": "execute_result"
    }
   ],
   "source": [
    "df[df.date < '2020-11-28']"
   ]
  },
  {
   "cell_type": "markdown",
   "id": "6a937656-f2b0-48e2-9621-578274312d5f",
   "metadata": {},
   "source": [
    "# TF-IDF vectorization + SVD + K-means"
   ]
  },
  {
   "cell_type": "code",
   "execution_count": 14,
   "id": "97a0c106-c1e5-4f6b-8115-65ea74df049b",
   "metadata": {},
   "outputs": [
    {
     "name": "stdout",
     "output_type": "stream",
     "text": [
      "(49050, 20000)\n"
     ]
    }
   ],
   "source": [
    "from sklearn.feature_extraction.text import TfidfVectorizer\n",
    "from sklearn.decomposition import TruncatedSVD\n",
    "from sklearn.cluster import KMeans\n",
    "\n",
    "### prepare data : list of sentences (delimitered by space) -> TF-IDF vectorization\n",
    "corpus = df.tokens.apply(lambda x: ' '.join(x))\n",
    "vectorizer = TfidfVectorizer(max_features=20000, ngram_range=(1,2))\n",
    "X = vectorizer.fit_transform(corpus)\n",
    "print(X.shape)\n",
    "\n",
    "### singular value decomposition & normalize\n",
    "dim = 50\n",
    "\n",
    "svd = TruncatedSVD(n_components=dim, n_iter=7, random_state=42)\n",
    "X = svd.fit_transform(X)\n",
    "normalized = [vec/np.linalg.norm(vec) if np.linalg.norm(vec) != 0 else np.zeros(dim) for vec in X ]"
   ]
  },
  {
   "cell_type": "code",
   "execution_count": 15,
   "id": "f86264cd-3ed3-44fa-b5f8-226b498821e2",
   "metadata": {},
   "outputs": [],
   "source": [
    "### clustering \n",
    "num = 5\n",
    "\n",
    "result = KMeans(n_clusters=num).fit_predict(normalized)"
   ]
  },
  {
   "cell_type": "code",
   "execution_count": 16,
   "id": "ad578972-919b-4342-8dfb-f85fb1ef4df0",
   "metadata": {},
   "outputs": [
    {
     "name": "stdout",
     "output_type": "stream",
     "text": [
      "|tweet|topic|\n",
      "|:-:|:-:|\n",
      "|ทุกคนใครไม่เกี่ยวรีบกลับบ้านเลยนะ เดี๋ยวพวกมันสร้างสถานะการณ์อีก #25พฤศจิกาไปSCB|4|\n",
      "|ตร.จ่อหมายจับอาชีวะมือปืนป่วนม็อบ ยันยิงกันเอง-ปมเรื่องส่วนตัวไม่เกี่ยวชุมนุม  https://t.co/jG6TIc1t4T #25พฤศจิกาไปSCB #ทําในสิ่งที่ดีทําในสิ่งที่ถูก #ประชุมสภา #ม็อบ26พฤศจิกา #มือลั่นเหมือนพ่อมึงเลย #กูสั่งให้มึงอยู่ใต้รัฐธรรมนูญ #ส่งต่อคสอ #ตลาดนัดtreasure #ตํารวจไทยขยะสังคม|3|\n",
      "|LIVE! การชุมนุมบริเวณอาคาร SCB รัชโยธิน #25พฤศจิกาไปSCB  https://t.co/SjnWPQQaQP ผ่าน @YouTube|3|\n",
      "|ลุ้นให้ย้ายสถานที่อีกค่ะ แกงมันอีก สนุกดี #25พฤศจิกาไปSCB|4|\n",
      "|CHILD IN MOB ในม็อบมีเด็ก #ม็อบ25พฤศจิกา #25พฤศจิกาไปSCB  https://t.co/X9RRwobovs|2|\n",
      "|ตึกข้างบนก็มีทะเลดาวด้วยกัน5555555 พวกเราสู้ไปด้วยกันนะคะ #25พฤศจิกาไปSCB  https://t.co/vs33L00y3g|5|\n",
      "|เสนอเล่นๆนะ ตอนนี้กำลังส่วนใหญ่อยู่ในกรุงเทพ ทั้งจนท ทั้งคนที่เกณฑ์ไป ถ้ามองเกมแล้วคือกะว่ายังไงต้องให้เกิดความรุนแรงแน่ๆ ถ้าวันนี้ยกเลิกม็อบ SCB กะทันหันก็ดีนะ แล้วเปลี่ยนเป็นม็อบตามเมืองใหญ่ต่างจังหวัด ประกาศซักตอน11โมงงี้ เราว่ามันอิมแพคเยอะอยู่นะ #25พฤศจิกาไปSCB|3|\n",
      "|เซอร์ไพรส์!!!!! #ม็อบ25พฤศจิกา #25พฤศจิกาไปSCB #เกาะติดชุมนุม63  #WhatsHappeninglnThailand|2|\n",
      "|ไหวหน่อย อุส่าห์จ้างมาตั้งนาน ปัดโถ่! #ภูมิใจที่ได้รับเสด็จ #รถติด  #25พฤศจิกาไปSCB  https://t.co/ChEZThCMFi|4|\n",
      "|ยิงหรอ หมาลอบกัดไอ้สัส #25พฤศจิกาไปSCB|4|\n",
      "|ถ้าวันนี้ประกาศยกเลิกม็อบ จะเป็นยังไงนะ?  #25พฤศจิกาไปSCB|2|\n",
      "|คร่าวๆ จากไลฟ์นี้ คือปาระเบิดปิงปองลงกลางวงเด็กอาชีวะ คนปาใส่หมวกกันน็อคสีขาวไม่แสดงออกว่ามาจากสถาบันไหน(จากไลฟ์ของ the standard) และคนเยอะก็เลยจับได้ และมีคนเจ็บทั้งโดนระเบิดและคนโดนยิง  #25พฤศจิกาไปSCB  https://t.co/xca2pDfSLZ|4|\n",
      "|โง่ ก็ยอมรับว่าโง่เหอะ 555555 #25พฤศจิกาไปSCB|3|\n",
      "|การจัดม๊อบครั้งนี้ยังขาดงบในการจัดอีกมาก สามารถ ร่วมเป็นท่อน้ำเลี้ยงให้กับเราได้ที่  เลขบัญชี 077-1-22857-7 (กสิกรไทย) ชื่อบัญชี น.ส.ณัฐกุล น้อยอินทร์ และ น.ส.นารีรัตน์ เดือนฉาย ขอบพระคุณทุกท่านที่ช่วยเหลือครับ #25พฤศจิกาไปSCB  #ม็อบ25พฤศจิกา @charoenpura  https://t.co/bFYEVpMUZB|2|\n",
      "|ปกป้องคนๆเดียวถึงกับทำงี้เลยหรอ โอยพวกขี้ข้า ผู้พิษักสันติราษฏร์วงการติ๊กต๊อก #ม็อบ25พฤศจิกา #25พฤศจิกาไปSCB|2|\n",
      "|เด็กมันเก่งกันจริงๆว่ะ #25พฤศจิกาไปSCB|4|\n",
      "|อยากให้ทุกคนช่วยกันเสนอความคิดเห็นว่าทำยังไงเราถึงจะสามารถยกระดับการชุมนุมและกดดันรัฐบาลได้มากกว่าแค่กวนตีน   - ที่เราคิดนะ นัดกันหยุดงานในส่วนของภาคแรงงาน แบบตามนิคมต่างๆ ถ้าสามารถทำให้กระทบนายทุนได้ &gt; มันจะมีผลกระทบในส่วนของมหภาค /1   #25พฤศจิกาไปSCB #หมดเวลาปัญญาชน|4|\n",
      "|ปกป้องตัวเองและพี่น้อง ด้วยขั้นตอน ง่ายๆ  เบอลรูปภาพ เบลอหน้าก่อนนะ  เพื่อความปลอดภัย เดี่ยวหมากัด #25พฤศจิกาไปSCB #เกาะติดชุมนุม63 #ม็อบ25พฤศจิกา|2|\n",
      "|ฝากรีรันอีกครั้งค่ะ #25พฤศจิกาไปSCB|5|\n",
      "|รัฐบาลมึงยิ่งทำแบบนี้ ประชาชนก้จะลุกฮือมากกว่าเดิม เดี๋ยวมาดูกันว่ามึงจะเก่งกับประชาชนซักแค่ไหน วันนี้ขอให้พวกเราออกมากันเยอะๆ แล้วเจอกันพ้องเพื่อน  #25พฤศจิกาไปSCB|3|\n",
      "|ใครเปงคงทัมมมม #25พฤศจิกาไปSCB  https://t.co/9ADLt80Ybg|3|\n",
      "|@pinkypig_lll_ @Thairath_TV ผมว่า เค้ารายงานเหมือน ... รู้มาก่อนว่า ต้องพูดแบบนั้นแบบนี้  คนในม็อบ #25พฤศจิกาไปSCB  ที่ร่วมกันมาไล่ #สลิ่ม #ประยุทธ์ออกไป ทะเลาะกัน มันประหลาด.|3|\n",
      "|จีโน่อย่าดื้อน่ะ! เดี๋ยวพ่อมึงตีแน่  #ม็อบ25พฤศจิกา #25พฤศจิกาไปSCB|2|\n",
      "|ผู้พิทักษ์สันติราช #25พฤศจิกาไปSCB|4|\n",
      "|คุณจะทำไรก็ได้แต่อย่าทำร้ายประชาชน อย่าสร้างสถานการณ์ให้เข้าใจว่าผู้ชุมนุมเป็นคนทำ เพราะนอกเครื่องแบบเยอะมาก #25พฤศจิกาไปSCB|4|\n",
      "|ชาตะ : ไม่รู้ มรณะ :25 พฤศจิกายน 2563 #ม็อบ25พฤศจิกา #25พฤศจิกาไปSCB|2|\n",
      "|😡😡😡 สันขวาน #25พฤศจิกาไปSCB|4|\n",
      "|เอาเวลานี้ไปจับแก๊งกฎจักรวาลและกฎแรงดึงดูดเถอะค่ะ #25พฤศจิกาไปSCB  https://t.co/MirCXgiYGh|3|\n",
      "|@Mushin16 น่าจะโอนไปซัก2บาทนะคะ สงสารตอนเขาเปิดดูยอดเงิน 🤣🤣🤣👏👏👏 #ม็อบ17พฤศจิกา  #25พฤศจิกาไปSCB|2|\n",
      "|ชอบเอเนอจี้ว่ะ #25พฤศจิกาไปSCB|4|\n"
     ]
    }
   ],
   "source": [
    "print(\"|tweet|topic|\\n|:-:|:-:|\")\n",
    "for _ in range(30):\n",
    "    i = np.random.randint(0, len(X))\n",
    "    print(f\"|{df.tweet[i]}|{result[i]+1}|\")"
   ]
  },
  {
   "cell_type": "code",
   "execution_count": 55,
   "id": "8c607519-793d-4636-9779-c553200a2dee",
   "metadata": {},
   "outputs": [
    {
     "data": {
      "text/plain": [
       "False"
      ]
     },
     "execution_count": 55,
     "metadata": {},
     "output_type": "execute_result"
    }
   ],
   "source": [
    "a = \"ซำ้\"\n",
    "b = \"ซ้ำ\"\n",
    "\n",
    "a == b"
   ]
  },
  {
   "cell_type": "code",
   "execution_count": 56,
   "id": "1fcdea5f-8d0b-44c9-ad86-329a2384d73b",
   "metadata": {},
   "outputs": [
    {
     "data": {
      "text/plain": [
       "True"
      ]
     },
     "execution_count": 56,
     "metadata": {},
     "output_type": "execute_result"
    }
   ],
   "source": [
    "clean(a) == clean(b)"
   ]
  },
  {
   "cell_type": "code",
   "execution_count": 57,
   "id": "efe8fdf8-b83f-4636-98f5-76796fe85eab",
   "metadata": {},
   "outputs": [
    {
     "data": {
      "text/plain": [
       "'ซ้ำ'"
      ]
     },
     "execution_count": 57,
     "metadata": {},
     "output_type": "execute_result"
    }
   ],
   "source": [
    "clean(a)"
   ]
  },
  {
   "cell_type": "code",
   "execution_count": null,
   "id": "64264fec-3b34-41f3-9c10-bc0ce6d759a2",
   "metadata": {},
   "outputs": [],
   "source": []
  }
 ],
 "metadata": {
  "kernelspec": {
   "display_name": "Python 3",
   "language": "python",
   "name": "python3"
  },
  "language_info": {
   "codemirror_mode": {
    "name": "ipython",
    "version": 3
   },
   "file_extension": ".py",
   "mimetype": "text/x-python",
   "name": "python",
   "nbconvert_exporter": "python",
   "pygments_lexer": "ipython3",
   "version": "3.7.5"
  }
 },
 "nbformat": 4,
 "nbformat_minor": 5
}
