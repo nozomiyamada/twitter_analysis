{
 "cells": [
  {
   "cell_type": "code",
   "execution_count": 45,
   "id": "c7535bb8-fec1-44c9-92a8-a502768393b7",
   "metadata": {},
   "outputs": [
    {
     "name": "stdout",
     "output_type": "stream",
     "text": [
      "0 tweets/#กูสั่งให้มึงอยู่ใต้รัฐธรรมนูญ.json\n",
      "1 tweets/#ธรรมศาสตร์และการชุมนุม.json\n",
      "2 tweets/#เกียมอุดมไม่ก้มหัวให้เผด็จการ.json\n",
      "3 tweets/#25พฤศจิกาไปSCB.json\n",
      "4 tweets/#ม็อบ25พฤศจิกาทวงคืนสมบัติชาติ.json\n",
      "5 tweets/#ม็อบ2ธันวา.json\n"
     ]
    }
   ],
   "source": [
    "from pythainlp import word_tokenize\n",
    "from pythainlp.corpus import thai_stopwords\n",
    "STOPWORDS = thai_stopwords()\n",
    "from glob import glob\n",
    "from tqdm import tqdm\n",
    "import json, html, re\n",
    "import numpy as np\n",
    "from gensim.models import LdaModel\n",
    "from gensim.corpora.dictionary import Dictionary\n",
    "import pandas as pd\n",
    "\n",
    "jsons = glob('tweets/*.json')\n",
    "for i, f in enumerate(jsons):\n",
    "    print(i,f)\n",
    "    \n",
    "def clean(text):\n",
    "    text = html.unescape(text)\n",
    "    text = re.sub(r'http.+?(?:\\\\s|$)', '', text) # URL link\n",
    "    text = re.sub(r'[“”„]', '\"', text) # convert double quotations into \"\n",
    "    text = re.sub(r'[‘’′′′′`]', \"'\", text) # convert single quotations into '\n",
    "    text = re.sub(r'[ \\u00a0\\xa0\\u3000\\u2002-\\u200a\\t\\n#]+', ' ', text) # shrink whitespaces e.g. good  boy -> good boy\n",
    "    text = re.sub(r'[\\r\\u200b\\ufeff]+', '', text) # remove non-breaking space\n",
    "    text = re.sub(r'ํา','ำ', text) # am\n",
    "    return text.strip()\n",
    "\n",
    "def tokenize(text):\n",
    "    tokens = word_tokenize(clean(text), keep_whitespace='False')\n",
    "    tokens = [token for token in tokens if token not in STOPWORDS and re.match(r'[ก-๙][ก-๙\\\\.\\\\-]+$', token)]\n",
    "    return tokens"
   ]
  },
  {
   "cell_type": "code",
   "execution_count": 32,
   "id": "422faa26-7263-472d-9e4e-270ff7f2ca4c",
   "metadata": {},
   "outputs": [],
   "source": [
    "df = pd.read_json(jsons[3], lines=True)\n",
    "df['tokens'] = df.tweet.apply(tokenize)"
   ]
  },
  {
   "cell_type": "code",
   "execution_count": 33,
   "id": "555e41db-1e88-46f3-af72-4e84b645ce93",
   "metadata": {},
   "outputs": [
    {
     "data": {
      "text/plain": [
       "0        [ชวน, ทบทวน, ม็อบ, พฤศจิกา, พฤศจิกา, ประเด็น, ...\n",
       "1        [วาน, แอมป์, วรรษ, รับทราบ, ข้อหา, ร้องเพลง, ฉ...\n",
       "2        [วรรษ, เลี้ยง, วัฒนา, บัณฑิต, ม., ศิลปากร, หมา...\n",
       "3                                                [พฤศจิกา]\n",
       "4                                                [พฤศจิกา]\n",
       "                               ...                        \n",
       "49045                                            [พฤศจิกา]\n",
       "49046    [ม็อบ, พฤศจิกา, เปลี่ยนไป, สำนักงานใหญ่, ลด, ก...\n",
       "49047                                       [คับ, พฤศจิกา]\n",
       "49048    [ม็อบ, พฤศจิกา, เปลี่ยนไป, สำนักงานใหญ่, ลด, ก...\n",
       "49049    [ม็อบ, พฤศจิกา, เปลี่ยนไป, สำนักงานใหญ่, ลด, ก...\n",
       "Name: tokens, Length: 49050, dtype: object"
      ]
     },
     "execution_count": 33,
     "metadata": {},
     "output_type": "execute_result"
    }
   ],
   "source": [
    "df.tokens"
   ]
  },
  {
   "cell_type": "code",
   "execution_count": 42,
   "id": "f07718be-c52e-4519-8bde-6b7d1d7c6495",
   "metadata": {},
   "outputs": [
    {
     "name": "stderr",
     "output_type": "stream",
     "text": [
      "100%|██████████| 49050/49050 [00:00<00:00, 87367.57it/s]\n"
     ]
    }
   ],
   "source": [
    "corpus_dictionary = Dictionary(df.tokens)\n",
    "corpus = []\n",
    "for tokens_list in tqdm(df.tokens):\n",
    "    corpus.append(corpus_dictionary.doc2bow(tokens_list))\n",
    "lda = LdaModel(corpus, num_topics=5, id2word=corpus_dictionary, passes=10)"
   ]
  },
  {
   "cell_type": "code",
   "execution_count": 44,
   "id": "3aa606a3-97d6-46b6-a249-667d02fefe88",
   "metadata": {},
   "outputs": [
    {
     "name": "stdout",
     "output_type": "stream",
     "text": [
      "|1|พฤศจิกา|0.071|พฤศจิกา|0.284|พฤศจิกา|0.054|พฤศจิกา|0.086|พฤศจิกา|0.095|\n",
      "|2|ชุมนุม|0.025|ม็อบ|0.140|คน|0.025|นะคะ|0.064|ตำรวจ|0.048|\n",
      "|3|ตู้|0.016|รัฐประหาร|0.026|ทำ|0.014|อย่า|0.029|อี|0.026|\n",
      "|4|รถ|0.015|แกง|0.025|กลัว|0.012|ม็อบ|0.020|ทำ|0.024|\n",
      "|5|ข่าว|0.014|ต่อต้าน|0.021|รู้|0.010|คน|0.019|ทหาร|0.023|\n",
      "|6|ถนน|0.014|รถติด|0.016|เค้า|0.010|ช่วยกัน|0.016|ประชาชน|0.022|\n",
      "|7|ย้าย|0.013|พฤศจิกายน|0.008|ดี|0.008|ขอให้|0.013|เหี้ย|0.019|\n",
      "|8|คอนเทนเนอร์|0.013|กก|0.008|เรื่อง|0.008|ใส่|0.011|ขนาด|0.014|\n",
      "|9|ติด|0.013|ราษฎร|0.008|ม๊อบ|0.007|เกรียน|0.010|หรอ|0.013|\n",
      "|10|ประกาศ|0.012|ชุมนุม|0.007|สลิ่ม|0.007|ระวัง|0.010|ขน|0.013|\n"
     ]
    }
   ],
   "source": [
    "for i in range(10):\n",
    "    print(f'|{i+1}', end='')\n",
    "    for j in range(5):\n",
    "        word, score = lda.show_topic(j)[i]\n",
    "        print(f\"|{word}|{score:.3f}\",end=\"\")\n",
    "    print('|')"
   ]
  },
  {
   "cell_type": "code",
   "execution_count": 46,
   "id": "2bc9acce-5520-494b-b297-11d01654fb4b",
   "metadata": {},
   "outputs": [
    {
     "data": {
      "text/plain": [
       "9.77875637104995"
      ]
     },
     "execution_count": 46,
     "metadata": {},
     "output_type": "execute_result"
    }
   ],
   "source": [
    "df.tokens.apply(len).mean()"
   ]
  },
  {
   "cell_type": "code",
   "execution_count": 47,
   "id": "97a0c106-c1e5-4f6b-8115-65ea74df049b",
   "metadata": {},
   "outputs": [
    {
     "data": {
      "text/plain": [
       "['ชวน',\n",
       " 'ทบทวน',\n",
       " 'ม็อบ',\n",
       " 'พฤศจิกา',\n",
       " 'พฤศจิกา',\n",
       " 'ประเด็น',\n",
       " 'ทรัพย์สินส่วนพระมหากษัตริย์',\n",
       " 'สรุป',\n",
       " 'ส่วนรวม',\n",
       " 'อ่าน']"
      ]
     },
     "execution_count": 47,
     "metadata": {},
     "output_type": "execute_result"
    }
   ],
   "source": [
    "df.tokens[0]"
   ]
  },
  {
   "cell_type": "code",
   "execution_count": null,
   "id": "f86264cd-3ed3-44fa-b5f8-226b498821e2",
   "metadata": {},
   "outputs": [],
   "source": []
  }
 ],
 "metadata": {
  "kernelspec": {
   "display_name": "Python 3",
   "language": "python",
   "name": "python3"
  },
  "language_info": {
   "codemirror_mode": {
    "name": "ipython",
    "version": 3
   },
   "file_extension": ".py",
   "mimetype": "text/x-python",
   "name": "python",
   "nbconvert_exporter": "python",
   "pygments_lexer": "ipython3",
   "version": "3.9.2"
  }
 },
 "nbformat": 4,
 "nbformat_minor": 5
}
