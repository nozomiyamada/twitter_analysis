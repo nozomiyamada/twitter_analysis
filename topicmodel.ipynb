{
 "cells": [
  {
   "cell_type": "code",
   "execution_count": 196,
   "id": "c7535bb8-fec1-44c9-92a8-a502768393b7",
   "metadata": {},
   "outputs": [],
   "source": [
    "from pythainlp import word_tokenize\n",
    "from pythainlp.corpus import thai_stopwords\n",
    "STOPWORDS = thai_stopwords()\n",
    "from glob import glob\n",
    "from tqdm import tqdm\n",
    "from collections import Counter\n",
    "import json, html, re\n",
    "import numpy as np\n",
    "import pandas as pd\n",
    "from gensim.models import LdaModel\n",
    "from gensim.corpora.dictionary import Dictionary\n",
    "from datetime import timedelta, datetime\n",
    "import matplotlib.font_manager as fm\n",
    "import matplotlib.pyplot as plt\n",
    "plt.style.use('ggplot')\n",
    "font_path = '/Users/Nozomi/Library/Fonts/THSarabunNew.ttf'\n",
    "fp = fm.FontProperties(fname=font_path)\n",
    "    \n",
    "def clean(text, hashtag=None):\n",
    "    if hashtag != None:\n",
    "        text = text.replace(hashtag, '')\n",
    "    text = html.unescape(text)\n",
    "    text = re.sub(r'http.+?(?:\\\\s|$)', '', text) # URL link\n",
    "    text = re.sub(r'[“”„]', '\"', text) # convert double quotations into \"\n",
    "    text = re.sub(r'[‘’′′′′`]', \"'\", text) # convert single quotations into '\n",
    "    text = re.sub(r'[ \\u00a0\\xa0\\u3000\\u2002-\\u200a\\t\\n#]+', ' ', text) # shrink whitespaces e.g. good  boy -> good boy\n",
    "    text = re.sub(r'[\\r\\u200b\\ufeff]+', '', text) # remove non-breaking space\n",
    "    text = re.sub(r'ํา','ำ', text) # am\n",
    "    text = re.sub(r'ำ([\\u0e48\\u0e49\\u0e4a\\u0e4b])', r'\\1ำ', text) # am + tone -> tone + am, u0e48 = tone2\n",
    "    return text.strip()\n",
    "\n",
    "def tokenize(text, hashtag=None):\n",
    "    tokens = word_tokenize(clean(text, hashtag), keep_whitespace='False')\n",
    "    tokens = [token for token in tokens if token not in STOPWORDS and re.match(r'[ก-๙][ก-๙\\\\.\\\\-]+$', token)]\n",
    "    return tokens\n",
    "\n",
    "def get_hour(row, string=True):\n",
    "    date = datetime(row.date.year, row.date.month, row.date.day, int(row.time[:2]))\n",
    "    if string:\n",
    "        return str(date)[:-3] # '2021-04-09 22:00'\n",
    "    else:\n",
    "        return date # datetime.datetime(2021, 4, 9, 22, 0)\n",
    "\n",
    "def timerange(df):\n",
    "    oldest = get_hour(df.iloc[len(df)-1], False)\n",
    "    latest = get_hour(df.iloc[0], False)\n",
    "    range_list = [str(oldest)]\n",
    "    while range_list[-1] != str(latest):\n",
    "        oldest = oldest + timedelta(hours=1)\n",
    "        range_list.append(str(oldest))\n",
    "    return pd.DataFrame(range_list, columns=['date'])"
   ]
  },
  {
   "cell_type": "code",
   "execution_count": 2,
   "id": "3ca83fee-8968-4559-b397-e2328bfe1d30",
   "metadata": {},
   "outputs": [
    {
     "name": "stdout",
     "output_type": "stream",
     "text": [
      "0 tweets/#กูสั่งให้มึงอยู่ใต้รัฐธรรมนูญ.json\n",
      "1 tweets/test.json\n",
      "2 tweets/#saveวันเฉลิม.json\n",
      "3 tweets/#ธรรมศาสตร์และการชุมนุม.json\n",
      "4 tweets/#เกียมอุดมไม่ก้มหัวให้เผด็จการ.json\n",
      "5 tweets/#25พฤศจิกาไปSCB.json\n",
      "6 tweets/#ม็อบ25พฤศจิกาทวงคืนสมบัติชาติ.json\n",
      "7 tweets/#ม็อบ2ธันวา.json\n"
     ]
    }
   ],
   "source": [
    "# List of filepath\n",
    "jsons = glob('tweets/*.json')\n",
    "for i, f in enumerate(jsons):\n",
    "    print(i,f)"
   ]
  },
  {
   "cell_type": "code",
   "execution_count": 197,
   "id": "422faa26-7263-472d-9e4e-270ff7f2ca4c",
   "metadata": {},
   "outputs": [
    {
     "name": "stdout",
     "output_type": "stream",
     "text": [
      "tweets 18683\n",
      "avg words 8.49\n"
     ]
    }
   ],
   "source": [
    "### select data ###\n",
    "i = 0\n",
    "\n",
    "hashtag = jsons[i].split('/')[1].split('.json')[0] \n",
    "df = pd.read_json(jsons[i], lines=True)\n",
    "\n",
    "### define duration ###\n",
    "df = df[(df.date >= '2020-11-15') & (df.date <= '2020-11-20')]\n",
    "\n",
    "### tokenize ###\n",
    "df['tokens'] = df.tweet.apply(lambda x: tokenize(x, hashtag))\n",
    "\n",
    "### print data ###\n",
    "print('tweets', len(df))\n",
    "print('avg words', df.tokens.apply(len).mean().round(3))"
   ]
  },
  {
   "cell_type": "code",
   "execution_count": 198,
   "id": "fcd80091-612c-4035-b4a8-6a342fee5aa4",
   "metadata": {},
   "outputs": [],
   "source": [
    "### save tokenized data ###\n",
    "df.to_csv('tweets_tokenized/5.csv', index=False)"
   ]
  },
  {
   "cell_type": "markdown",
   "id": "5d6add9c-e1b1-4cd7-b3ac-26d45c762738",
   "metadata": {},
   "source": [
    "# associated words"
   ]
  },
  {
   "cell_type": "code",
   "execution_count": 20,
   "id": "a464af65-2ac6-4877-9f6f-bd4f37c7a281",
   "metadata": {},
   "outputs": [],
   "source": [
    "### get most frequent hashtags ###\n",
    "count = Counter()\n",
    "for lst in df.hashtags:\n",
    "    count.update(lst)\n",
    "hashtags = {x[0]:Counter() for x in count.most_common(16)[1:]}\n",
    "\n",
    "for i, row in df.iterrows():\n",
    "    for hashtag in row['hashtags']:\n",
    "        if hashtag in hashtags:\n",
    "            hashtags[hashtag].update(row['tokens'])"
   ]
  },
  {
   "cell_type": "code",
   "execution_count": 25,
   "id": "aa28d45a-723d-4a24-9165-5e6097a4612a",
   "metadata": {},
   "outputs": [
    {
     "name": "stdout",
     "output_type": "stream",
     "text": [
      "อภิปรายไม่ใว้วางใจรัฐบาล\n",
      "รัฐบาล(831),อภิปราย(824),ใว้(747),วางใจ(747),มข(107),พอกันที(106),เผด็จการ(105),คน(100),สลิ่ม(82),มศวขอ(77),\n",
      "\n",
      "มขพอกันที\n",
      "มข(258),พอกันที(253),อภิปราย(158),รัฐบาล(146),ใว้(118),วางใจ(118),เผด็จการ(117),จุดยืน(100),มศวขอ(99),สลิ่ม(89),\n",
      "\n",
      "อภิปรายไม่ไว้วางใจรัฐบาล\n",
      "อภิปราย(302),รัฐบาล(298),ไว้วางใจ(250),ใว้(50),วางใจ(50),ทำ(31),คน(28),ประชาชน(27),เผด็จการ(26),สลิ่ม(25),\n",
      "\n",
      "มศวขอมีจุดยืน\n",
      "มศวขอ(186),จุดยืน(186),อภิปราย(108),รัฐบาล(103),มข(97),พอกันที(97),ใว้(82),วางใจ(82),เผด็จการ(66),ซีน(56),\n",
      "\n",
      "ที่ยุบอนาคตใหม่พี่มหาลัยกูทั้งนั้น\n",
      "พี่(143),อนาคต(140),ยุบ(139),มหาลัย(138),เผด็จการ(36),สลิ่ม(36),ลูก(32),อภิปราย(26),รับใช้(26),รัฐบาล(25),\n",
      "\n",
      "ธรรมนัส\n",
      "ธรรม(136),นัส(127),อภิปราย(117),รัฐบาล(75),ใว้(69),วางใจ(69),ไว้วางใจ(46),เผด็จการ(37),ประยุทธ์(21),คน(21),\n",
      "\n",
      "อภิปรายไม่ใว้วางใจ\n",
      "อภิปราย(150),ใว้(135),วางใจ(135),เผด็จการ(59),รัฐบาล(47),ธรรม(26),นัส(26),ดำ(19),ไว้วางใจ(19),ประชาธิปไตย(19),\n",
      "\n",
      "ศิลปากรขอมีซีน\n",
      "ศิลปากร(109),ซีน(109),มข(64),พอกันที(63),มศวขอ(58),จุดยืน(55),อภิปราย(55),รัฐบาล(52),สลิ่ม(43),เผด็จการ(41),\n",
      "\n",
      "สวที่อยู่ข้างประชาธิปไตย\n",
      "ประชาธิปไตย(99),สว(88),ที่อยู่(88),อภิปราย(68),เผด็จการ(55),ใว้(50),วางใจ(50),รัฐบาล(44),สลิ่ม(28),ลูก(26),\n",
      "\n",
      "เสาหลักจะไม่หักอีกต่อไป\n",
      "อีกต่อไป(89),เสาหลัก(80),หัก(80),เผด็จการ(43),อภิปราย(41),ขนมหวาน(29),ใว้(28),วางใจ(28),ราด(27),กะทิ(27),\n",
      "\n",
      "เกียมอุดมไม่ก้มหัวให้เผด็จการ\n",
      "เผด็จการ(118),อุดม(79),เกีย(74),ก้มหัว(74),อภิปราย(42),ลูก(35),ใว้(34),วางใจ(34),รัฐบาล(32),มข(28),\n",
      "\n",
      "โรงเรียนเจ้าห้าวมากไม่ได้\n",
      "ห้าว(67),โรงเรียน(66),เจ้า(66),อภิปราย(45),ใว้(38),วางใจ(38),รัฐบาล(37),มข(31),พอกันที(31),เผด็จการ(23),\n",
      "\n",
      "อภิปรายไม่ไว้วางใจ\n",
      "อภิปราย(111),ไว้วางใจ(86),ธรรม(39),นัส(39),รัฐบาล(37),ใว้(24),วางใจ(24),เผด็จการ(19),คน(18),โป๊ะแตก(17),\n",
      "\n",
      "รู้ทันio\n",
      "รู้ทัน(70),อภิปราย(64),รัฐบาล(55),ใว้(46),วางใจ(46),ไว้วางใจ(21),เผด็จการ(21),ประชาชน(19),ประชาธิปไตย(18),กระชาก(18),\n",
      "\n",
      "เสื้อดําจะยําเผด็จการ\n",
      "เผด็จการ(92),เสื้อ(68),ดำ(66),ยำ(62),อภิปราย(54),รัฐบาล(44),ใว้(43),วางใจ(43),อีกต่อไป(12),มข(12),\n",
      "\n"
     ]
    }
   ],
   "source": [
    "for k, v in hashtags.items():\n",
    "    print(k)\n",
    "    for w, c in v.most_common(10):\n",
    "        print(f\"{w}({c})\", end=',')\n",
    "    print('\\n')"
   ]
  },
  {
   "cell_type": "markdown",
   "id": "309cf9ce-fdd5-49fb-9998-4fcbba54a704",
   "metadata": {},
   "source": [
    "# LDA"
   ]
  },
  {
   "cell_type": "code",
   "execution_count": 199,
   "id": "f07718be-c52e-4519-8bde-6b7d1d7c6495",
   "metadata": {},
   "outputs": [
    {
     "name": "stderr",
     "output_type": "stream",
     "text": [
      "100%|██████████| 18683/18683 [00:00<00:00, 62528.02it/s]\n"
     ]
    },
    {
     "name": "stdout",
     "output_type": "stream",
     "text": [
      "CPU times: user 1min 17s, sys: 653 ms, total: 1min 18s\n",
      "Wall time: 1min 18s\n"
     ]
    }
   ],
   "source": [
    "%%time\n",
    "\n",
    "num_topic = 5\n",
    "\n",
    "corpus_dictionary = Dictionary(df.tokens)\n",
    "corpus = []\n",
    "for tokens_list in tqdm(df.tokens):\n",
    "    corpus.append(corpus_dictionary.doc2bow(tokens_list))\n",
    "lda = LdaModel(corpus, num_topics=num_topic, id2word=corpus_dictionary, passes=10)"
   ]
  },
  {
   "cell_type": "code",
   "execution_count": 200,
   "id": "3aa606a3-97d6-46b6-a249-667d02fefe88",
   "metadata": {},
   "outputs": [
    {
     "name": "stdout",
     "output_type": "stream",
     "text": [
      "|1|เหี้ย|0.054|ม็อบ|0.226|ม็อบ|0.112|รัฐสภา|0.017|ม็อบ|0.053|\n",
      "|2|น้ำ|0.035|พฤศจิกา|0.215|พฤศจิกา|0.104|หน้า|0.017|พฤศจิกา|0.052|\n",
      "|3|ฉีด|0.030|นะคะ|0.019|ทางออก|0.062|งง|0.015|ประชาชน|0.048|\n",
      "|4|ม็อบ|0.029|ราษฎร|0.007|ทุ|0.062|เก่ง|0.013|ตำรวจ|0.038|\n",
      "|5|พฤศจิกา|0.026|ต้องการ|0.007|กร่าง|0.062|ลงมา|0.013|ประเทศ|0.020|\n",
      "|6|คน|0.024|รี|0.007|สภา|0.048|ร่าง|0.012|ทำร้าย|0.019|\n",
      "|7|อี|0.024|พฤศจิกายน|0.007|ประชุม|0.043|ประชาธิปไตย|0.012|เผด็จการ|0.018|\n",
      "|8|กระสุน|0.023|เกียกกาย|0.007|ประชาชน|0.043|รัฐธรรมนูญ|0.011|ขี้ข้า|0.018|\n",
      "|9|ยาง|0.021|ช่วยกัน|0.007|หยุด|0.036|กล้า|0.011|คน|0.016|\n",
      "|10|ใส่|0.019|ขอให้|0.006|รัฐธรรมนูญ|0.033|ออกมา|0.011|ทำ|0.015|\n"
     ]
    }
   ],
   "source": [
    "### print result of keywords ###\n",
    "\n",
    "for i in range(10):\n",
    "    print(f'|{i+1}', end='')\n",
    "    for j in range(5):\n",
    "        word, score = lda.show_topic(j)[i]\n",
    "        print(f\"|{word}|{score:.3f}\",end=\"\")\n",
    "    print('|')"
   ]
  },
  {
   "cell_type": "code",
   "execution_count": 71,
   "id": "8703d95c-1f53-40f7-a548-3147800807e1",
   "metadata": {},
   "outputs": [
    {
     "name": "stdout",
     "output_type": "stream",
     "text": [
      "[(0, 0.020014377), (1, 0.021266755), (2, 0.19692326), (3, 0.02001398), (4, 0.74178165)]\n",
      "[(0, 0.35685754), (4, 0.620358)]\n",
      "[(0, 0.07800621), (1, 0.05571648), (2, 0.09555941), (4, 0.76324445)]\n",
      "[(0, 0.2), (1, 0.2), (2, 0.2), (3, 0.2), (4, 0.2)]\n",
      "[(0, 0.2), (1, 0.2), (2, 0.2), (3, 0.2), (4, 0.2)]\n",
      "[(0, 0.012932692), (1, 0.013016472), (2, 0.012942784), (3, 0.3773968), (4, 0.58371127)]\n",
      "[(1, 0.034211487), (2, 0.06848257), (3, 0.23418112), (4, 0.6567834)]\n",
      "[(1, 0.034211274), (2, 0.06848258), (3, 0.23418128), (4, 0.65678346)]\n",
      "[(3, 0.25341743), (4, 0.72272396)]\n",
      "[(0, 0.15983209), (1, 0.15770169), (2, 0.011181534), (3, 0.01154832), (4, 0.6597364)]\n"
     ]
    }
   ],
   "source": [
    "### print distribution (only test, not use) ###\n",
    "\n",
    "for i in lda.get_document_topics(corpus[:10]):\n",
    "    print(i)"
   ]
  },
  {
   "cell_type": "code",
   "execution_count": 201,
   "id": "6c60dfb9-0da8-4747-8252-f6ac1966be80",
   "metadata": {},
   "outputs": [
    {
     "data": {
      "text/html": [
       "<div>\n",
       "<style scoped>\n",
       "    .dataframe tbody tr th:only-of-type {\n",
       "        vertical-align: middle;\n",
       "    }\n",
       "\n",
       "    .dataframe tbody tr th {\n",
       "        vertical-align: top;\n",
       "    }\n",
       "\n",
       "    .dataframe thead th {\n",
       "        text-align: right;\n",
       "    }\n",
       "</style>\n",
       "<table border=\"1\" class=\"dataframe\">\n",
       "  <thead>\n",
       "    <tr style=\"text-align: right;\">\n",
       "      <th></th>\n",
       "      <th>0</th>\n",
       "      <th>1</th>\n",
       "      <th>2</th>\n",
       "      <th>3</th>\n",
       "      <th>4</th>\n",
       "      <th>topic</th>\n",
       "      <th>tweet</th>\n",
       "      <th>date</th>\n",
       "    </tr>\n",
       "  </thead>\n",
       "  <tbody>\n",
       "    <tr>\n",
       "      <th>0</th>\n",
       "      <td>0.097995</td>\n",
       "      <td>0.250206</td>\n",
       "      <td>0.330113</td>\n",
       "      <td>0.221229</td>\n",
       "      <td>0.100458</td>\n",
       "      <td>2</td>\n",
       "      <td>NaN</td>\n",
       "      <td>NaN</td>\n",
       "    </tr>\n",
       "    <tr>\n",
       "      <th>1</th>\n",
       "      <td>0.025170</td>\n",
       "      <td>0.025121</td>\n",
       "      <td>0.025966</td>\n",
       "      <td>0.646854</td>\n",
       "      <td>0.276889</td>\n",
       "      <td>3</td>\n",
       "      <td>NaN</td>\n",
       "      <td>NaN</td>\n",
       "    </tr>\n",
       "    <tr>\n",
       "      <th>2</th>\n",
       "      <td>0.018265</td>\n",
       "      <td>0.018467</td>\n",
       "      <td>0.473890</td>\n",
       "      <td>0.261093</td>\n",
       "      <td>0.228285</td>\n",
       "      <td>2</td>\n",
       "      <td>NaN</td>\n",
       "      <td>NaN</td>\n",
       "    </tr>\n",
       "    <tr>\n",
       "      <th>3</th>\n",
       "      <td>0.209948</td>\n",
       "      <td>0.139848</td>\n",
       "      <td>0.609423</td>\n",
       "      <td>0.020341</td>\n",
       "      <td>0.020438</td>\n",
       "      <td>2</td>\n",
       "      <td>NaN</td>\n",
       "      <td>NaN</td>\n",
       "    </tr>\n",
       "    <tr>\n",
       "      <th>4</th>\n",
       "      <td>0.516413</td>\n",
       "      <td>0.010769</td>\n",
       "      <td>0.155257</td>\n",
       "      <td>0.010835</td>\n",
       "      <td>0.306725</td>\n",
       "      <td>0</td>\n",
       "      <td>NaN</td>\n",
       "      <td>NaN</td>\n",
       "    </tr>\n",
       "    <tr>\n",
       "      <th>...</th>\n",
       "      <td>...</td>\n",
       "      <td>...</td>\n",
       "      <td>...</td>\n",
       "      <td>...</td>\n",
       "      <td>...</td>\n",
       "      <td>...</td>\n",
       "      <td>...</td>\n",
       "      <td>...</td>\n",
       "    </tr>\n",
       "    <tr>\n",
       "      <th>18678</th>\n",
       "      <td>0.571852</td>\n",
       "      <td>0.014337</td>\n",
       "      <td>0.014671</td>\n",
       "      <td>0.235887</td>\n",
       "      <td>0.163253</td>\n",
       "      <td>0</td>\n",
       "      <td>เลว!! #ม็อบ17พฤศจิกา #กูสั่งให้มึงอยู่ใต้รัฐธร...</td>\n",
       "      <td>2020-11-17 14:00</td>\n",
       "    </tr>\n",
       "    <tr>\n",
       "      <th>18679</th>\n",
       "      <td>0.025367</td>\n",
       "      <td>0.148210</td>\n",
       "      <td>0.025082</td>\n",
       "      <td>0.025016</td>\n",
       "      <td>0.776326</td>\n",
       "      <td>4</td>\n",
       "      <td>มันเหี้ยไง สองมาตรฐาน !!!!!!!  #ม็อบ17พฤศจิกา ...</td>\n",
       "      <td>2020-11-17 14:00</td>\n",
       "    </tr>\n",
       "    <tr>\n",
       "      <th>18680</th>\n",
       "      <td>0.200000</td>\n",
       "      <td>0.200000</td>\n",
       "      <td>0.200000</td>\n",
       "      <td>0.200000</td>\n",
       "      <td>0.200000</td>\n",
       "      <td>0</td>\n",
       "      <td>อีเหี้ย #กูสั่งให้มึงอยู่ใต้รัฐธรรมนูญ</td>\n",
       "      <td>2020-11-17 14:00</td>\n",
       "    </tr>\n",
       "    <tr>\n",
       "      <th>18681</th>\n",
       "      <td>0.066689</td>\n",
       "      <td>0.399586</td>\n",
       "      <td>0.066689</td>\n",
       "      <td>0.400348</td>\n",
       "      <td>0.066689</td>\n",
       "      <td>3</td>\n",
       "      <td>พวกเราทำไมแท็กฝั่งเราเงียบมากกกก เกิดอะไรขึ้น?...</td>\n",
       "      <td>2020-11-17 14:00</td>\n",
       "    </tr>\n",
       "    <tr>\n",
       "      <th>18682</th>\n",
       "      <td>0.040001</td>\n",
       "      <td>0.040144</td>\n",
       "      <td>0.240007</td>\n",
       "      <td>0.639846</td>\n",
       "      <td>0.040001</td>\n",
       "      <td>3</td>\n",
       "      <td>ขี้ข้าเผด็จการ! #ม็อบ17พฤศจิกา #กูสั่งให้มึงอย...</td>\n",
       "      <td>2020-11-17 14:00</td>\n",
       "    </tr>\n",
       "  </tbody>\n",
       "</table>\n",
       "<p>18683 rows × 8 columns</p>\n",
       "</div>"
      ],
      "text/plain": [
       "              0         1         2         3         4  topic  \\\n",
       "0      0.097995  0.250206  0.330113  0.221229  0.100458      2   \n",
       "1      0.025170  0.025121  0.025966  0.646854  0.276889      3   \n",
       "2      0.018265  0.018467  0.473890  0.261093  0.228285      2   \n",
       "3      0.209948  0.139848  0.609423  0.020341  0.020438      2   \n",
       "4      0.516413  0.010769  0.155257  0.010835  0.306725      0   \n",
       "...         ...       ...       ...       ...       ...    ...   \n",
       "18678  0.571852  0.014337  0.014671  0.235887  0.163253      0   \n",
       "18679  0.025367  0.148210  0.025082  0.025016  0.776326      4   \n",
       "18680  0.200000  0.200000  0.200000  0.200000  0.200000      0   \n",
       "18681  0.066689  0.399586  0.066689  0.400348  0.066689      3   \n",
       "18682  0.040001  0.040144  0.240007  0.639846  0.040001      3   \n",
       "\n",
       "                                                   tweet              date  \n",
       "0                                                    NaN               NaN  \n",
       "1                                                    NaN               NaN  \n",
       "2                                                    NaN               NaN  \n",
       "3                                                    NaN               NaN  \n",
       "4                                                    NaN               NaN  \n",
       "...                                                  ...               ...  \n",
       "18678  เลว!! #ม็อบ17พฤศจิกา #กูสั่งให้มึงอยู่ใต้รัฐธร...  2020-11-17 14:00  \n",
       "18679  มันเหี้ยไง สองมาตรฐาน !!!!!!!  #ม็อบ17พฤศจิกา ...  2020-11-17 14:00  \n",
       "18680             อีเหี้ย #กูสั่งให้มึงอยู่ใต้รัฐธรรมนูญ  2020-11-17 14:00  \n",
       "18681  พวกเราทำไมแท็กฝั่งเราเงียบมากกกก เกิดอะไรขึ้น?...  2020-11-17 14:00  \n",
       "18682  ขี้ข้าเผด็จการ! #ม็อบ17พฤศจิกา #กูสั่งให้มึงอย...  2020-11-17 14:00  \n",
       "\n",
       "[18683 rows x 8 columns]"
      ]
     },
     "execution_count": 201,
     "metadata": {},
     "output_type": "execute_result"
    }
   ],
   "source": [
    "### prediction - argmax ###\n",
    "\n",
    "n = len(df)\n",
    "\n",
    "result_matrix = np.zeros((n, num_topic))\n",
    "for row, dist in enumerate(lda.get_document_topics(corpus[:n])):\n",
    "    for tpl in dist:\n",
    "        col = tpl[0]\n",
    "        result_matrix[row,col] = tpl[1]\n",
    "        \n",
    "result_df = pd.DataFrame(result_matrix)\n",
    "result_df['topic'] = result_df.apply(lambda row: np.argmax(row), axis=1)\n",
    "result_df['tweet'] = df.tweet[:n]\n",
    "result_df['date'] = df.apply(lambda row: get_hour(row), axis=1)\n",
    "\n",
    "result_df"
   ]
  },
  {
   "cell_type": "code",
   "execution_count": 205,
   "id": "e067cfd7-6b00-4e20-a402-1240a5bbaa24",
   "metadata": {},
   "outputs": [
    {
     "name": "stdout",
     "output_type": "stream",
     "text": [
      "|tweet|topic|prob of 1|2|3|4|5|\n",
      "|:-:|:-:|:-:|:-:|:-:|:-:|:-:|\n",
      "|nan|3|0.098|0.250|0.330|0.221|0.100|\n",
      "|nan|4|0.025|0.025|0.026|0.647|0.277|\n",
      "|nan|3|0.018|0.018|0.474|0.261|0.228|\n",
      "|nan|3|0.210|0.140|0.609|0.020|0.020|\n",
      "|nan|1|0.516|0.011|0.155|0.011|0.307|\n",
      "|nan|4|0.123|0.199|0.018|0.422|0.238|\n",
      "|nan|5|0.019|0.322|0.019|0.262|0.378|\n",
      "|nan|2|0.019|0.579|0.019|0.118|0.265|\n",
      "|nan|5|0.000|0.145|0.044|0.296|0.508|\n",
      "|nan|5|0.100|0.100|0.100|0.100|0.600|\n",
      "|nan|2|0.067|0.732|0.068|0.067|0.067|\n",
      "|nan|5|0.000|0.091|0.369|0.078|0.454|\n",
      "|nan|2|0.040|0.445|0.040|0.040|0.435|\n",
      "|nan|5|0.013|0.241|0.013|0.173|0.560|\n",
      "|nan|5|0.421|0.000|0.000|0.134|0.427|\n",
      "|nan|5|0.000|0.000|0.135|0.164|0.688|\n",
      "|nan|2|0.067|0.731|0.068|0.067|0.067|\n",
      "|nan|5|0.000|0.081|0.364|0.086|0.460|\n",
      "|nan|3|0.025|0.025|0.899|0.025|0.025|\n",
      "|nan|2|0.362|0.570|0.022|0.022|0.022|\n",
      "|nan|2|0.000|0.799|0.124|0.000|0.058|\n",
      "|nan|4|0.067|0.067|0.067|0.733|0.067|\n",
      "|nan|1|0.659|0.143|0.011|0.011|0.176|\n",
      "|nan|2|0.021|0.626|0.021|0.020|0.312|\n",
      "|nan|5|0.328|0.235|0.000|0.000|0.424|\n",
      "|nan|2|0.250|0.629|0.041|0.040|0.040|\n",
      "|nan|5|0.000|0.000|0.000|0.126|0.850|\n",
      "|nan|2|0.029|0.885|0.029|0.029|0.029|\n",
      "|nan|4|0.092|0.000|0.243|0.646|0.000|\n"
     ]
    }
   ],
   "source": [
    "### print prediction ###\n",
    "\n",
    "print('|tweet|topic|prob of 1|2|3|4|5|\\n|:-:|:-:|:-:|:-:|:-:|:-:|:-:|')\n",
    "for i, row in result_df[['tweet','topic',0,1,2,3,4]].iterrows():\n",
    "    if i round(row[0],2) == 0.20:\n",
    "        continue\n",
    "    print(f'|{row.tweet}|{row.topic+1}|{row[0]:.3f}|{row[1]:.3f}|{row[2]:.3f}|{row[3]:.3f}|{row[4]:.3f}|')\n",
    "    if i > 30:\n",
    "        break"
   ]
  },
  {
   "cell_type": "code",
   "execution_count": 203,
   "id": "d4180ac4-4db4-4691-a67e-931882759f3a",
   "metadata": {},
   "outputs": [
    {
     "data": {
      "text/plain": [
       "<Figure size 1440x1080 with 0 Axes>"
      ]
     },
     "metadata": {},
     "output_type": "display_data"
    },
    {
     "data": {
      "image/png": "[encoded data removed]",
      "text/plain": [
       "<Figure size 432x288 with 1 Axes>"
      ]
     },
     "metadata": {},
     "output_type": "display_data"
    }
   ],
   "source": [
    "### plot topic time series ###\n",
    "\n",
    "fig = plt.figure(figsize=(20,15))\n",
    "\n",
    "tempdf = timerange(df[df.date < '2020-11-20'])\n",
    "for t in range(5):\n",
    "    tempdf[t+1] = tempdf.date.apply(lambda x: sum((result_df.date <= x) & (result_df.topic==t)))\n",
    "    \n",
    "tempdf.plot(x='date')\n",
    "plt.title(hashtag, fontproperties=fp, fontsize=30)\n",
    "plt.legend()\n",
    "plt.ylabel('cumulative')\n",
    "plt.xticks(rotation=40)\n",
    "plt.show()"
   ]
  },
  {
   "cell_type": "markdown",
   "id": "6a937656-f2b0-48e2-9621-578274312d5f",
   "metadata": {},
   "source": [
    "# TF-IDF vectorization + SVD + K-means"
   ]
  },
  {
   "cell_type": "code",
   "execution_count": 14,
   "id": "97a0c106-c1e5-4f6b-8115-65ea74df049b",
   "metadata": {},
   "outputs": [
    {
     "name": "stdout",
     "output_type": "stream",
     "text": [
      "(49050, 20000)\n"
     ]
    }
   ],
   "source": [
    "from sklearn.feature_extraction.text import TfidfVectorizer\n",
    "from sklearn.decomposition import TruncatedSVD\n",
    "from sklearn.cluster import KMeans\n",
    "\n",
    "### prepare data : list of sentences (delimitered by space) -> TF-IDF vectorization\n",
    "corpus = df.tokens.apply(lambda x: ' '.join(x))\n",
    "vectorizer = TfidfVectorizer(max_features=20000, ngram_range=(1,2))\n",
    "X = vectorizer.fit_transform(corpus)\n",
    "print(X.shape)\n",
    "\n",
    "### singular value decomposition & normalize\n",
    "dim = 50\n",
    "\n",
    "svd = TruncatedSVD(n_components=dim, n_iter=7, random_state=42)\n",
    "X = svd.fit_transform(X)\n",
    "normalized = [vec/np.linalg.norm(vec) if np.linalg.norm(vec) != 0 else np.zeros(dim) for vec in X ]"
   ]
  },
  {
   "cell_type": "code",
   "execution_count": 15,
   "id": "f86264cd-3ed3-44fa-b5f8-226b498821e2",
   "metadata": {},
   "outputs": [],
   "source": [
    "### clustering \n",
    "num = 5\n",
    "\n",
    "result = KMeans(n_clusters=num).fit_predict(normalized)"
   ]
  },
  {
   "cell_type": "code",
   "execution_count": 16,
   "id": "ad578972-919b-4342-8dfb-f85fb1ef4df0",
   "metadata": {},
   "outputs": [
    {
     "name": "stdout",
     "output_type": "stream",
     "text": [
      "|tweet|topic|\n",
      "|:-:|:-:|\n",
      "|ทุกคนใครไม่เกี่ยวรีบกลับบ้านเลยนะ เดี๋ยวพวกมันสร้างสถานะการณ์อีก #25พฤศจิกาไปSCB|4|\n",
      "|ตร.จ่อหมายจับอาชีวะมือปืนป่วนม็อบ ยันยิงกันเอง-ปมเรื่องส่วนตัวไม่เกี่ยวชุมนุม  https://t.co/jG6TIc1t4T #25พฤศจิกาไปSCB #ทําในสิ่งที่ดีทําในสิ่งที่ถูก #ประชุมสภา #ม็อบ26พฤศจิกา #มือลั่นเหมือนพ่อมึงเลย #กูสั่งให้มึงอยู่ใต้รัฐธรรมนูญ #ส่งต่อคสอ #ตลาดนัดtreasure #ตํารวจไทยขยะสังคม|3|\n",
      "|LIVE! การชุมนุมบริเวณอาคาร SCB รัชโยธิน #25พฤศจิกาไปSCB  https://t.co/SjnWPQQaQP ผ่าน @YouTube|3|\n",
      "|ลุ้นให้ย้ายสถานที่อีกค่ะ แกงมันอีก สนุกดี #25พฤศจิกาไปSCB|4|\n",
      "|CHILD IN MOB ในม็อบมีเด็ก #ม็อบ25พฤศจิกา #25พฤศจิกาไปSCB  https://t.co/X9RRwobovs|2|\n",
      "|ตึกข้างบนก็มีทะเลดาวด้วยกัน5555555 พวกเราสู้ไปด้วยกันนะคะ #25พฤศจิกาไปSCB  https://t.co/vs33L00y3g|5|\n",
      "|เสนอเล่นๆนะ ตอนนี้กำลังส่วนใหญ่อยู่ในกรุงเทพ ทั้งจนท ทั้งคนที่เกณฑ์ไป ถ้ามองเกมแล้วคือกะว่ายังไงต้องให้เกิดความรุนแรงแน่ๆ ถ้าวันนี้ยกเลิกม็อบ SCB กะทันหันก็ดีนะ แล้วเปลี่ยนเป็นม็อบตามเมืองใหญ่ต่างจังหวัด ประกาศซักตอน11โมงงี้ เราว่ามันอิมแพคเยอะอยู่นะ #25พฤศจิกาไปSCB|3|\n",
      "|เซอร์ไพรส์!!!!! #ม็อบ25พฤศจิกา #25พฤศจิกาไปSCB #เกาะติดชุมนุม63  #WhatsHappeninglnThailand|2|\n",
      "|ไหวหน่อย อุส่าห์จ้างมาตั้งนาน ปัดโถ่! #ภูมิใจที่ได้รับเสด็จ #รถติด  #25พฤศจิกาไปSCB  https://t.co/ChEZThCMFi|4|\n",
      "|ยิงหรอ หมาลอบกัดไอ้สัส #25พฤศจิกาไปSCB|4|\n",
      "|ถ้าวันนี้ประกาศยกเลิกม็อบ จะเป็นยังไงนะ?  #25พฤศจิกาไปSCB|2|\n",
      "|คร่าวๆ จากไลฟ์นี้ คือปาระเบิดปิงปองลงกลางวงเด็กอาชีวะ คนปาใส่หมวกกันน็อคสีขาวไม่แสดงออกว่ามาจากสถาบันไหน(จากไลฟ์ของ the standard) และคนเยอะก็เลยจับได้ และมีคนเจ็บทั้งโดนระเบิดและคนโดนยิง  #25พฤศจิกาไปSCB  https://t.co/xca2pDfSLZ|4|\n",
      "|โง่ ก็ยอมรับว่าโง่เหอะ 555555 #25พฤศจิกาไปSCB|3|\n",
      "|การจัดม๊อบครั้งนี้ยังขาดงบในการจัดอีกมาก สามารถ ร่วมเป็นท่อน้ำเลี้ยงให้กับเราได้ที่  เลขบัญชี 077-1-22857-7 (กสิกรไทย) ชื่อบัญชี น.ส.ณัฐกุล น้อยอินทร์ และ น.ส.นารีรัตน์ เดือนฉาย ขอบพระคุณทุกท่านที่ช่วยเหลือครับ #25พฤศจิกาไปSCB  #ม็อบ25พฤศจิกา @charoenpura  https://t.co/bFYEVpMUZB|2|\n",
      "|ปกป้องคนๆเดียวถึงกับทำงี้เลยหรอ โอยพวกขี้ข้า ผู้พิษักสันติราษฏร์วงการติ๊กต๊อก #ม็อบ25พฤศจิกา #25พฤศจิกาไปSCB|2|\n",
      "|เด็กมันเก่งกันจริงๆว่ะ #25พฤศจิกาไปSCB|4|\n",
      "|อยากให้ทุกคนช่วยกันเสนอความคิดเห็นว่าทำยังไงเราถึงจะสามารถยกระดับการชุมนุมและกดดันรัฐบาลได้มากกว่าแค่กวนตีน   - ที่เราคิดนะ นัดกันหยุดงานในส่วนของภาคแรงงาน แบบตามนิคมต่างๆ ถ้าสามารถทำให้กระทบนายทุนได้ &gt; มันจะมีผลกระทบในส่วนของมหภาค /1   #25พฤศจิกาไปSCB #หมดเวลาปัญญาชน|4|\n",
      "|ปกป้องตัวเองและพี่น้อง ด้วยขั้นตอน ง่ายๆ  เบอลรูปภาพ เบลอหน้าก่อนนะ  เพื่อความปลอดภัย เดี่ยวหมากัด #25พฤศจิกาไปSCB #เกาะติดชุมนุม63 #ม็อบ25พฤศจิกา|2|\n",
      "|ฝากรีรันอีกครั้งค่ะ #25พฤศจิกาไปSCB|5|\n",
      "|รัฐบาลมึงยิ่งทำแบบนี้ ประชาชนก้จะลุกฮือมากกว่าเดิม เดี๋ยวมาดูกันว่ามึงจะเก่งกับประชาชนซักแค่ไหน วันนี้ขอให้พวกเราออกมากันเยอะๆ แล้วเจอกันพ้องเพื่อน  #25พฤศจิกาไปSCB|3|\n",
      "|ใครเปงคงทัมมมม #25พฤศจิกาไปSCB  https://t.co/9ADLt80Ybg|3|\n",
      "|@pinkypig_lll_ @Thairath_TV ผมว่า เค้ารายงานเหมือน ... รู้มาก่อนว่า ต้องพูดแบบนั้นแบบนี้  คนในม็อบ #25พฤศจิกาไปSCB  ที่ร่วมกันมาไล่ #สลิ่ม #ประยุทธ์ออกไป ทะเลาะกัน มันประหลาด.|3|\n",
      "|จีโน่อย่าดื้อน่ะ! เดี๋ยวพ่อมึงตีแน่  #ม็อบ25พฤศจิกา #25พฤศจิกาไปSCB|2|\n",
      "|ผู้พิทักษ์สันติราช #25พฤศจิกาไปSCB|4|\n",
      "|คุณจะทำไรก็ได้แต่อย่าทำร้ายประชาชน อย่าสร้างสถานการณ์ให้เข้าใจว่าผู้ชุมนุมเป็นคนทำ เพราะนอกเครื่องแบบเยอะมาก #25พฤศจิกาไปSCB|4|\n",
      "|ชาตะ : ไม่รู้ มรณะ :25 พฤศจิกายน 2563 #ม็อบ25พฤศจิกา #25พฤศจิกาไปSCB|2|\n",
      "|😡😡😡 สันขวาน #25พฤศจิกาไปSCB|4|\n",
      "|เอาเวลานี้ไปจับแก๊งกฎจักรวาลและกฎแรงดึงดูดเถอะค่ะ #25พฤศจิกาไปSCB  https://t.co/MirCXgiYGh|3|\n",
      "|@Mushin16 น่าจะโอนไปซัก2บาทนะคะ สงสารตอนเขาเปิดดูยอดเงิน 🤣🤣🤣👏👏👏 #ม็อบ17พฤศจิกา  #25พฤศจิกาไปSCB|2|\n",
      "|ชอบเอเนอจี้ว่ะ #25พฤศจิกาไปSCB|4|\n"
     ]
    }
   ],
   "source": [
    "print(\"|tweet|topic|\\n|:-:|:-:|\")\n",
    "for _ in range(30):\n",
    "    i = np.random.randint(0, len(X))\n",
    "    print(f\"|{df.tweet[i]}|{result[i]+1}|\")"
   ]
  },
  {
   "cell_type": "code",
   "execution_count": 55,
   "id": "8c607519-793d-4636-9779-c553200a2dee",
   "metadata": {},
   "outputs": [
    {
     "data": {
      "text/plain": [
       "False"
      ]
     },
     "execution_count": 55,
     "metadata": {},
     "output_type": "execute_result"
    }
   ],
   "source": [
    "a = \"ซำ้\"\n",
    "b = \"ซ้ำ\"\n",
    "\n",
    "a == b"
   ]
  },
  {
   "cell_type": "code",
   "execution_count": 56,
   "id": "1fcdea5f-8d0b-44c9-ad86-329a2384d73b",
   "metadata": {},
   "outputs": [
    {
     "data": {
      "text/plain": [
       "True"
      ]
     },
     "execution_count": 56,
     "metadata": {},
     "output_type": "execute_result"
    }
   ],
   "source": [
    "clean(a) == clean(b)"
   ]
  },
  {
   "cell_type": "code",
   "execution_count": 57,
   "id": "efe8fdf8-b83f-4636-98f5-76796fe85eab",
   "metadata": {},
   "outputs": [
    {
     "data": {
      "text/plain": [
       "'ซ้ำ'"
      ]
     },
     "execution_count": 57,
     "metadata": {},
     "output_type": "execute_result"
    }
   ],
   "source": [
    "clean(a)"
   ]
  },
  {
   "cell_type": "code",
   "execution_count": null,
   "id": "64264fec-3b34-41f3-9c10-bc0ce6d759a2",
   "metadata": {},
   "outputs": [],
   "source": []
  }
 ],
 "metadata": {
  "kernelspec": {
   "display_name": "Python 3",
   "language": "python",
   "name": "python3"
  },
  "language_info": {
   "codemirror_mode": {
    "name": "ipython",
    "version": 3
   },
   "file_extension": ".py",
   "mimetype": "text/x-python",
   "name": "python",
   "nbconvert_exporter": "python",
   "pygments_lexer": "ipython3",
   "version": "3.7.5"
  }
 },
 "nbformat": 4,
 "nbformat_minor": 5
}
