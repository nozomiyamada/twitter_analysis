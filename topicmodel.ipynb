{
 "cells": [
  {
   "cell_type": "code",
   "execution_count": 196,
   "id": "c7535bb8-fec1-44c9-92a8-a502768393b7",
   "metadata": {},
   "outputs": [],
   "source": [
    "from pythainlp import word_tokenize\n",
    "from pythainlp.corpus import thai_stopwords\n",
    "STOPWORDS = thai_stopwords()\n",
    "from glob import glob\n",
    "from tqdm import tqdm\n",
    "from collections import Counter\n",
    "import json, html, re\n",
    "import numpy as np\n",
    "import pandas as pd\n",
    "from gensim.models import LdaModel\n",
    "from gensim.corpora.dictionary import Dictionary\n",
    "from datetime import timedelta, datetime\n",
    "import matplotlib.font_manager as fm\n",
    "import matplotlib.pyplot as plt\n",
    "plt.style.use('ggplot')\n",
    "font_path = '/Users/Nozomi/Library/Fonts/THSarabunNew.ttf'\n",
    "fp = fm.FontProperties(fname=font_path)\n",
    "    \n",
    "def clean(text, hashtag=None):\n",
    "    if hashtag != None:\n",
    "        text = text.replace(hashtag, '')\n",
    "    text = html.unescape(text)\n",
    "    text = re.sub(r'http.+?(?:\\\\s|$)', '', text) # URL link\n",
    "    text = re.sub(r'[“”„]', '\"', text) # convert double quotations into \"\n",
    "    text = re.sub(r'[‘’′′′′`]', \"'\", text) # convert single quotations into '\n",
    "    text = re.sub(r'[ \\u00a0\\xa0\\u3000\\u2002-\\u200a\\t\\n#]+', ' ', text) # shrink whitespaces e.g. good  boy -> good boy\n",
    "    text = re.sub(r'[\\r\\u200b\\ufeff]+', '', text) # remove non-breaking space\n",
    "    text = re.sub(r'ํา','ำ', text) # am\n",
    "    text = re.sub(r'ำ([\\u0e48\\u0e49\\u0e4a\\u0e4b])', r'\\1ำ', text) # am + tone -> tone + am, u0e48 = tone2\n",
    "    return text.strip()\n",
    "\n",
    "def tokenize(text, hashtag=None):\n",
    "    tokens = word_tokenize(clean(text, hashtag), keep_whitespace='False')\n",
    "    tokens = [token for token in tokens if token not in STOPWORDS and re.match(r'[ก-๙][ก-๙\\\\.\\\\-]+$', token)]\n",
    "    return tokens\n",
    "\n",
    "def get_hour(row, string=True):\n",
    "    date = datetime(row.date.year, row.date.month, row.date.day, int(row.time[:2]))\n",
    "    if string:\n",
    "        return str(date)[:-3] # '2021-04-09 22:00'\n",
    "    else:\n",
    "        return date # datetime.datetime(2021, 4, 9, 22, 0)\n",
    "\n",
    "def timerange(df):\n",
    "    oldest = get_hour(df.iloc[len(df)-1], False)\n",
    "    latest = get_hour(df.iloc[0], False)\n",
    "    range_list = [str(oldest)]\n",
    "    while range_list[-1] != str(latest):\n",
    "        oldest = oldest + timedelta(hours=1)\n",
    "        range_list.append(str(oldest))\n",
    "    return pd.DataFrame(range_list, columns=['date'])"
   ]
  },
  {
   "cell_type": "code",
   "execution_count": 2,
   "id": "3ca83fee-8968-4559-b397-e2328bfe1d30",
   "metadata": {},
   "outputs": [
    {
     "name": "stdout",
     "output_type": "stream",
     "text": [
      "0 tweets/#กูสั่งให้มึงอยู่ใต้รัฐธรรมนูญ.json\n",
      "1 tweets/test.json\n",
      "2 tweets/#saveวันเฉลิม.json\n",
      "3 tweets/#ธรรมศาสตร์และการชุมนุม.json\n",
      "4 tweets/#เกียมอุดมไม่ก้มหัวให้เผด็จการ.json\n",
      "5 tweets/#25พฤศจิกาไปSCB.json\n",
      "6 tweets/#ม็อบ25พฤศจิกาทวงคืนสมบัติชาติ.json\n",
      "7 tweets/#ม็อบ2ธันวา.json\n"
     ]
    }
   ],
   "source": [
    "# List of filepath\n",
    "jsons = glob('tweets/*.json')\n",
    "for i, f in enumerate(jsons):\n",
    "    print(i,f)"
   ]
  },
  {
   "cell_type": "code",
   "execution_count": 221,
   "id": "422faa26-7263-472d-9e4e-270ff7f2ca4c",
   "metadata": {},
   "outputs": [
    {
     "name": "stdout",
     "output_type": "stream",
     "text": [
      "tweets 18683\n",
      "avg words 8.49\n"
     ]
    }
   ],
   "source": [
    "### select data ###\n",
    "i = 0\n",
    "\n",
    "hashtag = jsons[i].split('/')[1].split('.json')[0] \n",
    "df = pd.read_json(jsons[i], lines=True)\n",
    "\n",
    "### define duration ###\n",
    "df = df[(df.date >= '2020-11-15') & (df.date <= '2020-11-20')]\n",
    "df = df.reset_index()\n",
    "\n",
    "### tokenize ###\n",
    "df['tokens'] = df.tweet.apply(lambda x: tokenize(x, hashtag))\n",
    "\n",
    "### print data ###\n",
    "print('tweets', len(df))\n",
    "print('avg words', df.tokens.apply(len).mean().round(3))"
   ]
  },
  {
   "cell_type": "code",
   "execution_count": 198,
   "id": "fcd80091-612c-4035-b4a8-6a342fee5aa4",
   "metadata": {},
   "outputs": [],
   "source": [
    "### save tokenized data ###\n",
    "df.to_csv('tweets_tokenized/5.csv', index=False)"
   ]
  },
  {
   "cell_type": "markdown",
   "id": "5d6add9c-e1b1-4cd7-b3ac-26d45c762738",
   "metadata": {},
   "source": [
    "# associated words"
   ]
  },
  {
   "cell_type": "code",
   "execution_count": 20,
   "id": "a464af65-2ac6-4877-9f6f-bd4f37c7a281",
   "metadata": {},
   "outputs": [],
   "source": [
    "### get most frequent hashtags ###\n",
    "count = Counter()\n",
    "for lst in df.hashtags:\n",
    "    count.update(lst)\n",
    "hashtags = {x[0]:Counter() for x in count.most_common(16)[1:]}\n",
    "\n",
    "for i, row in df.iterrows():\n",
    "    for hashtag in row['hashtags']:\n",
    "        if hashtag in hashtags:\n",
    "            hashtags[hashtag].update(row['tokens'])"
   ]
  },
  {
   "cell_type": "code",
   "execution_count": 25,
   "id": "aa28d45a-723d-4a24-9165-5e6097a4612a",
   "metadata": {},
   "outputs": [
    {
     "name": "stdout",
     "output_type": "stream",
     "text": [
      "อภิปรายไม่ใว้วางใจรัฐบาล\n",
      "รัฐบาล(831),อภิปราย(824),ใว้(747),วางใจ(747),มข(107),พอกันที(106),เผด็จการ(105),คน(100),สลิ่ม(82),มศวขอ(77),\n",
      "\n",
      "มขพอกันที\n",
      "มข(258),พอกันที(253),อภิปราย(158),รัฐบาล(146),ใว้(118),วางใจ(118),เผด็จการ(117),จุดยืน(100),มศวขอ(99),สลิ่ม(89),\n",
      "\n",
      "อภิปรายไม่ไว้วางใจรัฐบาล\n",
      "อภิปราย(302),รัฐบาล(298),ไว้วางใจ(250),ใว้(50),วางใจ(50),ทำ(31),คน(28),ประชาชน(27),เผด็จการ(26),สลิ่ม(25),\n",
      "\n",
      "มศวขอมีจุดยืน\n",
      "มศวขอ(186),จุดยืน(186),อภิปราย(108),รัฐบาล(103),มข(97),พอกันที(97),ใว้(82),วางใจ(82),เผด็จการ(66),ซีน(56),\n",
      "\n",
      "ที่ยุบอนาคตใหม่พี่มหาลัยกูทั้งนั้น\n",
      "พี่(143),อนาคต(140),ยุบ(139),มหาลัย(138),เผด็จการ(36),สลิ่ม(36),ลูก(32),อภิปราย(26),รับใช้(26),รัฐบาล(25),\n",
      "\n",
      "ธรรมนัส\n",
      "ธรรม(136),นัส(127),อภิปราย(117),รัฐบาล(75),ใว้(69),วางใจ(69),ไว้วางใจ(46),เผด็จการ(37),ประยุทธ์(21),คน(21),\n",
      "\n",
      "อภิปรายไม่ใว้วางใจ\n",
      "อภิปราย(150),ใว้(135),วางใจ(135),เผด็จการ(59),รัฐบาล(47),ธรรม(26),นัส(26),ดำ(19),ไว้วางใจ(19),ประชาธิปไตย(19),\n",
      "\n",
      "ศิลปากรขอมีซีน\n",
      "ศิลปากร(109),ซีน(109),มข(64),พอกันที(63),มศวขอ(58),จุดยืน(55),อภิปราย(55),รัฐบาล(52),สลิ่ม(43),เผด็จการ(41),\n",
      "\n",
      "สวที่อยู่ข้างประชาธิปไตย\n",
      "ประชาธิปไตย(99),สว(88),ที่อยู่(88),อภิปราย(68),เผด็จการ(55),ใว้(50),วางใจ(50),รัฐบาล(44),สลิ่ม(28),ลูก(26),\n",
      "\n",
      "เสาหลักจะไม่หักอีกต่อไป\n",
      "อีกต่อไป(89),เสาหลัก(80),หัก(80),เผด็จการ(43),อภิปราย(41),ขนมหวาน(29),ใว้(28),วางใจ(28),ราด(27),กะทิ(27),\n",
      "\n",
      "เกียมอุดมไม่ก้มหัวให้เผด็จการ\n",
      "เผด็จการ(118),อุดม(79),เกีย(74),ก้มหัว(74),อภิปราย(42),ลูก(35),ใว้(34),วางใจ(34),รัฐบาล(32),มข(28),\n",
      "\n",
      "โรงเรียนเจ้าห้าวมากไม่ได้\n",
      "ห้าว(67),โรงเรียน(66),เจ้า(66),อภิปราย(45),ใว้(38),วางใจ(38),รัฐบาล(37),มข(31),พอกันที(31),เผด็จการ(23),\n",
      "\n",
      "อภิปรายไม่ไว้วางใจ\n",
      "อภิปราย(111),ไว้วางใจ(86),ธรรม(39),นัส(39),รัฐบาล(37),ใว้(24),วางใจ(24),เผด็จการ(19),คน(18),โป๊ะแตก(17),\n",
      "\n",
      "รู้ทันio\n",
      "รู้ทัน(70),อภิปราย(64),รัฐบาล(55),ใว้(46),วางใจ(46),ไว้วางใจ(21),เผด็จการ(21),ประชาชน(19),ประชาธิปไตย(18),กระชาก(18),\n",
      "\n",
      "เสื้อดําจะยําเผด็จการ\n",
      "เผด็จการ(92),เสื้อ(68),ดำ(66),ยำ(62),อภิปราย(54),รัฐบาล(44),ใว้(43),วางใจ(43),อีกต่อไป(12),มข(12),\n",
      "\n"
     ]
    }
   ],
   "source": [
    "for k, v in hashtags.items():\n",
    "    print(k)\n",
    "    for w, c in v.most_common(10):\n",
    "        print(f\"{w}({c})\", end=',')\n",
    "    print('\\n')"
   ]
  },
  {
   "cell_type": "markdown",
   "id": "309cf9ce-fdd5-49fb-9998-4fcbba54a704",
   "metadata": {},
   "source": [
    "# LDA"
   ]
  },
  {
   "cell_type": "code",
   "execution_count": 222,
   "id": "f07718be-c52e-4519-8bde-6b7d1d7c6495",
   "metadata": {},
   "outputs": [
    {
     "name": "stderr",
     "output_type": "stream",
     "text": [
      "100%|██████████| 18683/18683 [00:00<00:00, 62670.84it/s]\n"
     ]
    },
    {
     "name": "stdout",
     "output_type": "stream",
     "text": [
      "CPU times: user 1min 19s, sys: 845 ms, total: 1min 20s\n",
      "Wall time: 1min 20s\n"
     ]
    }
   ],
   "source": [
    "%%time\n",
    "\n",
    "num_topic = 5\n",
    "\n",
    "corpus_dictionary = Dictionary(df.tokens)\n",
    "corpus = []\n",
    "for tokens_list in tqdm(df.tokens):\n",
    "    corpus.append(corpus_dictionary.doc2bow(tokens_list))\n",
    "lda = LdaModel(corpus, num_topics=num_topic, id2word=corpus_dictionary, passes=10)"
   ]
  },
  {
   "cell_type": "code",
   "execution_count": 223,
   "id": "3aa606a3-97d6-46b6-a249-667d02fefe88",
   "metadata": {},
   "outputs": [
    {
     "name": "stdout",
     "output_type": "stream",
     "text": [
      "|1|ประชาชน|0.079|ม็อบ|0.105|ม็อบ|0.298|ม็อบ|0.055|คน|0.028|\n",
      "|2|ม็อบ|0.067|พฤศจิกา|0.098|พฤศจิกา|0.288|พฤศจิกา|0.051|ทำ|0.016|\n",
      "|3|พฤศจิกา|0.066|ทางออก|0.066|นะคะ|0.020|เหี้ย|0.041|ม็อบ|0.010|\n",
      "|4|หยุด|0.032|ทุ|0.066|พฤศจิกายน|0.012|น้ำ|0.027|ต้องการ|0.009|\n",
      "|5|ประเทศ|0.021|กร่าง|0.066|รี|0.011|ฉีด|0.022|ดี|0.008|\n",
      "|6|คุกคาม|0.020|สภา|0.051|ช่วยกัน|0.010|อี|0.020|สู้|0.008|\n",
      "|7|ไทย|0.018|ประชุม|0.046|ประสงค์|0.006|ตำรวจ|0.018|แบบนี้|0.008|\n",
      "|8|ทำร้าย|0.017|รัฐธรรมนูญ|0.042|ราษฎร์|0.006|กระสุน|0.017|หรอ|0.008|\n",
      "|9|ชุมนุม|0.016|แก้|0.029|ม๊อบ|0.005|ยาง|0.016|อย่า|0.007|\n",
      "|10|ตำรวจ|0.012|ประชาชน|0.025|ด่วน|0.005|ใส่|0.014|พฤศจิกา|0.007|\n"
     ]
    }
   ],
   "source": [
    "### print result of keywords ###\n",
    "\n",
    "for i in range(10):\n",
    "    print(f'|{i+1}', end='')\n",
    "    for j in range(5):\n",
    "        word, score = lda.show_topic(j)[i]\n",
    "        print(f\"|{word}|{score:.3f}\",end=\"\")\n",
    "    print('|')"
   ]
  },
  {
   "cell_type": "code",
   "execution_count": 71,
   "id": "8703d95c-1f53-40f7-a548-3147800807e1",
   "metadata": {},
   "outputs": [
    {
     "name": "stdout",
     "output_type": "stream",
     "text": [
      "[(0, 0.020014377), (1, 0.021266755), (2, 0.19692326), (3, 0.02001398), (4, 0.74178165)]\n",
      "[(0, 0.35685754), (4, 0.620358)]\n",
      "[(0, 0.07800621), (1, 0.05571648), (2, 0.09555941), (4, 0.76324445)]\n",
      "[(0, 0.2), (1, 0.2), (2, 0.2), (3, 0.2), (4, 0.2)]\n",
      "[(0, 0.2), (1, 0.2), (2, 0.2), (3, 0.2), (4, 0.2)]\n",
      "[(0, 0.012932692), (1, 0.013016472), (2, 0.012942784), (3, 0.3773968), (4, 0.58371127)]\n",
      "[(1, 0.034211487), (2, 0.06848257), (3, 0.23418112), (4, 0.6567834)]\n",
      "[(1, 0.034211274), (2, 0.06848258), (3, 0.23418128), (4, 0.65678346)]\n",
      "[(3, 0.25341743), (4, 0.72272396)]\n",
      "[(0, 0.15983209), (1, 0.15770169), (2, 0.011181534), (3, 0.01154832), (4, 0.6597364)]\n"
     ]
    }
   ],
   "source": [
    "### print distribution (only test, not use) ###\n",
    "\n",
    "for i in lda.get_document_topics(corpus[:10]):\n",
    "    print(i)"
   ]
  },
  {
   "cell_type": "code",
   "execution_count": 225,
   "id": "6c60dfb9-0da8-4747-8252-f6ac1966be80",
   "metadata": {},
   "outputs": [
    {
     "data": {
      "text/html": [
       "<div>\n",
       "<style scoped>\n",
       "    .dataframe tbody tr th:only-of-type {\n",
       "        vertical-align: middle;\n",
       "    }\n",
       "\n",
       "    .dataframe tbody tr th {\n",
       "        vertical-align: top;\n",
       "    }\n",
       "\n",
       "    .dataframe thead th {\n",
       "        text-align: right;\n",
       "    }\n",
       "</style>\n",
       "<table border=\"1\" class=\"dataframe\">\n",
       "  <thead>\n",
       "    <tr style=\"text-align: right;\">\n",
       "      <th></th>\n",
       "      <th>0</th>\n",
       "      <th>1</th>\n",
       "      <th>2</th>\n",
       "      <th>3</th>\n",
       "      <th>4</th>\n",
       "      <th>topic</th>\n",
       "      <th>tweet</th>\n",
       "      <th>date</th>\n",
       "    </tr>\n",
       "  </thead>\n",
       "  <tbody>\n",
       "    <tr>\n",
       "      <th>0</th>\n",
       "      <td>0.510472</td>\n",
       "      <td>0.189772</td>\n",
       "      <td>0.000000</td>\n",
       "      <td>0.214846</td>\n",
       "      <td>0.077851</td>\n",
       "      <td>0</td>\n",
       "      <td>NaN</td>\n",
       "      <td>NaN</td>\n",
       "    </tr>\n",
       "    <tr>\n",
       "      <th>1</th>\n",
       "      <td>0.761138</td>\n",
       "      <td>0.163218</td>\n",
       "      <td>0.025344</td>\n",
       "      <td>0.025144</td>\n",
       "      <td>0.025156</td>\n",
       "      <td>0</td>\n",
       "      <td>NaN</td>\n",
       "      <td>NaN</td>\n",
       "    </tr>\n",
       "    <tr>\n",
       "      <th>2</th>\n",
       "      <td>0.018459</td>\n",
       "      <td>0.724745</td>\n",
       "      <td>0.113698</td>\n",
       "      <td>0.018403</td>\n",
       "      <td>0.124695</td>\n",
       "      <td>1</td>\n",
       "      <td>NaN</td>\n",
       "      <td>NaN</td>\n",
       "    </tr>\n",
       "    <tr>\n",
       "      <th>3</th>\n",
       "      <td>0.714732</td>\n",
       "      <td>0.020223</td>\n",
       "      <td>0.020250</td>\n",
       "      <td>0.020313</td>\n",
       "      <td>0.224483</td>\n",
       "      <td>0</td>\n",
       "      <td>NaN</td>\n",
       "      <td>NaN</td>\n",
       "    </tr>\n",
       "    <tr>\n",
       "      <th>4</th>\n",
       "      <td>0.273658</td>\n",
       "      <td>0.100879</td>\n",
       "      <td>0.010994</td>\n",
       "      <td>0.141491</td>\n",
       "      <td>0.472978</td>\n",
       "      <td>4</td>\n",
       "      <td>NaN</td>\n",
       "      <td>NaN</td>\n",
       "    </tr>\n",
       "    <tr>\n",
       "      <th>...</th>\n",
       "      <td>...</td>\n",
       "      <td>...</td>\n",
       "      <td>...</td>\n",
       "      <td>...</td>\n",
       "      <td>...</td>\n",
       "      <td>...</td>\n",
       "      <td>...</td>\n",
       "      <td>...</td>\n",
       "    </tr>\n",
       "    <tr>\n",
       "      <th>18678</th>\n",
       "      <td>0.014290</td>\n",
       "      <td>0.014400</td>\n",
       "      <td>0.014317</td>\n",
       "      <td>0.245153</td>\n",
       "      <td>0.711839</td>\n",
       "      <td>4</td>\n",
       "      <td>เลว!! #ม็อบ17พฤศจิกา #กูสั่งให้มึงอยู่ใต้รัฐธร...</td>\n",
       "      <td>2020-11-17 14:00</td>\n",
       "    </tr>\n",
       "    <tr>\n",
       "      <th>18679</th>\n",
       "      <td>0.025024</td>\n",
       "      <td>0.522977</td>\n",
       "      <td>0.025024</td>\n",
       "      <td>0.277729</td>\n",
       "      <td>0.149246</td>\n",
       "      <td>1</td>\n",
       "      <td>มันเหี้ยไง สองมาตรฐาน !!!!!!!  #ม็อบ17พฤศจิกา ...</td>\n",
       "      <td>2020-11-17 14:00</td>\n",
       "    </tr>\n",
       "    <tr>\n",
       "      <th>18680</th>\n",
       "      <td>0.200000</td>\n",
       "      <td>0.200000</td>\n",
       "      <td>0.200000</td>\n",
       "      <td>0.200000</td>\n",
       "      <td>0.200000</td>\n",
       "      <td>0</td>\n",
       "      <td>อีเหี้ย #กูสั่งให้มึงอยู่ใต้รัฐธรรมนูญ</td>\n",
       "      <td>2020-11-17 14:00</td>\n",
       "    </tr>\n",
       "    <tr>\n",
       "      <th>18681</th>\n",
       "      <td>0.066692</td>\n",
       "      <td>0.399905</td>\n",
       "      <td>0.066691</td>\n",
       "      <td>0.066690</td>\n",
       "      <td>0.400022</td>\n",
       "      <td>4</td>\n",
       "      <td>พวกเราทำไมแท็กฝั่งเราเงียบมากกกก เกิดอะไรขึ้น?...</td>\n",
       "      <td>2020-11-17 14:00</td>\n",
       "    </tr>\n",
       "    <tr>\n",
       "      <th>18682</th>\n",
       "      <td>0.040005</td>\n",
       "      <td>0.838705</td>\n",
       "      <td>0.040744</td>\n",
       "      <td>0.040003</td>\n",
       "      <td>0.040544</td>\n",
       "      <td>1</td>\n",
       "      <td>ขี้ข้าเผด็จการ! #ม็อบ17พฤศจิกา #กูสั่งให้มึงอย...</td>\n",
       "      <td>2020-11-17 14:00</td>\n",
       "    </tr>\n",
       "  </tbody>\n",
       "</table>\n",
       "<p>18683 rows × 8 columns</p>\n",
       "</div>"
      ],
      "text/plain": [
       "              0         1         2         3         4  topic  \\\n",
       "0      0.510472  0.189772  0.000000  0.214846  0.077851      0   \n",
       "1      0.761138  0.163218  0.025344  0.025144  0.025156      0   \n",
       "2      0.018459  0.724745  0.113698  0.018403  0.124695      1   \n",
       "3      0.714732  0.020223  0.020250  0.020313  0.224483      0   \n",
       "4      0.273658  0.100879  0.010994  0.141491  0.472978      4   \n",
       "...         ...       ...       ...       ...       ...    ...   \n",
       "18678  0.014290  0.014400  0.014317  0.245153  0.711839      4   \n",
       "18679  0.025024  0.522977  0.025024  0.277729  0.149246      1   \n",
       "18680  0.200000  0.200000  0.200000  0.200000  0.200000      0   \n",
       "18681  0.066692  0.399905  0.066691  0.066690  0.400022      4   \n",
       "18682  0.040005  0.838705  0.040744  0.040003  0.040544      1   \n",
       "\n",
       "                                                   tweet              date  \n",
       "0                                                    NaN               NaN  \n",
       "1                                                    NaN               NaN  \n",
       "2                                                    NaN               NaN  \n",
       "3                                                    NaN               NaN  \n",
       "4                                                    NaN               NaN  \n",
       "...                                                  ...               ...  \n",
       "18678  เลว!! #ม็อบ17พฤศจิกา #กูสั่งให้มึงอยู่ใต้รัฐธร...  2020-11-17 14:00  \n",
       "18679  มันเหี้ยไง สองมาตรฐาน !!!!!!!  #ม็อบ17พฤศจิกา ...  2020-11-17 14:00  \n",
       "18680             อีเหี้ย #กูสั่งให้มึงอยู่ใต้รัฐธรรมนูญ  2020-11-17 14:00  \n",
       "18681  พวกเราทำไมแท็กฝั่งเราเงียบมากกกก เกิดอะไรขึ้น?...  2020-11-17 14:00  \n",
       "18682  ขี้ข้าเผด็จการ! #ม็อบ17พฤศจิกา #กูสั่งให้มึงอย...  2020-11-17 14:00  \n",
       "\n",
       "[18683 rows x 8 columns]"
      ]
     },
     "execution_count": 225,
     "metadata": {},
     "output_type": "execute_result"
    }
   ],
   "source": [
    "### prediction - argmax ###\n",
    "\n",
    "n = len(df)\n",
    "\n",
    "result_matrix = np.zeros((n, num_topic))\n",
    "for row, dist in enumerate(lda.get_document_topics(corpus[:n])):\n",
    "    for tpl in dist:\n",
    "        col = tpl[0]\n",
    "        result_matrix[row,col] = tpl[1]\n",
    "        \n",
    "result_df = pd.DataFrame(result_matrix)\n",
    "result_df['topic'] = result_df.apply(lambda row: np.argmax(row), axis=1)\n",
    "result_df['tweet'] = df.tweet[:n]\n",
    "result_df['date'] = df.apply(lambda row: get_hour(row), axis=1)\n",
    "\n",
    "result_df"
   ]
  },
  {
   "cell_type": "code",
   "execution_count": 226,
   "id": "e067cfd7-6b00-4e20-a402-1240a5bbaa24",
   "metadata": {},
   "outputs": [
    {
     "name": "stdout",
     "output_type": "stream",
     "text": [
      "|tweet|topic|prob of 1|2|3|4|5|\n",
      "|:-:|:-:|:-:|:-:|:-:|:-:|:-:|\n",
      "|ผสมสีเก่งมาก เข้าใจแหละว่าต้องเอามาระบายภาพที่พ่อมึงสร้างไว้ ไอต้าวปิกัสโซ่ 😌  #ม็อบ17พฤศจิกา  #กูสั่งให้มึงอยู่ใต้รัฐธรรมนูญ|4|0.056|0.051|0.050|0.793|0.050|\n",
      "|#กูสั่งให้มึงอยู่ใต้รัฐธรรมนูญ|2|0.126|0.582|0.000|0.000|0.273|\n",
      "|#กูสั่งให้มึงอยู่ใต้รัฐธรรมนูญ #ม็อบ17พฤศจิกา #รับทุกร่างคือทางออก|5|0.043|0.040|0.041|0.040|0.836|\n",
      "|ไม่อยากเห็นภาพไปจับมือขอบคุณ ขอโทษ กับตำรวจอีกนะ ขอเถอะ ดูสิ่งที่พวกเหี้ยนี่ทำดิ่ คนยังไม่มากันเลยแม่งฉีดน้ำผสมแก็สน้ำตาใส่แล้วอ่ะ เลิกสงสารว่าแม่งทำตามหน้าที่ เชื่องกว่ากับนายขนาดนี้มึงโดนก่าโดนดูถูกไปพร้อมนายมึงเถอะ #ม็อบ17พฤศจิกา #กูสั่งให้มึงอยู่ใต้รัฐธรรมนูญ|1|0.616|0.040|0.040|0.264|0.040|\n",
      "|\"We love them all the same\" #ม็อบ17พฤศจิกา #กูสั่งให้มึงอยู่ใต้รัฐธรรมนูญ  https://t.co/TwgzQSTbtU|2|0.071|0.728|0.067|0.067|0.067|\n",
      "|ทีม็อบเสื้อเหลืองเปิดแบริเออร์ให้เดินผ่านตัวปลิว กับม็อบคณะราษฎรการ์ดเพิ่งเริ่มรวมตัว คนยังมาไม่ถึงเลยด้วยซ้ำ ดันฉีดน้ำใส่ แถมขู่ใช้กระสุนยาง แม่งเอ๊ยยย โมโหหห นึกว่าทำงี้แล้วจะกลัวเหรอ คนออกมาเยอะกว่าเดิมแน่ คอยดู!! #กูสั่งให้มึงอยู่ใต้รัฐธรรมนูญ #ม็อบ17พฤศจิกา|4|0.067|0.067|0.067|0.400|0.400|\n",
      "|#กูสั่งให้มึงอยู่ใต้รัฐธรรมนูญ|1|0.695|0.033|0.034|0.033|0.205|\n",
      "|การใช้พลุควันเป็นการบดบังทัศนวิสัยการมองเห็นของเจ้าหน้าที่ในการฉีดน้ำใส่ผู้ชุมนุม #ม็อบ17พฤศจิกา #กูสั่งให้มึงอยู่ใต้รัฐธรรมนูญ  https://t.co/LTcKIAKTAk|1|0.800|0.050|0.050|0.050|0.050|\n",
      "|#ม็อบ17พฤศจิกา  #กูสั่งให้มึงอยู่ใต้รัฐธรรมนูญ|1|0.600|0.100|0.100|0.100|0.100|\n",
      "|กูใก้มึงลงมาอยู่ใต้รัฐธรรมนูญไม่ใช่ให้เดินลงมาจับมือเหมือนงานแฟนไซน์อีเหี้ย #กูสั่งให้มึงอยู่ใต้รัฐธรรมนูญ|4|0.035|0.034|0.033|0.864|0.033|\n",
      "|อันนี้เลวกว่าสัตว์นรก พวกใต้ตีนมึงไม่มีความเป็นคนเหลืออยู่อีกเเล้ว #ขี้ข้าเผด็จการ #ม็อบ17พฤศจิกา #กูสั่งให้มึงอยู่ใต้รัฐธรรมนูญ|2|0.067|0.400|0.067|0.067|0.400|\n",
      "|ที่เหี้ยไปกว่านั้นคือเล็งกะยิงใส่คนๆเลยอะ  #ม็อบ17พฤศจิกา #กูสั่งให้มึงอยู่ใต้รัฐธรรมนูญ|4|0.050|0.050|0.050|0.570|0.280|\n",
      "|We love them all the same มากมั้งอีควาย หัวหดทำตามคำสั่งจนไม่เหลือสามัญสำนึกละ อย่าว่าแต่ม้อบรุนแรงเลย นี่คนยังมากันไม่ถึงมึงฉีดน้ำแล้ว  #ม็อบ17พฤศจิกา #กูสั่งให้มึงอยู่ใต้รัฐธรรมนูญ|1|0.733|0.067|0.067|0.067|0.067|\n",
      "|เลว!! #ม็อบ17พฤศจิกา #กูสั่งให้มึงอยู่ใต้รัฐธรรมนูญ|5|0.014|0.014|0.014|0.245|0.712|\n",
      "|มันเหี้ยไง สองมาตรฐาน !!!!!!!  #ม็อบ17พฤศจิกา   #กูสั่งให้มึงอยู่ใต้รัฐธรรมนูญ|2|0.025|0.523|0.025|0.278|0.149|\n",
      "|พวกเราทำไมแท็กฝั่งเราเงียบมากกกก เกิดอะไรขึ้น??? #ม็อบ17พฤศจิกา #กูสั่งให้มึงอยู่ใต้รัฐธรรมนูญ|5|0.067|0.400|0.067|0.067|0.400|\n",
      "|ขี้ข้าเผด็จการ! #ม็อบ17พฤศจิกา #กูสั่งให้มึงอยู่ใต้รัฐธรรมนูญ  https://t.co/eUOh7D5BnP|2|0.040|0.839|0.041|0.040|0.041|\n"
     ]
    }
   ],
   "source": [
    "### print prediction ###\n",
    "\n",
    "print('|tweet|topic|prob of 1|2|3|4|5|\\n|:-:|:-:|:-:|:-:|:-:|:-:|:-:|')\n",
    "for i, row in result_df[['tweet','topic',0,1,2,3,4]].iterrows():\n",
    "    if i < len(df)-30 or round(row[0],2) == 0.20:\n",
    "        continue\n",
    "    print(f'|{row.tweet}|{row.topic+1}|{row[0]:.3f}|{row[1]:.3f}|{row[2]:.3f}|{row[3]:.3f}|{row[4]:.3f}|')"
   ]
  },
  {
   "cell_type": "code",
   "execution_count": 227,
   "id": "d4180ac4-4db4-4691-a67e-931882759f3a",
   "metadata": {},
   "outputs": [
    {
     "data": {
      "text/plain": [
       "<Figure size 1440x1080 with 0 Axes>"
      ]
     },
     "metadata": {},
     "output_type": "display_data"
    },
    {
     "data": {
      "image/png": "[encoded data removed]",
      "text/plain": [
       "<Figure size 432x288 with 1 Axes>"
      ]
     },
     "metadata": {},
     "output_type": "display_data"
    }
   ],
   "source": [
    "### plot topic time series ###\n",
    "\n",
    "fig = plt.figure(figsize=(20,15))\n",
    "\n",
    "tempdf = timerange(df[df.date < '2020-11-20'])\n",
    "for t in range(5):\n",
    "    tempdf[t+1] = tempdf.date.apply(lambda x: sum((result_df.date <= x) & (result_df.topic==t)))\n",
    "    \n",
    "tempdf.plot(x='date')\n",
    "plt.title(hashtag, fontproperties=fp, fontsize=30)\n",
    "plt.legend()\n",
    "plt.ylabel('cumulative')\n",
    "plt.xticks(rotation=40)\n",
    "plt.show()"
   ]
  },
  {
   "cell_type": "code",
   "execution_count": 233,
   "id": "0178e431-5a7e-4d12-be78-69725543e45a",
   "metadata": {},
   "outputs": [
    {
     "name": "stdout",
     "output_type": "stream",
     "text": [
      "|จับกรอกปากพวกมันให้หมดแม่งไอ่สัส รัฐบาลหัวโคยย #ม็อบ17พฤศจิกา #กูสั่งให้มึงอยู่ใต้รัฐธรรมนูญ #whatshappeninginthailand #ตํารวจทําร้ายประชาชน  #รัฐบาลส้นตีน|3|0.135|0.370|0.424|0.063|0.000|\n",
      "|อาชีวะ เยาวชนทั้งนั้น ยิงน้องทำไม ไม่ควรยิงใครเลยด้วยซ้ำ  #ม็อบ17พฤศจิกา #กูสั่งให้มึงอยู่ใต้รัฐธรรมนูญ  #whatishappeninginthailand|4|0.099|0.000|0.156|0.731|0.000|\n",
      "|#ม็อบ17พฤศจิกา #whatishappeninginthailand #ประชุมสภา #แก้รัฐธรรมนูญ #หยุดคุกคามประชาชน #กูสั่งให้มึงอยู่ใต้รัฐธรรมนูญ #ThailandProtest2020|3|0.076|0.347|0.396|0.000|0.171|\n",
      "|\"เพื่อชาติ ศาสน์ กษัตริย์ และประชาชน\" มึงตัดคำว่า\"ประชาชน\"ออกไปเลยนะ เพราะพวกมึงไม่เคยทำอะไรเพื่อประชาชนเลย ขนาดหน้าที่ของพวกมึงมึงยังไม่ทำเลย #ม็อบ17พฤศจิกา #กูสั่งให้มึงอยู่ใต้รัฐธรรมนูญ|2|0.165|0.519|0.011|0.011|0.293|\n",
      "|#ม็อบ17พฤศจิกา  #กูสั่งให้มึงอยู่ใต้รัฐธรรมนูญ  #รับทุกร่างคือทางออก  #ม๊อบอยู่บ้านส่งกำลังใจไปช่วย|4|0.304|0.000|0.044|0.635|0.000|\n",
      "|นี่คือความศรัทธาที่มืดบอด😡 #กูสั่งให้มึงอยู่ใต้รัฐธรรมนูญ|1|0.381|0.012|0.273|0.077|0.257|\n",
      "|#ม็อบ17พฤศจิกา 3,730,000 #กูสั่งให้มึงอยู่ใต้รัฐธรรมนูญ 573,000|4|0.019|0.019|0.231|0.518|0.214|\n",
      "|#ม็อบ17พฤศจิกา  #หยุดคุกคามประชาชน  #กูสั่งให้มึงอยู่ใต้รัฐธรรมนูญ #whatishappeninginthailand|3|0.050|0.050|0.799|0.050|0.050|\n",
      "|#ม็อบ17พฤศจิกายน #กูสั่งให้มึงอยู่ใต้รัฐธรรมนูญ|3|0.019|0.245|0.297|0.166|0.273|\n",
      "|ไอ้เหี้ย #กูสั่งให้มึงอยู่ใต้รัฐธรรมนูญ #ม็อบ17พฤศจิกา|4|0.111|0.000|0.053|0.683|0.147|\n",
      "|ทำไมปาหินนนนนน #กูสั่งให้มึงอยู่ใต้รัฐธรรมนูญ|5|0.000|0.000|0.162|0.143|0.683|\n",
      "|#ม็อบ17พฤศจิกา #กูสั่งให้มึงอยู่ใต้รัฐธรรมนูญ #whatishappeninginthailand|5|0.085|0.000|0.000|0.136|0.767|\n",
      "|เก็บนำ้ไว้ให้พ่อมึงกินเถอะ  #กูสั่งให้มึงอยู่ใต้รัฐธรรมนูญ|5|0.088|0.011|0.373|0.011|0.517|\n",
      "|#กูสั่งให้มึงอยู่ใต้รัฐธรรมนูญ|4|0.233|0.012|0.012|0.424|0.319|\n",
      "|อย่าลืมซื้ออาหารสุนัขให้ตำรวจนะคะ เชื่องขนาดนี้เจ้านายคงเลี้ยงด้วยเงิน ไม่ได้มีอาหารกินปกติเหมือนหมาบ้านอื่นเค้า เลิกเห็นใจว่าทำตามหน้าที่ได้แล้ว ถ้าหน้าที่มันคือทำร้ายเรายังต้องเห็นใจอะไรอีก #ม็อบ17พฤศจิกา #กูสั่งให้มึงอยู่ใต้รัฐธรรมนูญ|4|0.113|0.016|0.016|0.840|0.015|\n",
      "|มึงฉีดน้ำใส่ม็อบแบบนี้เนี้ยะนะ!!!!  แบบบบบบบนี้เนี้ยะนะ!!!!!  อิเหี้ยคิดได้ไง #ม็อบ17พฤศจิกา #กูสั่งให้มึงอยู่ใต้รัฐธรรมนูญ #whatishappeninginthailand|1|0.532|0.000|0.151|0.114|0.194|\n",
      "|พูดจนเหนื่อยแล้วอีเหี้ย!! #กูสั่งให้มึงอยู่ใต้รัฐธรรมนูญ|2|0.040|0.837|0.042|0.040|0.040|\n",
      "|ในไลฟ์เรื่องเล่าเช้านี้มีจนท.พกปืนกระสุนยางไปแล้ว #ม็อบ17พฤศจิกา #กูสั่งให้มึงอยู่ใต้รัฐธรรมนูญ|4|0.229|0.000|0.072|0.490|0.201|\n",
      "|#ม็อบ17พฤศจิกา #กูสั่งให้มึงอยู่ใต้รัฐธรรมนูญ  Fuck y'all dude where the hell your humanity?  I'm disappointed on you police|5|0.084|0.000|0.174|0.282|0.450|\n",
      "|อีควายยยย ฉีดน้ำผสมสารสีพร้อมขู่จะใช้กระสุนยางก่อน ค่อยเจรจา นี่มันประเทศเหี้ยไรเนี่ยยยย  #ม็อบ17พฤศจิกา #กูสั่งให้มึงอยู่ใต้รัฐธรรมนูญ  https://t.co/0She9nvWUt|5|0.012|0.394|0.012|0.012|0.570|\n",
      "|ทุกคนใส่หน้ากากกันแก๊สน้ำตาด้วยนะ เพราะวันนี้ตำรวจแต่งตัวเต็มมาก มีหน้ากากกันแก๊สน้ำตาด้วย!!  เพราะปกติตำรวจไม่เคยใส่ #ม็อบ17พฤศจิกา #กูสั่งให้มึงอยู่ใต้รัฐธรรมนูญ  #แก้รัฐธรรมนูญ|1|0.406|0.059|0.071|0.101|0.363|\n"
     ]
    }
   ],
   "source": [
    "### print frequent user ###\n",
    "\n",
    "user = 'freeyouthth'\n",
    "\n",
    "for i, row in result_df.loc[df[df.username == user].index].iterrows():\n",
    "    if round(row[0],2) == 0.20:\n",
    "        continue\n",
    "    print(f'|{row.tweet}|{row.topic+1}|{row[0]:.3f}|{row[1]:.3f}|{row[2]:.3f}|{row[3]:.3f}|{row[4]:.3f}|')"
   ]
  },
  {
   "cell_type": "markdown",
   "id": "6a937656-f2b0-48e2-9621-578274312d5f",
   "metadata": {},
   "source": [
    "# TF-IDF vectorization + SVD + K-means"
   ]
  },
  {
   "cell_type": "code",
   "execution_count": 14,
   "id": "97a0c106-c1e5-4f6b-8115-65ea74df049b",
   "metadata": {},
   "outputs": [
    {
     "name": "stdout",
     "output_type": "stream",
     "text": [
      "(49050, 20000)\n"
     ]
    }
   ],
   "source": [
    "from sklearn.feature_extraction.text import TfidfVectorizer\n",
    "from sklearn.decomposition import TruncatedSVD\n",
    "from sklearn.cluster import KMeans\n",
    "\n",
    "### prepare data : list of sentences (delimitered by space) -> TF-IDF vectorization\n",
    "corpus = df.tokens.apply(lambda x: ' '.join(x))\n",
    "vectorizer = TfidfVectorizer(max_features=20000, ngram_range=(1,2))\n",
    "X = vectorizer.fit_transform(corpus)\n",
    "print(X.shape)\n",
    "\n",
    "### singular value decomposition & normalize\n",
    "dim = 50\n",
    "\n",
    "svd = TruncatedSVD(n_components=dim, n_iter=7, random_state=42)\n",
    "X = svd.fit_transform(X)\n",
    "normalized = [vec/np.linalg.norm(vec) if np.linalg.norm(vec) != 0 else np.zeros(dim) for vec in X ]"
   ]
  },
  {
   "cell_type": "code",
   "execution_count": 15,
   "id": "f86264cd-3ed3-44fa-b5f8-226b498821e2",
   "metadata": {},
   "outputs": [],
   "source": [
    "### clustering \n",
    "num = 5\n",
    "\n",
    "result = KMeans(n_clusters=num).fit_predict(normalized)"
   ]
  },
  {
   "cell_type": "code",
   "execution_count": 16,
   "id": "ad578972-919b-4342-8dfb-f85fb1ef4df0",
   "metadata": {},
   "outputs": [
    {
     "name": "stdout",
     "output_type": "stream",
     "text": [
      "|tweet|topic|\n",
      "|:-:|:-:|\n",
      "|ทุกคนใครไม่เกี่ยวรีบกลับบ้านเลยนะ เดี๋ยวพวกมันสร้างสถานะการณ์อีก #25พฤศจิกาไปSCB|4|\n",
      "|ตร.จ่อหมายจับอาชีวะมือปืนป่วนม็อบ ยันยิงกันเอง-ปมเรื่องส่วนตัวไม่เกี่ยวชุมนุม  https://t.co/jG6TIc1t4T #25พฤศจิกาไปSCB #ทําในสิ่งที่ดีทําในสิ่งที่ถูก #ประชุมสภา #ม็อบ26พฤศจิกา #มือลั่นเหมือนพ่อมึงเลย #กูสั่งให้มึงอยู่ใต้รัฐธรรมนูญ #ส่งต่อคสอ #ตลาดนัดtreasure #ตํารวจไทยขยะสังคม|3|\n",
      "|LIVE! การชุมนุมบริเวณอาคาร SCB รัชโยธิน #25พฤศจิกาไปSCB  https://t.co/SjnWPQQaQP ผ่าน @YouTube|3|\n",
      "|ลุ้นให้ย้ายสถานที่อีกค่ะ แกงมันอีก สนุกดี #25พฤศจิกาไปSCB|4|\n",
      "|CHILD IN MOB ในม็อบมีเด็ก #ม็อบ25พฤศจิกา #25พฤศจิกาไปSCB  https://t.co/X9RRwobovs|2|\n",
      "|ตึกข้างบนก็มีทะเลดาวด้วยกัน5555555 พวกเราสู้ไปด้วยกันนะคะ #25พฤศจิกาไปSCB  https://t.co/vs33L00y3g|5|\n",
      "|เสนอเล่นๆนะ ตอนนี้กำลังส่วนใหญ่อยู่ในกรุงเทพ ทั้งจนท ทั้งคนที่เกณฑ์ไป ถ้ามองเกมแล้วคือกะว่ายังไงต้องให้เกิดความรุนแรงแน่ๆ ถ้าวันนี้ยกเลิกม็อบ SCB กะทันหันก็ดีนะ แล้วเปลี่ยนเป็นม็อบตามเมืองใหญ่ต่างจังหวัด ประกาศซักตอน11โมงงี้ เราว่ามันอิมแพคเยอะอยู่นะ #25พฤศจิกาไปSCB|3|\n",
      "|เซอร์ไพรส์!!!!! #ม็อบ25พฤศจิกา #25พฤศจิกาไปSCB #เกาะติดชุมนุม63  #WhatsHappeninglnThailand|2|\n",
      "|ไหวหน่อย อุส่าห์จ้างมาตั้งนาน ปัดโถ่! #ภูมิใจที่ได้รับเสด็จ #รถติด  #25พฤศจิกาไปSCB  https://t.co/ChEZThCMFi|4|\n",
      "|ยิงหรอ หมาลอบกัดไอ้สัส #25พฤศจิกาไปSCB|4|\n",
      "|ถ้าวันนี้ประกาศยกเลิกม็อบ จะเป็นยังไงนะ?  #25พฤศจิกาไปSCB|2|\n",
      "|คร่าวๆ จากไลฟ์นี้ คือปาระเบิดปิงปองลงกลางวงเด็กอาชีวะ คนปาใส่หมวกกันน็อคสีขาวไม่แสดงออกว่ามาจากสถาบันไหน(จากไลฟ์ของ the standard) และคนเยอะก็เลยจับได้ และมีคนเจ็บทั้งโดนระเบิดและคนโดนยิง  #25พฤศจิกาไปSCB  https://t.co/xca2pDfSLZ|4|\n",
      "|โง่ ก็ยอมรับว่าโง่เหอะ 555555 #25พฤศจิกาไปSCB|3|\n",
      "|การจัดม๊อบครั้งนี้ยังขาดงบในการจัดอีกมาก สามารถ ร่วมเป็นท่อน้ำเลี้ยงให้กับเราได้ที่  เลขบัญชี 077-1-22857-7 (กสิกรไทย) ชื่อบัญชี น.ส.ณัฐกุล น้อยอินทร์ และ น.ส.นารีรัตน์ เดือนฉาย ขอบพระคุณทุกท่านที่ช่วยเหลือครับ #25พฤศจิกาไปSCB  #ม็อบ25พฤศจิกา @charoenpura  https://t.co/bFYEVpMUZB|2|\n",
      "|ปกป้องคนๆเดียวถึงกับทำงี้เลยหรอ โอยพวกขี้ข้า ผู้พิษักสันติราษฏร์วงการติ๊กต๊อก #ม็อบ25พฤศจิกา #25พฤศจิกาไปSCB|2|\n",
      "|เด็กมันเก่งกันจริงๆว่ะ #25พฤศจิกาไปSCB|4|\n",
      "|อยากให้ทุกคนช่วยกันเสนอความคิดเห็นว่าทำยังไงเราถึงจะสามารถยกระดับการชุมนุมและกดดันรัฐบาลได้มากกว่าแค่กวนตีน   - ที่เราคิดนะ นัดกันหยุดงานในส่วนของภาคแรงงาน แบบตามนิคมต่างๆ ถ้าสามารถทำให้กระทบนายทุนได้ &gt; มันจะมีผลกระทบในส่วนของมหภาค /1   #25พฤศจิกาไปSCB #หมดเวลาปัญญาชน|4|\n",
      "|ปกป้องตัวเองและพี่น้อง ด้วยขั้นตอน ง่ายๆ  เบอลรูปภาพ เบลอหน้าก่อนนะ  เพื่อความปลอดภัย เดี่ยวหมากัด #25พฤศจิกาไปSCB #เกาะติดชุมนุม63 #ม็อบ25พฤศจิกา|2|\n",
      "|ฝากรีรันอีกครั้งค่ะ #25พฤศจิกาไปSCB|5|\n",
      "|รัฐบาลมึงยิ่งทำแบบนี้ ประชาชนก้จะลุกฮือมากกว่าเดิม เดี๋ยวมาดูกันว่ามึงจะเก่งกับประชาชนซักแค่ไหน วันนี้ขอให้พวกเราออกมากันเยอะๆ แล้วเจอกันพ้องเพื่อน  #25พฤศจิกาไปSCB|3|\n",
      "|ใครเปงคงทัมมมม #25พฤศจิกาไปSCB  https://t.co/9ADLt80Ybg|3|\n",
      "|@pinkypig_lll_ @Thairath_TV ผมว่า เค้ารายงานเหมือน ... รู้มาก่อนว่า ต้องพูดแบบนั้นแบบนี้  คนในม็อบ #25พฤศจิกาไปSCB  ที่ร่วมกันมาไล่ #สลิ่ม #ประยุทธ์ออกไป ทะเลาะกัน มันประหลาด.|3|\n",
      "|จีโน่อย่าดื้อน่ะ! เดี๋ยวพ่อมึงตีแน่  #ม็อบ25พฤศจิกา #25พฤศจิกาไปSCB|2|\n",
      "|ผู้พิทักษ์สันติราช #25พฤศจิกาไปSCB|4|\n",
      "|คุณจะทำไรก็ได้แต่อย่าทำร้ายประชาชน อย่าสร้างสถานการณ์ให้เข้าใจว่าผู้ชุมนุมเป็นคนทำ เพราะนอกเครื่องแบบเยอะมาก #25พฤศจิกาไปSCB|4|\n",
      "|ชาตะ : ไม่รู้ มรณะ :25 พฤศจิกายน 2563 #ม็อบ25พฤศจิกา #25พฤศจิกาไปSCB|2|\n",
      "|😡😡😡 สันขวาน #25พฤศจิกาไปSCB|4|\n",
      "|เอาเวลานี้ไปจับแก๊งกฎจักรวาลและกฎแรงดึงดูดเถอะค่ะ #25พฤศจิกาไปSCB  https://t.co/MirCXgiYGh|3|\n",
      "|@Mushin16 น่าจะโอนไปซัก2บาทนะคะ สงสารตอนเขาเปิดดูยอดเงิน 🤣🤣🤣👏👏👏 #ม็อบ17พฤศจิกา  #25พฤศจิกาไปSCB|2|\n",
      "|ชอบเอเนอจี้ว่ะ #25พฤศจิกาไปSCB|4|\n"
     ]
    }
   ],
   "source": [
    "print(\"|tweet|topic|\\n|:-:|:-:|\")\n",
    "for _ in range(30):\n",
    "    i = np.random.randint(0, len(X))\n",
    "    print(f\"|{df.tweet[i]}|{result[i]+1}|\")"
   ]
  },
  {
   "cell_type": "code",
   "execution_count": 55,
   "id": "8c607519-793d-4636-9779-c553200a2dee",
   "metadata": {},
   "outputs": [
    {
     "data": {
      "text/plain": [
       "False"
      ]
     },
     "execution_count": 55,
     "metadata": {},
     "output_type": "execute_result"
    }
   ],
   "source": [
    "a = \"ซำ้\"\n",
    "b = \"ซ้ำ\"\n",
    "\n",
    "a == b"
   ]
  },
  {
   "cell_type": "code",
   "execution_count": 56,
   "id": "1fcdea5f-8d0b-44c9-ad86-329a2384d73b",
   "metadata": {},
   "outputs": [
    {
     "data": {
      "text/plain": [
       "True"
      ]
     },
     "execution_count": 56,
     "metadata": {},
     "output_type": "execute_result"
    }
   ],
   "source": [
    "clean(a) == clean(b)"
   ]
  },
  {
   "cell_type": "code",
   "execution_count": 57,
   "id": "efe8fdf8-b83f-4636-98f5-76796fe85eab",
   "metadata": {},
   "outputs": [
    {
     "data": {
      "text/plain": [
       "'ซ้ำ'"
      ]
     },
     "execution_count": 57,
     "metadata": {},
     "output_type": "execute_result"
    }
   ],
   "source": [
    "clean(a)"
   ]
  },
  {
   "cell_type": "code",
   "execution_count": null,
   "id": "64264fec-3b34-41f3-9c10-bc0ce6d759a2",
   "metadata": {},
   "outputs": [],
   "source": []
  }
 ],
 "metadata": {
  "kernelspec": {
   "display_name": "Python 3",
   "language": "python",
   "name": "python3"
  },
  "language_info": {
   "codemirror_mode": {
    "name": "ipython",
    "version": 3
   },
   "file_extension": ".py",
   "mimetype": "text/x-python",
   "name": "python",
   "nbconvert_exporter": "python",
   "pygments_lexer": "ipython3",
   "version": "3.7.5"
  }
 },
 "nbformat": 4,
 "nbformat_minor": 5
}
